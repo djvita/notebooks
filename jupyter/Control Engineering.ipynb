{
 "cells": [
  {
   "cell_type": "markdown",
   "metadata": {},
   "source": [
    "#Python Control Module \n",
    "MATLAB is the leading software vendor for computing and visualizing control systems with Simulink. \n",
    "A control system regulates the output or feedback of another component or system. \n",
    "\n",
    "Linear control systems use linear negative feedback to produce a control signal mathematically based on other variables, with a view to maintain the controlled process within an acceptable operating range.\n",
    "\n",
    "The objective of control engineering is to model the system, find its frequency response, and find the variables which provide the optimal response, if it is possible. \n",
    "\n",
    "The University of Michigan has an excellent resource for an introduction on [System Modeling](http://ctms.engin.umich.edu/CTMS/index.php?example=Introduction&section=SystemModeling), [Analysis](http://ctms.engin.umich.edu/CTMS/index.php?example=Introduction&section=SystemAnalysis), which we will model with Python instead of MATLAB in this notebook service.\n",
    "\n",
    "The Python community, seeing the need to replicate the great functions MATLAB offers to conduct control enginnering simulations, created the [python-control package](http://sourceforge.net/projects/python-control/). This notebook service will create a linear control system model, analyze it and find the root locus. \n",
    "For this, we will need to install the following packages:\n"
   ]
  },
  {
   "cell_type": "code",
   "execution_count": 1,
   "metadata": {},
   "outputs": [
    {
     "name": "stdout",
     "output_type": "stream",
     "text": [
      "Defaulting to user installation because normal site-packages is not writeable\n",
      "Requirement already satisfied: control in c:\\users\\vvida\\appdata\\roaming\\python\\python39\\site-packages (0.9.2)\n",
      "Requirement already satisfied: numpy in c:\\users\\vvida\\appdata\\roaming\\python\\python39\\site-packages (from control) (1.23.1)\n",
      "Requirement already satisfied: scipy in c:\\users\\vvida\\appdata\\roaming\\python\\python39\\site-packages (from control) (1.9.0)\n",
      "Requirement already satisfied: matplotlib in c:\\users\\vvida\\appdata\\roaming\\python\\python39\\site-packages (from control) (3.5.2)\n",
      "Requirement already satisfied: kiwisolver>=1.0.1 in c:\\users\\vvida\\appdata\\roaming\\python\\python39\\site-packages (from matplotlib->control) (1.4.4)\n",
      "Requirement already satisfied: cycler>=0.10 in c:\\users\\vvida\\appdata\\roaming\\python\\python39\\site-packages (from matplotlib->control) (0.11.0)\n",
      "Requirement already satisfied: pyparsing>=2.2.1 in c:\\users\\vvida\\appdata\\roaming\\python\\python39\\site-packages (from matplotlib->control) (3.0.9)\n",
      "Requirement already satisfied: packaging>=20.0 in c:\\users\\vvida\\appdata\\roaming\\python\\python39\\site-packages (from matplotlib->control) (21.3)\n",
      "Requirement already satisfied: python-dateutil>=2.7 in c:\\users\\vvida\\appdata\\roaming\\python\\python39\\site-packages (from matplotlib->control) (2.8.2)\n",
      "Requirement already satisfied: fonttools>=4.22.0 in c:\\users\\vvida\\appdata\\roaming\\python\\python39\\site-packages (from matplotlib->control) (4.34.4)\n",
      "Requirement already satisfied: pillow>=6.2.0 in c:\\users\\vvida\\appdata\\roaming\\python\\python39\\site-packages (from matplotlib->control) (9.2.0)\n",
      "Requirement already satisfied: six>=1.5 in c:\\users\\vvida\\appdata\\roaming\\python\\python39\\site-packages (from python-dateutil>=2.7->matplotlib->control) (1.16.0)\n",
      "Defaulting to user installation because normal site-packages is not writeable\n",
      "Collecting slycot\n",
      "  Using cached slycot-0.5.0.0.tar.gz (3.0 MB)\n",
      "  Installing build dependencies: started\n",
      "  Installing build dependencies: finished with status 'done'\n",
      "  Getting requirements to build wheel: started\n",
      "  Getting requirements to build wheel: finished with status 'done'\n",
      "  Preparing metadata (pyproject.toml): started\n",
      "  Preparing metadata (pyproject.toml): finished with status 'done'\n",
      "Requirement already satisfied: numpy in c:\\users\\vvida\\appdata\\roaming\\python\\python39\\site-packages (from slycot) (1.23.1)\n",
      "Building wheels for collected packages: slycot\n",
      "  Building wheel for slycot (pyproject.toml): started\n",
      "  Building wheel for slycot (pyproject.toml): finished with status 'error'\n",
      "Failed to build slycot\n"
     ]
    },
    {
     "name": "stderr",
     "output_type": "stream",
     "text": [
      "  error: subprocess-exited-with-error\n",
      "  \n",
      "  Building wheel for slycot (pyproject.toml) did not run successfully.\n",
      "  exit code: 1\n",
      "  \n",
      "  [319 lines of output]\n",
      "  Not searching for unused variables given on the command line.\n",
      "  CMake Error: CMake was unable to find a build program corresponding to \"Ninja\".  CMAKE_MAKE_PROGRAM is not set.  You probably need to select a different build tool.\n",
      "  -- Configuring incomplete, errors occurred!\n",
      "  See also \"C:/Users/vvida/AppData/Local/Temp/pip-install-gedp4eld/slycot_a3b0b32e987844a1b12ac66c8057f19d/_cmake_test_compile/build/CMakeFiles/CMakeOutput.log\".\n",
      "  Not searching for unused variables given on the command line.\n",
      "  CMake Error at CMakeLists.txt:2 (PROJECT):\n",
      "    Generator\n",
      "  \n",
      "      Visual Studio 17 2022\n",
      "  \n",
      "    could not find any instance of Visual Studio.\n",
      "  \n",
      "  \n",
      "  \n",
      "  -- Configuring incomplete, errors occurred!\n",
      "  See also \"C:/Users/vvida/AppData/Local/Temp/pip-install-gedp4eld/slycot_a3b0b32e987844a1b12ac66c8057f19d/_cmake_test_compile/build/CMakeFiles/CMakeOutput.log\".\n",
      "  Not searching for unused variables given on the command line.\n",
      "  -- The C compiler identification is MSVC 19.29.30146.0\n",
      "  -- Detecting C compiler ABI info\n",
      "  -- Detecting C compiler ABI info - done\n",
      "  -- Check for working C compiler: C:/Program Files (x86)/Microsoft Visual Studio/2019/BuildTools/VC/Tools/MSVC/14.29.30133/bin/Hostx86/x64/cl.exe - skipped\n",
      "  -- Detecting C compile features\n",
      "  -- Detecting C compile features - done\n",
      "  -- The Fortran compiler identification is unknown\n",
      "  CMake Error at CMakeLists.txt:4 (ENABLE_LANGUAGE):\n",
      "    No CMAKE_Fortran_COMPILER could be found.\n",
      "  \n",
      "    Tell CMake where to find the compiler by setting either the environment\n",
      "    variable \"FC\" or the CMake cache entry CMAKE_Fortran_COMPILER to the full\n",
      "    path to the compiler, or to the compiler name if it is in the PATH.\n",
      "  \n",
      "  \n",
      "  -- Configuring incomplete, errors occurred!\n",
      "  See also \"C:/Users/vvida/AppData/Local/Temp/pip-install-gedp4eld/slycot_a3b0b32e987844a1b12ac66c8057f19d/_cmake_test_compile/build/CMakeFiles/CMakeOutput.log\".\n",
      "  See also \"C:/Users/vvida/AppData/Local/Temp/pip-install-gedp4eld/slycot_a3b0b32e987844a1b12ac66c8057f19d/_cmake_test_compile/build/CMakeFiles/CMakeError.log\".\n",
      "  Not searching for unused variables given on the command line.\n",
      "  -- Selecting Windows SDK version 10.0.19041.0 to target Windows 10.0.22000.\n",
      "  -- The C compiler identification is MSVC 19.29.30146.0\n",
      "  -- Detecting C compiler ABI info\n",
      "  -- Detecting C compiler ABI info - done\n",
      "  -- Check for working C compiler: C:/Program Files (x86)/Microsoft Visual Studio/2019/BuildTools/VC/Tools/MSVC/14.29.30133/bin/Hostx64/x64/cl.exe - skipped\n",
      "  -- Detecting C compile features\n",
      "  -- Detecting C compile features - done\n",
      "  -- The Fortran compiler identification is unknown\n",
      "  CMake Error at CMakeLists.txt:4 (ENABLE_LANGUAGE):\n",
      "    No CMAKE_Fortran_COMPILER could be found.\n",
      "  \n",
      "  \n",
      "  \n",
      "  -- Configuring incomplete, errors occurred!\n",
      "  See also \"C:/Users/vvida/AppData/Local/Temp/pip-install-gedp4eld/slycot_a3b0b32e987844a1b12ac66c8057f19d/_cmake_test_compile/build/CMakeFiles/CMakeOutput.log\".\n",
      "  See also \"C:/Users/vvida/AppData/Local/Temp/pip-install-gedp4eld/slycot_a3b0b32e987844a1b12ac66c8057f19d/_cmake_test_compile/build/CMakeFiles/CMakeError.log\".\n",
      "  Not searching for unused variables given on the command line.\n",
      "  CMake Error: CMake was unable to find a build program corresponding to \"Ninja\".  CMAKE_MAKE_PROGRAM is not set.  You probably need to select a different build tool.\n",
      "  -- Configuring incomplete, errors occurred!\n",
      "  See also \"C:/Users/vvida/AppData/Local/Temp/pip-install-gedp4eld/slycot_a3b0b32e987844a1b12ac66c8057f19d/_cmake_test_compile/build/CMakeFiles/CMakeOutput.log\".\n",
      "  Not searching for unused variables given on the command line.\n",
      "  CMake Error at CMakeLists.txt:2 (PROJECT):\n",
      "    Generator\n",
      "  \n",
      "      Visual Studio 15 2017\n",
      "  \n",
      "    could not find any instance of Visual Studio.\n",
      "  \n",
      "  \n",
      "  \n",
      "  -- Configuring incomplete, errors occurred!\n",
      "  See also \"C:/Users/vvida/AppData/Local/Temp/pip-install-gedp4eld/slycot_a3b0b32e987844a1b12ac66c8057f19d/_cmake_test_compile/build/CMakeFiles/CMakeOutput.log\".\n",
      "  Not searching for unused variables given on the command line.\n",
      "  CMake Error at CMakeLists.txt:2 (PROJECT):\n",
      "    Running\n",
      "  \n",
      "     'nmake' '-?'\n",
      "  \n",
      "    failed with:\n",
      "  \n",
      "     The system cannot find the file specified\n",
      "  \n",
      "  \n",
      "  -- Configuring incomplete, errors occurred!\n",
      "  See also \"C:/Users/vvida/AppData/Local/Temp/pip-install-gedp4eld/slycot_a3b0b32e987844a1b12ac66c8057f19d/_cmake_test_compile/build/CMakeFiles/CMakeOutput.log\".\n",
      "  Not searching for unused variables given on the command line.\n",
      "  -- The C compiler identification is MSVC 19.29.30146.0\n",
      "  -- Detecting C compiler ABI info\n",
      "  -- Detecting C compiler ABI info - done\n",
      "  -- Check for working C compiler: C:/Program Files (x86)/Microsoft Visual Studio/2019/BuildTools/VC/Tools/MSVC/14.29.30133/bin/Hostx86/x64/cl.exe - skipped\n",
      "  -- Detecting C compile features\n",
      "  -- Detecting C compile features - done\n",
      "  -- The Fortran compiler identification is unknown\n",
      "  CMake Error at CMakeLists.txt:4 (ENABLE_LANGUAGE):\n",
      "    No CMAKE_Fortran_COMPILER could be found.\n",
      "  \n",
      "    Tell CMake where to find the compiler by setting either the environment\n",
      "    variable \"FC\" or the CMake cache entry CMAKE_Fortran_COMPILER to the full\n",
      "    path to the compiler, or to the compiler name if it is in the PATH.\n",
      "  \n",
      "  \n",
      "  -- Configuring incomplete, errors occurred!\n",
      "  See also \"C:/Users/vvida/AppData/Local/Temp/pip-install-gedp4eld/slycot_a3b0b32e987844a1b12ac66c8057f19d/_cmake_test_compile/build/CMakeFiles/CMakeOutput.log\".\n",
      "  See also \"C:/Users/vvida/AppData/Local/Temp/pip-install-gedp4eld/slycot_a3b0b32e987844a1b12ac66c8057f19d/_cmake_test_compile/build/CMakeFiles/CMakeError.log\".\n",
      "  Not searching for unused variables given on the command line.\n",
      "  CMake Error at CMakeLists.txt:2 (PROJECT):\n",
      "    Running\n",
      "  \n",
      "     'nmake' '-?'\n",
      "  \n",
      "    failed with:\n",
      "  \n",
      "     The system cannot find the file specified\n",
      "  \n",
      "  \n",
      "  -- Configuring incomplete, errors occurred!\n",
      "  See also \"C:/Users/vvida/AppData/Local/Temp/pip-install-gedp4eld/slycot_a3b0b32e987844a1b12ac66c8057f19d/_cmake_test_compile/build/CMakeFiles/CMakeOutput.log\".\n",
      "  \n",
      "  \n",
      "  --------------------------------------------------------------------------------\n",
      "  -- Trying \"Ninja (Visual Studio 17 2022 x64 v143)\" generator\n",
      "  --------------------------------\n",
      "  ---------------------------\n",
      "  ----------------------\n",
      "  -----------------\n",
      "  ------------\n",
      "  -------\n",
      "  --\n",
      "  --\n",
      "  -------\n",
      "  ------------\n",
      "  -----------------\n",
      "  ----------------------\n",
      "  ---------------------------\n",
      "  --------------------------------\n",
      "  -- Trying \"Ninja (Visual Studio 17 2022 x64 v143)\" generator - failure\n",
      "  --------------------------------------------------------------------------------\n",
      "  \n",
      "  \n",
      "  \n",
      "  --------------------------------------------------------------------------------\n",
      "  -- Trying \"Visual Studio 17 2022 x64 v143\" generator\n",
      "  --------------------------------\n",
      "  ---------------------------\n",
      "  ----------------------\n",
      "  -----------------\n",
      "  ------------\n",
      "  -------\n",
      "  --\n",
      "  --\n",
      "  -------\n",
      "  ------------\n",
      "  -----------------\n",
      "  ----------------------\n",
      "  ---------------------------\n",
      "  --------------------------------\n",
      "  -- Trying \"Visual Studio 17 2022 x64 v143\" generator - failure\n",
      "  --------------------------------------------------------------------------------\n",
      "  \n",
      "  \n",
      "  \n",
      "  --------------------------------------------------------------------------------\n",
      "  -- Trying \"Ninja (Visual Studio 16 2019 x64 v142)\" generator\n",
      "  --------------------------------\n",
      "  ---------------------------\n",
      "  ----------------------\n",
      "  -----------------\n",
      "  ------------\n",
      "  -------\n",
      "  --\n",
      "  --\n",
      "  -------\n",
      "  ------------\n",
      "  -----------------\n",
      "  ----------------------\n",
      "  ---------------------------\n",
      "  --------------------------------\n",
      "  -- Trying \"Ninja (Visual Studio 16 2019 x64 v142)\" generator - failure\n",
      "  --------------------------------------------------------------------------------\n",
      "  \n",
      "  \n",
      "  \n",
      "  --------------------------------------------------------------------------------\n",
      "  -- Trying \"Visual Studio 16 2019 x64 v142\" generator\n",
      "  --------------------------------\n",
      "  ---------------------------\n",
      "  ----------------------\n",
      "  -----------------\n",
      "  ------------\n",
      "  -------\n",
      "  --\n",
      "  --\n",
      "  -------\n",
      "  ------------\n",
      "  -----------------\n",
      "  ----------------------\n",
      "  ---------------------------\n",
      "  --------------------------------\n",
      "  -- Trying \"Visual Studio 16 2019 x64 v142\" generator - failure\n",
      "  --------------------------------------------------------------------------------\n",
      "  \n",
      "  \n",
      "  \n",
      "  --------------------------------------------------------------------------------\n",
      "  -- Trying \"Ninja (Visual Studio 15 2017 x64 v141)\" generator\n",
      "  --------------------------------\n",
      "  ---------------------------\n",
      "  ----------------------\n",
      "  -----------------\n",
      "  ------------\n",
      "  -------\n",
      "  --\n",
      "  --\n",
      "  -------\n",
      "  ------------\n",
      "  -----------------\n",
      "  ----------------------\n",
      "  ---------------------------\n",
      "  --------------------------------\n",
      "  -- Trying \"Ninja (Visual Studio 15 2017 x64 v141)\" generator - failure\n",
      "  --------------------------------------------------------------------------------\n",
      "  \n",
      "  \n",
      "  \n",
      "  --------------------------------------------------------------------------------\n",
      "  -- Trying \"Visual Studio 15 2017 x64 v141\" generator\n",
      "  --------------------------------\n",
      "  ---------------------------\n",
      "  ----------------------\n",
      "  -----------------\n",
      "  ------------\n",
      "  -------\n",
      "  --\n",
      "  --\n",
      "  -------\n",
      "  ------------\n",
      "  -----------------\n",
      "  ----------------------\n",
      "  ---------------------------\n",
      "  --------------------------------\n",
      "  -- Trying \"Visual Studio 15 2017 x64 v141\" generator - failure\n",
      "  --------------------------------------------------------------------------------\n",
      "  \n",
      "  \n",
      "  \n",
      "  --------------------------------------------------------------------------------\n",
      "  -- Trying \"NMake Makefiles (Visual Studio 17 2022 x64 v143)\" generator\n",
      "  --------------------------------\n",
      "  ---------------------------\n",
      "  ----------------------\n",
      "  -----------------\n",
      "  ------------\n",
      "  -------\n",
      "  --\n",
      "  --\n",
      "  -------\n",
      "  ------------\n",
      "  -----------------\n",
      "  ----------------------\n",
      "  ---------------------------\n",
      "  --------------------------------\n",
      "  -- Trying \"NMake Makefiles (Visual Studio 17 2022 x64 v143)\" generator - failure\n",
      "  --------------------------------------------------------------------------------\n",
      "  \n",
      "  \n",
      "  \n",
      "  --------------------------------------------------------------------------------\n",
      "  -- Trying \"NMake Makefiles (Visual Studio 16 2019 x64 v142)\" generator\n",
      "  --------------------------------\n",
      "  ---------------------------\n",
      "  ----------------------\n",
      "  -----------------\n",
      "  ------------\n",
      "  -------\n",
      "  --\n",
      "  --\n",
      "  -------\n",
      "  ------------\n",
      "  -----------------\n",
      "  ----------------------\n",
      "  ---------------------------\n",
      "  --------------------------------\n",
      "  -- Trying \"NMake Makefiles (Visual Studio 16 2019 x64 v142)\" generator - failure\n",
      "  --------------------------------------------------------------------------------\n",
      "  \n",
      "  \n",
      "  \n",
      "  --------------------------------------------------------------------------------\n",
      "  -- Trying \"NMake Makefiles (Visual Studio 15 2017 x64 v141)\" generator\n",
      "  --------------------------------\n",
      "  ---------------------------\n",
      "  ----------------------\n",
      "  -----------------\n",
      "  ------------\n",
      "  -------\n",
      "  --\n",
      "  --\n",
      "  -------\n",
      "  ------------\n",
      "  -----------------\n",
      "  ----------------------\n",
      "  ---------------------------\n",
      "  --------------------------------\n",
      "  -- Trying \"NMake Makefiles (Visual Studio 15 2017 x64 v141)\" generator - failure\n",
      "  --------------------------------------------------------------------------------\n",
      "  \n",
      "  ********************************************************************************\n",
      "  scikit-build could not get a working generator for your system. Aborting build.\n",
      "  \n",
      "  Building windows wheels for Python 3.9 requires Microsoft Visual Studio 2022.\n",
      "  Get it with \"Visual Studio 2017\":\n",
      "  \n",
      "    https://visualstudio.microsoft.com/vs/\n",
      "  \n",
      "  Or with \"Visual Studio 2019\":\n",
      "  \n",
      "    https://visualstudio.microsoft.com/vs/\n",
      "  \n",
      "  Or with \"Visual Studio 2022\":\n",
      "  \n",
      "    https://visualstudio.microsoft.com/vs/\n",
      "  \n",
      "  ********************************************************************************\n",
      "  [end of output]\n",
      "  \n",
      "  note: This error originates from a subprocess, and is likely not a problem with pip.\n",
      "  ERROR: Failed building wheel for slycot\n",
      "ERROR: Could not build wheels for slycot, which is required to install pyproject.toml-based projects\n"
     ]
    },
    {
     "name": "stdout",
     "output_type": "stream",
     "text": [
      "Defaulting to user installation because normal site-packages is not writeable\n",
      "Requirement already satisfied: simpy in c:\\users\\vvida\\appdata\\roaming\\python\\python39\\site-packages (4.0.1)\n",
      "absl-py==1.2.0\n",
      "anyio==3.6.1\n",
      "argon2-cffi==21.3.0\n",
      "argon2-cffi-bindings==21.2.0\n",
      "asttokens==2.0.7\n",
      "astunparse==1.6.3\n",
      "attrs==22.1.0\n",
      "Babel==2.10.3\n",
      "backcall==0.2.0\n",
      "beautifulsoup4==4.11.1\n",
      "bleach==5.0.1\n",
      "cachetools==5.2.0\n",
      "certifi==2022.6.15\n",
      "cffi==1.15.1\n",
      "chardet==5.0.0\n",
      "charset-normalizer==2.1.0\n",
      "click==8.1.3\n",
      "colorama==0.4.5\n",
      "control==0.9.2\n",
      "cycler==0.11.0\n",
      "debugpy==1.6.2\n",
      "decorator==5.1.1\n",
      "defusedxml==0.7.1\n",
      "entrypoints==0.4\n",
      "executing==0.9.1\n",
      "fastjsonschema==2.16.1\n",
      "flatbuffers==2.0\n",
      "fonttools==4.34.4\n",
      "gast==0.5.3\n",
      "google-auth==2.10.0\n",
      "google-auth-oauthlib==0.5.2\n",
      "google-pasta==0.2.0\n",
      "grpcio==1.47.0\n",
      "h5py==3.7.0\n",
      "idna==3.3\n",
      "import-ipynb==0.1.4\n",
      "importlib-metadata==4.12.0\n",
      "ipykernel==6.15.1\n",
      "ipython==8.4.0\n",
      "ipython-genutils==0.2.0\n",
      "ipywidgets==7.7.1\n",
      "jedi==0.18.1\n",
      "Jinja2==3.1.2\n",
      "joblib==1.1.0\n",
      "json5==0.9.9\n",
      "jsonschema==4.9.1\n",
      "jupyter==1.0.0\n",
      "jupyter-client==7.3.4\n",
      "jupyter-console==6.4.4\n",
      "jupyter-core==4.11.1\n",
      "jupyter-server==1.18.1\n",
      "jupyterlab==3.4.4\n",
      "jupyterlab-pygments==0.2.2\n",
      "jupyterlab-server==2.15.0\n",
      "jupyterlab-widgets==1.1.1\n",
      "keras==2.9.0\n",
      "Keras-Preprocessing==1.1.2\n",
      "kiwisolver==1.4.4\n",
      "libclang==14.0.6\n",
      "lightgbm==3.3.2\n",
      "Markdown==3.4.1\n",
      "MarkupSafe==2.1.1\n",
      "matplotlib==3.5.2\n",
      "matplotlib-inline==0.1.3\n",
      "mistune==0.8.4\n",
      "nbclassic==0.4.3\n",
      "nbclient==0.6.6\n",
      "nbconvert==6.5.0\n",
      "nbformat==5.4.0\n",
      "nest-asyncio==1.5.5\n",
      "nltk==3.7\n",
      "notebook==6.4.12\n",
      "notebook-shim==0.1.0\n",
      "numpy==1.23.1\n",
      "oauthlib==3.2.0\n",
      "opt-einsum==3.3.0\n",
      "packaging==21.3\n",
      "pandas==1.4.3\n",
      "pandocfilters==1.5.0\n",
      "parso==0.8.3\n",
      "pickleshare==0.7.5\n",
      "Pillow==9.2.0\n",
      "pip-review==1.1.1\n",
      "prometheus-client==0.14.1\n",
      "prompt-toolkit==3.0.30\n",
      "protobuf==3.19.4\n",
      "psutil==5.9.1\n",
      "pure-eval==0.2.2\n",
      "pyasn1==0.4.8\n",
      "pyasn1-modules==0.2.8\n",
      "pycparser==2.21\n",
      "Pygments==2.12.0\n",
      "pyparsing==3.0.9\n",
      "pyrsistent==0.18.1\n",
      "python-dateutil==2.8.2\n",
      "pytz==2022.1\n",
      "pywin32==304\n",
      "pywinpty==2.0.7\n",
      "pyzmq==23.2.0\n",
      "qtconsole==5.3.1\n",
      "QtPy==2.1.0\n",
      "regex==2022.7.25\n",
      "requests==2.28.1\n",
      "requests-oauthlib==1.3.1\n",
      "rsa==4.9\n",
      "scikit-learn==1.1.2\n",
      "scipy==1.9.0\n",
      "Send2Trash==1.8.0\n",
      "simpy==4.0.1\n",
      "six==1.16.0\n",
      "sklearn==0.0\n",
      "sniffio==1.2.0\n",
      "soupsieve==2.3.2.post1\n",
      "stack-data==0.3.0\n",
      "tensorboard==2.9.1\n",
      "tensorboard-data-server==0.6.1\n",
      "tensorboard-plugin-wit==1.8.1\n",
      "tensorflow==2.9.1\n",
      "tensorflow-estimator==2.9.0\n",
      "tensorflow-io-gcs-filesystem==0.26.0\n",
      "termcolor==1.1.0\n",
      "terminado==0.15.0\n",
      "threadpoolctl==3.1.0\n",
      "tinycss2==1.1.1\n",
      "tornado==6.2\n",
      "tqdm==4.64.0\n",
      "traitlets==5.3.0\n",
      "tweepy==4.10.0\n",
      "typing_extensions==4.3.0\n",
      "urllib3==1.26.11\n",
      "wcwidth==0.2.5\n",
      "webencodings==0.5.1\n",
      "websocket-client==1.3.3\n",
      "Werkzeug==2.2.2\n",
      "widgetsnbextension==3.6.1\n",
      "wrapt==1.14.1\n",
      "xgboost==1.6.1\n",
      "zipp==3.8.1\n"
     ]
    }
   ],
   "source": [
    "!pip install control \n",
    "!pip install slycot\n",
    "!pip install simpy\n",
    "!pip freeze"
   ]
  },
  {
   "cell_type": "markdown",
   "metadata": {},
   "source": [
    "##Ball and Beam\n",
    "\n",
    "A ball is placed on a beam, see figure below, where it is allowed to roll with 1 degree of freedom along the length of the beam. A lever arm is attached to the beam at one end and a servo gear at the other. As the servo gear turns by an angle $\\theta$, the lever changes the angle of the beam by $\\alpha$. When the angle is changed from the horizontal position, gravity causes the ball to roll along the beam. A controller will be designed for this system so that the ball's position can be manipulated.\n",
    "For this problem, we will assume that the ball rolls without slipping and friction between the beam and ball is negligible. \n",
    "\n",
    "<img src=\"http://ctms.engin.umich.edu/CTMS/Content/BallBeam/System/Modeling/figures/bb2.png\">"
   ]
  },
  {
   "cell_type": "markdown",
   "metadata": {},
   "source": [
    "`simpy` allows you to define transfer functions using a symbolic variable, `s` in this case. "
   ]
  },
  {
   "cell_type": "code",
   "execution_count": 1,
   "metadata": {},
   "outputs": [],
   "source": [
    "import sympy\n",
    "from sympy import *\n",
    "sympy.init_printing()\n",
    "s = Symbol('s')   "
   ]
  },
  {
   "cell_type": "markdown",
   "metadata": {},
   "source": [
    "The system parameters are as follows:"
   ]
  },
  {
   "cell_type": "code",
   "execution_count": 2,
   "metadata": {
    "collapsed": true
   },
   "outputs": [],
   "source": [
    "#system parameters\n",
    "m = 0.04;          # mass of the ball  (kg)\n",
    "R = 0.0127;        # radius of the ball   (meters)   \n",
    "g = -9.81;         # gravitational acceleration (meters/s^2)\n",
    "L = 0.4;           # length of the beam    (meters)\n",
    "d = 0.05;          # lever arm offset (meters)\n",
    "J = 0.00000258064; # ball's moment of inertia (kg.m^2)  \n",
    "#(r)      ball position coordinate\n",
    "#(alpha)  beam angle coordinate\n",
    "#(theta)  servo gear angle"
   ]
  },
  {
   "cell_type": "markdown",
   "metadata": {},
   "source": [
    "The significance of this system is that it is a simple system which is unstable on its own (the ball rolls to the edge of the beam without resistance as can be seen above). What is needed is to measure $r$ to control $\\theta$ which affects $\\alpha$ and moves $r$.\n",
    "\n",
    "As described by the University of Michigan's resource of the [system model](http://ctms.engin.umich.edu/CTMS/index.php?example=BallBeam&section=SystemModeling), [Langrangian equations](http://en.wikipedia.org/wiki/Lagrangian_mechanics) and [linearization](http://en.wikipedia.org/wiki/Linearization) simplify the problem to:   \n",
    "\n",
    "$$\\ddot{r}(\\frac{J}{R^2}+m)= -\\frac{mgd}{L}\\theta$$\n",
    "\n",
    "\n",
    "Applying the laplace transform to the equation above\n",
    "\n",
    "$$(\\frac{J}{R}^2+m)R(s)s^2 = -mg\\frac{d}{L}\\theta(s)$$\n",
    "\n",
    "Leads to the transfer function $T(s)$:\n",
    "\n",
    "\n",
    "$$T(s)= \\frac{R(s)}{\\theta(s)}= -\\frac{mgd}{L(\\frac{J}{R^2}+m)}\\frac{1}{s^2}$$"
   ]
  },
  {
   "cell_type": "markdown",
   "metadata": {},
   "source": [
    "It should be noted that this transfer function is a [double integrator](http://en.wikipedia.org/wiki/Double_integrator). As such it is marginally stable and will provide a challenging control problem.\n",
    "\n",
    "The transfer function can be implemented in python with `simpy` and `python-control` as follows:"
   ]
  },
  {
   "cell_type": "code",
   "execution_count": 3,
   "metadata": {},
   "outputs": [
    {
     "data": {
      "image/png": "[encoded data removed]",
      "text/latex": [
       "$\\displaystyle \\frac{0.875892857142857}{s^{2}}$"
      ],
      "text/plain": [
       "0.875892857142857\n",
       "─────────────────\n",
       "         2       \n",
       "        s        "
      ]
     },
     "execution_count": 3,
     "metadata": {},
     "output_type": "execute_result"
    }
   ],
   "source": [
    "Ts = -m*g*d/L/(J/R**2+m)/s**2\n",
    "Ts.simplify()"
   ]
  },
  {
   "cell_type": "code",
   "execution_count": 4,
   "metadata": {
    "collapsed": true
   },
   "outputs": [
    {
     "ename": "ModuleNotFoundError",
     "evalue": "No module named 'control'",
     "output_type": "error",
     "traceback": [
      "\u001b[1;31m---------------------------------------------------------------------------\u001b[0m",
      "\u001b[1;31mModuleNotFoundError\u001b[0m                       Traceback (most recent call last)",
      "\u001b[1;32m<ipython-input-4-f81f30184105>\u001b[0m in \u001b[0;36m<module>\u001b[1;34m\u001b[0m\n\u001b[1;32m----> 1\u001b[1;33m \u001b[1;32mimport\u001b[0m \u001b[0mcontrol\u001b[0m\u001b[1;33m\u001b[0m\u001b[1;33m\u001b[0m\u001b[0m\n\u001b[0m\u001b[0;32m      2\u001b[0m \u001b[1;32mfrom\u001b[0m \u001b[0mnumpy\u001b[0m \u001b[1;32mimport\u001b[0m \u001b[1;33m*\u001b[0m             \u001b[1;31m# Grab all of the NumPy functions\u001b[0m\u001b[1;33m\u001b[0m\u001b[1;33m\u001b[0m\u001b[0m\n\u001b[0;32m      3\u001b[0m \u001b[1;32mfrom\u001b[0m \u001b[0mcontrol\u001b[0m \u001b[1;32mimport\u001b[0m \u001b[0mmatlab\u001b[0m\u001b[1;33m\u001b[0m\u001b[1;33m\u001b[0m\u001b[0m\n\u001b[0;32m      4\u001b[0m \u001b[1;32mfrom\u001b[0m \u001b[0mcontrol\u001b[0m\u001b[1;33m.\u001b[0m\u001b[0mmatlab\u001b[0m \u001b[1;32mimport\u001b[0m \u001b[1;33m*\u001b[0m    \u001b[1;31m# MATLAB-like functions\u001b[0m\u001b[1;33m\u001b[0m\u001b[1;33m\u001b[0m\u001b[0m\n\u001b[0;32m      5\u001b[0m \u001b[1;32mfrom\u001b[0m \u001b[0mmatplotlib\u001b[0m\u001b[1;33m.\u001b[0m\u001b[0mpyplot\u001b[0m \u001b[1;32mimport\u001b[0m \u001b[1;33m*\u001b[0m \u001b[1;31m# Grab MATLAB plotting functions\u001b[0m\u001b[1;33m\u001b[0m\u001b[1;33m\u001b[0m\u001b[0m\n",
      "\u001b[1;31mModuleNotFoundError\u001b[0m: No module named 'control'"
     ]
    }
   ],
   "source": [
    "import control\n",
    "from numpy import *             # Grab all of the NumPy functions\n",
    "from control import matlab\n",
    "from control.matlab import *    # MATLAB-like functions\n",
    "from matplotlib.pyplot import * # Grab MATLAB plotting functions\n",
    "import matplotlib.pyplot as plt\n",
    "%matplotlib inline"
   ]
  },
  {
   "cell_type": "code",
   "execution_count": null,
   "metadata": {},
   "outputs": [],
   "source": [
    "#transform to a py-control transfer function\n",
    "num = Poly(Ts.as_numer_denom()[0],s).all_coeffs()\n",
    "den = Poly(Ts.as_numer_denom()[1],s).all_coeffs()\n",
    "P_ball =  tf(map(float,num),map(float,den))\n",
    "P_ball"
   ]
  },
  {
   "cell_type": "markdown",
   "metadata": {},
   "source": [
    "Now we will apply the [step response](http://en.wikipedia.org/wiki/Step_response) to see how the system behaves in an open loop, that is, if we gave the ball a push and there was no control system on it. "
   ]
  },
  {
   "cell_type": "code",
   "execution_count": null,
   "metadata": {},
   "outputs": [],
   "source": [
    "t, y = matlab.step(P_ball,T=linspace(0,10,100))\n",
    "plot(y, t)\n",
    "title(\"Step Response\")\n",
    "grid()\n",
    "xlabel(\"time (s)\")\n",
    "ylabel(\"y(t)\")"
   ]
  },
  {
   "cell_type": "markdown",
   "metadata": {},
   "source": [
    "The system is unstable, we will control it to receive a desired response (a value) that doesn't overshoot nor is too slow in a feedback system we will implement. This figure provides some common response to a step function:  \n",
    "<img src= http://www1.adept.com/main/KE/DATA/Controller/SmartMotion_Developer/images/AM%20typ%20response%20to%20step_575x510.gif>\n",
    "\n",
    "There are many ways to control including PID, Root Locus, Bode and State Space."
   ]
  },
  {
   "cell_type": "markdown",
   "metadata": {},
   "source": [
    "###Root Locus\n",
    "The main idea of the [root locus design](http://en.wikipedia.org/wiki/Root_locus) is to estimate the closed-loop response from the open-loop root locus plot. By adding [zeroes](http://en.wikipedia.org/wiki/Zero_of_a_function) and/or [poles](http://en.wikipedia.org/wiki/Pole_(complex_analysis)) to the original system (adding a compensator), the root locus and thus the closed-loop response will be modified. Let's view the root locus for the plant in open loop. "
   ]
  },
  {
   "cell_type": "code",
   "execution_count": null,
   "metadata": {},
   "outputs": [],
   "source": [
    "r, k = rlocus(P_ball)\n",
    "title(\"Root Locus\")\n",
    "plot(k,r)\n",
    "grid()\n",
    "show()"
   ]
  },
  {
   "cell_type": "markdown",
   "metadata": {},
   "source": [
    "The system has two poles at the origin which go off to infinity in the imaginary axis. "
   ]
  },
  {
   "cell_type": "code",
   "execution_count": null,
   "metadata": {},
   "outputs": [],
   "source": [
    "pole(P_ball)"
   ]
  },
  {
   "cell_type": "code",
   "execution_count": null,
   "metadata": {},
   "outputs": [],
   "source": [
    "zero(P_ball)"
   ]
  },
  {
   "cell_type": "markdown",
   "metadata": {},
   "source": [
    "###Lead Controller \n",
    "A first order [lead compensator](http://en.wikipedia.org/wiki/Lead%E2%80%93lag_compensator) tends to shift the root locus into the left-hand plane.\n",
    " A lead compensator has the form given below:\n",
    " \n",
    " $C(s)=K_c\\frac{s-z_0}{s-p_0}$ where $z_0<p_0$"
   ]
  },
  {
   "cell_type": "code",
   "execution_count": null,
   "metadata": {},
   "outputs": [],
   "source": [
    "#add poles for a lead controller\n",
    "zo = 0.01;\n",
    "po = 5;\n",
    "C=tf([1, zo],[1, po]);\n",
    "\n",
    "r, k = rlocus(C*P_ball)\n",
    "title(\"Root Locus\")\n",
    "plot(k,r)\n",
    "grid()\n",
    "ylim(-15, 15)\n",
    "xlim(-15, 15)\n",
    "show()\n"
   ]
  },
  {
   "cell_type": "markdown",
   "metadata": {},
   "source": [
    "From here we can calulate a gain $K_c$ (MATLAB contains a function to find $K_c$,  `[k,poles]=rlocfind(C*P_ball)`, however `python-control` [doesn't dsupport it at the moment](http://python-control.sourceforge.net/manual/matlab_strings.html#matlab.initial)).   \n",
    "The equation is \n",
    "$K_c = \\frac{Product of Pole Distances}{Product of Zero Distances}$.  \n",
    "\n",
    "If it's too difficult to calulate (some trigonometry is required), you may use trial and error, starting with $K_c=1$, and add it as a feedback to the system as shown here:\n",
    "\n",
    "<img src=http://ctms.engin.umich.edu/CTMS/Content/BallBeam/Control/RootLocus/figures/feedback_ball.png>"
   ]
  },
  {
   "cell_type": "code",
   "execution_count": null,
   "metadata": {},
   "outputs": [],
   "source": [
    "k = 35;\n",
    "sys_cl=feedback(k*C*P_ball);\n",
    "sys_cl"
   ]
  },
  {
   "cell_type": "markdown",
   "metadata": {},
   "source": [
    "Now plot the response in a closed-looop with the step function. "
   ]
  },
  {
   "cell_type": "code",
   "execution_count": null,
   "metadata": {},
   "outputs": [],
   "source": [
    "t, y = matlab.step(0.25*sys_cl,T=linspace(0,10,100))\n",
    "plot(y, t)\n",
    "title(\"Step Response with Lead Controller\")\n",
    "grid()\n",
    "xlabel(\"time (s)\")\n",
    "ylabel(\"y(t)\")"
   ]
  },
  {
   "cell_type": "markdown",
   "metadata": {},
   "source": [
    "The system stabilizes at 2 second with a maximum 20% overshoot at the first second. However, it required a large $K_c$ and in a real life scenario, it may be too much energy needed, along with the possibility that if $K_c$ is too big in some models it may even destabilize otherwise stable models, with too much overshoot. "
   ]
  },
  {
   "cell_type": "markdown",
   "metadata": {},
   "source": [
    "##Frequency Domain Methods for Controller Design\n",
    "###Open  Loop Bode Plot\n",
    "The main idea of frequency based design is to use the [Bode plot](http://en.wikipedia.org/wiki/Bode_plot) of the open-loop transfer function to estimate the closed-loop response. Adding a controller to the system changes the open-loop Bode plot, therefore changing the closed-loop response. Let's first draw the bode plot for the original open-loop transfer function."
   ]
  },
  {
   "cell_type": "code",
   "execution_count": null,
   "metadata": {},
   "outputs": [],
   "source": [
    "bode(P_ball)"
   ]
  },
  {
   "cell_type": "markdown",
   "metadata": {},
   "source": [
    "From this plot we see that the phase margin is zero. Since the phase margin is defined as the change in open-loop phase shift necessary to make a closed-loop system unstable this means that our zero phase margin indicates our system is unstable. We want to increase the phase margin and we can use a lead compensator controller to do this."
   ]
  },
  {
   "cell_type": "markdown",
   "metadata": {},
   "source": [
    "###Phase Lead Controller\n",
    "A first order phase-lead compensator has the form given below:\n",
    "\n",
    "$$\n",
    "C(s) = K \\left( \\frac{1+Ts}{1+aTs} \\right)\n",
    "$$\n",
    "\n",
    "The phase-lead compensator will add positive phase to our system over the frequency range $1/aT$ and $1/T$, which are called the corner frequencies. The maximum added phase for one lead compensator is 90 degrees. For our controller design we need a percent overshoot of less than 5 %, which corresponds to a $\\zeta$ of 0.7. Generally $\\zeta$ * 100 will give you the minimum phase margin needed to obtain your desired overshoot.\n",
    "\n",
    "So the steps are:\n",
    "1. Determine the positive phase needed: We need at least 70 degrees from our controller.\n",
    "\n",
    "2. Determine the frequency where the phase should be added (center frequency): In our case this is difficult to determine because the phase vs. frequency graph in the bode plot is a flat line. However, we have a relation between bandwidth frequency ($\\omega_{\\mathrm{bw}}$ ) and settling time which tells us that $\\omega_{\\mathrm{bw}}$ is approximately 1.92 rad/s. Therefore we want a center frequency just before this. For now we will choose 1.  \n",
    "3. Determine the constant $a$ from the equation below: this determines the required space between the zero and the pole for the maximum phase added.  \n",
    "$$\n",
    "a =\\frac{1-\\sin\\phi}{1+\\sin\\phi}\n",
    "$$\n",
    "where $\\phi$ refers to the desired phase margin. For 70 degrees, $a = 0.0311$.  \n",
    "4. Determine \"T\" and \"aT\" from the following equations:\n",
    "\n",
    "$$\n",
    "T = \\frac{1}{w \\sqrt{a}}\n",
    "$$\n",
    "\n",
    "$$\n",
    "aT = \\frac{\\sqrt{a}}{w}\n",
    "$$\n",
    "For 70 degrees and center frequency $(w) = 1$, $aT = 0.176$ and $T = 5.67$  \n",
    "Now, we can add our lead controller to the system and view the bode plot. "
   ]
  },
  {
   "cell_type": "code",
   "execution_count": null,
   "metadata": {},
   "outputs": [],
   "source": [
    "phi=70*pi/180;\n",
    "a=(1-sin(phi))/(1+sin(phi));\n",
    "w=1;\n",
    "T=1/(w*sqrt(a));\n",
    "K = 1;\n",
    "C = K*(1+T*s)/(1+a*T*s);\n",
    "C.simplify()\n"
   ]
  },
  {
   "cell_type": "code",
   "execution_count": null,
   "metadata": {},
   "outputs": [],
   "source": [
    "num = Poly(C.as_numer_denom()[0],s).all_coeffs()\n",
    "den = Poly(C.as_numer_denom()[1],s).all_coeffs()\n",
    "C =  tf(map(float,num),map(float,den))\n",
    "C"
   ]
  },
  {
   "cell_type": "code",
   "execution_count": null,
   "metadata": {},
   "outputs": [],
   "source": [
    "bode(C*P_ball)"
   ]
  },
  {
   "cell_type": "markdown",
   "metadata": {},
   "source": [
    "You can see that our phase margin is now 70 degrees. Let's check the closed-loop response to a step input of 0.25m:"
   ]
  },
  {
   "cell_type": "code",
   "execution_count": null,
   "metadata": {},
   "outputs": [],
   "source": [
    "sys_cl = feedback(C*P_ball,1);\n",
    "t, y = matlab.step(0.25*sys_cl,T=linspace(0,10,100))\n",
    "plot(y, t)\n",
    "title(\"Step Response with Phase Lead Controller\")\n",
    "grid()\n",
    "xlabel(\"time (s)\")\n",
    "ylabel(\"y(t)\")"
   ]
  },
  {
   "cell_type": "markdown",
   "metadata": {},
   "source": [
    "This could be improved, by decreasing the gain to reduce overshoot. This reduces the crossover frequency and slows down the response time."
   ]
  },
  {
   "cell_type": "code",
   "execution_count": null,
   "metadata": {},
   "outputs": [],
   "source": [
    "K = 0.5;\n",
    "C = K*(1+T*s)/(1+a*T*s);\n",
    "C.simplify()"
   ]
  },
  {
   "cell_type": "code",
   "execution_count": null,
   "metadata": {},
   "outputs": [],
   "source": [
    "num = Poly(C.as_numer_denom()[0],s).all_coeffs()\n",
    "den = Poly(C.as_numer_denom()[1],s).all_coeffs()\n",
    "C =  tf(map(float,num),map(float,den))\n",
    "C"
   ]
  },
  {
   "cell_type": "code",
   "execution_count": null,
   "metadata": {},
   "outputs": [],
   "source": [
    "sys_cl = feedback(C*P_ball,1);\n",
    "t, y = matlab.step(0.25*sys_cl,T=linspace(0,10,100))\n",
    "plot(y, t)\n",
    "title(\"Step Response with Phase Lead Controller\")\n",
    "grid()\n",
    "xlabel(\"time (s)\")\n",
    "ylabel(\"y(t)\")"
   ]
  },
  {
   "cell_type": "markdown",
   "metadata": {},
   "source": [
    "##State Space\n",
    "\n",
    "A control model may be represented also in a [state-space model](http://en.wikipedia.org/wiki/State_space), which use state variables to describe a system by a set of first-order differential or difference equations, rather than by one or more $nth$-order differential or difference equations. \n",
    "In our ball and beam model, this can be done by selecting the ball's position ($r$) and velocity ($\\dot{r}$) as the state variable and the gear angle ($\\theta$) as the input. The state-space representation is shown below:\n",
    "\n",
    "$$\n",
    "\\begin{bmatrix} \n",
    "\\dot{r} \\\\\n",
    "\\ddot{r} \\\\\n",
    "\\dot{\\alpha}\\\\\n",
    "\\ddot{\\alpha}\n",
    "\\end{bmatrix}\n",
    "=\n",
    "\\begin{bmatrix}\n",
    "    0 & 1 & 0 & 0\\\\\n",
    "    0 & 0 & \\frac{-mg}{(\\frac{J}{R^2}+m)} & 0 \\\\\n",
    "    0 & 0 & 0 & 0 \\\\\n",
    "    0 & 0 & 0 & 0\n",
    "\\end{bmatrix}\n",
    "\\begin{bmatrix} \n",
    "r \\\\\n",
    "\\dot{r} \\\\\n",
    "\\alpha\\\\\n",
    "\\dot{\\alpha}\n",
    "\\end{bmatrix}\n",
    "+\n",
    "\\begin{bmatrix} \n",
    "0 \\\\\n",
    "0 \\\\\n",
    "0\\\\\n",
    "1\n",
    "\\end{bmatrix}\n",
    "u\n",
    "$$\n",
    "\n",
    "$$\n",
    "y = \n",
    "\\begin{bmatrix} \n",
    "1 & 0 & 0 & 0\n",
    "\\end{bmatrix}\n",
    "\\begin{bmatrix} \n",
    "r \\\\\n",
    "\\dot{r} \\\\\n",
    "\\alpha\\\\\n",
    "\\dot{\\alpha}\n",
    "\\end{bmatrix}\n",
    "$$\n",
    "\n",
    "###Full state-feedback controller\n",
    "We will design a controller for this physical system that utilizes [full state-feedback control](http://en.wikipedia.org/wiki/Full_state_feedback). \n",
    " A schematic of this type of system is shown below:\n",
    " <img src=http://ctms.engin.umich.edu/CTMS/Content/BallBeam/Control/StateSpace/figures/statefeedback_ball.png>  \n",
    " The characteristic polynomial for this closed-loop system is the determinant of $(sI-(A-BK))$, where $s$ is the Laplace variable. For our system the $A$ and $B*K$ matrices are both 4x4. Hence, there should be four poles for our system. In designing our full-state feedback controller we can move these poles anywhere we want."
   ]
  },
  {
   "cell_type": "code",
   "execution_count": null,
   "metadata": {
    "collapsed": true
   },
   "outputs": [],
   "source": [
    "import control\n",
    "from numpy import *             # Grab all of the NumPy functions\n",
    "from control import matlab\n",
    "from control.matlab import *    # MATLAB-like functions\n",
    "from matplotlib.pyplot import * # Grab MATLAB plotting functions\n",
    "import matplotlib.pyplot as plt\n",
    "%matplotlib inline"
   ]
  },
  {
   "cell_type": "code",
   "execution_count": null,
   "metadata": {},
   "outputs": [],
   "source": [
    "m = 0.04;\n",
    "R = 0.0127;\n",
    "g = -9.81;\n",
    "J = 0.00000258064;\n",
    "\n",
    "H = -m*g/(J/(R**2)+m);\n",
    "\n",
    "A = matrix(\n",
    "    [[0, 1, 0, 0],\n",
    "     [0, 0, H, 0],\n",
    "     [0, 0, 0, 1],\n",
    "     [0, 0, 0, 0]]);\n",
    "B = matrix([[0],\n",
    "            [0],\n",
    "            [0],\n",
    "            [1]]);\n",
    "C = matrix([1, 0, 0, 0]);\n",
    "D = matrix([0]);\n",
    "\n",
    "ball_ss = ss(A,B,C,D);\n",
    "\n",
    "ball_ss"
   ]
  },
  {
   "cell_type": "markdown",
   "metadata": {},
   "source": [
    "For our design we desire an overshoot of less than 5% which corresponds to a $\\zeta = 0.7$. On a root locus, this criterion is represented as a 45 degree line emanating from the origin and extending out into the left-half plane. We want to place our desired poles on or beneath this line. Our next criterion is a settling time less than 3 seconds, which corresponds to a $\\sigma = 4.6/Ts = 4.6/3 = 1.53$, represented by a vertical line at -1.53 on the root locus. Anything beyond this line in the left-half plane is a suitable place for our poles. Therefore we will place our poles at $-2+2i$ and $-2-2i$. We will place the other poles far to the left for now, so that they will not affect the response too much. To start with place them at -20 and -80. Now that we have our poles we can use the  `place` command to find the controller (K matrix). "
   ]
  },
  {
   "cell_type": "code",
   "execution_count": null,
   "metadata": {},
   "outputs": [],
   "source": [
    "p1 = complex(-2,2);\n",
    "p2 = complex(-2,-2);\n",
    "p3 = -20;\n",
    "p4 = -80;\n",
    "\n",
    "K = place(A,B,[p1,p2,p3,p4])"
   ]
  },
  {
   "cell_type": "code",
   "execution_count": null,
   "metadata": {},
   "outputs": [],
   "source": [
    "K"
   ]
  },
  {
   "cell_type": "markdown",
   "metadata": {},
   "source": [
    "After adding the K matrix, the state space equations now become:\n",
    "\n",
    "$$\n",
    "\\dot{{\\bf x}} = (A-BK){\\bf x} + Bu\n",
    "$$\n",
    "\n",
    "$$\n",
    "y = C{\\bf x}\n",
    "$$\n",
    "\n",
    "We can now simulate the closed-loop response to a 0.25m step input by using the `lsim` command. "
   ]
  },
  {
   "cell_type": "code",
   "execution_count": null,
   "metadata": {},
   "outputs": [],
   "source": [
    "t = linspace(0,5,100);\n",
    "u = 0.25*ones(size(t));\n",
    "sys_cl = ss(A-(B*K),B,C,D);\n",
    "[y,t,x] = lsim(1e4*sys_cl,u,t);\n",
    "plot(t,y)\n",
    "title(\"Step Response\")\n",
    "grid()\n",
    "xlabel(\"time (s)\")\n",
    "ylabel(\"y(t)\")"
   ]
  },
  {
   "cell_type": "markdown",
   "metadata": {
    "collapsed": true
   },
   "source": [
    "##References\n",
    "\n",
    "1. [Control Tutorials for MATLAB, University of Michigan](http://ctms.engin.umich.edu/CTMS/index.php?aux=Home)\n",
    "2. [Wikipedia](https://www.en.wikipedia.org) for background theory"
   ]
  }
 ],
 "metadata": {
  "interpreter": {
   "hash": "3a13fa5af3ea9929c7e37a1ec42dfbfe4bef71954fa15178bf6edb08a8ce7710"
  },
  "kernelspec": {
   "display_name": "Python 3 (ipykernel)",
   "language": "python",
   "name": "python3"
  },
  "language_info": {
   "codemirror_mode": {
    "name": "ipython",
    "version": 3
   },
   "file_extension": ".py",
   "mimetype": "text/x-python",
   "name": "python",
   "nbconvert_exporter": "python",
   "pygments_lexer": "ipython3",
   "version": "3.9.7"
  }
 },
 "nbformat": 4,
 "nbformat_minor": 1
}
