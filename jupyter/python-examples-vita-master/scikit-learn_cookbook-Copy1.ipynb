{
 "cells": [
  {
   "cell_type": "markdown",
   "id": "95d030ac",
   "metadata": {},
   "source": [
    "#Scikit-learn Cookbook\n",
    "Recipes with concrete machine learning problems.  \n",
    "You'll need a knowledge of pandas, matplotlib, numpy and of course, scikit-learn."
   ]
  },
  {
   "cell_type": "code",
   "execution_count": 1,
   "id": "4f8fbd14",
   "metadata": {},
   "outputs": [],
   "source": [
    "#<help:cookbook_setup>\n",
    "%matplotlib inline"
   ]
  },
  {
   "cell_type": "markdown",
   "id": "5c5205d6",
   "metadata": {},
   "source": [
    "##Training with k-fold cross-validation\n",
    "This recipe repeatedly trains a [logistic regression](http://en.wikipedia.org/wiki/Logistic_regression) classifier over different subsets (folds) of sample data. Attempts to match the percentage of each class in every fold to its percentage in the overall dataset ([stratification](http://en.wikipedia.org/wiki/Stratified_sampling)). Evaluates each model against a test set. Collects the confusion matrices for each test fold into a panel.\n",
    "\n",
    "This recipe defaults to using the [Iris data set](http://en.wikipedia.org/wiki/Iris_flower_data_set). To use your own data, set `X` to your instance feature vectors, `y` to the instance classes as a factor, and `labels` to the instance classes as human readable names."
   ]
  },
  {
   "cell_type": "code",
   "execution_count": 3,
   "id": "7226fc74",
   "metadata": {},
   "outputs": [
    {
     "data": {
      "text/plain": [
       "array(['setosa', 'versicolor', 'virginica'], dtype='<U10')"
      ]
     },
     "execution_count": 3,
     "metadata": {},
     "output_type": "execute_result"
    }
   ],
   "source": [
    "# <help:scikit_cross_validation>\n",
    "#import all the libraries needed\n",
    "import warnings\n",
    "warnings.filterwarnings('ignore') #notebook outputs warnings, let's ignore them\n",
    "import pandas\n",
    "import sklearn\n",
    "import sklearn.datasets\n",
    "import sklearn.metrics as metrics \n",
    "from sklearn.linear_model import LogisticRegression\n",
    "from sklearn.model_selection import StratifiedKFold\n",
    "\n",
    "# load the iris dataset\n",
    "dataset = sklearn.datasets.load_iris()\n",
    "\n",
    "# define feature vectors (X) and target (y)\n",
    "X = dataset.data   \n",
    "y = dataset.target \n",
    "labels = dataset.target_names \n",
    "labels  "
   ]
  },
  {
   "cell_type": "code",
   "execution_count": 7,
   "id": "82308084",
   "metadata": {},
   "outputs": [
    {
     "name": "stdout",
     "output_type": "stream",
     "text": [
      "StratifiedKFold(n_splits=2, random_state=None, shuffle=False)\n",
      "TRAIN: [1 3] TEST: [0 2]\n",
      "TRAIN: [0 2] TEST: [1 3]\n"
     ]
    }
   ],
   "source": [
    "import numpy as np\n",
    "from sklearn.model_selection import StratifiedKFold\n",
    "X = np.array([[1, 2], [3, 4], [1, 2], [3, 4]])\n",
    "y = np.array([0, 0, 1, 1])\n",
    "skf = StratifiedKFold(n_splits=2)\n",
    "skf.get_n_splits(X, y)\n",
    "\n",
    "print(skf)\n",
    "\n",
    "for train_index, test_index in skf.split(X, y):\n",
    "    print(\"TRAIN:\", train_index, \"TEST:\", test_index)\n",
    "    X_train, X_test = X[train_index], X[test_index]\n",
    "    y_train, y_test = y[train_index], y[test_index]"
   ]
  },
  {
   "cell_type": "code",
   "execution_count": 8,
   "id": "7ff5ed09",
   "metadata": {},
   "outputs": [
    {
     "data": {
      "text/plain": [
       "[]"
      ]
     },
     "execution_count": 8,
     "metadata": {},
     "output_type": "execute_result"
    }
   ],
   "source": [
    "scores #Accuracy predicting the test set for each fold"
   ]
  },
  {
   "cell_type": "markdown",
   "id": "ff7f80d0",
   "metadata": {},
   "source": [
    "##Principle Component Analysis plots\n",
    "This recipe performs a [PCA](http://en.wikipedia.org/wiki/Principal_component_analysis) and plots the data against the first two principal components calculated in a scatter plot. It then prints the eigenvalues and eigenvectors and finally prints the precentage of total variance explained by each component. \n",
    "\n",
    "This recipe defaults to using the [Iris data set](http://en.wikipedia.org/wiki/Iris_flower_data_set).   To use your own data, set `X` to your instance feature vectors, `y` to the instance classes as a factor, and `labels` to the instance classes as human readable names."
   ]
  },
  {
   "cell_type": "code",
   "execution_count": 9,
   "id": "7d83b9c8",
   "metadata": {},
   "outputs": [],
   "source": [
    "# <help:scikit_principle_component_analysis>\n",
    "from __future__ import division\n",
    "import math\n",
    "import pandas as pd\n",
    "import numpy as np\n",
    "import matplotlib.pyplot as plt\n",
    "import sklearn.datasets\n",
    "import sklearn.metrics as metrics\n",
    "from sklearn.decomposition import PCA\n",
    "from sklearn.preprocessing import StandardScaler\n",
    "\n",
    "# load the iris dataset\n",
    "dataset = sklearn.datasets.load_iris()\n",
    "# define feature vectors (X) and target (y)\n",
    "X = dataset.data   \n",
    "y = dataset.target \n",
    "labels = dataset.target_names  "
   ]
  },
  {
   "cell_type": "code",
   "execution_count": 10,
   "id": "97f12c98",
   "metadata": {},
   "outputs": [
    {
     "data": {
      "image/png": "[encoded data removed]",
      "text/plain": [
       "<Figure size 432x288 with 1 Axes>"
      ]
     },
     "metadata": {
      "needs_background": "light"
     },
     "output_type": "display_data"
    }
   ],
   "source": [
    "# <help:scikit_principle_component_analysis>\n",
    "pca = PCA(n_components=2) #define how many components to perform on, recommend n_components < y_features\n",
    "X_pca = pca.fit_transform(X) #transform and train to the subspace\n",
    "\n",
    "# TODO: label the X-axis with \"Component #1\" and y-axis with \"Component #2\"\n",
    "fig, ax = plt.subplots()\n",
    "plt.scatter(X_pca[:,0], X_pca[:,1])\n",
    "plt.grid()\n",
    "plt.title('PCA of Iris dataset')\n",
    "ax.set_xlabel('Component #1') \n",
    "ax.set_ylabel('Component #2')\n",
    "plt.show()"
   ]
  },
  {
   "cell_type": "code",
   "execution_count": 11,
   "id": "04a5b9ca",
   "metadata": {},
   "outputs": [
    {
     "name": "stdout",
     "output_type": "stream",
     "text": [
      "Eigenvectors \n",
      "[[ 1.00000000e+00 -3.58950568e-17]\n",
      " [ 0.00000000e+00  1.00000000e+00]]\n",
      "\n",
      "Eigenvalues \n",
      "[4.22824171 0.24267075]\n"
     ]
    }
   ],
   "source": [
    "# <help:scikit_principle_component_analysis>\n",
    "# Eigendecomposition on the covariance matrix\n",
    "cov_mat = np.cov(X_pca.T)\n",
    "eig_vals, eig_vecs = np.linalg.eig(cov_mat)\n",
    "print('Eigenvectors \\n%s' %eig_vecs)\n",
    "print('\\nEigenvalues \\n%s' %eig_vals)"
   ]
  },
  {
   "cell_type": "code",
   "execution_count": 12,
   "id": "2d1658c2",
   "metadata": {},
   "outputs": [
    {
     "name": "stdout",
     "output_type": "stream",
     "text": [
      "[0.92461872 0.05306648]\n"
     ]
    }
   ],
   "source": [
    "# <help:scikit_principle_component_analysis>\n",
    "# prints the magnitudes of the variances in each principal component as a percentage\n",
    "print(pca.explained_variance_ratio_)"
   ]
  },
  {
   "cell_type": "markdown",
   "id": "972b37bd",
   "metadata": {},
   "source": [
    "## K-means cluster plot\n",
    "\n",
    "This recipe performs a [K-means clustering](http://en.wikipedia.org/wiki/K-means_clustering) on _`n`_ samples of the iris dataset _`k`_ times, and plots the within cluster sum of squares error (i.e., inertia).\n",
    "\n",
    "This recipe defaults to using the [Iris data set](http://en.wikipedia.org/wiki/Iris_flower_data_set).   To use your own data, set `X` to your instance feature vectors, `y` to the instance classes as a factor, and `labels` to the instance classes as human readable names."
   ]
  },
  {
   "cell_type": "code",
   "execution_count": 13,
   "id": "7badee61",
   "metadata": {},
   "outputs": [
    {
     "name": "stdout",
     "output_type": "stream",
     "text": [
      "k = 1, inertia= 681.370600\n",
      "k = 2, inertia= 152.347952\n",
      "k = 3, inertia= 78.851441\n",
      "k = 4, inertia= 57.228473\n",
      "k = 5, inertia= 46.472230\n"
     ]
    },
    {
     "data": {
      "image/png": "[encoded data removed]",
      "text/plain": [
       "<Figure size 432x288 with 1 Axes>"
      ]
     },
     "metadata": {
      "needs_background": "light"
     },
     "output_type": "display_data"
    }
   ],
   "source": [
    "# <help:scikit_k-means_cluster>\n",
    "from time import time\n",
    "import numpy as np\n",
    "import matplotlib.pyplot as plt\n",
    "import sklearn.datasets\n",
    "from sklearn.cluster import KMeans\n",
    "\n",
    "#load datasets and assign data and features\n",
    "dataset = sklearn.datasets.load_iris()\n",
    "X = dataset.data\n",
    "y = dataset.target\n",
    "\n",
    "#number of clusters, must be >=1\n",
    "k = 6\n",
    "inertia = [np.NaN]\n",
    "\n",
    "#perform a k-means cluster over n...k\n",
    "for n in range(1,k):\n",
    "    k_means_ = KMeans(n_clusters=int(n))\n",
    "    k_means_.fit(X)\n",
    "    print('k = %d, inertia= %f' % (n, k_means_.inertia_ ))\n",
    "    inertia.append(k_means_.inertia_) \n",
    "#plot a line graph\n",
    "ax = plt.subplot(111)\n",
    "ax.plot(inertia, '-o')\n",
    "plt.xticks(range(k))\n",
    "plt.title(\"Inertia\")\n",
    "ax.set_ylabel('Inertia')\n",
    "ax.set_xlabel('# Clusters')\n",
    "plt.show()   \n"
   ]
  },
  {
   "cell_type": "markdown",
   "id": "f5b0c8b6",
   "metadata": {},
   "source": [
    "## Grid search for an SVM Classifier\n",
    "\n",
    "This recipe performs a [grid search](http://en.wikipedia.org/wiki/Hyperparameter_optimization) for the best settings for a [support vector machine,](http://en.wikipedia.org/wiki/Support_vector_machine) predicting the class of each flower in the [iris data set](http://en.wikipedia.org/wiki/Iris_flower_data_set). It separates the data set by training on a fraction of the data and testing on the rest. \n",
    "\n",
    "This recipe defaults to using the [Iris data set](http://en.wikipedia.org/wiki/Iris_flower_data_set).   To use your own data, set `X` to your instance feature vectors, `y` to the instance classes as a factor, and `labels` to the instance classes as human readable names."
   ]
  },
  {
   "cell_type": "code",
   "execution_count": 15,
   "id": "9d553fab",
   "metadata": {},
   "outputs": [],
   "source": [
    "#<help_scikit_grid_search>\n",
    "import numpy as np\n",
    "import matplotlib.pyplot as plt\n",
    "import sklearn.datasets\n",
    "import sklearn.metrics as metrics\n",
    "from sklearn.svm import SVC\n",
    "from sklearn.model_selection import RandomizedSearchCV\n",
    "from sklearn.model_selection import GridSearchCV\n",
    "from sklearn.model_selection import train_test_split\n",
    "from sklearn.preprocessing import label_binarize\n",
    "\n",
    "#load datasets and features\n",
    "dataset = sklearn.datasets.load_iris()\n",
    "X = dataset.data\n",
    "y = dataset.target\n",
    "labels = dataset.target_names\n",
    "# separate datasets into training and test datasets (cross-validation)\n",
    "X_train, X_test, y_train, y_test = train_test_split(X, y, test_size=0.5)\n"
   ]
  },
  {
   "cell_type": "code",
   "execution_count": 17,
   "id": "48420dd9",
   "metadata": {},
   "outputs": [
    {
     "name": "stdout",
     "output_type": "stream",
     "text": [
      "# Tuning hyper-parameters for: accuracy\n",
      "\n",
      "Best parameters found from SVM's:\n",
      "{'C': 1, 'degree': 3, 'kernel': 'poly'}\n",
      "\n",
      "Best score found from SVM's:\n",
      "0.96\n",
      "\n"
     ]
    }
   ],
   "source": [
    "#<help_scikit_grid_search>\n",
    "#define the parameter dictionary with the kernels of SVCs\n",
    "parameters = [{'kernel': ['rbf'], 'gamma': [1e-3, 1e-4, 1e-2],\n",
    "                     'C': [1, 10, 100, 1000]},\n",
    "                    {'kernel': ['linear'], 'C': [1, 10, 100, 1000]},\n",
    "                    {'kernel': ['poly'], 'degree': [1, 3, 5],\n",
    "                     'C': [1, 10, 100, 1000]}]\n",
    "#define the scores to evaluate a parameter setting. Add more if needed. GridSearchCV loops though a dict.\n",
    "scores = [ 'accuracy']\n",
    "#iterate though each score setting, perform grid search\n",
    "for score in scores:\n",
    "    print(\"# Tuning hyper-parameters for: %s\" % score)\n",
    "    print('') \n",
    "    clf = GridSearchCV(SVC(C=1, probability= True), parameters, cv= 5, scoring=score) #5 folds\n",
    "    clf.fit(X_train, y_train) #train the model \n",
    "    print(\"Best parameters found from SVM's:\")\n",
    "    print(clf.best_params_) \n",
    "    print('')   \n",
    "    print(\"Best score found from SVM's:\")    \n",
    "    print(clf.best_score_)\n",
    "    print('') "
   ]
  },
  {
   "cell_type": "markdown",
   "id": "9479826c",
   "metadata": {},
   "source": [
    "## Plot the ROC Curve   \n",
    "This recipe plots the [reciever operating characteristic (ROC)](http://en.wikipedia.org/wiki/Receiver_operating_characteristic) [curve](http://en.wikipedia.org/wiki/Precision_and_recall#Definition_.28classification_context.29) for a [SVC classifier](http://en.wikipedia.org/wiki/Support_vector_machine) trained over a portion of the iris dataset.  ROC requires binary values, so the targets will be [binarized](http://en.wikipedia.org/wiki/Binary_classification). \n",
    "\n",
    "This recipe defaults to using the [Iris data set](http://en.wikipedia.org/wiki/Iris_flower_data_set).   To use your own data, set `X` to your instance feature vectors, `y` to the instance classes as a factor, and `labels` to the instance classes as human readable names."
   ]
  },
  {
   "cell_type": "code",
   "execution_count": 19,
   "id": "b3440215",
   "metadata": {},
   "outputs": [],
   "source": [
    "# <help:scikit_roc>\n",
    "import numpy as np\n",
    "import matplotlib.pyplot as plt\n",
    "import sklearn.datasets\n",
    "import sklearn.metrics as metrics\n",
    "from sklearn.svm import SVC\n",
    "from sklearn.multiclass import OneVsRestClassifier\n",
    "from sklearn.model_selection import RandomizedSearchCV\n",
    "from sklearn.model_selection import GridSearchCV\n",
    "from sklearn.model_selection import train_test_split\n",
    "from sklearn.preprocessing import label_binarize\n",
    "\n",
    "# load iris, set and data\n",
    "dataset = sklearn.datasets.load_iris()\n",
    "X = dataset.data\n",
    "# binarize the output for binary classification\n",
    "y = label_binarize(dataset.target, classes=[0, 1, 2])\n",
    "labels = dataset.target_names\n",
    "\n",
    "# add noise to the features so the plot is less ideal\n",
    "random_state = np.random.RandomState(0)\n",
    "n_samples, n_features = X.shape\n",
    "X = np.c_[X, random_state.randn(n_samples, 200 * n_features)]\n",
    "\n",
    "# split data for cross-validation\n",
    "X_train, X_test, y_train, y_test = train_test_split(X, y, test_size=.5)\n",
    "\n",
    "# classify instances into more than two classes, one vs rest\n",
    "# add param to create probabilities to determine Y or N as the classification\n",
    "clf = OneVsRestClassifier(SVC(kernel='linear', probability=True))\n",
    "# fit estiamators and return the distance of each sample from the decision boundary\n",
    "y_score = clf.fit(X_train, y_train).decision_function(X_test)"
   ]
  },
  {
   "cell_type": "code",
   "execution_count": 20,
   "id": "1dd17302",
   "metadata": {},
   "outputs": [
    {
     "data": {
      "image/png": "[encoded data removed]",
      "text/plain": [
       "<Figure size 720x360 with 1 Axes>"
      ]
     },
     "metadata": {
      "needs_background": "light"
     },
     "output_type": "display_data"
    }
   ],
   "source": [
    "# <help:scikit_roc>\n",
    "# plot the ROC curve, best for it to be in top left corner\n",
    "plt.figure(figsize=(10,5))\n",
    "plt.plot([0, 1], [0, 1], 'k--') # add a straight line representing a random model \n",
    "for i, label in enumerate(labels):\n",
    "    # false positive and true positive rate for each class\n",
    "    fpr, tpr, _ = metrics.roc_curve(y_test[:, i], y_score[:, i])\n",
    "    # area under the curve (auc) for each class\n",
    "    roc_auc = metrics.auc(fpr, tpr)\n",
    "    plt.plot(fpr, tpr, label='ROC curve of {0} (area = {1:0.2f})'.format(label, roc_auc))\n",
    "plt.xlim([0.0, 1.0])\n",
    "plt.ylim([0.0, 1.05])\n",
    "plt.title('Receiver Operating Characteristic for Iris data set')\n",
    "plt.xlabel('False Positive Rate') # 1- specificity\n",
    "plt.ylabel('True Positive Rate') # sensitivity\n",
    "plt.legend(loc=\"lower right\")\n",
    "plt.show()"
   ]
  },
  {
   "cell_type": "markdown",
   "id": "a0cb87d3",
   "metadata": {},
   "source": [
    "## Build a pipeline   \n",
    " This recipe builds a [pipeline](http://en.wikipedia.org/wiki/Pipeline_(software) that can classify a snippet of text that belongs to one of the 20 [USENET](http://en.wikipedia.org/wiki/Usenet) [newgroups](http://en.wikipedia.org/wiki/Usenet_newsgroup). It trains the pipeline on a set of examples and tests on a [holdout](http://en.wikipedia.org/wiki/Cross-validation_%28statistics%29#2-fold_cross-validation) set."
   ]
  },
  {
   "cell_type": "code",
   "execution_count": null,
   "id": "7499fda5",
   "metadata": {},
   "outputs": [],
   "source": [
    "# <help:scikit_pipeline>\n",
    "import sklearn.metrics as metrics\n",
    "from sklearn.feature_extraction.text import CountVectorizer, TfidfTransformer\n",
    "from sklearn.feature_extraction.text import HashingVectorizer\n",
    "from sklearn.linear_model import Perceptron\n",
    "from sklearn.naive_bayes import MultinomialNB\n",
    "from sklearn.linear_model import SGDClassifier\n",
    "from sklearn.pipeline import Pipeline\n",
    "from sklearn.model_selection import RandomizedSearchCV\n",
    "from sklearn.model_selection import GridSearchCV\n",
    "from sklearn.model_selection import train_test_split\n",
    "from sklearn.datasets import fetch_20newsgroups\n",
    "\n",
    "\n",
    "dataset = fetch_20newsgroups()\n",
    "\n",
    "X = dataset.data\n",
    "y = dataset.target\n",
    "labels = dataset.target_names\n",
    "labels"
   ]
  },
  {
   "cell_type": "code",
   "execution_count": null,
   "id": "0274836e",
   "metadata": {},
   "outputs": [],
   "source": [
    "# <help:scikit_pipeline>\n",
    "\n",
    "#split data holding out 50% for testing the classifier\n",
    "X_train, X_test, y_train, y_test = train_test_split(\n",
    "    dataset.data, dataset.target, test_size=0.5, random_state=0)\n",
    "#pipelines concatenate functions serially, output of 1 becomes input of 2\n",
    "clf = Pipeline([('vect', HashingVectorizer(analyzer='word', ngram_range=(1,3))), #convert text to matrix\n",
    "    ('tfidf', TfidfTransformer()), #transform matrix to noramlized term frequency\n",
    "    ('clf', SGDClassifier(loss='hinge', penalty='l2',\n",
    "                         alpha=1e-3, n_iter=5)), #estimator classifies by features\n",
    "])"
   ]
  },
  {
   "cell_type": "code",
   "execution_count": null,
   "id": "81fc9c1a",
   "metadata": {},
   "outputs": [],
   "source": [
    "# <help:scikit_pipeline>\n",
    "#train the model, it may take a minute\n",
    "y_pred = clf.fit(X_train, y_train).predict(X_test)\n",
    "#metrics, see http://en.wikipedia.org/wiki/Precision_and_recall for details\n",
    "print metrics.classification_report(y_test, y_pred, target_names=labels)"
   ]
  },
  {
   "cell_type": "code",
   "execution_count": 9,
   "id": "88bdad38",
   "metadata": {},
   "outputs": [
    {
     "data": {
      "text/plain": [
       "array([[201,   0,   0,   0,   0,   0,   0,   0,   0,   0,   0,   0,   0,\n",
       "          0,   1,   3,   1,   2,   1,   1],\n",
       "       [  1, 242,  10,   7,   2,   8,   2,   0,   1,   2,   3,   2,   4,\n",
       "          3,   3,   0,   1,   1,   0,   1],\n",
       "       [  1,   4, 271,  10,   1,  11,   1,   0,   0,   1,   1,   2,   1,\n",
       "          0,   1,   1,   0,   0,   0,   0],\n",
       "       [  2,   9,  22, 224,  12,   1,   9,   1,   0,   1,   3,   8,   3,\n",
       "          1,   3,   0,   1,   0,   1,   1],\n",
       "       [  2,   2,   4,   7, 233,   2,   6,   2,   3,   4,   0,   2,   3,\n",
       "          2,   2,   1,   1,   2,   1,   0],\n",
       "       [  0,   7,   9,   2,   2, 267,   4,   1,   1,   0,   3,   4,   0,\n",
       "          1,   3,   0,   0,   0,   1,   0],\n",
       "       [  1,   3,   0,   5,   1,   0, 263,   4,   2,   0,   2,   2,   4,\n",
       "          0,   0,   3,   3,   1,   0,   1],\n",
       "       [  3,   0,   1,   0,   1,   2,   6, 259,  13,   4,   3,   1,   1,\n",
       "          0,   2,   0,   2,   0,   2,   0],\n",
       "       [  2,   0,   0,   0,   0,   0,   8,   3, 293,   0,   2,   0,   0,\n",
       "          0,   2,   0,   2,   0,   0,   0],\n",
       "       [  0,   1,   0,   0,   1,   1,   3,   1,   0, 284,   7,   0,   0,\n",
       "          1,   0,   1,   0,   1,   0,   0],\n",
       "       [  0,   1,   0,   0,   1,   0,   2,   1,   0,   3, 280,   0,   0,\n",
       "          0,   1,   0,   0,   0,   0,   1],\n",
       "       [  0,   1,   0,   0,   0,   1,   0,   0,   0,   0,   0, 283,   1,\n",
       "          0,   0,   0,   0,   1,   0,   0],\n",
       "       [  3,   5,   3,  13,   5,   2,   4,   4,   2,   1,   4,   9, 228,\n",
       "          2,  11,   0,   1,   0,   1,   2],\n",
       "       [  0,   2,   0,   0,   2,   2,   2,   1,   1,   2,   1,   3,   2,\n",
       "        270,   5,   2,   2,   2,   1,   0],\n",
       "       [  1,   3,   0,   0,   0,   0,   1,   0,   0,   0,   1,   0,   1,\n",
       "          0, 290,   0,   1,   1,   1,   0],\n",
       "       [  3,   1,   0,   1,   1,   0,   2,   0,   2,   1,   0,   0,   0,\n",
       "          3,   0, 269,   0,   5,   0,   1],\n",
       "       [  1,   0,   1,   0,   0,   0,   1,   1,   0,   0,   0,   3,   0,\n",
       "          1,   4,   0, 277,   0,   2,   0],\n",
       "       [  0,   1,   0,   0,   0,   0,   0,   1,   0,   0,   0,   0,   0,\n",
       "          1,   0,   0,   0, 304,   0,   0],\n",
       "       [  3,   0,   0,   0,   0,   0,   1,   1,   1,   2,   1,   2,   0,\n",
       "          0,   1,   2,   6,   8, 190,   0],\n",
       "       [ 19,   0,   0,   0,   0,   0,   0,   0,   1,   0,   0,   1,   0,\n",
       "          1,   2,  35,   4,   6,   1, 102]])"
      ]
     },
     "execution_count": 9,
     "metadata": {},
     "output_type": "execute_result"
    }
   ],
   "source": [
    "# <help:scikit_pipeline>\n",
    "# print the http://en.wikipedia.org/wiki/Confusion_matrix\n",
    "metrics.confusion_matrix(y_test,y_pred)"
   ]
  },
  {
   "cell_type": "code",
   "execution_count": null,
   "id": "7641ffd7",
   "metadata": {},
   "outputs": [],
   "source": []
  }
 ],
 "metadata": {
  "kernelspec": {
   "display_name": "Python 3 (ipykernel)",
   "language": "python",
   "name": "python3"
  },
  "language_info": {
   "codemirror_mode": {
    "name": "ipython",
    "version": 3
   },
   "file_extension": ".py",
   "mimetype": "text/x-python",
   "name": "python",
   "nbconvert_exporter": "python",
   "pygments_lexer": "ipython3",
   "version": "3.9.7"
  }
 },
 "nbformat": 4,
 "nbformat_minor": 1
}
