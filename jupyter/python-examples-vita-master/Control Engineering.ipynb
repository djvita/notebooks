{
 "cells": [
  {
   "cell_type": "markdown",
   "metadata": {},
   "source": [
    "# Python Control Module   \n",
    "MATLAB is the leading software vendor for computing and visualizing control systems with Simulink. \n",
    "A control system regulates the output or feedback of another component or system. \n",
    "\n",
    "Linear control systems use linear negative feedback to produce a control signal mathematically based on other variables, with a view to maintain the controlled process within an acceptable operating range.\n",
    "\n",
    "The objective of control engineering is to model the system, find its frequency response, and find the variables which provide the optimal response, if it is possible. \n",
    "\n",
    "The University of Michigan has an excellent resource for an introduction on [System Modeling](http://ctms.engin.umich.edu/CTMS/index.php?example=Introduction&section=SystemModeling), [Analysis](http://ctms.engin.umich.edu/CTMS/index.php?example=Introduction&section=SystemAnalysis), which we will model with Python instead of MATLAB in this notebook service.\n",
    "\n",
    "The Python community, seeing the need to replicate the great functions MATLAB offers to conduct control enginnering simulations, created the [python-control package](http://sourceforge.net/projects/python-control/). This notebook service will create a linear control system model, analyze it and find the root locus. \n",
    "For this, we will need to install the following packages:\n"
   ]
  },
  {
   "cell_type": "raw",
   "metadata": {},
   "source": [
    "!pip install control \n",
    "!pip install slycot\n",
    "!pip install simpy\n",
    "!pip freeze"
   ]
  },
  {
   "cell_type": "markdown",
   "metadata": {},
   "source": [
    "## Ball and Beam\n",
    "\n",
    "A ball is placed on a beam, see figure below, where it is allowed to roll with 1 degree of freedom along the length of the beam. A lever arm is attached to the beam at one end and a servo gear at the other. As the servo gear turns by an angle $\\theta$, the lever changes the angle of the beam by $\\alpha$. When the angle is changed from the horizontal position, gravity causes the ball to roll along the beam. A controller will be designed for this system so that the ball's position can be manipulated.\n",
    "For this problem, we will assume that the ball rolls without slipping and friction between the beam and ball is negligible. \n",
    "\n",
    "<img src=\"http://ctms.engin.umich.edu/CTMS/Content/BallBeam/System/Modeling/figures/bb2.png\">"
   ]
  },
  {
   "cell_type": "markdown",
   "metadata": {},
   "source": [
    "`simpy` allows you to define transfer functions using a symbolic variable, `s` in this case. "
   ]
  },
  {
   "cell_type": "code",
   "execution_count": 1,
   "metadata": {},
   "outputs": [],
   "source": [
    "import sympy\n",
    "from sympy import *\n",
    "sympy.init_printing()\n",
    "s = Symbol('s')   "
   ]
  },
  {
   "cell_type": "markdown",
   "metadata": {},
   "source": [
    "The system parameters are as follows:"
   ]
  },
  {
   "cell_type": "code",
   "execution_count": 2,
   "metadata": {
    "collapsed": true
   },
   "outputs": [],
   "source": [
    "#system parameters\n",
    "m = 0.04;          # mass of the ball  (kg)\n",
    "R = 0.0127;        # radius of the ball   (meters)   \n",
    "g = -9.81;         # gravitational acceleration (meters/s^2)\n",
    "L = 0.4;           # length of the beam    (meters)\n",
    "d = 0.05;          # lever arm offset (meters)\n",
    "J = 0.00000258064; # ball's moment of inertia (kg.m^2)  \n",
    "#(r)      ball position coordinate\n",
    "#(alpha)  beam angle coordinate\n",
    "#(theta)  servo gear angle"
   ]
  },
  {
   "cell_type": "markdown",
   "metadata": {},
   "source": [
    "The significance of this system is that it is a simple system which is unstable on its own (the ball rolls to the edge of the beam without resistance as can be seen above). What is needed is to measure $r$ to control $\\theta$ which affects $\\alpha$ and moves $r$.\n",
    "\n",
    "As described by the University of Michigan's resource of the [system model](http://ctms.engin.umich.edu/CTMS/index.php?example=BallBeam&section=SystemModeling), [Langrangian equations](http://en.wikipedia.org/wiki/Lagrangian_mechanics) and [linearization](http://en.wikipedia.org/wiki/Linearization) simplify the problem to:   \n",
    "\n",
    "$$\\ddot{r}(\\frac{J}{R^2}+m)= -\\frac{mgd}{L}\\theta$$\n",
    "\n",
    "\n",
    "Applying the laplace transform to the equation above\n",
    "\n",
    "$$(\\frac{J}{R}^2+m)R(s)s^2 = -mg\\frac{d}{L}\\theta(s)$$\n",
    "\n",
    "Leads to the transfer function $T(s)$:\n",
    "\n",
    "\n",
    "$$T(s)= \\frac{R(s)}{\\theta(s)}= -\\frac{mgd}{L(\\frac{J}{R^2}+m)}\\frac{1}{s^2}$$"
   ]
  },
  {
   "cell_type": "markdown",
   "metadata": {},
   "source": [
    "It should be noted that this transfer function is a [double integrator](http://en.wikipedia.org/wiki/Double_integrator). As such it is marginally stable and will provide a challenging control problem.\n",
    "\n",
    "The transfer function can be implemented in python with `simpy` and `python-control` as follows:"
   ]
  },
  {
   "cell_type": "code",
   "execution_count": 3,
   "metadata": {},
   "outputs": [
    {
     "data": {
      "image/png": "[encoded data removed]",
      "text/latex": [
       "$$\\frac{0.875892857142857}{s^{2}}$$"
      ],
      "text/plain": [
       "0.875892857142857\n",
       "─────────────────\n",
       "         2       \n",
       "        s        "
      ]
     },
     "execution_count": 3,
     "metadata": {},
     "output_type": "execute_result"
    }
   ],
   "source": [
    "Ts = -m*g*d/L/(J/R**2+m)/s**2\n",
    "Ts.simplify()"
   ]
  },
  {
   "cell_type": "code",
   "execution_count": 4,
   "metadata": {
    "collapsed": true
   },
   "outputs": [],
   "source": [
    "import control\n",
    "from numpy import *             # Grab all of the NumPy functions\n",
    "from control import matlab\n",
    "from control.matlab import *    # MATLAB-like functions\n",
    "from matplotlib.pyplot import * # Grab MATLAB plotting functions\n",
    "import matplotlib.pyplot as plt\n",
    "%matplotlib inline"
   ]
  },
  {
   "cell_type": "code",
   "execution_count": 5,
   "metadata": {},
   "outputs": [
    {
     "data": {
      "text/plain": [
       "\n",
       "0.8759\n",
       "------\n",
       "  s^2"
      ]
     },
     "execution_count": 5,
     "metadata": {},
     "output_type": "execute_result"
    }
   ],
   "source": [
    "#transform to a py-control transfer function\n",
    "num = Poly(Ts.as_numer_denom()[0],s).all_coeffs()\n",
    "den = Poly(Ts.as_numer_denom()[1],s).all_coeffs()\n",
    "P_ball =  tf(map(float,num),map(float,den))\n",
    "P_ball"
   ]
  },
  {
   "cell_type": "markdown",
   "metadata": {},
   "source": [
    "Now we will apply the [step response](http://en.wikipedia.org/wiki/Step_response) to see how the system behaves in an open loop, that is, if we gave the ball a push and there was no control system on it. "
   ]
  },
  {
   "cell_type": "code",
   "execution_count": 6,
   "metadata": {},
   "outputs": [
    {
     "data": {
      "text/plain": [
       "<matplotlib.text.Text at 0x7ff8c1b25c50>"
      ]
     },
     "execution_count": 6,
     "metadata": {},
     "output_type": "execute_result"
    },
    {
     "data": {
      "image/png": "[encoded data removed]",
      "text/plain": [
       "<matplotlib.figure.Figure at 0x7ff8c20fe750>"
      ]
     },
     "metadata": {},
     "output_type": "display_data"
    }
   ],
   "source": [
    "t, y = matlab.step(P_ball,T=linspace(0,10,100))\n",
    "plot(y, t)\n",
    "title(\"Step Response\")\n",
    "grid()\n",
    "xlabel(\"time (s)\")\n",
    "ylabel(\"y(t)\")"
   ]
  },
  {
   "cell_type": "markdown",
   "metadata": {},
   "source": [
    "The system is unstable, we will control it to receive a desired response (a value) that doesn't overshoot nor is too slow in a feedback system we will implement. This figure provides some common response to a step function:  \n",
    "<img src= http://www1.adept.com/main/KE/DATA/Controller/SmartMotion_Developer/images/AM%20typ%20response%20to%20step_575x510.gif>\n",
    "\n",
    "There are many ways to control including PID, Root Locus, Bode and State Space."
   ]
  },
  {
   "cell_type": "markdown",
   "metadata": {},
   "source": [
    "###Root Locus\n",
    "The main idea of the [root locus design](http://en.wikipedia.org/wiki/Root_locus) is to estimate the closed-loop response from the open-loop root locus plot. By adding [zeroes](http://en.wikipedia.org/wiki/Zero_of_a_function) and/or [poles](http://en.wikipedia.org/wiki/Pole_(complex_analysis)) to the original system (adding a compensator), the root locus and thus the closed-loop response will be modified. Let's view the root locus for the plant in open loop. "
   ]
  },
  {
   "cell_type": "code",
   "execution_count": 7,
   "metadata": {},
   "outputs": [
    {
     "name": "stderr",
     "output_type": "stream",
     "text": [
      "/home/notebook/ka_env/lib/python2.7/site-packages/numpy/core/numeric.py:462: ComplexWarning: Casting complex values to real discards the imaginary part\n",
      "  return array(a, dtype, copy=False, order=order)\n"
     ]
    },
    {
     "data": {
      "image/png": "[encoded data removed]",
      "text/plain": [
       "<matplotlib.figure.Figure at 0x7ff8c20fe910>"
      ]
     },
     "metadata": {},
     "output_type": "display_data"
    }
   ],
   "source": [
    "r, k = rlocus(P_ball)\n",
    "title(\"Root Locus\")\n",
    "plot(k,r)\n",
    "grid()\n",
    "show()"
   ]
  },
  {
   "cell_type": "markdown",
   "metadata": {},
   "source": [
    "The system has two poles at the origin which go off to infinity in the imaginary axis. "
   ]
  },
  {
   "cell_type": "code",
   "execution_count": 8,
   "metadata": {},
   "outputs": [
    {
     "data": {
      "text/plain": [
       "array([ 0.,  0.])"
      ]
     },
     "execution_count": 8,
     "metadata": {},
     "output_type": "execute_result"
    }
   ],
   "source": [
    "pole(P_ball)"
   ]
  },
  {
   "cell_type": "code",
   "execution_count": 9,
   "metadata": {},
   "outputs": [
    {
     "data": {
      "text/plain": [
       "array([], dtype=float64)"
      ]
     },
     "execution_count": 9,
     "metadata": {},
     "output_type": "execute_result"
    }
   ],
   "source": [
    "zero(P_ball)"
   ]
  },
  {
   "cell_type": "markdown",
   "metadata": {},
   "source": [
    "###Lead Controller \n",
    "A first order [lead compensator](http://en.wikipedia.org/wiki/Lead%E2%80%93lag_compensator) tends to shift the root locus into the left-hand plane.\n",
    " A lead compensator has the form given below:\n",
    " \n",
    " $C(s)=K_c\\frac{s-z_0}{s-p_0}$ where $z_0<p_0$"
   ]
  },
  {
   "cell_type": "code",
   "execution_count": 10,
   "metadata": {},
   "outputs": [
    {
     "data": {
      "image/png": "[encoded data removed]",
      "text/plain": [
       "<matplotlib.figure.Figure at 0x7ff8c19cd510>"
      ]
     },
     "metadata": {},
     "output_type": "display_data"
    }
   ],
   "source": [
    "#add poles for a lead controller\n",
    "zo = 0.01;\n",
    "po = 5;\n",
    "C=tf([1, zo],[1, po]);\n",
    "\n",
    "r, k = rlocus(C*P_ball)\n",
    "title(\"Root Locus\")\n",
    "plot(k,r)\n",
    "grid()\n",
    "ylim(-15, 15)\n",
    "xlim(-15, 15)\n",
    "show()\n"
   ]
  },
  {
   "cell_type": "markdown",
   "metadata": {},
   "source": [
    "From here we can calulate a gain $K_c$ (MATLAB contains a function to find $K_c$,  `[k,poles]=rlocfind(C*P_ball)`, however `python-control` [doesn't dsupport it at the moment](http://python-control.sourceforge.net/manual/matlab_strings.html#matlab.initial)).   \n",
    "The equation is \n",
    "$K_c = \\frac{Product of Pole Distances}{Product of Zero Distances}$.  \n",
    "\n",
    "If it's too difficult to calulate (some trigonometry is required), you may use trial and error, starting with $K_c=1$, and add it as a feedback to the system as shown here:\n",
    "\n",
    "<img src=http://ctms.engin.umich.edu/CTMS/Content/BallBeam/Control/RootLocus/figures/feedback_ball.png>"
   ]
  },
  {
   "cell_type": "code",
   "execution_count": 11,
   "metadata": {},
   "outputs": [
    {
     "data": {
      "text/plain": [
       "\n",
       "       30.66 s + 0.3066\n",
       "------------------------------\n",
       "s^3 + 5 s^2 + 30.66 s + 0.3066"
      ]
     },
     "execution_count": 11,
     "metadata": {},
     "output_type": "execute_result"
    }
   ],
   "source": [
    "k = 35;\n",
    "sys_cl=feedback(k*C*P_ball);\n",
    "sys_cl"
   ]
  },
  {
   "cell_type": "markdown",
   "metadata": {},
   "source": [
    "Now plot the response in a closed-looop with the step function. "
   ]
  },
  {
   "cell_type": "code",
   "execution_count": 12,
   "metadata": {},
   "outputs": [
    {
     "data": {
      "text/plain": [
       "<matplotlib.text.Text at 0x7ff8c195cf90>"
      ]
     },
     "execution_count": 12,
     "metadata": {},
     "output_type": "execute_result"
    },
    {
     "data": {
      "image/png": "[encoded data removed]",
      "text/plain": [
       "<matplotlib.figure.Figure at 0x7ff8c19d8150>"
      ]
     },
     "metadata": {},
     "output_type": "display_data"
    }
   ],
   "source": [
    "t, y = matlab.step(0.25*sys_cl,T=linspace(0,10,100))\n",
    "plot(y, t)\n",
    "title(\"Step Response with Lead Controller\")\n",
    "grid()\n",
    "xlabel(\"time (s)\")\n",
    "ylabel(\"y(t)\")"
   ]
  },
  {
   "cell_type": "markdown",
   "metadata": {},
   "source": [
    "The system stabilizes at 2 second with a maximum 20% overshoot at the first second. However, it required a large $K_c$ and in a real life scenario, it may be too much energy needed, along with the possibility that if $K_c$ is too big in some models it may even destabilize otherwise stable models, with too much overshoot. "
   ]
  },
  {
   "cell_type": "markdown",
   "metadata": {},
   "source": [
    "##Frequency Domain Methods for Controller Design\n",
    "###Open  Loop Bode Plot\n",
    "The main idea of frequency based design is to use the [Bode plot](http://en.wikipedia.org/wiki/Bode_plot) of the open-loop transfer function to estimate the closed-loop response. Adding a controller to the system changes the open-loop Bode plot, therefore changing the closed-loop response. Let's first draw the bode plot for the original open-loop transfer function."
   ]
  },
  {
   "cell_type": "code",
   "execution_count": 13,
   "metadata": {},
   "outputs": [
    {
     "data": {
      "text/plain": [
       "(array([  8.75892857e+01,   7.25802286e+01,   6.01430819e+01,\n",
       "          4.98371301e+01,   4.12971777e+01,   3.42206078e+01,\n",
       "          2.83566594e+01,   2.34975408e+01,   1.94710674e+01,\n",
       "          1.61345593e+01,   1.33697859e+01,   1.10787765e+01,\n",
       "          9.18034808e+00,   7.60722909e+00,   6.30367540e+00,\n",
       "          5.22349507e+00,   4.32841144e+00,   3.58670685e+00,\n",
       "          2.97209871e+00,   2.46280812e+00,   2.04078815e+00,\n",
       "          1.69108435e+00,   1.40130482e+00,   1.16118112e+00,\n",
       "          9.62204340e-01,   7.97323672e-01,   6.60696498e-01,\n",
       "          5.47481378e-01,   4.53666488e-01,   3.75927456e-01,\n",
       "          3.11509570e-01,   2.58130154e-01,   2.13897686e-01,\n",
       "          1.77244772e-01,   1.46872599e-01,   1.21704918e-01,\n",
       "          1.00849901e-01,   8.35685413e-02,   6.92484678e-02,\n",
       "          5.73822423e-02,   4.75493804e-02,   3.94014504e-02,\n",
       "          3.26497271e-02,   2.70549604e-02,   2.24188974e-02,\n",
       "          1.85772573e-02,   1.53939100e-02,   1.27560523e-02,\n",
       "          1.05702105e-02,   8.75892857e-03]),\n",
       " array([-180., -180., -180., -180., -180., -180., -180., -180., -180.,\n",
       "        -180., -180., -180., -180., -180., -180., -180., -180., -180.,\n",
       "        -180., -180., -180., -180., -180., -180., -180., -180., -180.,\n",
       "        -180., -180., -180., -180., -180., -180., -180., -180., -180.,\n",
       "        -180., -180., -180., -180., -180., -180., -180., -180., -180.,\n",
       "        -180., -180., -180., -180., -180.]),\n",
       " array([  0.1       ,   0.10985411,   0.12067926,   0.13257114,\n",
       "          0.14563485,   0.15998587,   0.17575106,   0.19306977,\n",
       "          0.21209509,   0.23299518,   0.25595479,   0.28117687,\n",
       "          0.30888436,   0.33932218,   0.37275937,   0.40949151,\n",
       "          0.44984327,   0.49417134,   0.54286754,   0.59636233,\n",
       "          0.65512856,   0.71968567,   0.79060432,   0.86851137,\n",
       "          0.95409548,   1.04811313,   1.1513954 ,   1.26485522,\n",
       "          1.38949549,   1.52641797,   1.67683294,   1.84206997,\n",
       "          2.02358965,   2.22299648,   2.44205309,   2.6826958 ,\n",
       "          2.9470517 ,   3.23745754,   3.55648031,   3.90693994,\n",
       "          4.29193426,   4.71486636,   5.17947468,   5.68986603,\n",
       "          6.25055193,   6.86648845,   7.54312006,   8.28642773,\n",
       "          9.10298178,  10.        ]))"
      ]
     },
     "execution_count": 13,
     "metadata": {},
     "output_type": "execute_result"
    },
    {
     "data": {
      "image/png": "[encoded data removed]",
      "text/plain": [
       "<matplotlib.figure.Figure at 0x7ff8d3c1d690>"
      ]
     },
     "metadata": {},
     "output_type": "display_data"
    }
   ],
   "source": [
    "bode(P_ball)"
   ]
  },
  {
   "cell_type": "markdown",
   "metadata": {},
   "source": [
    "From this plot we see that the phase margin is zero. Since the phase margin is defined as the change in open-loop phase shift necessary to make a closed-loop system unstable this means that our zero phase margin indicates our system is unstable. We want to increase the phase margin and we can use a lead compensator controller to do this."
   ]
  },
  {
   "cell_type": "markdown",
   "metadata": {},
   "source": [
    "###Phase Lead Controller\n",
    "A first order phase-lead compensator has the form given below:\n",
    "\n",
    "$$\n",
    "C(s) = K \\left( \\frac{1+Ts}{1+aTs} \\right)\n",
    "$$\n",
    "\n",
    "The phase-lead compensator will add positive phase to our system over the frequency range $1/aT$ and $1/T$, which are called the corner frequencies. The maximum added phase for one lead compensator is 90 degrees. For our controller design we need a percent overshoot of less than 5 %, which corresponds to a $\\zeta$ of 0.7. Generally $\\zeta$ * 100 will give you the minimum phase margin needed to obtain your desired overshoot.\n",
    "\n",
    "So the steps are:\n",
    "1. Determine the positive phase needed: We need at least 70 degrees from our controller.\n",
    "\n",
    "2. Determine the frequency where the phase should be added (center frequency): In our case this is difficult to determine because the phase vs. frequency graph in the bode plot is a flat line. However, we have a relation between bandwidth frequency ($\\omega_{\\mathrm{bw}}$ ) and settling time which tells us that $\\omega_{\\mathrm{bw}}$ is approximately 1.92 rad/s. Therefore we want a center frequency just before this. For now we will choose 1.  \n",
    "3. Determine the constant $a$ from the equation below: this determines the required space between the zero and the pole for the maximum phase added.  \n",
    "$$\n",
    "a =\\frac{1-\\sin\\phi}{1+\\sin\\phi}\n",
    "$$\n",
    "where $\\phi$ refers to the desired phase margin. For 70 degrees, $a = 0.0311$.  \n",
    "4. Determine \"T\" and \"aT\" from the following equations:\n",
    "\n",
    "$$\n",
    "T = \\frac{1}{w \\sqrt{a}}\n",
    "$$\n",
    "\n",
    "$$\n",
    "aT = \\frac{\\sqrt{a}}{w}\n",
    "$$\n",
    "For 70 degrees and center frequency $(w) = 1$, $aT = 0.176$ and $T = 5.67$  \n",
    "Now, we can add our lead controller to the system and view the bode plot. "
   ]
  },
  {
   "cell_type": "code",
   "execution_count": 14,
   "metadata": {},
   "outputs": [
    {
     "data": {
      "image/png": "[encoded data removed]",
      "text/latex": [
       "$$\\frac{5.67128181961771 s + 1}{0.176326980708465 s + 1}$$"
      ],
      "text/plain": [
       " 5.67128181961771⋅s + 1\n",
       "───────────────────────\n",
       "0.176326980708465⋅s + 1"
      ]
     },
     "execution_count": 14,
     "metadata": {},
     "output_type": "execute_result"
    }
   ],
   "source": [
    "phi=70*pi/180;\n",
    "a=(1-sin(phi))/(1+sin(phi));\n",
    "w=1;\n",
    "T=1/(w*sqrt(a));\n",
    "K = 1;\n",
    "C = K*(1+T*s)/(1+a*T*s);\n",
    "C.simplify()\n"
   ]
  },
  {
   "cell_type": "code",
   "execution_count": 15,
   "metadata": {},
   "outputs": [
    {
     "data": {
      "text/plain": [
       "\n",
       " 5.671 s + 1\n",
       "------------\n",
       "0.1763 s + 1"
      ]
     },
     "execution_count": 15,
     "metadata": {},
     "output_type": "execute_result"
    }
   ],
   "source": [
    "num = Poly(C.as_numer_denom()[0],s).all_coeffs()\n",
    "den = Poly(C.as_numer_denom()[1],s).all_coeffs()\n",
    "C =  tf(map(float,num),map(float,den))\n",
    "C"
   ]
  },
  {
   "cell_type": "code",
   "execution_count": 16,
   "metadata": {},
   "outputs": [
    {
     "data": {
      "text/plain": [
       "(array([  8.77298949e+03,   6.02836395e+03,   4.14376603e+03,\n",
       "          2.84970330e+03,   1.96112830e+03,   1.35097727e+03,\n",
       "          9.32000411e+02,   6.44285530e+02,   4.46690926e+02,\n",
       "          3.10962638e+02,   2.17694949e+02,   1.53556788e+02,\n",
       "          1.09387755e+02,   7.88918834e+01,   5.77424293e+01,\n",
       "          4.29691077e+01,   3.25386065e+01,   2.50662333e+01,\n",
       "          1.96157990e+01,   1.55591246e+01,   1.24768855e+01,\n",
       "          1.00891496e+01,   8.20765926e+00,   6.70387796e+00,\n",
       "          5.48811611e+00,   4.49615357e+00,   3.68076701e+00,\n",
       "          3.00638855e+00,   2.44573762e+00,   1.97769009e+00,\n",
       "          1.58591267e+00,   1.25793565e+00,   9.84408487e-01,\n",
       "          7.58342642e-01,   5.74259372e-01,   4.27335897e-01,\n",
       "          3.12775051e-01,   2.25577468e-01,   1.60692426e-01,\n",
       "          1.13348577e-01,   7.93516964e-02,   5.52404613e-02,\n",
       "          3.82988779e-02,   2.64757532e-02,   1.82648616e-02,\n",
       "          1.25822532e-02,   8.65894102e-03,   5.95482772e-03,\n",
       "          4.09321883e-03,   2.81265729e-03]),\n",
       " array([-176.85509971, -176.20666692, -175.4255822 , -174.48549316,\n",
       "        -173.35539812, -171.9992647 , -170.37596973, -168.43987349,\n",
       "        -166.14251525, -163.43611506, -160.2796939 , -156.64845595,\n",
       "        -152.54623841, -148.01898508, -143.16460813, -138.13290105,\n",
       "        -133.11103005, -128.29657406, -123.86745077, -119.96012483,\n",
       "        -116.66229656, -114.01856458, -112.04308508, -110.733323  ,\n",
       "        -110.08134376, -110.08134376, -110.733323  , -112.04308508,\n",
       "        -114.01856458, -116.66229656, -119.96012483, -123.86745077,\n",
       "        -128.29657406, -133.11103005, -138.13290105, -143.16460813,\n",
       "        -148.01898508, -152.54623841, -156.64845595, -160.2796939 ,\n",
       "        -163.43611506, -166.14251525, -168.43987349, -170.37596973,\n",
       "        -171.9992647 , -173.35539812, -174.48549316, -175.4255822 ,\n",
       "        -176.20666692, -176.85509971]),\n",
       " array([  1.00000000e-02,   1.20679264e-02,   1.45634848e-02,\n",
       "          1.75751062e-02,   2.12095089e-02,   2.55954792e-02,\n",
       "          3.08884360e-02,   3.72759372e-02,   4.49843267e-02,\n",
       "          5.42867544e-02,   6.55128557e-02,   7.90604321e-02,\n",
       "          9.54095476e-02,   1.15139540e-01,   1.38949549e-01,\n",
       "          1.67683294e-01,   2.02358965e-01,   2.44205309e-01,\n",
       "          2.94705170e-01,   3.55648031e-01,   4.29193426e-01,\n",
       "          5.17947468e-01,   6.25055193e-01,   7.54312006e-01,\n",
       "          9.10298178e-01,   1.09854114e+00,   1.32571137e+00,\n",
       "          1.59985872e+00,   1.93069773e+00,   2.32995181e+00,\n",
       "          2.81176870e+00,   3.39322177e+00,   4.09491506e+00,\n",
       "          4.94171336e+00,   5.96362332e+00,   7.19685673e+00,\n",
       "          8.68511374e+00,   1.04811313e+01,   1.26485522e+01,\n",
       "          1.52641797e+01,   1.84206997e+01,   2.22299648e+01,\n",
       "          2.68269580e+01,   3.23745754e+01,   3.90693994e+01,\n",
       "          4.71486636e+01,   5.68986603e+01,   6.86648845e+01,\n",
       "          8.28642773e+01,   1.00000000e+02]))"
      ]
     },
     "execution_count": 16,
     "metadata": {},
     "output_type": "execute_result"
    },
    {
     "data": {
      "image/png": "[encoded data removed]",
      "text/plain": [
       "<matplotlib.figure.Figure at 0x7ff8c16cc890>"
      ]
     },
     "metadata": {},
     "output_type": "display_data"
    }
   ],
   "source": [
    "bode(C*P_ball)"
   ]
  },
  {
   "cell_type": "markdown",
   "metadata": {},
   "source": [
    "You can see that our phase margin is now 70 degrees. Let's check the closed-loop response to a step input of 0.25m:"
   ]
  },
  {
   "cell_type": "code",
   "execution_count": 17,
   "metadata": {},
   "outputs": [
    {
     "data": {
      "text/plain": [
       "<matplotlib.text.Text at 0x7ff8c10e2510>"
      ]
     },
     "execution_count": 17,
     "metadata": {},
     "output_type": "execute_result"
    },
    {
     "data": {
      "image/png": "[encoded data removed]",
      "text/plain": [
       "<matplotlib.figure.Figure at 0x7ff8c10f6e10>"
      ]
     },
     "metadata": {},
     "output_type": "display_data"
    }
   ],
   "source": [
    "sys_cl = feedback(C*P_ball,1);\n",
    "t, y = matlab.step(0.25*sys_cl,T=linspace(0,10,100))\n",
    "plot(y, t)\n",
    "title(\"Step Response with Phase Lead Controller\")\n",
    "grid()\n",
    "xlabel(\"time (s)\")\n",
    "ylabel(\"y(t)\")"
   ]
  },
  {
   "cell_type": "markdown",
   "metadata": {},
   "source": [
    "This could be improved, by decreasing the gain to reduce overshoot. This reduces the crossover frequency and slows down the response time."
   ]
  },
  {
   "cell_type": "code",
   "execution_count": 18,
   "metadata": {},
   "outputs": [
    {
     "data": {
      "image/png": "[encoded data removed]",
      "text/latex": [
       "$$\\frac{2.83564090980885 s + 0.5}{0.176326980708465 s + 1}$$"
      ],
      "text/plain": [
       "2.83564090980885⋅s + 0.5\n",
       "────────────────────────\n",
       "0.176326980708465⋅s + 1 "
      ]
     },
     "execution_count": 18,
     "metadata": {},
     "output_type": "execute_result"
    }
   ],
   "source": [
    "K = 0.5;\n",
    "C = K*(1+T*s)/(1+a*T*s);\n",
    "C.simplify()"
   ]
  },
  {
   "cell_type": "code",
   "execution_count": 19,
   "metadata": {},
   "outputs": [
    {
     "data": {
      "text/plain": [
       "\n",
       "2.836 s + 0.5\n",
       "-------------\n",
       " 0.1763 s + 1"
      ]
     },
     "execution_count": 19,
     "metadata": {},
     "output_type": "execute_result"
    }
   ],
   "source": [
    "num = Poly(C.as_numer_denom()[0],s).all_coeffs()\n",
    "den = Poly(C.as_numer_denom()[1],s).all_coeffs()\n",
    "C =  tf(map(float,num),map(float,den))\n",
    "C"
   ]
  },
  {
   "cell_type": "code",
   "execution_count": 20,
   "metadata": {},
   "outputs": [
    {
     "data": {
      "text/plain": [
       "<matplotlib.text.Text at 0x7ff8c0f75250>"
      ]
     },
     "execution_count": 20,
     "metadata": {},
     "output_type": "execute_result"
    },
    {
     "data": {
      "image/png": "[encoded data removed]",
      "text/plain": [
       "<matplotlib.figure.Figure at 0x7ff8c0f7a4d0>"
      ]
     },
     "metadata": {},
     "output_type": "display_data"
    }
   ],
   "source": [
    "sys_cl = feedback(C*P_ball,1);\n",
    "t, y = matlab.step(0.25*sys_cl,T=linspace(0,10,100))\n",
    "plot(y, t)\n",
    "title(\"Step Response with Phase Lead Controller\")\n",
    "grid()\n",
    "xlabel(\"time (s)\")\n",
    "ylabel(\"y(t)\")"
   ]
  },
  {
   "cell_type": "markdown",
   "metadata": {},
   "source": [
    "##State Space\n",
    "\n",
    "A control model may be represented also in a [state-space model](http://en.wikipedia.org/wiki/State_space), which use state variables to describe a system by a set of first-order differential or difference equations, rather than by one or more $nth$-order differential or difference equations. \n",
    "In our ball and beam model, this can be done by selecting the ball's position ($r$) and velocity ($\\dot{r}$) as the state variable and the gear angle ($\\theta$) as the input. The state-space representation is shown below:\n",
    "\n",
    "$$\n",
    "\\begin{bmatrix} \n",
    "\\dot{r} \\\\\n",
    "\\ddot{r} \\\\\n",
    "\\dot{\\alpha}\\\\\n",
    "\\ddot{\\alpha}\n",
    "\\end{bmatrix}\n",
    "=\n",
    "\\begin{bmatrix}\n",
    "    0 & 1 & 0 & 0\\\\\n",
    "    0 & 0 & \\frac{-mg}{(\\frac{J}{R^2}+m)} & 0 \\\\\n",
    "    0 & 0 & 0 & 0 \\\\\n",
    "    0 & 0 & 0 & 0\n",
    "\\end{bmatrix}\n",
    "\\begin{bmatrix} \n",
    "r \\\\\n",
    "\\dot{r} \\\\\n",
    "\\alpha\\\\\n",
    "\\dot{\\alpha}\n",
    "\\end{bmatrix}\n",
    "+\n",
    "\\begin{bmatrix} \n",
    "0 \\\\\n",
    "0 \\\\\n",
    "0\\\\\n",
    "1\n",
    "\\end{bmatrix}\n",
    "u\n",
    "$$\n",
    "\n",
    "$$\n",
    "y = \n",
    "\\begin{bmatrix} \n",
    "1 & 0 & 0 & 0\n",
    "\\end{bmatrix}\n",
    "\\begin{bmatrix} \n",
    "r \\\\\n",
    "\\dot{r} \\\\\n",
    "\\alpha\\\\\n",
    "\\dot{\\alpha}\n",
    "\\end{bmatrix}\n",
    "$$\n",
    "\n",
    "###Full state-feedback controller\n",
    "We will design a controller for this physical system that utilizes [full state-feedback control](http://en.wikipedia.org/wiki/Full_state_feedback). \n",
    " A schematic of this type of system is shown below:\n",
    " <img src=http://ctms.engin.umich.edu/CTMS/Content/BallBeam/Control/StateSpace/figures/statefeedback_ball.png>  \n",
    " The characteristic polynomial for this closed-loop system is the determinant of $(sI-(A-BK))$, where $s$ is the Laplace variable. For our system the $A$ and $B*K$ matrices are both 4x4. Hence, there should be four poles for our system. In designing our full-state feedback controller we can move these poles anywhere we want."
   ]
  },
  {
   "cell_type": "code",
   "execution_count": 1,
   "metadata": {
    "collapsed": true
   },
   "outputs": [],
   "source": [
    "import control\n",
    "from numpy import *             # Grab all of the NumPy functions\n",
    "from control import matlab\n",
    "from control.matlab import *    # MATLAB-like functions\n",
    "from matplotlib.pyplot import * # Grab MATLAB plotting functions\n",
    "import matplotlib.pyplot as plt\n",
    "%matplotlib inline"
   ]
  },
  {
   "cell_type": "code",
   "execution_count": 21,
   "metadata": {},
   "outputs": [
    {
     "data": {
      "text/plain": [
       "A = [[ 0.          1.          0.          0.        ]\n",
       " [ 0.          0.          7.00714286  0.        ]\n",
       " [ 0.          0.          0.          1.        ]\n",
       " [ 0.          0.          0.          0.        ]]\n",
       "\n",
       "B = [[0]\n",
       " [0]\n",
       " [0]\n",
       " [1]]\n",
       "\n",
       "C = [[1 0 0 0]]\n",
       "\n",
       "D = [[0]]"
      ]
     },
     "execution_count": 21,
     "metadata": {},
     "output_type": "execute_result"
    }
   ],
   "source": [
    "m = 0.04;\n",
    "R = 0.0127;\n",
    "g = -9.81;\n",
    "J = 0.00000258064;\n",
    "\n",
    "H = -m*g/(J/(R**2)+m);\n",
    "\n",
    "A = matrix(\n",
    "    [[0, 1, 0, 0],\n",
    "     [0, 0, H, 0],\n",
    "     [0, 0, 0, 1],\n",
    "     [0, 0, 0, 0]]);\n",
    "B = matrix([[0],\n",
    "            [0],\n",
    "            [0],\n",
    "            [1]]);\n",
    "C = matrix([1, 0, 0, 0]);\n",
    "D = matrix([0]);\n",
    "\n",
    "ball_ss = ss(A,B,C,D);\n",
    "\n",
    "ball_ss"
   ]
  },
  {
   "cell_type": "markdown",
   "metadata": {},
   "source": [
    "For our design we desire an overshoot of less than 5% which corresponds to a $\\zeta = 0.7$. On a root locus, this criterion is represented as a 45 degree line emanating from the origin and extending out into the left-half plane. We want to place our desired poles on or beneath this line. Our next criterion is a settling time less than 3 seconds, which corresponds to a $\\sigma = 4.6/Ts = 4.6/3 = 1.53$, represented by a vertical line at -1.53 on the root locus. Anything beyond this line in the left-half plane is a suitable place for our poles. Therefore we will place our poles at $-2+2i$ and $-2-2i$. We will place the other poles far to the left for now, so that they will not affect the response too much. To start with place them at -20 and -80. Now that we have our poles we can use the  `place` command to find the controller (K matrix). "
   ]
  },
  {
   "cell_type": "code",
   "execution_count": 22,
   "metadata": {},
   "outputs": [
    {
     "name": "stderr",
     "output_type": "stream",
     "text": [
      "/home/notebook/ka_env/lib/python2.7/site-packages/slycot/synthesis.py:170: UserWarning: 2 violations of the numerical stability condition occured during the assignment of eigenvalues\n",
      "  warnings.warn('%i violations of the numerical stability condition occured during the assignment of eigenvalues' % warn)\n"
     ]
    }
   ],
   "source": [
    "p1 = complex(-2,2);\n",
    "p2 = complex(-2,-2);\n",
    "p3 = -20;\n",
    "p4 = -80;\n",
    "\n",
    "K = place(A,B,[p1,p2,p3,p4])"
   ]
  },
  {
   "cell_type": "code",
   "execution_count": 23,
   "metadata": {},
   "outputs": [
    {
     "data": {
      "text/plain": [
       "array([[ 1826.70744139,  1027.52293578,  2008.        ,   104.        ]])"
      ]
     },
     "execution_count": 23,
     "metadata": {},
     "output_type": "execute_result"
    }
   ],
   "source": [
    "K"
   ]
  },
  {
   "cell_type": "markdown",
   "metadata": {},
   "source": [
    "After adding the K matrix, the state space equations now become:\n",
    "\n",
    "$$\n",
    "\\dot{{\\bf x}} = (A-BK){\\bf x} + Bu\n",
    "$$\n",
    "\n",
    "$$\n",
    "y = C{\\bf x}\n",
    "$$\n",
    "\n",
    "We can now simulate the closed-loop response to a 0.25m step input by using the `lsim` command. "
   ]
  },
  {
   "cell_type": "code",
   "execution_count": 25,
   "metadata": {},
   "outputs": [
    {
     "data": {
      "text/plain": [
       "<matplotlib.text.Text at 0x7ff8c127d850>"
      ]
     },
     "execution_count": 25,
     "metadata": {},
     "output_type": "execute_result"
    },
    {
     "data": {
      "image/png": "[encoded data removed]",
      "text/plain": [
       "<matplotlib.figure.Figure at 0x7ff8c0f6ffd0>"
      ]
     },
     "metadata": {},
     "output_type": "display_data"
    }
   ],
   "source": [
    "t = linspace(0,5,100);\n",
    "u = 0.25*ones(size(t));\n",
    "sys_cl = ss(A-(B*K),B,C,D);\n",
    "[y,t,x] = lsim(1e4*sys_cl,u,t);\n",
    "plot(t,y)\n",
    "title(\"Step Response\")\n",
    "grid()\n",
    "xlabel(\"time (s)\")\n",
    "ylabel(\"y(t)\")"
   ]
  },
  {
   "cell_type": "markdown",
   "metadata": {
    "collapsed": true
   },
   "source": [
    "##References\n",
    "\n",
    "1. [Control Tutorials for MATLAB, University of Michigan](http://ctms.engin.umich.edu/CTMS/index.php?aux=Home)\n",
    "2. [Wikipedia](https://www.en.wikipedia.org) for background theory"
   ]
  }
 ],
 "metadata": {
  "kernelspec": {
   "display_name": "Python 3 (ipykernel)",
   "language": "python",
   "name": "python3"
  },
  "language_info": {
   "codemirror_mode": {
    "name": "ipython",
    "version": 3
   },
   "file_extension": ".py",
   "mimetype": "text/x-python",
   "name": "python",
   "nbconvert_exporter": "python",
   "pygments_lexer": "ipython3",
   "version": "3.9.7"
  }
 },
 "nbformat": 4,
 "nbformat_minor": 1
}
