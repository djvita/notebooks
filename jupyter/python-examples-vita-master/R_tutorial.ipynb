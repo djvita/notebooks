{
 "metadata": {
  "name": "",
  "signature": "sha256:e3f23c5a3e29072f43beeb90d5a32723e5b187c0c5d8bfcd2a252c561fa3cce5"
 },
 "nbformat": 3,
 "nbformat_minor": 0,
 "worksheets": [
  {
   "cells": [
    {
     "cell_type": "markdown",
     "metadata": {},
     "source": [
      "# R for Pythonistas  \n",
      "\n",
      "If you know `Python`, `matplotlib`, `pandas`, etc. and are looking to learn the `R` equivalents, this notebook is for you. It shows some common use cases in `Python` and then the equivalents in `R`."
     ]
    },
    {
     "cell_type": "code",
     "collapsed": false,
     "input": [
      "%matplotlib inline"
     ],
     "language": "python",
     "metadata": {},
     "outputs": [],
     "prompt_number": 1
    },
    {
     "cell_type": "markdown",
     "metadata": {},
     "source": [
      "## Invoke R Directly using `rpy2` and IPython R magics\n",
      "\n",
      "Invoking `R` from a bash shell is great, but many people use `R` in an interactive fashion. (`R` is often used in a read-eval-print (REPL) loop.)  Enter [`rpy2`](http://rpy.sourceforge.net/rpy2/doc-2.4/html/index.html), a Python package that provides interfaces to facilitate invoking R code from Python.  \n",
      "rpy2 is used in this notebook so we can show you python code and then the equivalent R code beneath it.\n",
      "\n",
      "To install `rpy2`, we use `pip`, the Python package manager."
     ]
    },
    {
     "cell_type": "code",
     "collapsed": false,
     "input": [
      "%%bash\n",
      "pip install rpy2"
     ],
     "language": "python",
     "metadata": {},
     "outputs": [
      {
       "output_type": "stream",
       "stream": "stdout",
       "text": [
        "Requirement already satisfied (use --upgrade to upgrade): rpy2 in /usr/local/lib/python2.7/dist-packages\n",
        "Cleaning up...\n"
       ]
      }
     ],
     "prompt_number": 2
    },
    {
     "cell_type": "markdown",
     "metadata": {},
     "source": [
      "`rpy2` provides magics that allow us to **invoke R code directly** from within a cell, similar to the way we used `%%bash` magics to execute shell commands above.  To use `R magics` from within a notebook, you need to load the `rpy2.ipython` extension."
     ]
    },
    {
     "cell_type": "code",
     "collapsed": false,
     "input": [
      "%load_ext rpy2.ipython"
     ],
     "language": "python",
     "metadata": {},
     "outputs": [],
     "prompt_number": 3
    },
    {
     "cell_type": "markdown",
     "metadata": {},
     "source": [
      "### `%%R` Cell Magic\n",
      "The `%%R` cell magic allows us to run a block of R code, the output of which is published to the output of the cell:"
     ]
    },
    {
     "cell_type": "code",
     "collapsed": false,
     "input": [
      "%%R\n",
      "X=c(1,3,5,7,9)\n",
      "Y=c(2,4,6,8,10)\n",
      "X*Y"
     ],
     "language": "python",
     "metadata": {},
     "outputs": [
      {
       "metadata": {},
       "output_type": "display_data",
       "text": [
        "[1]  2 12 30 56 90\n"
       ]
      }
     ],
     "prompt_number": 4
    },
    {
     "cell_type": "markdown",
     "metadata": {},
     "source": [
      "###Install more packages.\n",
      "CRAN, the R package database, offers more than 3,000 packages available to download. with rpy2 you can download packages to the notebook like so:"
     ]
    },
    {
     "cell_type": "code",
     "collapsed": false,
     "input": [
      "from rpy2.robjects.packages import importr\n",
      "utils = importr('utils')\n",
      "utils.install_packages('package_name_here')"
     ],
     "language": "python",
     "metadata": {},
     "outputs": []
    },
    {
     "cell_type": "markdown",
     "metadata": {},
     "source": [
      "##Language basics\n",
      "\n",
      "This section deals with the basics of Python and R. The data types are almost the same, an exception being lists and vectors in R. R and Python are similar in that all data types are in fact objects.   \n",
      " \n",
      "###Lists \n",
      "In Python, a `list` is a container of values that are organized in order from first to last. Lists allow different data types to be used, but usually a list of the same data type is more common. "
     ]
    },
    {
     "cell_type": "code",
     "collapsed": false,
     "input": [
      "pythonlist = ['brown', 'blue', 'green', 2, 'NaN']\n",
      "weights = [15, 23, 38, 84]\n",
      "ranges = range(3,9)\n",
      "print(pythonlist)\n",
      "print(weights)\n",
      "print(ranges)"
     ],
     "language": "python",
     "metadata": {},
     "outputs": [
      {
       "output_type": "stream",
       "stream": "stdout",
       "text": [
        "['brown', 'blue', 'green', 2, 'NaN']\n",
        "[15, 23, 38, 84]\n",
        "[3, 4, 5, 6, 7, 8]\n"
       ]
      }
     ],
     "prompt_number": 5
    },
    {
     "cell_type": "markdown",
     "metadata": {},
     "source": [
      "With R, a `vector` is a list of the same type. A `list` allows, as in Python, to store various data types in a vector-like format. \n",
      "\n",
      "`c()` is the concatenate function used to create vectors of objects. "
     ]
    },
    {
     "cell_type": "code",
     "collapsed": false,
     "input": [
      "%%R\n",
      "\n",
      "rlist <- c('brown', 'blue', 'green', 2,'NA')\n",
      "weights <- c(15, 23, 38, 84)\n",
      "ranges <- c(3:9)\n",
      "print(rlist)\n",
      "print(weights)\n",
      "print(ranges)"
     ],
     "language": "python",
     "metadata": {},
     "outputs": [
      {
       "metadata": {},
       "output_type": "display_data",
       "text": [
        "[1] \"brown\" \"blue\"  \"green\" \"2\"     \"NA\"   \n",
        "[1] 15 23 38 84\n",
        "[1] 3 4 5 6 7 8 9\n"
       ]
      }
     ],
     "prompt_number": 6
    },
    {
     "cell_type": "markdown",
     "metadata": {},
     "source": [
      "###List subsetting\n",
      "\n",
      "Like python, R allows slicing, or selecting portions of the list.\n",
      "Subsetting has different properties depending on the character used:\n",
      "* [ always returns an object of the **same class** as the original. \n",
      "* [[ is used to extract elements of a list or a data frame; it can only be used to extract a **single** element and the class of the returned object will not necessarily be a list or a data frame.\n",
      "* $ is used to extract elements of a list or dataframe **by name**, semantics are similar to that of [["
     ]
    },
    {
     "cell_type": "code",
     "collapsed": false,
     "input": [
      "x = [1,3,5,7,9]\n",
      "print(x[1:4])\n",
      "print(x[3])"
     ],
     "language": "python",
     "metadata": {},
     "outputs": [
      {
       "output_type": "stream",
       "stream": "stdout",
       "text": [
        "[3, 5, 7]\n",
        "7\n"
       ]
      }
     ],
     "prompt_number": 7
    },
    {
     "cell_type": "code",
     "collapsed": false,
     "input": [
      "%%R\n",
      "x =c(1,3,5,7,9)\n",
      "print(x[c(2:4)])\n",
      "print(x[[3]])"
     ],
     "language": "python",
     "metadata": {},
     "outputs": [
      {
       "metadata": {},
       "output_type": "display_data",
       "text": [
        "[1] 3 5 7\n",
        "[1] 5\n"
       ]
      }
     ],
     "prompt_number": 8
    },
    {
     "cell_type": "markdown",
     "metadata": {},
     "source": [
      "##For Loops\n",
      "\n",
      "This example in Python makes a list and print out its contents.  \n",
      "Very straightforward:"
     ]
    },
    {
     "cell_type": "code",
     "collapsed": false,
     "input": [
      "words = ['my', 'little', 'cat']\n",
      "for w in words:\n",
      "    print w"
     ],
     "language": "python",
     "metadata": {},
     "outputs": [
      {
       "output_type": "stream",
       "stream": "stdout",
       "text": [
        "my\n",
        "little\n",
        "cat\n"
       ]
      }
     ],
     "prompt_number": 9
    },
    {
     "cell_type": "markdown",
     "metadata": {},
     "source": [
      "In R, brackets are needed for loops and conditional statements."
     ]
    },
    {
     "cell_type": "code",
     "collapsed": false,
     "input": [
      "%%R\n",
      "\n",
      "words = c('my', 'little', 'cat')\n",
      "for (n in words){\n",
      "    print (n)\n",
      "}"
     ],
     "language": "python",
     "metadata": {},
     "outputs": [
      {
       "metadata": {},
       "output_type": "display_data",
       "text": [
        "[1] \"my\"\n",
        "[1] \"little\"\n",
        "[1] \"cat\"\n"
       ]
      }
     ],
     "prompt_number": 10
    },
    {
     "cell_type": "markdown",
     "metadata": {},
     "source": [
      "Printing only even numebrs:"
     ]
    },
    {
     "cell_type": "code",
     "collapsed": false,
     "input": [
      "for n in range(2, 21):\n",
      "    if n%2 == 0:\n",
      "        print n       "
     ],
     "language": "python",
     "metadata": {},
     "outputs": [
      {
       "output_type": "stream",
       "stream": "stdout",
       "text": [
        "2\n",
        "4\n",
        "6\n",
        "8\n",
        "10\n",
        "12\n",
        "14\n",
        "16\n",
        "18\n",
        "20\n"
       ]
      }
     ],
     "prompt_number": 11
    },
    {
     "cell_type": "code",
     "collapsed": false,
     "input": [
      "%%R\n",
      "\n",
      "for(n in 2:20){\n",
      "    if(n%%2==0){\n",
      "        print(n)\n",
      "    }\n",
      "}"
     ],
     "language": "python",
     "metadata": {},
     "outputs": [
      {
       "metadata": {},
       "output_type": "display_data",
       "text": [
        "[1] 2\n",
        "[1] 4\n",
        "[1] 6\n",
        "[1] 8\n",
        "[1] 10\n",
        "[1] 12\n",
        "[1] 14\n",
        "[1] 16\n",
        "[1] 18\n",
        "[1] 20\n"
       ]
      }
     ],
     "prompt_number": 12
    },
    {
     "cell_type": "markdown",
     "metadata": {},
     "source": [
      "##Functions\n",
      "Functions are the backbone of programming, allowing to group repetitive tasks into reproducible modules to be used over and over again. Python allows keyword arguments and positional arguments. A keyword argument is a positional argument with a default value, assigned with `=`. In python it depends on the [call](http://docs.python.org/reference/expressions.html#calls) of the function if it's reffered as keyword or positional.  \n",
      "The meaning of the = changes, depending on whether it's in the definition or in the call.\n",
      "In the definition, it marks the argument optional and sets a default value.\n",
      "In the call, it simply allows you to specify which arguments should be which values, in whatever order you want."
     ]
    },
    {
     "cell_type": "code",
     "collapsed": false,
     "input": [
      "def printing_values(voltage, state='happy', action='fly', type='Kiwi'):\n",
      "    print(\"This bird wouldn't \"+ action)\n",
      "    print(\"if you put %s volts through it.\" %  voltage)\n",
      "    print(\"Lovely plumage, \"+ type)\n",
      "    print(\"It's \"+ state + \"!\")\n",
      "    \n",
      "printing_values(1000)                                          # 1 positional argument\n",
      "print('')\n",
      "printing_values(voltage=1000)                                  # 1 keyword argument\n",
      "print('')\n",
      "printing_values(voltage=1000000, action='run')                 # 2 keyword arguments\n",
      "print('')\n",
      "printing_values(action='VOOOOOM', voltage=1000000)             # 2 keyword arguments\n",
      "print('')\n",
      "printing_values('a million', 'full of life', 'jump')           # 3 positional arguments\n",
      "print('')\n",
      "printing_values('a thousand', state='pushing up the daisies')  # 1 positional, 1 keyword    \n"
     ],
     "language": "python",
     "metadata": {},
     "outputs": [
      {
       "output_type": "stream",
       "stream": "stdout",
       "text": [
        "This bird wouldn't fly\n",
        "if you put 1000 volts through it.\n",
        "Lovely plumage, Kiwi\n",
        "It's happy!\n",
        "\n",
        "This bird wouldn't fly\n",
        "if you put 1000 volts through it.\n",
        "Lovely plumage, Kiwi\n",
        "It's happy!\n",
        "\n",
        "This bird wouldn't run\n",
        "if you put 1000000 volts through it.\n",
        "Lovely plumage, Kiwi\n",
        "It's happy!\n",
        "\n",
        "This bird wouldn't VOOOOOM\n",
        "if you put 1000000 volts through it.\n",
        "Lovely plumage, Kiwi\n",
        "It's happy!\n",
        "\n",
        "This bird wouldn't jump\n",
        "if you put a million volts through it.\n",
        "Lovely plumage, Kiwi\n",
        "It's full of life!\n",
        "\n",
        "This bird wouldn't fly\n",
        "if you put a thousand volts through it.\n",
        "Lovely plumage, Kiwi\n",
        "It's pushing up the daisies!\n"
       ]
      }
     ],
     "prompt_number": 13
    },
    {
     "cell_type": "markdown",
     "metadata": {},
     "source": [
      "####Functions in R\n",
      "\n",
      "In R functions are objects. \n",
      "In R the keyword argument is called **named argument**. As in Pyhton, it's an argument with a default value. Formal arguments are included in the function definition. Function arguments may be missing or may have default values.  \n",
      "R matches arguments by position or by name. When an argument is matched by name, it is \"taken out\" of the argument list and the remaining unnamed arguments are matched in the order that they are listed in the function definition."
     ]
    },
    {
     "cell_type": "code",
     "collapsed": false,
     "input": [
      "%%R\n",
      "printing_values <- function(voltage, state='happy', action='fly', type='Kiwi'){\n",
      "    cat(sprintf(\"This bird wouldn't %s \\n\", action))\n",
      "    \n",
      "    cat(sprintf(\"if you put %s volts through it. \\n\" ,  voltage))\n",
      "   \n",
      "    cat(sprintf(\"Lovely plumage, %s \\n\", type))\n",
      "    \n",
      "    cat(sprintf(\"It's %s! \\n\", state))\n",
      "    \n",
      "}\n",
      "\n",
      "printing_values(1000)                                          # 1 positional argument\n",
      "cat('\\n')\n",
      "printing_values(voltage=1000)                                  # 1 keyword argument\n",
      "cat('\\n')\n",
      "printing_values(voltage=1000000, action='run')                 # 2 keyword arguments\n",
      "cat('\\n')\n",
      "printing_values(action='VOOOOOM', voltage=1000000)             # 2 keyword arguments\n",
      "cat('\\n')\n",
      "printing_values('a million', 'full of life', 'jump')           # 3 positional arguments\n",
      "cat('\\n')\n",
      "printing_values('a thousand', state='pushing up the daisies')  # 1 positional, 1 keyword \n",
      "cat('\\n')"
     ],
     "language": "python",
     "metadata": {},
     "outputs": [
      {
       "metadata": {},
       "output_type": "display_data",
       "text": [
        "This bird wouldn't fly \n",
        "if you put 1000 volts through it. \n",
        "Lovely plumage, Kiwi \n",
        "It's happy! \n",
        "\n",
        "This bird wouldn't fly \n",
        "if you put 1000 volts through it. \n",
        "Lovely plumage, Kiwi \n",
        "It's happy! \n",
        "\n",
        "This bird wouldn't run \n",
        "if you put 1e+06 volts through it. \n",
        "Lovely plumage, Kiwi \n",
        "It's happy! \n",
        "\n",
        "This bird wouldn't VOOOOOM \n",
        "if you put 1e+06 volts through it. \n",
        "Lovely plumage, Kiwi \n",
        "It's happy! \n",
        "\n",
        "This bird wouldn't jump \n",
        "if you put a million volts through it. \n",
        "Lovely plumage, Kiwi \n",
        "It's full of life! \n",
        "\n",
        "This bird wouldn't fly \n",
        "if you put a thousand volts through it. \n",
        "Lovely plumage, Kiwi \n",
        "It's pushing up the daisies! \n",
        "\n"
       ]
      }
     ],
     "prompt_number": 14
    },
    {
     "cell_type": "markdown",
     "metadata": {},
     "source": [
      "`*args` and `**kwargs` allow an arbitrary number of arguments to be passed to functions in Python. \n",
      "The `*args` will return all function parameters as a tuple, and `**kwargs` will return all **keyword arguments** except for those corresponding to a formal parameter as a dictionary. `*args` and `**kwargs` can be named arbitrarily. More information can be found in the corresponding [Python documentation](https://docs.python.org/dev/tutorial/controlflow.html#more-on-defining-functions). "
     ]
    },
    {
     "cell_type": "code",
     "collapsed": false,
     "input": [
      "# **kwargs accetps an arbitrary number of keyword arguments\n",
      "def list_person(first_name, last_name, **kwargs):\n",
      "    # Required arguments:\n",
      "    print(\"First Name: %s\" % first_name.title())\n",
      "    print(\"Last Name: %s\" % last_name.title())\n",
      "    # Loop through the key values in the dict to work with all values\n",
      "    # Optional arguments\n",
      "    for key in kwargs:\n",
      "        print(\"%s: %s\" % (key.title().replace('_', ' '), kwargs[key]))\n",
      "    print('')\n",
      "    \n",
      "# list_person('Steve') --throws exception as it needs 2 args\n",
      "list_person('brian', 'kernighan', favorite_language='C', famous_book='The C Programming Language')\n",
      "list_person('Gabe', 'newell', age=52, alma_mater='Harvard Dropout')\n",
      "list_person('adele', 'goldberg', age=68, favorite_language='Smalltalk')\n",
      "list_person('richard', 'stallman', favorite_distro='Debian',  project='GNU')\n",
      "list_person('Bill', 'Gates', favorite_language='C#', company='Microsoft')\n",
      "list_person('Steve', 'wozniak')"
     ],
     "language": "python",
     "metadata": {},
     "outputs": [
      {
       "output_type": "stream",
       "stream": "stdout",
       "text": [
        "First Name: Brian\n",
        "Last Name: Kernighan\n",
        "Famous Book: The C Programming Language\n",
        "Favorite Language: C\n",
        "\n",
        "First Name: Gabe\n",
        "Last Name: Newell\n",
        "Alma Mater: Harvard Dropout\n",
        "Age: 52\n",
        "\n",
        "First Name: Adele\n",
        "Last Name: Goldberg\n",
        "Age: 68\n",
        "Favorite Language: Smalltalk\n",
        "\n",
        "First Name: Richard\n",
        "Last Name: Stallman\n",
        "Project: GNU\n",
        "Favorite Distro: Debian\n",
        "\n",
        "First Name: Bill\n",
        "Last Name: Gates\n",
        "Company: Microsoft\n",
        "Favorite Language: C#\n",
        "\n",
        "First Name: Steve\n",
        "Last Name: Wozniak\n",
        "\n"
       ]
      }
     ],
     "prompt_number": 15
    },
    {
     "cell_type": "markdown",
     "metadata": {},
     "source": [
      "In R, the `...` argument indicates a variable/unspecified/arbitrary number of arguments that are usually passed on to other functions.  \n",
      "Arguments are matched first by exact name (perfect matching), then by prefix matching, and finally by position.\n",
      "\n",
      "`c()` and `list()` are functions that implement this, to allow to pass as many arguments as needed, which end up as names in the resulting object like Python.  The `normals()` function should show the `...`.\n",
      "\n",
      "Finally, R functions are **lazy**; that is, function arguments are not evaluated until the value of the argument is needed. This means that if a function has multiple arguments, not all are needed to be passed for the function to be called. Because argument evaluation is lazy, it is dangerous to ever carry out assignment (or any operation with a side effect) in an argument to a function."
     ]
    },
    {
     "cell_type": "code",
     "collapsed": false,
     "input": [
      "%%R\n",
      "# ...\n",
      "list_person = function(first_name, last_name, ...){\n",
      "    # Required arguments:\n",
      "    cat(sprintf(\"First Name: %s \\nLast Name: %s \\n\", first_name, last_name))\n",
      "    # Loop through the key values in the dict to work with all values\n",
      "    # Optional arguments\n",
      "    l <- list(...) # Put the arguments in a list\n",
      "    for (i in seq_along(l)) {\n",
      "        cat(names(l)[i],  l[[i]], \"\\n\")\n",
      "        gsub(\"_\", \" \", l[[i]])\n",
      "    }\n",
      "    cat('\\n')\n",
      "}\n",
      "# list_person('Steve') --throws exception as it needs 2 args\n",
      "list_person('brian', 'kernighan', favorite_language='C', famous_book='The C Programming Language')\n",
      "list_person('Gabe', 'newell', age=52, alma_mater='Harvard Dropout')\n",
      "list_person('adele', 'goldberg', age=68, favorite_language='Smalltalk')\n",
      "list_person('richard', 'stallman', favorite_distro='Debian',  project='GNU')\n",
      "list_person('Bill', 'Gates', favorite_language='C#', company='Microsoft')\n",
      "list_person('Steve', 'wozniak')"
     ],
     "language": "python",
     "metadata": {},
     "outputs": [
      {
       "metadata": {},
       "output_type": "display_data",
       "text": [
        "First Name: brian \n",
        "Last Name: kernighan \n",
        "favorite_language C \n",
        "famous_book The C Programming Language \n",
        "\n",
        "First Name: Gabe \n",
        "Last Name: newell \n",
        "age 52 \n",
        "alma_mater Harvard Dropout \n",
        "\n",
        "First Name: adele \n",
        "Last Name: goldberg \n",
        "age 68 \n",
        "favorite_language Smalltalk \n",
        "\n",
        "First Name: richard \n",
        "Last Name: stallman \n",
        "favorite_distro Debian \n",
        "project GNU \n",
        "\n",
        "First Name: Bill \n",
        "Last Name: Gates \n",
        "favorite_language C# \n",
        "company Microsoft \n",
        "\n",
        "First Name: Steve \n",
        "Last Name: wozniak \n",
        "\n"
       ]
      }
     ],
     "prompt_number": 16
    },
    {
     "cell_type": "markdown",
     "metadata": {},
     "source": [
      "##Data Frames \n",
      "\n",
      "Python implements data frames with the [pandas library](http://pandas.pydata.org/pandas-docs/dev/generated/pandas.DataFrame.html) as `pandas.DataFrame`. \n",
      "\n",
      "R can use data frames natively as `data.frame`.   \n",
      "  \n",
      "Data Frames are used for storing data in tables. It can hold categorical and numeric data. A data frame is like a list with components as columns of a table.\n",
      "  \n",
      "The number of columns of each row must be of the same length; there can't be a row that has a different number columns than other rows.  "
     ]
    },
    {
     "cell_type": "markdown",
     "metadata": {},
     "source": [
      "This example creates a data frame with labeled columns and rows.\n"
     ]
    },
    {
     "cell_type": "code",
     "collapsed": false,
     "input": [
      "import pandas as pd\n",
      "\n",
      "a = {'GPA' : [1.3, 2.8, 3.1, 4.4],\n",
      "     'Score': [23, 41, 68, 85],\n",
      "                     'Level': [\"A\",\"C\",\"A\",\"D\"]}\n",
      "bub = pd.DataFrame(a, index = ['Amy','John','Peter','Jen'])\n",
      "bub"
     ],
     "language": "python",
     "metadata": {},
     "outputs": [
      {
       "html": [
        "<div style=\"max-height:1000px;max-width:1500px;overflow:auto;\">\n",
        "<table border=\"1\" class=\"dataframe\">\n",
        "  <thead>\n",
        "    <tr style=\"text-align: right;\">\n",
        "      <th></th>\n",
        "      <th>GPA</th>\n",
        "      <th>Level</th>\n",
        "      <th>Score</th>\n",
        "    </tr>\n",
        "  </thead>\n",
        "  <tbody>\n",
        "    <tr>\n",
        "      <th>Amy</th>\n",
        "      <td> 1.3</td>\n",
        "      <td> A</td>\n",
        "      <td> 23</td>\n",
        "    </tr>\n",
        "    <tr>\n",
        "      <th>John</th>\n",
        "      <td> 2.8</td>\n",
        "      <td> C</td>\n",
        "      <td> 41</td>\n",
        "    </tr>\n",
        "    <tr>\n",
        "      <th>Peter</th>\n",
        "      <td> 3.1</td>\n",
        "      <td> A</td>\n",
        "      <td> 68</td>\n",
        "    </tr>\n",
        "    <tr>\n",
        "      <th>Jen</th>\n",
        "      <td> 4.4</td>\n",
        "      <td> D</td>\n",
        "      <td> 85</td>\n",
        "    </tr>\n",
        "  </tbody>\n",
        "</table>\n",
        "</div>"
       ],
       "metadata": {},
       "output_type": "pyout",
       "prompt_number": 17,
       "text": [
        "       GPA Level  Score\n",
        "Amy    1.3     A     23\n",
        "John   2.8     C     41\n",
        "Peter  3.1     A     68\n",
        "Jen    4.4     D     85"
       ]
      }
     ],
     "prompt_number": 17
    },
    {
     "cell_type": "code",
     "collapsed": false,
     "input": [
      "%%R\n",
      "a <- c(1.3, 2.8, 3.1, 4.4)\n",
      "b <- c(23, 41, 68, 85)\n",
      "levels <- factor(c(\"A\", \"B\", \"A\", \"B\"))\n",
      "bub <- data.frame(GPA=a,\n",
      "                      Score=b,\n",
      "                      Level=levels)\n",
      "row.names(bub) <- c('Amy','John','Peter','Jen') #index in python\n",
      "bub"
     ],
     "language": "python",
     "metadata": {},
     "outputs": [
      {
       "metadata": {},
       "output_type": "display_data",
       "text": [
        "      GPA Score Level\n",
        "Amy   1.3    23     A\n",
        "John  2.8    41     B\n",
        "Peter 3.1    68     A\n",
        "Jen   4.4    85     B\n"
       ]
      }
     ],
     "prompt_number": 18
    },
    {
     "cell_type": "markdown",
     "metadata": {},
     "source": [
      "###Slicing \n",
      "\n",
      "These examples select a set of rows from the dataframe."
     ]
    },
    {
     "cell_type": "code",
     "collapsed": false,
     "input": [
      "import pandas as pd\n",
      "import numpy as np\n",
      "a = np.random.randint(50,size = 10)\n",
      "df = pd.DataFrame(a)\n",
      "df[:6]"
     ],
     "language": "python",
     "metadata": {},
     "outputs": [
      {
       "html": [
        "<div style=\"max-height:1000px;max-width:1500px;overflow:auto;\">\n",
        "<table border=\"1\" class=\"dataframe\">\n",
        "  <thead>\n",
        "    <tr style=\"text-align: right;\">\n",
        "      <th></th>\n",
        "      <th>0</th>\n",
        "    </tr>\n",
        "  </thead>\n",
        "  <tbody>\n",
        "    <tr>\n",
        "      <th>0</th>\n",
        "      <td> 41</td>\n",
        "    </tr>\n",
        "    <tr>\n",
        "      <th>1</th>\n",
        "      <td> 23</td>\n",
        "    </tr>\n",
        "    <tr>\n",
        "      <th>2</th>\n",
        "      <td> 21</td>\n",
        "    </tr>\n",
        "    <tr>\n",
        "      <th>3</th>\n",
        "      <td> 16</td>\n",
        "    </tr>\n",
        "    <tr>\n",
        "      <th>4</th>\n",
        "      <td> 28</td>\n",
        "    </tr>\n",
        "    <tr>\n",
        "      <th>5</th>\n",
        "      <td> 27</td>\n",
        "    </tr>\n",
        "  </tbody>\n",
        "</table>\n",
        "</div>"
       ],
       "metadata": {},
       "output_type": "pyout",
       "prompt_number": 19,
       "text": [
        "    0\n",
        "0  41\n",
        "1  23\n",
        "2  21\n",
        "3  16\n",
        "4  28\n",
        "5  27"
       ]
      }
     ],
     "prompt_number": 19
    },
    {
     "cell_type": "code",
     "collapsed": false,
     "input": [
      "%%R\n",
      "x3 <- sample(1:50, 10)\n",
      "score <- c('Score')\n",
      "dt = data.frame(x3)\n",
      "row.names(dt) <- c(1:10)\n",
      "dt[c(0:6),]"
     ],
     "language": "python",
     "metadata": {},
     "outputs": [
      {
       "metadata": {},
       "output_type": "display_data",
       "text": [
        "[1] 22 37  4 36 49  7\n"
       ]
      }
     ],
     "prompt_number": 20
    },
    {
     "cell_type": "markdown",
     "metadata": {},
     "source": [
      "pandas has many methods for [indexing](http://pandas.pydata.org/pandas-docs/dev/indexing.html): by label, integer, etc."
     ]
    },
    {
     "cell_type": "code",
     "collapsed": false,
     "input": [
      "import pandas as pd\n",
      "\n",
      "a = {'1' : [1, 2],\n",
      "     '2' : [3, 4],\n",
      "     '3' : [5, 6],\n",
      "     '4' : [7, 9],\n",
      "     '5' : [8, 10],\n",
      "     '6' : [9, 11],\n",
      "     }\n",
      "df = pd.DataFrame(a)\n",
      "df.columns = ['A','B','C','D','E','F']\n",
      "df[['F','D']]"
     ],
     "language": "python",
     "metadata": {},
     "outputs": [
      {
       "html": [
        "<div style=\"max-height:1000px;max-width:1500px;overflow:auto;\">\n",
        "<table border=\"1\" class=\"dataframe\">\n",
        "  <thead>\n",
        "    <tr style=\"text-align: right;\">\n",
        "      <th></th>\n",
        "      <th>F</th>\n",
        "      <th>D</th>\n",
        "    </tr>\n",
        "  </thead>\n",
        "  <tbody>\n",
        "    <tr>\n",
        "      <th>0</th>\n",
        "      <td>  9</td>\n",
        "      <td> 7</td>\n",
        "    </tr>\n",
        "    <tr>\n",
        "      <th>1</th>\n",
        "      <td> 11</td>\n",
        "      <td> 9</td>\n",
        "    </tr>\n",
        "  </tbody>\n",
        "</table>\n",
        "</div>"
       ],
       "metadata": {},
       "output_type": "pyout",
       "prompt_number": 21,
       "text": [
        "    F  D\n",
        "0   9  7\n",
        "1  11  9"
       ]
      }
     ],
     "prompt_number": 21
    },
    {
     "cell_type": "markdown",
     "metadata": {},
     "source": [
      "R uses `subset` to slice columns."
     ]
    },
    {
     "cell_type": "code",
     "collapsed": false,
     "input": [
      "%%R\n",
      "dat <- data.frame(A=c(1,2),B=c(3,4),C=c(5,6),D=c(7,9),E=c(8,10),F=c(9,11)) \n",
      "subset(dat, select=c(\"F\", \"D\"))"
     ],
     "language": "python",
     "metadata": {},
     "outputs": [
      {
       "metadata": {},
       "output_type": "display_data",
       "text": [
        "   F D\n",
        "1  9 7\n",
        "2 11 9\n"
       ]
      }
     ],
     "prompt_number": 22
    },
    {
     "cell_type": "markdown",
     "metadata": {},
     "source": [
      "pandas and R have a quick method to compute summary statistics (mean, median, percentiles, etc.) for all columns of the data frame, called `.describe()` and `summary()` respectively."
     ]
    },
    {
     "cell_type": "code",
     "collapsed": false,
     "input": [
      "import pandas as pd\n",
      "\n",
      "a = {'GPA' : [1.3, 2.8, 3.1, 4.4],\n",
      "     'Score': [23, 41, 68, 85],\n",
      "                     'Level': [\"A\",\"C\",\"A\",\"D\"]}\n",
      "bub = pd.DataFrame(a, index = ['Amy','John','Peter','Jen'])\n",
      "bub.describe()"
     ],
     "language": "python",
     "metadata": {},
     "outputs": [
      {
       "html": [
        "<div style=\"max-height:1000px;max-width:1500px;overflow:auto;\">\n",
        "<table border=\"1\" class=\"dataframe\">\n",
        "  <thead>\n",
        "    <tr style=\"text-align: right;\">\n",
        "      <th></th>\n",
        "      <th>GPA</th>\n",
        "      <th>Score</th>\n",
        "    </tr>\n",
        "  </thead>\n",
        "  <tbody>\n",
        "    <tr>\n",
        "      <th>count</th>\n",
        "      <td> 4.000000</td>\n",
        "      <td>  4.000000</td>\n",
        "    </tr>\n",
        "    <tr>\n",
        "      <th>mean</th>\n",
        "      <td> 2.900000</td>\n",
        "      <td> 54.250000</td>\n",
        "    </tr>\n",
        "    <tr>\n",
        "      <th>std</th>\n",
        "      <td> 1.272792</td>\n",
        "      <td> 27.608875</td>\n",
        "    </tr>\n",
        "    <tr>\n",
        "      <th>min</th>\n",
        "      <td> 1.300000</td>\n",
        "      <td> 23.000000</td>\n",
        "    </tr>\n",
        "    <tr>\n",
        "      <th>25%</th>\n",
        "      <td> 2.425000</td>\n",
        "      <td> 36.500000</td>\n",
        "    </tr>\n",
        "    <tr>\n",
        "      <th>50%</th>\n",
        "      <td> 2.950000</td>\n",
        "      <td> 54.500000</td>\n",
        "    </tr>\n",
        "    <tr>\n",
        "      <th>75%</th>\n",
        "      <td> 3.425000</td>\n",
        "      <td> 72.250000</td>\n",
        "    </tr>\n",
        "    <tr>\n",
        "      <th>max</th>\n",
        "      <td> 4.400000</td>\n",
        "      <td> 85.000000</td>\n",
        "    </tr>\n",
        "  </tbody>\n",
        "</table>\n",
        "</div>"
       ],
       "metadata": {},
       "output_type": "pyout",
       "prompt_number": 23,
       "text": [
        "            GPA      Score\n",
        "count  4.000000   4.000000\n",
        "mean   2.900000  54.250000\n",
        "std    1.272792  27.608875\n",
        "min    1.300000  23.000000\n",
        "25%    2.425000  36.500000\n",
        "50%    2.950000  54.500000\n",
        "75%    3.425000  72.250000\n",
        "max    4.400000  85.000000"
       ]
      }
     ],
     "prompt_number": 23
    },
    {
     "cell_type": "code",
     "collapsed": false,
     "input": [
      "%%R\n",
      "a <- c(1.3, 2.8, 3.1, 4.4)\n",
      "b <- c(23, 41, 68, 85)\n",
      "levels <- factor(c(\"A\", \"C\", \"A\", \"D\"))\n",
      "bub <- data.frame(GPA=a,\n",
      "                      Score=b,\n",
      "                      Level=levels)\n",
      "row.names(bub) <- c('Amy','John','Peter','Jen')\n",
      "summary(bub)"
     ],
     "language": "python",
     "metadata": {},
     "outputs": [
      {
       "metadata": {},
       "output_type": "display_data",
       "text": [
        "      GPA            Score       Level\n",
        " Min.   :1.300   Min.   :23.00   A:2  \n",
        " 1st Qu.:2.425   1st Qu.:36.50   C:1  \n",
        " Median :2.950   Median :54.50   D:1  \n",
        " Mean   :2.900   Mean   :54.25        \n",
        " 3rd Qu.:3.425   3rd Qu.:72.25        \n",
        " Max.   :4.400   Max.   :85.00        \n"
       ]
      }
     ],
     "prompt_number": 24
    },
    {
     "cell_type": "markdown",
     "metadata": {},
     "source": [
      "###Group-by a column\n",
      "pandas refers to [groupby](http://pandas.pydata.org/pandas-docs/stable/generated/pandas.DataFrame.groupby.html) as involving in splitting the data into groups based on criteria (defined by the programmer), then applying a function to each new group independently. This example will perform aggregation which computes a summary statistic about each group. "
     ]
    },
    {
     "cell_type": "code",
     "collapsed": false,
     "input": [
      "#<help:dataframe_groupby>\n",
      "import pandas as pd\n",
      "import numpy as np\n",
      "\n",
      "a = np.random.randint(25, size = 8)\n",
      "b = np.random.randint(50, size = 8)\n",
      "c = np.random.randint(20, size = 8)\n",
      "d = np.random.randint(15, size = 8)\n",
      "\n",
      "df = pd.DataFrame({'A': a,\n",
      "                   'B': b,\n",
      "                   'C': c,\n",
      "                   'D': d\n",
      "                   })\n",
      "df.groupby(['A','B']).mean()"
     ],
     "language": "python",
     "metadata": {},
     "outputs": [
      {
       "html": [
        "<div style=\"max-height:1000px;max-width:1500px;overflow:auto;\">\n",
        "<table border=\"1\" class=\"dataframe\">\n",
        "  <thead>\n",
        "    <tr style=\"text-align: right;\">\n",
        "      <th></th>\n",
        "      <th></th>\n",
        "      <th>C</th>\n",
        "      <th>D</th>\n",
        "    </tr>\n",
        "    <tr>\n",
        "      <th>A</th>\n",
        "      <th>B</th>\n",
        "      <th></th>\n",
        "      <th></th>\n",
        "    </tr>\n",
        "  </thead>\n",
        "  <tbody>\n",
        "    <tr>\n",
        "      <th>2 </th>\n",
        "      <th>22</th>\n",
        "      <td>  5</td>\n",
        "      <td> 12</td>\n",
        "    </tr>\n",
        "    <tr>\n",
        "      <th>10</th>\n",
        "      <th>15</th>\n",
        "      <td> 17</td>\n",
        "      <td>  2</td>\n",
        "    </tr>\n",
        "    <tr>\n",
        "      <th rowspan=\"2\" valign=\"top\">16</th>\n",
        "      <th>5 </th>\n",
        "      <td> 13</td>\n",
        "      <td> 14</td>\n",
        "    </tr>\n",
        "    <tr>\n",
        "      <th>49</th>\n",
        "      <td>  4</td>\n",
        "      <td> 11</td>\n",
        "    </tr>\n",
        "    <tr>\n",
        "      <th>19</th>\n",
        "      <th>37</th>\n",
        "      <td>  5</td>\n",
        "      <td>  4</td>\n",
        "    </tr>\n",
        "    <tr>\n",
        "      <th rowspan=\"2\" valign=\"top\">22</th>\n",
        "      <th>14</th>\n",
        "      <td>  6</td>\n",
        "      <td> 10</td>\n",
        "    </tr>\n",
        "    <tr>\n",
        "      <th>36</th>\n",
        "      <td>  8</td>\n",
        "      <td>  8</td>\n",
        "    </tr>\n",
        "    <tr>\n",
        "      <th>24</th>\n",
        "      <th>27</th>\n",
        "      <td> 19</td>\n",
        "      <td>  6</td>\n",
        "    </tr>\n",
        "  </tbody>\n",
        "</table>\n",
        "</div>"
       ],
       "metadata": {},
       "output_type": "pyout",
       "prompt_number": 25,
       "text": [
        "        C   D\n",
        "A  B         \n",
        "2  22   5  12\n",
        "10 15  17   2\n",
        "16 5   13  14\n",
        "   49   4  11\n",
        "19 37   5   4\n",
        "22 14   6  10\n",
        "   36   8   8\n",
        "24 27  19   6"
       ]
      }
     ],
     "prompt_number": 25
    },
    {
     "cell_type": "markdown",
     "metadata": {},
     "source": [
      "R also uses [aggregation](https://stat.ethz.ch/R-manual/R-devel/library/stats/html/aggregate.html). The format is `aggregate(x, by, FUN)` where `x` is the data frame to be collapsed, `by` (must be) a list of variables that will be crossed to form the new observations, and `FUN` is the scalar function used to calculate summary statistics that will make up the new observation values."
     ]
    },
    {
     "cell_type": "code",
     "collapsed": false,
     "input": [
      "%%R\n",
      "a <- sample(1:25, 8)\n",
      "b <- sample(1:50, 8)\n",
      "c <- sample(1:20, 8)\n",
      "d <- sample(1:15, 8)\n",
      "mydf = data.frame(A=a, B=b, C=c, D=d)\n",
      "aggregate(mydf, by = list(a,b), FUN=mean, na.rm=TRUE)"
     ],
     "language": "python",
     "metadata": {},
     "outputs": [
      {
       "metadata": {},
       "output_type": "display_data",
       "text": [
        "  Group.1 Group.2  A  B  C  D\n",
        "1       3       2  3  2  6 14\n",
        "2      15       3 15  3 19  2\n",
        "3      11       4 11  4 10  3\n",
        "4      25       7 25  7 20  9\n",
        "5      10       8 10  8 15  7\n",
        "6      24       9 24  9  3  1\n",
        "7       2      23  2 23 11 10\n",
        "8      16      38 16 38  5  4\n"
       ]
      }
     ],
     "prompt_number": 26
    },
    {
     "cell_type": "markdown",
     "metadata": {},
     "source": [
      "##Plotting \n",
      "\n",
      "For python, we will use [matplotlib](http://matplotlib.org/) with pandas data frames. pandas plugs into the matplotlib package to plot, and adds more types of graphs to it. They use the same rules for formatting axes, colors legends etc. Learn more in the [pandas documentation](http://pandas.pydata.org/pandas-docs/dev/visualization.html).  \n",
      "R has a built in `plot()` function and formatting helpers; but the [ggplot2](http://docs.ggplot2.org/current/) package is more powerful more customizable, and more commonly used. `ggplot2` will need to be installed in the notebook:"
     ]
    },
    {
     "cell_type": "code",
     "collapsed": false,
     "input": [
      "from rpy2.robjects.packages import importr\n",
      "utils = importr('utils')\n",
      "utils.install_packages('ggplot2')"
     ],
     "language": "python",
     "metadata": {},
     "outputs": [
      {
       "output_type": "stream",
       "stream": "stdout",
       "text": [
        "Installing package into \u2018/home/notebook/R/library\u2019\n",
        "(as \u2018lib\u2019 is unspecified)\n",
        "--- Please select a CRAN mirror for use in this session ---\n"
       ]
      },
      {
       "output_type": "stream",
       "stream": "stdout",
       "text": [
        "CRAN mirror \n",
        "\n",
        "  1: 0-Cloud                        2: Algeria                    \n",
        "  3: Argentina (La Plata)           4: Australia (Canberra)       \n",
        "  5: Australia (Melbourne)          6: Austria                    \n",
        "  7: Belgium                        8: Brazil (BA)                \n",
        "  9: Brazil (PR)                   10: Brazil (RJ)                \n",
        " 11: Brazil (SP 1)                 12: Brazil (SP 2)              \n",
        " 13: Canada (BC)                   14: Canada (NS)                \n",
        " 15: Canada (ON)                   16: Canada (QC 1)              \n",
        " 17: Canada (QC 2)                 18: Chile                      \n",
        " 19: China (Beijing 1)             20: China (Beijing 2)          \n",
        " 21: China (Hefei)                 22: China (Lanzhou)            \n",
        " 23: China (Xiamen)                24: Colombia (Bogota)          \n",
        " 25: Colombia (Cali)               26: Czech Republic             \n",
        " 27: Denmark                       28: Ecuador                    \n",
        " 29: El Salvador                   30: Estonia                    \n",
        " 31: France (Lyon 1)               32: France (Lyon 2)            \n",
        " 33: France (Montpellier)          34: France (Paris 1)           \n",
        " 35: France (Paris 2)              36: France (Strasbourg)        \n",
        " 37: Germany (Berlin)              38: Germany (Goettingen)       \n",
        " 39: Germany (Frankfurt)           40: Germany (M\u00fcnster)          \n",
        " 41: Greece                        42: Hungary                    \n",
        " 43: Iceland                       44: India                      \n",
        " 45: Indonesia (Jakarta)           46: Indonesia (Jember)         \n",
        " 47: Iran                          48: Ireland                    \n",
        " 49: Italy (Milano)                50: Italy (Padua)              \n",
        " 51: Italy (Palermo)               52: Japan (Tokyo)              \n",
        " 53: Japan (Tsukuba)               54: Korea (Seoul 1)            \n",
        " 55: Korea (Seoul 2)               56: Korea (Ulsan)              \n",
        " 57: Lebanon                       58: Mexico (Mexico City)       \n",
        " 59: Mexico (Texcoco)              60: Netherlands (Amsterdam)    \n",
        " 61: Netherlands (Utrecht)         62: New Zealand                \n",
        " 63: Norway                        64: Philippines                \n",
        " 65: Poland                        66: Portugal                   \n",
        " 67: Russia                        68: Singapore                  \n",
        " 69: Slovakia                      70: South Africa (Cape Town)   \n",
        " 71: South Africa (Johannesburg)   72: Spain (A Coru\u00f1a)           \n",
        " 73: Spain (Madrid)                74: Sweden                     \n",
        " 75: Switzerland                   76: Taiwan (Chungli)           \n",
        " 77: Taiwan (Taipei)               78: Thailand                   \n",
        " 79: Turkey                        80: UK (Bristol)               \n",
        " 81: UK (Cambridge)                82: UK (London)                \n",
        " 83: UK (London)                   84: UK (St Andrews)            \n",
        " 85: USA (CA 1)                    86: USA (CA 2)                 \n",
        " 87: USA (IA)                      88: USA (IN)                   \n",
        " 89: USA (KS)                      90: USA (MD)                   \n",
        " 91: USA (MI)                      92: USA (MO)                   \n",
        " 93: USA (OH)                      94: USA (OR)                   \n",
        " 95: USA (PA 1)                    96: USA (PA 2)                 \n",
        " 97: USA (TN)                      98: USA (TX 1)                 \n",
        " 99: USA (WA 1)                   100: USA (WA 2)                 \n",
        "101: Venezuela                    102: Vietnam                    \n",
        "\n",
        "\n"
       ]
      },
      {
       "name": "stdout",
       "output_type": "stream",
       "stream": "stdout",
       "text": [
        "Selection: 86\n"
       ]
      },
      {
       "output_type": "stream",
       "stream": "stdout",
       "text": [
        "trying URL 'http://cran.stat.ucla.edu/src/contrib/ggplot2_1.0.0.tar.gz'\n",
        "Content type 'application/x-tar'"
       ]
      },
      {
       "output_type": "stream",
       "stream": "stdout",
       "text": [
        " length 2351447 bytes (2.2 Mb)\n",
        "opened URL\n",
        "="
       ]
      },
      {
       "output_type": "stream",
       "stream": "stdout",
       "text": [
        "==="
       ]
      },
      {
       "output_type": "stream",
       "stream": "stdout",
       "text": [
        "==="
       ]
      },
      {
       "output_type": "stream",
       "stream": "stdout",
       "text": [
        "=="
       ]
      },
      {
       "output_type": "stream",
       "stream": "stdout",
       "text": [
        "=="
       ]
      },
      {
       "output_type": "stream",
       "stream": "stdout",
       "text": [
        "==="
       ]
      },
      {
       "output_type": "stream",
       "stream": "stdout",
       "text": [
        "=="
       ]
      },
      {
       "output_type": "stream",
       "stream": "stdout",
       "text": [
        "=="
       ]
      },
      {
       "output_type": "stream",
       "stream": "stdout",
       "text": [
        "==="
       ]
      },
      {
       "output_type": "stream",
       "stream": "stdout",
       "text": [
        "=="
       ]
      },
      {
       "output_type": "stream",
       "stream": "stdout",
       "text": [
        "=="
       ]
      },
      {
       "output_type": "stream",
       "stream": "stdout",
       "text": [
        "==="
       ]
      },
      {
       "output_type": "stream",
       "stream": "stdout",
       "text": [
        "=="
       ]
      },
      {
       "output_type": "stream",
       "stream": "stdout",
       "text": [
        "=="
       ]
      },
      {
       "output_type": "stream",
       "stream": "stdout",
       "text": [
        "==="
       ]
      },
      {
       "output_type": "stream",
       "stream": "stdout",
       "text": [
        "=="
       ]
      },
      {
       "output_type": "stream",
       "stream": "stdout",
       "text": [
        "=="
       ]
      },
      {
       "output_type": "stream",
       "stream": "stdout",
       "text": [
        "==="
       ]
      },
      {
       "output_type": "stream",
       "stream": "stdout",
       "text": [
        "=="
       ]
      },
      {
       "output_type": "stream",
       "stream": "stdout",
       "text": [
        "=="
       ]
      },
      {
       "output_type": "stream",
       "stream": "stdout",
       "text": [
        "=="
       ]
      },
      {
       "output_type": "stream",
       "stream": "stdout",
       "text": [
        "=="
       ]
      },
      {
       "output_type": "stream",
       "stream": "stdout",
       "text": [
        "\n",
        "downloaded 2.2 Mb\n",
        "\n"
       ]
      },
      {
       "output_type": "stream",
       "stream": "stdout",
       "text": [
        "\n",
        "The downloaded source packages are in\n",
        "\t\u2018/tmp/RtmpXUAkaK/downloaded_packages\u2019\n"
       ]
      },
      {
       "metadata": {},
       "output_type": "pyout",
       "prompt_number": 45,
       "text": [
        "rpy2.rinterface.NULL"
       ]
      }
     ],
     "prompt_number": 45
    },
    {
     "cell_type": "code",
     "collapsed": false,
     "input": [
      "%%R\n",
      "library(\"ggplot2\")"
     ],
     "language": "python",
     "metadata": {},
     "outputs": [],
     "prompt_number": 46
    },
    {
     "cell_type": "markdown",
     "metadata": {},
     "source": [
      "This example will plot a scatter plot from multiple columns of a dataframe. "
     ]
    },
    {
     "cell_type": "code",
     "collapsed": false,
     "input": [
      "import pandas as pd\n",
      "import numpy as np\n",
      "import matplotlib.pyplot as plt\n",
      "%matplotlib inline\n",
      "pd.options.display.mpl_style = 'default'\n",
      "\n",
      "a = np.random.randint(25, size = 10)\n",
      "b = np.random.randint(50, size = 10)\n",
      "c = np.random.randint(20, size = 10)\n",
      "d = np.random.randint(15, size = 10)\n",
      "\n",
      "df = pd.DataFrame({'A': a,\n",
      "                   'B': b,\n",
      "                   'C': c,\n",
      "                   'D': d\n",
      "                   })\n",
      "ax = df.plot(kind='scatter', x='A', y='C',\n",
      "             color='DarkBlue', label='A-C');\n",
      "df.plot(kind='scatter', x='B', y='D',\n",
      "        color='DarkGreen', label='B-D', ax=ax);\n",
      "plt.title(\"Scatter Plot\")\n",
      "plt.show()"
     ],
     "language": "python",
     "metadata": {},
     "outputs": [
      {
       "output_type": "stream",
       "stream": "stderr",
       "text": [
        "/usr/local/lib/python2.7/dist-packages/matplotlib/font_manager.py:1236: UserWarning: findfont: Font family ['monospace'] not found. Falling back to Bitstream Vera Sans\n",
        "  (prop.get_family(), self.defaultFamily[fontext]))\n"
       ]
      },
      {
       "metadata": {},
       "output_type": "display_data",
       "png": "[encoded data removed]",
       "text": [
        "<matplotlib.figure.Figure at 0x7f3610917f90>"
       ]
      }
     ],
     "prompt_number": 28
    },
    {
     "cell_type": "markdown",
     "metadata": {},
     "source": [
      "With ggplot2, data must be in a data frame or vector format. the `aes` parameter, short for aesthetic, is used to control what data is plotted to which axis, the colors, legends, etc. Afterwards, the plot type is added with the + symbol; along with points, titles etc. \n"
     ]
    },
    {
     "cell_type": "code",
     "collapsed": false,
     "input": [
      "%%R\n",
      "\n",
      "library(ggplot2) \n",
      "\n",
      "a <- sample(1:25, 10)\n",
      "b <- sample(1:50, 10)\n",
      "c <- sample(1:20, 10)\n",
      "d <- sample(1:15, 10)\n",
      "mydf = data.frame(A=a, B=b, C=c, D=d)\n",
      "\n",
      "ggplot(mydf, aes(x= A, \n",
      "                 y = value, color = variable\n",
      "                )) +     geom_point(aes(y = C, col = \"C\")) + \n",
      "    geom_point(aes(y = D, col = \"D\")) + \n",
      "ggtitle(\"Scatter Plot\")"
     ],
     "language": "python",
     "metadata": {},
     "outputs": [
      {
       "metadata": {},
       "output_type": "display_data",
       "png": "[encoded data removed]"
      }
     ],
     "prompt_number": 47
    },
    {
     "cell_type": "markdown",
     "metadata": {},
     "source": [
      "Plot a line plot from multiple columns of a dataframe. With pandas, `type=` controls the type of graph to be plotted:"
     ]
    },
    {
     "cell_type": "code",
     "collapsed": false,
     "input": [
      "import pandas as pd\n",
      "import numpy as np\n",
      "import matplotlib.pyplot as plt\n",
      "%matplotlib inline\n",
      "pd.options.display.mpl_style = 'default'\n",
      "\n",
      "a = np.random.randint(25, size = 10)\n",
      "b = np.random.randint(20, size = 10)\n",
      "c = np.random.randint(15, size = 10)\n",
      "d = np.random.randint(30, size = 10)\n",
      "\n",
      "df = pd.DataFrame({'A': a,\n",
      "                   'B': b,\n",
      "                   'C': c,\n",
      "                   'D': d\n",
      "                   }).cumsum()\n",
      "ax = df.plot(kind='line', x='A', y='C',\n",
      "             color='DarkBlue', label='Group 1');\n",
      "df.plot(kind='line', x='B', y='D',\n",
      "        color='DarkGreen', label='Group 2', ax=ax);\n",
      "plt.title(\"Line Plot\")\n",
      "plt.legend(loc='best')\n",
      "plt.show()"
     ],
     "language": "python",
     "metadata": {},
     "outputs": [
      {
       "metadata": {},
       "output_type": "display_data",
       "png": "[encoded data removed]",
       "text": [
        "<matplotlib.figure.Figure at 0x7f360c26fdd0>"
       ]
      }
     ],
     "prompt_number": 34
    },
    {
     "cell_type": "markdown",
     "metadata": {},
     "source": [
      "With `ggplot2`, the type of graph is placed after `ggplot()`; \n",
      "`geom_line()`, `geom_bar()`, `geom_histogram()`, `geom_density()` and `geom_boxplot()` are the most commonly used.  Add more than one `geom_line()` to add more lines to the plor, in this case, columns of the data frame:"
     ]
    },
    {
     "cell_type": "code",
     "collapsed": false,
     "input": [
      "%%R\n",
      "\n",
      "library(ggplot2) \n",
      "\n",
      "a <- sample(1:25, 10)\n",
      "b <- sample(1:20, 10)\n",
      "c <- sample(1:35, 10)\n",
      "d <- sample(1:30, 10)\n",
      "mydf = data.frame(A=a, B=b, C=c, D=d)\n",
      "sums = cumsum(mydf)\n",
      "\n",
      "ggplot(sums, aes(A)) + \n",
      "  geom_line(aes(y = C, colour = \"C\")) + \n",
      "  geom_line(aes(y = D, colour = \"D\")) +\n",
      "ggtitle(\"Line Plot\")"
     ],
     "language": "python",
     "metadata": {},
     "outputs": [
      {
       "metadata": {},
       "output_type": "display_data",
       "png": "[encoded data removed]"
      }
     ],
     "prompt_number": 44
    },
    {
     "cell_type": "markdown",
     "metadata": {},
     "source": [
      "###Plot formatting\n",
      "[pandas](http://pandas.pydata.org/pandas-docs/version/0.15.2/visualization.html#plot-formatting) uses the [matplotlib syntax](http://matplotlib.org/users/pyplot_tutorial.html) to control lines, legends, colors and axes. "
     ]
    },
    {
     "cell_type": "code",
     "collapsed": false,
     "input": [
      "import matplotlib.pyplot as plt\n",
      "%matplotlib inline\n",
      "import pandas as pd\n",
      "import numpy as np\n",
      "pd.options.display.mpl_style = 'default'\n",
      "\n",
      "a = np.random.randint(25, size = 10)\n",
      "b = np.random.randint(30, size = 10)\n",
      "c = np.random.randint(20, size = 10)\n",
      "d = np.random.randint(35, size = 10)\n",
      "\n",
      "df = pd.DataFrame({'A': a,\n",
      "                   'B': b,\n",
      "                   'C': c,\n",
      "                   'D': d\n",
      "                   })\n",
      "df[['A','B']].plot(color=['g','b'])\n",
      "plt.title('Custom Colors', fontsize=20)\n",
      "plt.legend(loc='best')\n",
      "plt.xlabel('X Axis', fontsize=16, color='r')\n",
      "plt.ylabel('Y Axis', fontsize=16, color ='m')\n",
      "plt.show()"
     ],
     "language": "python",
     "metadata": {},
     "outputs": [
      {
       "metadata": {},
       "output_type": "display_data",
       "png": "[encoded data removed]",
       "text": [
        "<matplotlib.figure.Figure at 0x7f360c6fab50>"
       ]
      }
     ],
     "prompt_number": 38
    },
    {
     "cell_type": "markdown",
     "metadata": {},
     "source": [
      "ggplot2 has [aes](http://docs.ggplot2.org/0.9.3.1/aes_linetype_size_shape.html) and [theme](http://docs.ggplot2.org/0.9.3.1/theme.html) to control the axes, colors, positions and legends of the plot."
     ]
    },
    {
     "cell_type": "code",
     "collapsed": false,
     "input": [
      "%%R\n",
      "\n",
      "library(ggplot2) \n",
      "\n",
      "a <- sample(1:25, 10)\n",
      "b <- sample(1:30, 10)\n",
      "c <- sample(1:20, 10)\n",
      "d <- sample(1:35, 10)\n",
      "mydf = data.frame(A=a, B=b, C=c, D=d)\n",
      "\n",
      "ggplot(mydf, aes(C )) + \n",
      "  geom_line(aes(y = A, colour = \"A\"),linetype=\"dotdash\") + \n",
      "  geom_line(aes(y = B, colour = \"B\"),linetype=\"dashed\") + \n",
      "theme(axis.title.x = element_text(face=\"bold\", colour=\"#990000\", size=20),\n",
      "           axis.text.x  = element_text(angle=90, vjust=0.5, size=16),\n",
      "     axis.title.y = element_text(face=\"bold\", colour=\"blue\", size=20),\n",
      "           axis.text.y  = element_text(vjust=0.5, size=14)) +\n",
      "xlab('X Axis') + ylab('Y Axis') +\n",
      "ggtitle(\"Custom Colors\") +\n",
      "guides(fill = guide_legend(reverse=TRUE))"
     ],
     "language": "python",
     "metadata": {},
     "outputs": [
      {
       "metadata": {},
       "output_type": "display_data",
       "png": "[encoded data removed]"
      }
     ],
     "prompt_number": 43
    },
    {
     "cell_type": "markdown",
     "metadata": {},
     "source": [
      "For more information about R, check out the [documentation](http://cran.r-project.org/manuals.html), this [Quick-R blog](http://www.statmethods.net/) from the author of _R in Action_, and this [ggplot2 blog](http://www.cookbook-r.com/Graphs/) from the author of _R Graphics Cookbook_. "
     ]
    },
    {
     "cell_type": "code",
     "collapsed": false,
     "input": [],
     "language": "python",
     "metadata": {},
     "outputs": []
    }
   ],
   "metadata": {}
  }
 ]
}