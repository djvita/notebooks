{
 "metadata": {
  "name": "",
  "signature": "sha256:3545b159026cf50a8613a697dbd73e1fb29d86e524a69b247c5b46deb6022d5f"
 },
 "nbformat": 3,
 "nbformat_minor": 0,
 "worksheets": [
  {
   "cells": [
    {
     "cell_type": "code",
     "collapsed": false,
     "input": [
      "%load_ext rpy2.ipython"
     ],
     "language": "python",
     "metadata": {},
     "outputs": [],
     "prompt_number": 1
    },
    {
     "cell_type": "markdown",
     "metadata": {},
     "source": [
      "###DWSDAS"
     ]
    },
    {
     "cell_type": "code",
     "collapsed": false,
     "input": [
      "%%R\n",
      "manager <- c(1, 2, 3, 4, 5)\n",
      "date <- c(\"10/24/08\", \"10/28/08\", \"10/1/08\", \"10/12/08\", \"5/1/09\")\n",
      "country <- c(\"US\", \"US\", \"UK\", \"UK\", \"UK\")\n",
      "gender <- c(\"M\", \"F\", \"F\", \"M\", \"F\")\n",
      "age <- c(32, 45, 25, 39, 99)\n",
      "q1 <- c(5, 3, 3, 3, 2)\n",
      "q2 <- c(4, 5, 5, 3, 2)\n",
      "q3 <- c(5, 2, 5, 4, 1)\n",
      "q4 <- c(5, 5, 5, NA, 2)\n",
      "q5 <- c(5, 5, 2, NA, 1)\n",
      "leadership <- data.frame(manager, date, country, gender, age,\n",
      " q1, q2, q3, q4, q5, stringsAsFactors=FALSE)"
     ],
     "language": "python",
     "metadata": {},
     "outputs": [],
     "prompt_number": 2
    },
    {
     "cell_type": "code",
     "collapsed": false,
     "input": [
      "%%R\n",
      "leadership"
     ],
     "language": "python",
     "metadata": {},
     "outputs": [
      {
       "metadata": {},
       "output_type": "display_data",
       "text": [
        "  manager     date country gender age q1 q2 q3 q4 q5\n",
        "1       1 10/24/08      US      M  32  5  4  5  5  5\n",
        "2       2 10/28/08      US      F  45  3  5  2  5  5\n",
        "3       3  10/1/08      UK      F  25  3  5  5  5  2\n",
        "4       4 10/12/08      UK      M  39  3  3  4 NA NA\n",
        "5       5   5/1/09      UK      F  99  2  2  1  2  1\n"
       ]
      }
     ],
     "prompt_number": 3
    },
    {
     "cell_type": "code",
     "collapsed": false,
     "input": [
      "%%R\n",
      "\n",
      "leadership <- within(leadership,{\n",
      " agecat <- NA\n",
      " agecat[age > 65] <- \"Elder\"\n",
      " agecat[age >= 35 & age <= 75] <- \"Middle Aged\"\n",
      " agecat[age < 35] <- \"Young\" })"
     ],
     "language": "python",
     "metadata": {},
     "outputs": [],
     "prompt_number": 4
    },
    {
     "cell_type": "code",
     "collapsed": false,
     "input": [
      "%%R\n",
      "leadership"
     ],
     "language": "python",
     "metadata": {},
     "outputs": [
      {
       "metadata": {},
       "output_type": "display_data",
       "text": [
        "  manager     date country gender age q1 q2 q3 q4 q5      agecat\n",
        "1       1 10/24/08      US      M  32  5  4  5  5  5       Young\n",
        "2       2 10/28/08      US      F  45  3  5  2  5  5 Middle Aged\n",
        "3       3  10/1/08      UK      F  25  3  5  5  5  2       Young\n",
        "4       4 10/12/08      UK      M  39  3  3  4 NA NA Middle Aged\n",
        "5       5   5/1/09      UK      F  99  2  2  1  2  1       Elder\n"
       ]
      }
     ],
     "prompt_number": 5
    },
    {
     "cell_type": "code",
     "collapsed": false,
     "input": [
      "from rpy2.robjects.packages import importr\n",
      "utils = importr('utils')\n",
      "utils.install_packages('reshape')"
     ],
     "language": "python",
     "metadata": {},
     "outputs": [
      {
       "output_type": "stream",
       "stream": "stdout",
       "text": [
        "Installing package into \u2018/home/notebook/R/library\u2019\n",
        "(as \u2018lib\u2019 is unspecified)\n",
        "--- Please select a CRAN mirror for use in this session ---\n"
       ]
      },
      {
       "output_type": "stream",
       "stream": "stdout",
       "text": [
        "CRAN mirror \n",
        "\n",
        "  1: 0-Cloud                        2: Algeria                    \n",
        "  3: Argentina (La Plata)           4: Australia (Canberra)       \n",
        "  5: Australia (Melbourne)          6: Austria                    \n",
        "  7: Belgium                        8: Brazil (BA)                \n",
        "  9: Brazil (PR)                   10: Brazil (RJ)                \n",
        " 11: Brazil (SP 1)                 12: Brazil (SP 2)              \n",
        " 13: Canada (BC)                   14: Canada (NS)                \n",
        " 15: Canada (ON)                   16: Canada (QC 1)              \n",
        " 17: Canada (QC 2)                 18: Chile                      \n",
        " 19: China (Beijing 1)             20: China (Beijing 2)          \n",
        " 21: China (Hefei)                 22: China (Lanzhou)            \n",
        " 23: China (Xiamen)                24: Colombia (Bogota)          \n",
        " 25: Colombia (Cali)               26: Czech Republic             \n",
        " 27: Denmark                       28: Ecuador                    \n",
        " 29: El Salvador                   30: Estonia                    \n",
        " 31: France (Lyon 1)               32: France (Lyon 2)            \n",
        " 33: France (Montpellier)          34: France (Paris 1)           \n",
        " 35: France (Paris 2)              36: France (Strasbourg)        \n",
        " 37: Germany (Berlin)              38: Germany (Goettingen)       \n",
        " 39: Germany (Frankfurt)           40: Germany (M\u00fcnster)          \n",
        " 41: Greece                        42: Hungary                    \n",
        " 43: Iceland                       44: India                      \n",
        " 45: Indonesia (Jakarta)           46: Indonesia (Jember)         \n",
        " 47: Iran                          48: Ireland                    \n",
        " 49: Italy (Milano)                50: Italy (Padua)              \n",
        " 51: Italy (Palermo)               52: Japan (Tokyo)              \n",
        " 53: Japan (Tsukuba)               54: Korea (Seoul 1)            \n",
        " 55: Korea (Seoul 2)               56: Korea (Ulsan)              \n",
        " 57: Lebanon                       58: Mexico (Mexico City)       \n",
        " 59: Mexico (Texcoco)              60: Netherlands (Amsterdam)    \n",
        " 61: Netherlands (Utrecht)         62: New Zealand                \n",
        " 63: Norway                        64: Philippines                \n",
        " 65: Poland                        66: Portugal                   \n",
        " 67: Russia                        68: Singapore                  \n",
        " 69: Slovakia                      70: South Africa (Cape Town)   \n",
        " 71: South Africa (Johannesburg)   72: Spain (A Coru\u00f1a)           \n",
        " 73: Spain (Madrid)                74: Sweden                     \n",
        " 75: Switzerland                   76: Taiwan (Chungli)           \n",
        " 77: Taiwan (Taipei)               78: Thailand                   \n",
        " 79: Turkey                        80: UK (Bristol)               \n",
        " 81: UK (Cambridge)                82: UK (London)                \n",
        " 83: UK (London)                   84: UK (St Andrews)            \n",
        " 85: USA (CA 1)                    86: USA (CA 2)                 \n",
        " 87: USA (IA)                      88: USA (IN)                   \n",
        " 89: USA (KS)                      90: USA (MD)                   \n",
        " 91: USA (MI)                      92: USA (MO)                   \n",
        " 93: USA (OH)                      94: USA (OR)                   \n",
        " 95: USA (PA 1)                    96: USA (PA 2)                 \n",
        " 97: USA (TN)                      98: USA (TX 1)                 \n",
        " 99: USA (WA 1)                   100: USA (WA 2)                 \n",
        "101: Venezuela                    102: Vietnam                    \n",
        "\n",
        "\n"
       ]
      },
      {
       "name": "stdout",
       "output_type": "stream",
       "stream": "stdout",
       "text": [
        "Selection: 88\n"
       ]
      },
      {
       "output_type": "stream",
       "stream": "stdout",
       "text": [
        "trying URL 'http://ftp.ussg.iu.edu/CRAN/src/contrib/reshape_0.8.5.tar.gz'\n",
        "Content type 'application/x-gzip'"
       ]
      },
      {
       "output_type": "stream",
       "stream": "stdout",
       "text": [
        " length 42350 bytes (41 Kb)\n",
        "opened URL\n",
        "=========="
       ]
      },
      {
       "output_type": "stream",
       "stream": "stdout",
       "text": [
        "========================"
       ]
      },
      {
       "output_type": "stream",
       "stream": "stdout",
       "text": [
        "================\n",
        "downloaded 41 Kb\n",
        "\n"
       ]
      },
      {
       "output_type": "stream",
       "stream": "stdout",
       "text": [
        "\n",
        "The downloaded source packages are in\n",
        "\t\u2018/tmp/Rtmp0pJWCj/downloaded_packages\u2019\n"
       ]
      },
      {
       "metadata": {},
       "output_type": "pyout",
       "prompt_number": 10,
       "text": [
        "rpy2.rinterface.NULL"
       ]
      }
     ],
     "prompt_number": 10
    },
    {
     "cell_type": "code",
     "collapsed": false,
     "input": [
      "%%R\n",
      "library(\"reshape\")\n",
      "leadership <- rename(leadership,\n",
      " c(manager=\"managerID\", date=\"testDate\")\n",
      ")"
     ],
     "language": "python",
     "metadata": {},
     "outputs": [],
     "prompt_number": 6
    },
    {
     "cell_type": "code",
     "collapsed": false,
     "input": [
      "%%R \n",
      "leadership"
     ],
     "language": "python",
     "metadata": {},
     "outputs": [
      {
       "metadata": {},
       "output_type": "display_data",
       "text": [
        "  managerID testDate country gender age q1 q2 q3 q4 q5      agecat\n",
        "1         1 10/24/08      US      M  32  5  4  5  5  5       Young\n",
        "2         2 10/28/08      US      F  45  3  5  2  5  5 Middle Aged\n",
        "3         3  10/1/08      UK      F  25  3  5  5  5  2       Young\n",
        "4         4 10/12/08      UK      M  39  3  3  4 NA NA Middle Aged\n",
        "5         5   5/1/09      UK      F  99  2  2  1  2  1       Elder\n"
       ]
      }
     ],
     "prompt_number": 7
    },
    {
     "cell_type": "code",
     "collapsed": false,
     "input": [
      "%%R\n",
      "\n",
      "leadership$age[leadership$age == 99] <- NA"
     ],
     "language": "python",
     "metadata": {},
     "outputs": [],
     "prompt_number": 8
    },
    {
     "cell_type": "code",
     "collapsed": false,
     "input": [
      "%%R\n",
      "\n",
      "leadership"
     ],
     "language": "python",
     "metadata": {},
     "outputs": [
      {
       "metadata": {},
       "output_type": "display_data",
       "text": [
        "  managerID testDate country gender age q1 q2 q3 q4 q5      agecat\n",
        "1         1 10/24/08      US      M  32  5  4  5  5  5       Young\n",
        "2         2 10/28/08      US      F  45  3  5  2  5  5 Middle Aged\n",
        "3         3  10/1/08      UK      F  25  3  5  5  5  2       Young\n",
        "4         4 10/12/08      UK      M  39  3  3  4 NA NA Middle Aged\n",
        "5         5   5/1/09      UK      F  NA  2  2  1  2  1       Elder\n"
       ]
      }
     ],
     "prompt_number": 9
    },
    {
     "cell_type": "code",
     "collapsed": false,
     "input": [
      "%%R\n",
      "newdata <- na.omit(leadership)"
     ],
     "language": "python",
     "metadata": {},
     "outputs": [],
     "prompt_number": 10
    },
    {
     "cell_type": "code",
     "collapsed": false,
     "input": [
      "%%R\n",
      "myformat <- \"%m/%d/%y\"\n",
      "leadership$testDate <- as.Date(leadership$testDate, myformat)"
     ],
     "language": "python",
     "metadata": {},
     "outputs": [],
     "prompt_number": 11
    },
    {
     "cell_type": "code",
     "collapsed": false,
     "input": [
      "%%R\n",
      "\n",
      "leadership"
     ],
     "language": "python",
     "metadata": {},
     "outputs": [
      {
       "metadata": {},
       "output_type": "display_data",
       "text": [
        "  managerID   testDate country gender age q1 q2 q3 q4 q5      agecat\n",
        "1         1 2008-10-24      US      M  32  5  4  5  5  5       Young\n",
        "2         2 2008-10-28      US      F  45  3  5  2  5  5 Middle Aged\n",
        "3         3 2008-10-01      UK      F  25  3  5  5  5  2       Young\n",
        "4         4 2008-10-12      UK      M  39  3  3  4 NA NA Middle Aged\n",
        "5         5 2009-05-01      UK      F  NA  2  2  1  2  1       Elder\n"
       ]
      }
     ],
     "prompt_number": 12
    },
    {
     "cell_type": "code",
     "collapsed": false,
     "input": [
      "%%R\n",
      "attach(leadership)\n",
      "newdata <-leadership[order(gender, -age),]\n",
      "newdata\n",
      "detach(leadership)\n",
      "newdata"
     ],
     "language": "python",
     "metadata": {},
     "outputs": [
      {
       "metadata": {},
       "output_type": "display_data",
       "text": [
        "The following objects are masked _by_ .GlobalEnv:\n",
        "\n",
        "    age, country, gender, q1, q2, q3, q4, q5\n",
        "  managerID   testDate country gender age q1 q2 q3 q4 q5      agecat\n",
        "5         5 2009-05-01      UK      F  NA  2  2  1  2  1       Elder\n",
        "2         2 2008-10-28      US      F  45  3  5  2  5  5 Middle Aged\n",
        "3         3 2008-10-01      UK      F  25  3  5  5  5  2       Young\n",
        "4         4 2008-10-12      UK      M  39  3  3  4 NA NA Middle Aged\n",
        "1         1 2008-10-24      US      M  32  5  4  5  5  5       Young\n"
       ]
      }
     ],
     "prompt_number": 13
    },
    {
     "cell_type": "code",
     "collapsed": false,
     "input": [
      "%%R\n",
      "help(quantile)"
     ],
     "language": "python",
     "metadata": {},
     "outputs": [
      {
       "output_type": "stream",
       "stream": "stdout",
       "text": [
        "R Help on \u2018quantile\u2019quantile                 package:stats                 R Documentation\n",
        "\n",
        "_\bS_\ba_\bm_\bp_\bl_\be _\bQ_\bu_\ba_\bn_\bt_\bi_\bl_\be_\bs\n",
        "\n",
        "_\bD_\be_\bs_\bc_\br_\bi_\bp_\bt_\bi_\bo_\bn:\n",
        "\n",
        "     The generic function \u2018quantile\u2019 produces sample quantiles\n",
        "     corresponding to the given probabilities.  The smallest\n",
        "     observation corresponds to a probability of 0 and the largest to a\n",
        "     probability of 1.\n",
        "\n",
        "_\bU_\bs_\ba_\bg_\be:\n",
        "\n",
        "     quantile(x, ...)\n",
        "     \n",
        "     ## Default S3 method:\n",
        "     quantile(x, probs = seq(0, 1, 0.25), na.rm = FALSE,\n",
        "              names = TRUE, type = 7, ...)\n",
        "     \n",
        "_\bA_\br_\bg_\bu_\bm_\be_\bn_\bt_\bs:\n",
        "\n",
        "       x: numeric vector whose sample quantiles are wanted, or an\n",
        "          object of a class for which a method has been defined (see\n",
        "          also \u2018details\u2019). \u2018NA\u2019 and \u2018NaN\u2019 values are not allowed in\n",
        "          numeric vectors unless \u2018na.rm\u2019 is \u2018TRUE\u2019.\n",
        "\n",
        "   probs: numeric vector of probabilities with values in [0,1].\n",
        "          (Values up to \u20182e-14\u2019 outside that range are accepted and\n",
        "          moved to the nearby endpoint.)\n",
        "\n",
        "   na.rm: logical; if true, any \u2018NA\u2019 and \u2018NaN\u2019's are removed from \u2018x\u2019\n",
        "          before the quantiles are computed.\n",
        "\n",
        "   names: logical; if true, the result has a \u2018names\u2019 attribute.  Set to\n",
        "          \u2018FALSE\u2019 for speedup with many \u2018probs\u2019.\n",
        "\n",
        "    type: an integer between 1 and 9 selecting one of the nine quantile\n",
        "          algorithms detailed below to be used.\n",
        "\n",
        "     ...: further arguments passed to or from other methods.\n",
        "\n",
        "_\bD_\be_\bt_\ba_\bi_\bl_\bs:\n",
        "\n",
        "     A vector of length \u2018length(probs)\u2019 is returned; if \u2018names = TRUE\u2019,\n",
        "     it has a \u2018names\u2019 attribute.\n",
        "\n",
        "     \u2018NA\u2019 and \u2018NaN\u2019 values in \u2018probs\u2019 are propagated to the result.\n",
        "\n",
        "     The default method works with classed objects sufficiently like\n",
        "     numeric vectors that \u2018sort\u2019 and (not needed by types 1 and 3)\n",
        "     addition of elements and multiplication by a number work\n",
        "     correctly.  Note that as this is in a namespace, the copy of\n",
        "     \u2018sort\u2019 in \u2018base\u2019 will be used, not some S4 generic of that name.\n",
        "     Also note that that is no check on the \u2018correctly\u2019, and so e.g.\n",
        "     \u2018quantile\u2019 can be applied to complex vectors which (apart from\n",
        "     ties) will be ordered on their real parts.\n",
        "\n",
        "     There is a method for the date-time classes (see \u2018\"POSIXt\"\u2019).\n",
        "     Types 1 and 3 can be used for class \u2018\"Date\"\u2019 and for ordered\n",
        "     factors.\n",
        "\n",
        "_\bT_\by_\bp_\be_\bs:\n",
        "\n",
        "     \u2018quantile\u2019 returns estimates of underlying distribution quantiles\n",
        "     based on one or two order statistics from the supplied elements in\n",
        "     \u2018x\u2019 at probabilities in \u2018probs\u2019.  One of the nine quantile\n",
        "     algorithms discussed in Hyndman and Fan (1996), selected by\n",
        "     \u2018type\u2019, is employed.\n",
        "\n",
        "     All sample quantiles are defined as weighted averages of\n",
        "     consecutive order statistics. Sample quantiles of type i are\n",
        "     defined by:\n",
        "\n",
        "                 Q[i](p) = (1 - gamma) x[j] + gamma x[j+1],             \n",
        "     \n",
        "     where 1 <= i <= 9, (j-m)/n <= p < (j-m+1)/n, x[j] is the jth order\n",
        "     statistic, n is the sample size, the value of gamma is a function\n",
        "     of j = floor(np + m) and g = np + m - j, and m is a constant\n",
        "     determined by the sample quantile type.\n",
        "\n",
        "     *Discontinuous sample quantile types 1, 2, and 3*\n",
        "\n",
        "     For types 1, 2 and 3, Q[i](p) is a discontinuous function of p,\n",
        "     with m = 0 when i = 1 and i = 2, and m = -1/2 when i = 3.\n",
        "\n",
        "     Type 1 Inverse of empirical distribution function.  gamma = 0 if g\n",
        "          = 0, and 1 otherwise.\n",
        "\n",
        "     Type 2 Similar to type 1 but with averaging at discontinuities.\n",
        "          gamma = 0.5 if g = 0, and 1 otherwise.\n",
        "\n",
        "     Type 3 SAS definition: nearest even order statistic.  gamma = 0 if\n",
        "          g = 0 and j is even, and 1 otherwise.\n",
        "\n",
        "     *Continuous sample quantile types 4 through 9*\n",
        "\n",
        "     For types 4 through 9, Q[i](p) is a continuous function of p, with\n",
        "     gamma = g and m given below. The sample quantiles can be obtained\n",
        "     equivalently by linear interpolation between the points\n",
        "     (p[k],x[k]) where x[k] is the kth order statistic.  Specific\n",
        "     expressions for p[k] are given below.\n",
        "\n",
        "     Type 4 m = 0. p[k] = k / n.  That is, linear interpolation of the\n",
        "          empirical cdf.\n",
        "\n",
        "     Type 5 m = 1/2.  p[k] = (k - 0.5) / n.  That is a piecewise linear\n",
        "          function where the knots are the values midway through the\n",
        "          steps of the empirical cdf.  This is popular amongst\n",
        "          hydrologists.\n",
        "\n",
        "     Type 6 m = p. p[k] = k / (n + 1).  Thus p[k] = E[F(x[k])].  This\n",
        "          is used by Minitab and by SPSS.\n",
        "\n",
        "     Type 7 m = 1-p.  p[k] = (k - 1) / (n - 1).  In this case, p[k] =\n",
        "          mode[F(x[k])].  This is used by S.\n",
        "\n",
        "     Type 8 m = (p+1)/3.  p[k] = (k - 1/3) / (n + 1/3).  Then p[k] =~\n",
        "          median[F(x[k])].  The resulting quantile estimates are\n",
        "          approximately median-unbiased regardless of the distribution\n",
        "          of \u2018x\u2019.\n",
        "\n",
        "     Type 9 m = p/4 + 3/8.  p[k] = (k - 3/8) / (n + 1/4).  The\n",
        "          resulting quantile estimates are approximately unbiased for\n",
        "          the expected order statistics if \u2018x\u2019 is normally distributed.\n",
        "\n",
        "     Further details are provided in Hyndman and Fan (1996) who\n",
        "     recommended type 8.  The default method is type 7, as used by S\n",
        "     and by R < 2.0.0.\n",
        "\n",
        "_\bA_\bu_\bt_\bh_\bo_\br(_\bs):\n",
        "\n",
        "     of the version used in R >= 2.0.0, Ivan Frohne and Rob J Hyndman.\n",
        "\n",
        "_\bR_\be_\bf_\be_\br_\be_\bn_\bc_\be_\bs:\n",
        "\n",
        "     Becker, R. A., Chambers, J. M. and Wilks, A. R. (1988) _The New S\n",
        "     Language_.  Wadsworth & Brooks/Cole.\n",
        "\n",
        "     Hyndman, R. J. and Fan, Y. (1996) Sample quantiles in statistical\n",
        "     packages, _American Statistician_ *50*, 361-365.\n",
        "\n",
        "_\bS_\be_\be _\bA_\bl_\bs_\bo:\n",
        "\n",
        "     \u2018ecdf\u2019 for empirical distributions of which \u2018quantile\u2019 is an\n",
        "     inverse; \u2018boxplot.stats\u2019 and \u2018fivenum\u2019 for computing other\n",
        "     versions of quartiles, etc.\n",
        "\n",
        "_\bE_\bx_\ba_\bm_\bp_\bl_\be_\bs:\n",
        "\n",
        "     quantile(x <- rnorm(1001)) # Extremes & Quartiles by default\n",
        "     quantile(x,  probs = c(0.1, 0.5, 1, 2, 5, 10, 50, NA)/100)\n",
        "     \n",
        "     ### Compare different types\n",
        "     p <- c(0.1, 0.5, 1, 2, 5, 10, 50)/100\n",
        "     res <- matrix(as.numeric(NA), 9, 7)\n",
        "     for(type in 1:9) res[type, ] <- y <- quantile(x,  p, type = type)\n",
        "     dimnames(res) <- list(1:9, names(y))\n",
        "     round(res, 3)\n",
        "     \n"
       ]
      }
     ],
     "prompt_number": 14
    },
    {
     "cell_type": "code",
     "collapsed": false,
     "input": [
      "%%R\n",
      "x <- c(1:8)\n",
      "scale(x, center=TRUE, scale=TRUE)"
     ],
     "language": "python",
     "metadata": {},
     "outputs": [
      {
       "metadata": {},
       "output_type": "display_data",
       "text": [
        "           [,1]\n",
        "[1,] -1.4288690\n",
        "[2,] -1.0206207\n",
        "[3,] -0.6123724\n",
        "[4,] -0.2041241\n",
        "[5,]  0.2041241\n",
        "[6,]  0.6123724\n",
        "[7,]  1.0206207\n",
        "[8,]  1.4288690\n",
        "attr(,\"scaled:center\")\n",
        "[1] 4.5\n",
        "attr(,\"scaled:scale\")\n",
        "[1] 2.44949\n"
       ]
      }
     ],
     "prompt_number": 15
    },
    {
     "cell_type": "code",
     "collapsed": false,
     "input": [
      "%%R\n",
      "x <- pretty(c(-3,3), 30)\n",
      "y <- dnorm(x)\n",
      "plot(x, y,\n",
      " type = \"l\",\n",
      " xlab = \"Normal Deviate\",\n",
      " ylab = \"Density\",\n",
      " yaxs = \"i\"\n",
      ")\n",
      "pnorm(1.96)"
     ],
     "language": "python",
     "metadata": {},
     "outputs": [
      {
       "metadata": {},
       "output_type": "display_data",
       "text": [
        "[1] 0.9750021\n"
       ]
      },
      {
       "metadata": {},
       "output_type": "display_data",
       "png": "[encoded data removed]"
      }
     ],
     "prompt_number": 17
    },
    {
     "cell_type": "code",
     "collapsed": false,
     "input": [
      "%%R\n",
      "library(MASS)\n",
      "options(digits=3)\n",
      "set.seed(1234) \n",
      "mean <- c(230.7, 146.7, 3.6)\n",
      "sigma <- matrix(c(15360.8, 6721.2, -47.1, \n",
      "                  6721.2, 4700.9, -16.5,\n",
      "                  -47.1, -16.5, 0.3), nrow=3, ncol=3)\n",
      "mydata <- mvrnorm(500, mean, sigma) \n",
      "mydata <- as.data.frame(mydata)\n",
      "names(mydata) <- c(\"y\",\"x1\",\"x2\")\n",
      "dim(mydata) \n",
      "\n",
      "head(mydata, n=10)"
     ],
     "language": "python",
     "metadata": {},
     "outputs": [
      {
       "metadata": {},
       "output_type": "display_data",
       "text": [
        "       y    x1   x2\n",
        "1   98.8  41.3 3.43\n",
        "2  244.5 205.2 3.80\n",
        "3  375.7 186.7 2.51\n",
        "4  -59.2  11.2 4.71\n",
        "5  313.0 111.0 3.45\n",
        "6  288.8 185.1 2.72\n",
        "7  134.8 165.0 4.39\n",
        "8  171.7  97.4 3.64\n",
        "9  167.2 101.0 3.50\n",
        "10 121.1  94.5 4.10\n"
       ]
      }
     ],
     "prompt_number": 18
    },
    {
     "cell_type": "code",
     "collapsed": false,
     "input": [],
     "language": "python",
     "metadata": {},
     "outputs": []
    }
   ],
   "metadata": {}
  }
 ]
}