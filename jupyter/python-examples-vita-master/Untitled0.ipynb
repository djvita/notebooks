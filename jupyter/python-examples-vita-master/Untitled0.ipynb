{
 "cells": [
  {
   "cell_type": "code",
   "execution_count": 2,
   "id": "613a2226",
   "metadata": {},
   "outputs": [
    {
     "data": {
      "image/png": "[encoded data removed]",
      "text/plain": [
       "<Figure size 432x288 with 1 Axes>"
      ]
     },
     "metadata": {
      "needs_background": "light"
     },
     "output_type": "display_data"
    }
   ],
   "source": [
    "import matplotlib.pyplot as plt\n",
    "%matplotlib inline\n",
    "import numpy as np\n",
    "\n",
    "x = [1, 2, 3, 4]\n",
    "y = [20, 21 , 20.5, 20.9]\n",
    "\n",
    "#define how much the error\n",
    "y_error = [.12, .13, .2, .1]\n",
    "\n",
    "#plot data\n",
    "plt.bar(x,y, color=\"yellowgreen\", align='center')\n",
    "plt.errorbar(x,y, yerr=y_error, linestyle=\"None\", marker=\"None\", color=\"green\")\n",
    "\n",
    "\n",
    "#configure  X axes\n",
    "plt.xlim(0.5, 4.5)\n",
    "plt.xticks([1,2,3,4])\n",
    "#configure Y axes\n",
    "plt.ylim(19.8,21.2)\n",
    "plt.yticks([20,21,20.5,20.8])\n",
    "\n",
    "#title and labels\n",
    "plt.xlabel(\"X axis\")\n",
    "plt.ylabel(\"Y axis\")\n",
    "plt.title(\"Error Margin Bar\")\n",
    "\n",
    "#show plot\n",
    "plt.show()"
   ]
  },
  {
   "cell_type": "code",
   "execution_count": null,
   "id": "3e100eb0",
   "metadata": {},
   "outputs": [],
   "source": []
  }
 ],
 "metadata": {
  "kernelspec": {
   "display_name": "Python 3 (ipykernel)",
   "language": "python",
   "name": "python3"
  },
  "language_info": {
   "codemirror_mode": {
    "name": "ipython",
    "version": 3
   },
   "file_extension": ".py",
   "mimetype": "text/x-python",
   "name": "python",
   "nbconvert_exporter": "python",
   "pygments_lexer": "ipython3",
   "version": "3.9.7"
  }
 },
 "nbformat": 4,
 "nbformat_minor": 1
}
