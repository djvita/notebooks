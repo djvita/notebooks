{
 "metadata": {
  "name": "",
  "signature": "sha256:a93c53714ec842c4d4d0ae14a4e8e4675ac7b13de08be286fc9e4df3595a7f4e"
 },
 "nbformat": 3,
 "nbformat_minor": 0,
 "worksheets": [
  {
   "cells": [
    {
     "cell_type": "code",
     "collapsed": false,
     "input": [
      "import kawb"
     ],
     "language": "python",
     "metadata": {},
     "outputs": [],
     "prompt_number": 1
    },
    {
     "cell_type": "code",
     "collapsed": false,
     "input": [
      "import mywb.connect_to_other_cloud_services_new as con"
     ],
     "language": "python",
     "metadata": {},
     "outputs": [],
     "prompt_number": 2
    },
    {
     "cell_type": "code",
     "collapsed": false,
     "input": [
      "%inject con.twitter_lists_all"
     ],
     "language": "python",
     "metadata": {},
     "outputs": [],
     "prompt_number": 5
    },
    {
     "cell_type": "code",
     "collapsed": false,
     "input": [
      "%inject con.1-install_twitter"
     ],
     "language": "python",
     "metadata": {},
     "outputs": [],
     "prompt_number": 7
    },
    {
     "cell_type": "markdown",
     "metadata": {},
     "source": [
      "**List status updates and lists.**"
     ]
    },
    {
     "cell_type": "markdown",
     "metadata": {},
     "source": [
      "#Twitter\n",
      "Twiteer offers [REST APIs](https://dev.twitter.com/rest/public) and [Streaming APIs](https://dev.twitter.com/streaming/overview) to connect an app and download tweets and app data. Twitter offers GUIs like [Fabric](https://dev.twitter.com/fabric/overview) to create Twitter apps.  \n",
      "\n",
      "The documentation can be found [here](https://dev.twitter.com/overview/documentation)  \n",
      "\n",
      "However, they are not made for python.    \n",
      "\n",
      "Fortunately here are community driven python wrappers around the Twitter API:    \n",
      "\n",
      "[python-twitter](https://github.com/bear/python-twitter) (Apache 2.0 Licence)  \n",
      "[tweepy](https://github.com/tweepy/tweepy)  (MIT Licence)  \n",
      "\n",
      "**Required**\n",
      "\n",
      "`!pip install twitter`  \n",
      "`!pip install python-twitter`  \n",
      "`!pip install tweepy`  \n",
      "\n",
      "The recipes will use **tweepy because its simply references the [Twitter REST API](https://dev.twitter.com/rest/public) directly.**\n",
      "\n",
      "\n",
      "First set up an app in twitter to get the data.\n",
      "Get a Twitter API key\n",
      "Go to https://apps.twitter.com/ (Sign in or create an account) -> Create New App\n",
      "Provide the necessary data and it will create an application.\n",
      "Go to the application -> click on API Keys and access tokens tab\n",
      "  \n",
      "This will show the necessary keys to authenticate an application using OAuth.\n",
      "Get the app key and app secret.\n",
      "\n",
      "With Oauth, we will need to authorize the app to allow to access tweets."
     ]
    },
    {
     "cell_type": "code",
     "collapsed": false,
     "input": [
      "!pip install twitter"
     ],
     "language": "python",
     "metadata": {},
     "outputs": [
      {
       "output_type": "stream",
       "stream": "stdout",
       "text": [
        "Downloading/unpacking twitter\r\n"
       ]
      },
      {
       "output_type": "stream",
       "stream": "stdout",
       "text": [
        "  Downloading twitter-1.15.0-py2.py3-none-any.whl (50kB): \r",
        "  Downloading twitter-1.15.0-py2.py3-none-any.whl (50kB):   8%  4.1kB\r",
        "  Downloading twitter-1.15.0-py2.py3-none-any.whl (50kB):  16%  8.2kB\r",
        "  Downloading twitter-1.15.0-py2.py3-none-any.whl (50kB):  24%  12kB \r",
        "  Downloading twitter-1.15.0-py2.py3-none-any.whl (50kB):  32%  16kB\r",
        "  Downloading twitter-1.15.0-py2.py3-none-any.whl (50kB):  40%  20kB\r",
        "  Downloading twitter-1.15.0-py2.py3-none-any.whl (50kB):  48%  24kB\r",
        "  Downloading twitter-1.15.0-py2.py3-none-any.whl (50kB):  56%  28kB\r",
        "  Downloading twitter-1.15.0-py2.py3-none-any.whl (50kB):  64%  32kB\r",
        "  Downloading twitter-1.15.0-py2.py3-none-any.whl (50kB):  72%  36kB\r",
        "  Downloading twitter-1.15.0-py2.py3-none-any.whl (50kB):  80%  40kB\r",
        "  Downloading twitter-1.15.0-py2.py3-none-any.whl (50kB):  88%  45kB\r",
        "  Downloading twitter-1.15.0-py2.py3-none-any.whl (50kB):  96%  49kB\r",
        "  Downloading twitter-1.15.0-py2.py3-none-any.whl (50kB): 100%  50kB\r",
        "  Downloading twitter-1.15.0-py2.py3-none-any.whl (50kB):           \r",
        "  Downloading twitter-1.15.0-py2.py3-none-any.whl (50kB): 50kB downloaded\r\n",
        "Installing collected packages: twitter\r\n"
       ]
      },
      {
       "output_type": "stream",
       "stream": "stdout",
       "text": [
        "Successfully installed twitter\r\n",
        "Cleaning up...\r\n"
       ]
      }
     ],
     "prompt_number": 8
    },
    {
     "cell_type": "code",
     "collapsed": false,
     "input": [
      "!pip install tweepy"
     ],
     "language": "python",
     "metadata": {},
     "outputs": [
      {
       "output_type": "stream",
       "stream": "stdout",
       "text": [
        "Downloading/unpacking tweepy\r\n"
       ]
      },
      {
       "output_type": "stream",
       "stream": "stdout",
       "text": [
        "  Downloading tweepy-3.1.0-py2.py3-none-any.whl\r\n"
       ]
      },
      {
       "output_type": "stream",
       "stream": "stdout",
       "text": [
        "Downloading/unpacking requests-oauthlib==0.4.1 (from tweepy)\r\n"
       ]
      },
      {
       "output_type": "stream",
       "stream": "stdout",
       "text": [
        "  Downloading requests_oauthlib-0.4.1-py2.py3-none-any.whl\r\n",
        "Downloading/unpacking six==1.7.3 (from tweepy)\r\n"
       ]
      },
      {
       "output_type": "stream",
       "stream": "stdout",
       "text": [
        "  Downloading six-1.7.3-py2.py3-none-any.whl\r\n",
        "Downloading/unpacking requests==2.4.3 (from tweepy)\r\n"
       ]
      },
      {
       "output_type": "stream",
       "stream": "stdout",
       "text": [
        "  Downloading requests-2.4.3-py2.py3-none-any.whl (459kB): \r",
        "  Downloading requests-2.4.3-py2.py3-none-any.whl (459kB):   0%  4.1kB\r",
        "  Downloading requests-2.4.3-py2.py3-none-any.whl (459kB):   1%  8.2kB\r",
        "  Downloading requests-2.4.3-py2.py3-none-any.whl (459kB):   2%  12kB \r",
        "  Downloading requests-2.4.3-py2.py3-none-any.whl (459kB):   3%  16kB\r",
        "  Downloading requests-2.4.3-py2.py3-none-any.whl (459kB):   4%  20kB\r",
        "  Downloading requests-2.4.3-py2.py3-none-any.whl (459kB):   5%  24kB\r",
        "  Downloading requests-2.4.3-py2.py3-none-any.whl (459kB):   6%  28kB\r",
        "  Downloading requests-2.4.3-py2.py3-none-any.whl (459kB):   7%  32kB\r",
        "  Downloading requests-2.4.3-py2.py3-none-any.whl (459kB):   8%  36kB\r",
        "  Downloading requests-2.4.3-py2.py3-none-any.whl (459kB):   8%  40kB\r",
        "  Downloading requests-2.4.3-py2.py3-none-any.whl (459kB):   9%  45kB\r",
        "  Downloading requests-2.4.3-py2.py3-none-any.whl (459kB):  10%  49kB\r",
        "  Downloading requests-2.4.3-py2.py3-none-any.whl (459kB):  11%  53kB\r",
        "  Downloading requests-2.4.3-py2.py3-none-any.whl (459kB):  12%  57kB\r",
        "  Downloading requests-2.4.3-py2.py3-none-any.whl (459kB):  13%  61kB\r",
        "  Downloading requests-2.4.3-py2.py3-none-any.whl (459kB):  14%  65kB\r",
        "  Downloading requests-2.4.3-py2.py3-none-any.whl (459kB):  15%  69kB\r",
        "  Downloading requests-2.4.3-py2.py3-none-any.whl (459kB):  16%  73kB\r",
        "  Downloading requests-2.4.3-py2.py3-none-any.whl (459kB):  16%  77kB\r",
        "  Downloading requests-2.4.3-py2.py3-none-any.whl (459kB):  17%  81kB\r",
        "  Downloading requests-2.4.3-py2.py3-none-any.whl (459kB):  18%  86kB\r",
        "  Downloading requests-2.4.3-py2.py3-none-any.whl (459kB):  19%  90kB"
       ]
      },
      {
       "output_type": "stream",
       "stream": "stdout",
       "text": [
        "\r",
        "  Downloading requests-2.4.3-py2.py3-none-any.whl (459kB):  20%  94kB\r",
        "  Downloading requests-2.4.3-py2.py3-none-any.whl (459kB):  21%  98kB\r",
        "  Downloading requests-2.4.3-py2.py3-none-any.whl (459kB):  22%  102kB\r",
        "  Downloading requests-2.4.3-py2.py3-none-any.whl (459kB):  23%  106kB\r",
        "  Downloading requests-2.4.3-py2.py3-none-any.whl (459kB):  24%  110kB\r",
        "  Downloading requests-2.4.3-py2.py3-none-any.whl (459kB):  24%  114kB\r",
        "  Downloading requests-2.4.3-py2.py3-none-any.whl (459kB):  25%  118kB\r",
        "  Downloading requests-2.4.3-py2.py3-none-any.whl (459kB):  26%  122kB\r",
        "  Downloading requests-2.4.3-py2.py3-none-any.whl (459kB):  27%  126kB\r",
        "  Downloading requests-2.4.3-py2.py3-none-any.whl (459kB):  28%  131kB\r",
        "  Downloading requests-2.4.3-py2.py3-none-any.whl (459kB):  29%  135kB\r",
        "  Downloading requests-2.4.3-py2.py3-none-any.whl (459kB):  30%  139kB\r",
        "  Downloading requests-2.4.3-py2.py3-none-any.whl (459kB):  31%  143kB\r",
        "  Downloading requests-2.4.3-py2.py3-none-any.whl (459kB):  32%  147kB\r",
        "  Downloading requests-2.4.3-py2.py3-none-any.whl (459kB):  32%  151kB\r",
        "  Downloading requests-2.4.3-py2.py3-none-any.whl (459kB):  33%  155kB\r",
        "  Downloading requests-2.4.3-py2.py3-none-any.whl (459kB):  34%  159kB\r",
        "  Downloading requests-2.4.3-py2.py3-none-any.whl (459kB):  35%  163kB\r",
        "  Downloading requests-2.4.3-py2.py3-none-any.whl (459kB):  36%  167kB\r",
        "  Downloading requests-2.4.3-py2.py3-none-any.whl (459kB):  37%  172kB\r",
        "  Downloading requests-2.4.3-py2.py3-none-any.whl (459kB):  38%  176kB\r",
        "  Downloading requests-2.4.3-py2.py3-none-any.whl (459kB):  39%  180kB\r",
        "  Downloading requests-2.4.3-py2.py3-none-any.whl (459kB):  40%  184kB\r",
        "  Downloading requests-2.4.3-py2.py3-none-any.whl (459kB):  41%  188kB\r",
        "  Downloading requests-2.4.3-py2.py3-none-any.whl (459kB):  41%  192kB\r",
        "  Downloading requests-2.4.3-py2.py3-none-any.whl (459kB):  42%  196kB\r",
        "  Downloading requests-2.4.3-py2.py3-none-any.whl (459kB):  43%  200kB\r",
        "  Downloading requests-2.4.3-py2.py3-none-any.whl (459kB):  44%  204kB\r",
        "  Downloading requests-2.4.3-py2.py3-none-any.whl (459kB):  45%  208kB\r",
        "  Downloading requests-2.4.3-py2.py3-none-any.whl (459kB):  46%  212kB\r",
        "  Downloading requests-2.4.3-py2.py3-none-any.whl (459kB):  47%  217kB\r",
        "  Downloading requests-2.4.3-py2.py3-none-any.whl (459kB):  48%  221kB\r",
        "  Downloading requests-2.4.3-py2.py3-none-any.whl (459kB):  49%  225kB\r",
        "  Downloading requests-2.4.3-py2.py3-none-any.whl (459kB):  49%  229kB\r",
        "  Downloading requests-2.4.3-py2.py3-none-any.whl (459kB):  50%  233kB\r",
        "  Downloading requests-2.4.3-py2.py3-none-any.whl (459kB):  51%  237kB\r",
        "  Downloading requests-2.4.3-py2.py3-none-any.whl (459kB):  52%  241kB\r",
        "  Downloading requests-2.4.3-py2.py3-none-any.whl (459kB):  53%  245kB\r",
        "  Downloading requests-2.4.3-py2.py3-none-any.whl (459kB):  54%  249kB\r",
        "  Downloading requests-2.4.3-py2.py3-none-any.whl (459kB):  55%  253kB\r",
        "  Downloading requests-2.4.3-py2.py3-none-any.whl (459kB):  56%  258kB\r",
        "  Downloading requests-2.4.3-py2.py3-none-any.whl (459kB):  57%  262kB\r",
        "  Downloading requests-2.4.3-py2.py3-none-any.whl (459kB):  57%  266kB\r",
        "  Downloading requests-2.4.3-py2.py3-none-any.whl (459kB):  58%  270kB\r",
        "  Downloading requests-2.4.3-py2.py3-none-any.whl (459kB):  59%  274kB\r",
        "  Downloading requests-2.4.3-py2.py3-none-any.whl (459kB):  60%  278kB\r",
        "  Downloading requests-2.4.3-py2.py3-none-any.whl (459kB):  61%  282kB\r",
        "  Downloading requests-2.4.3-py2.py3-none-any.whl (459kB):  62%  286kB\r",
        "  Downloading requests-2.4.3-py2.py3-none-any.whl (459kB):  63%  290kB\r",
        "  Downloading requests-2.4.3-py2.py3-none-any.whl (459kB):  64%  294kB\r",
        "  Downloading requests-2.4.3-py2.py3-none-any.whl (459kB):  65%  299kB\r",
        "  Downloading requests-2.4.3-py2.py3-none-any.whl (459kB):  65%  303kB\r",
        "  Downloading requests-2.4.3-py2.py3-none-any.whl (459kB):  66%  307kB\r",
        "  Downloading requests-2.4.3-py2.py3-none-any.whl (459kB):  67%  311kB\r",
        "  Downloading requests-2.4.3-py2.py3-none-any.whl (459kB):  68%  315kB\r",
        "  Downloading requests-2.4.3-py2.py3-none-any.whl (459kB):  69%  319kB\r",
        "  Downloading requests-2.4.3-py2.py3-none-any.whl (459kB):  70%  323kB\r",
        "  Downloading requests-2.4.3-py2.py3-none-any.whl (459kB):  71%  327kB\r",
        "  Downloading requests-2.4.3-py2.py3-none-any.whl (459kB):  72%  331kB\r",
        "  Downloading requests-2.4.3-py2.py3-none-any.whl (459kB):  73%  335kB\r",
        "  Downloading requests-2.4.3-py2.py3-none-any.whl (459kB):  73%  339kB\r",
        "  Downloading requests-2.4.3-py2.py3-none-any.whl (459kB):  74%  344kB\r",
        "  Downloading requests-2.4.3-py2.py3-none-any.whl (459kB):  75%  348kB\r",
        "  Downloading requests-2.4.3-py2.py3-none-any.whl (459kB):  76%  352kB\r",
        "  Downloading requests-2.4.3-py2.py3-none-any.whl (459kB):  77%  356kB\r",
        "  Downloading requests-2.4.3-py2.py3-none-any.whl (459kB):  78%  360kB\r",
        "  Downloading requests-2.4.3-py2.py3-none-any.whl (459kB):  79%  364kB\r",
        "  Downloading requests-2.4.3-py2.py3-none-any.whl (459kB):  80%  368kB\r",
        "  Downloading requests-2.4.3-py2.py3-none-any.whl (459kB):  81%  372kB\r",
        "  Downloading requests-2.4.3-py2.py3-none-any.whl (459kB):  82%  376kB\r",
        "  Downloading requests-2.4.3-py2.py3-none-any.whl (459kB):  82%  380kB\r",
        "  Downloading requests-2.4.3-py2.py3-none-any.whl (459kB):  83%  385kB\r",
        "  Downloading requests-2.4.3-py2.py3-none-any.whl (459kB):  84%  389kB\r",
        "  Downloading requests-2.4.3-py2.py3-none-any.whl (459kB):  85%  393kB\r",
        "  Downloading requests-2.4.3-py2.py3-none-any.whl (459kB):  86%  397kB\r",
        "  Downloading requests-2.4.3-py2.py3-none-any.whl (459kB):  87%  401kB\r",
        "  Downloading requests-2.4.3-py2.py3-none-any.whl (459kB):  88%  405kB\r",
        "  Downloading requests-2.4.3-py2.py3-none-any.whl (459kB):  89%  409kB\r",
        "  Downloading requests-2.4.3-py2.py3-none-any.whl (459kB):  90%  413kB\r",
        "  Downloading requests-2.4.3-py2.py3-none-any.whl (459kB):  90%  417kB\r",
        "  Downloading requests-2.4.3-py2.py3-none-any.whl (459kB):  91%  421kB\r",
        "  Downloading requests-2.4.3-py2.py3-none-any.whl (459kB):  92%  425kB\r",
        "  Downloading requests-2.4.3-py2.py3-none-any.whl (459kB):  93%  430kB\r",
        "  Downloading requests-2.4.3-py2.py3-none-any.whl (459kB):  94%  434kB\r",
        "  Downloading requests-2.4.3-py2.py3-none-any.whl (459kB):  95%  438kB\r",
        "  Downloading requests-2.4.3-py2.py3-none-any.whl (459kB):  96%  442kB\r",
        "  Downloading requests-2.4.3-py2.py3-none-any.whl (459kB):  97%  446kB\r",
        "  Downloading requests-2.4.3-py2.py3-none-any.whl (459kB):  98%  450kB\r",
        "  Downloading requests-2.4.3-py2.py3-none-any.whl (459kB):  98%  454kB\r",
        "  Downloading requests-2.4.3-py2.py3-none-any.whl (459kB):  99%  458kB\r",
        "  Downloading requests-2.4.3-py2.py3-none-any.whl (459kB): 100%  459kB\r",
        "  Downloading requests-2.4.3-py2.py3-none-any.whl (459kB):            \r",
        "  Downloading requests-2.4.3-py2.py3-none-any.whl (459kB): 459kB downloaded\r\n"
       ]
      },
      {
       "output_type": "stream",
       "stream": "stdout",
       "text": [
        "Downloading/unpacking oauthlib>=0.6.2 (from requests-oauthlib==0.4.1->tweepy)\r\n"
       ]
      },
      {
       "output_type": "stream",
       "stream": "stdout",
       "text": [
        "  Downloading oauthlib-0.7.2.tar.gz (106kB): \r",
        "  Downloading oauthlib-0.7.2.tar.gz (106kB):   3%  4.1kB\r",
        "  Downloading oauthlib-0.7.2.tar.gz (106kB):   7%  8.2kB\r",
        "  Downloading oauthlib-0.7.2.tar.gz (106kB):  11%  12kB \r",
        "  Downloading oauthlib-0.7.2.tar.gz (106kB):  15%  16kB\r",
        "  Downloading oauthlib-0.7.2.tar.gz (106kB):  19%  20kB\r",
        "  Downloading oauthlib-0.7.2.tar.gz (106kB):  23%  24kB\r",
        "  Downloading oauthlib-0.7.2.tar.gz (106kB):  27%  28kB\r",
        "  Downloading oauthlib-0.7.2.tar.gz (106kB):  30%  32kB\r",
        "  Downloading oauthlib-0.7.2.tar.gz (106kB):  34%  36kB\r",
        "  Downloading oauthlib-0.7.2.tar.gz (106kB):  38%  40kB\r",
        "  Downloading oauthlib-0.7.2.tar.gz (106kB):  42%  45kB\r",
        "  Downloading oauthlib-0.7.2.tar.gz (106kB):  46%  49kB\r",
        "  Downloading oauthlib-0.7.2.tar.gz (106kB):  50%  53kB\r",
        "  Downloading oauthlib-0.7.2.tar.gz (106kB):  54%  57kB\r",
        "  Downloading oauthlib-0.7.2.tar.gz (106kB):  57%  61kB\r",
        "  Downloading oauthlib-0.7.2.tar.gz (106kB):  61%  65kB\r",
        "  Downloading oauthlib-0.7.2.tar.gz (106kB):  65%  69kB\r",
        "  Downloading oauthlib-0.7.2.tar.gz (106kB):  69%  73kB\r",
        "  Downloading oauthlib-0.7.2.tar.gz (106kB):  73%  77kB\r",
        "  Downloading oauthlib-0.7.2.tar.gz (106kB):  77%  81kB\r",
        "  Downloading oauthlib-0.7.2.tar.gz (106kB):  81%  86kB\r",
        "  Downloading oauthlib-0.7.2.tar.gz (106kB):  84%  90kB\r",
        "  Downloading oauthlib-0.7.2.tar.gz (106kB):  88%  94kB\r",
        "  Downloading oauthlib-0.7.2.tar.gz (106kB):  92%  98kB\r",
        "  Downloading oauthlib-0.7.2.tar.gz (106kB):  96%  102kB\r",
        "  Downloading oauthlib-0.7.2.tar.gz (106kB): 100%  106kB\r",
        "  Downloading oauthlib-0.7.2.tar.gz (106kB):            \r",
        "  Downloading oauthlib-0.7.2.tar.gz (106kB): 106kB downloaded\r\n"
       ]
      },
      {
       "output_type": "stream",
       "stream": "stdout",
       "text": [
        "  Running setup.py (path:/home/notebook/ka_env/build/oauthlib/setup.py) egg_info for package oauthlib\r\n"
       ]
      },
      {
       "output_type": "stream",
       "stream": "stdout",
       "text": [
        "    \r\n"
       ]
      },
      {
       "output_type": "stream",
       "stream": "stdout",
       "text": [
        "Installing collected packages: tweepy, requests-oauthlib, six, requests, oauthlib\r\n"
       ]
      },
      {
       "output_type": "stream",
       "stream": "stdout",
       "text": [
        "  Found existing installation: six 1.8.0\r\n",
        "    Uninstalling six:\r\n"
       ]
      },
      {
       "output_type": "stream",
       "stream": "stdout",
       "text": [
        "      Successfully uninstalled six\r\n",
        "  Found existing installation: requests 2.2.1\r\n",
        "    Not uninstalling requests at /usr/lib/python2.7/dist-packages, outside environment /home/notebook/ka_env\r\n"
       ]
      },
      {
       "output_type": "stream",
       "stream": "stdout",
       "text": [
        "  Running setup.py install for oauthlib\r\n"
       ]
      },
      {
       "output_type": "stream",
       "stream": "stdout",
       "text": [
        "    \r\n"
       ]
      },
      {
       "output_type": "stream",
       "stream": "stdout",
       "text": [
        "Successfully installed tweepy requests-oauthlib six requests oauthlib\r\n",
        "Cleaning up...\r\n"
       ]
      }
     ],
     "prompt_number": 9
    },
    {
     "cell_type": "code",
     "collapsed": false,
     "input": [
      "import tweepy\n",
      "from tweepy import OAuthHandler\n",
      "import twitter \n",
      "from pprint import pprint\n",
      "\n",
      "consumer_key = 'key'\n",
      "consumer_secret = 'secret'\n",
      "access_tokem = 'token'\n",
      "access_token_secret = 'token_secret'\n",
      "\n",
      "auth = tweepy.OAuthHandler(consumer_key, consumer_secret)\n",
      "\n",
      "# Redirect user to Twitter to authorize\n",
      "redirect_url = auth.get_authorization_url()\n",
      "print(redirect_url)\n",
      "verifier = raw_input(\"Enter the authorization code here: \").strip()\n",
      "\n",
      "# Get access token\n",
      "try:\n",
      "    auth.get_access_token(verifier)\n",
      "except tweepy.TweepError:\n",
      "    print 'Error! Failed to get access token.'\n",
      "\n",
      "#if you save sessions on a server use the commented snippet below\n",
      "#if so, remove the lines from redirect_url to here\n",
      "\n",
      "#auth.set_access_token(access_token, access_token_secret)\n",
      "\n",
      "# Construct the API instance\n",
      "\n",
      "api = tweepy.API(auth)\n",
      "\n",
      "\n",
      "#get the list in a user's timeline\n",
      "for status in api.lists_all(id = 'user_auth'):\n",
      "    print pprint(status)"
     ],
     "language": "python",
     "metadata": {},
     "outputs": [
      {
       "ename": "TweepError",
       "evalue": "Token request failed with code 401, response was 'Failed to validate oauth signature and token'.",
       "output_type": "pyerr",
       "traceback": [
        "\u001b[1;31m---------------------------------------------------------------------------\u001b[0m\n\u001b[1;31mTweepError\u001b[0m                                Traceback (most recent call last)",
        "\u001b[1;32m<ipython-input-10-fa7474ee8dd8>\u001b[0m in \u001b[0;36m<module>\u001b[1;34m()\u001b[0m\n\u001b[0;32m     12\u001b[0m \u001b[1;33m\u001b[0m\u001b[0m\n\u001b[0;32m     13\u001b[0m \u001b[1;31m# Redirect user to Twitter to authorize\u001b[0m\u001b[1;33m\u001b[0m\u001b[1;33m\u001b[0m\u001b[0m\n\u001b[1;32m---> 14\u001b[1;33m \u001b[0mredirect_url\u001b[0m \u001b[1;33m=\u001b[0m \u001b[0mauth\u001b[0m\u001b[1;33m.\u001b[0m\u001b[0mget_authorization_url\u001b[0m\u001b[1;33m(\u001b[0m\u001b[1;33m)\u001b[0m\u001b[1;33m\u001b[0m\u001b[0m\n\u001b[0m\u001b[0;32m     15\u001b[0m \u001b[1;32mprint\u001b[0m\u001b[1;33m(\u001b[0m\u001b[0mredirect_url\u001b[0m\u001b[1;33m)\u001b[0m\u001b[1;33m\u001b[0m\u001b[0m\n\u001b[0;32m     16\u001b[0m \u001b[0mverifier\u001b[0m \u001b[1;33m=\u001b[0m \u001b[0mraw_input\u001b[0m\u001b[1;33m(\u001b[0m\u001b[1;34m\"Enter the authorization code here: \"\u001b[0m\u001b[1;33m)\u001b[0m\u001b[1;33m.\u001b[0m\u001b[0mstrip\u001b[0m\u001b[1;33m(\u001b[0m\u001b[1;33m)\u001b[0m\u001b[1;33m\u001b[0m\u001b[0m\n",
        "\u001b[1;32m/home/notebook/ka_env/lib/python2.7/site-packages/tweepy/auth.pyc\u001b[0m in \u001b[0;36mget_authorization_url\u001b[1;34m(self, signin_with_twitter, access_type)\u001b[0m\n\u001b[0;32m     83\u001b[0m             \u001b[1;32melse\u001b[0m\u001b[1;33m:\u001b[0m\u001b[1;33m\u001b[0m\u001b[0m\n\u001b[0;32m     84\u001b[0m                 \u001b[0murl\u001b[0m \u001b[1;33m=\u001b[0m \u001b[0mself\u001b[0m\u001b[1;33m.\u001b[0m\u001b[0m_get_oauth_url\u001b[0m\u001b[1;33m(\u001b[0m\u001b[1;34m'authorize'\u001b[0m\u001b[1;33m)\u001b[0m\u001b[1;33m\u001b[0m\u001b[0m\n\u001b[1;32m---> 85\u001b[1;33m             \u001b[0mself\u001b[0m\u001b[1;33m.\u001b[0m\u001b[0mrequest_token\u001b[0m \u001b[1;33m=\u001b[0m \u001b[0mself\u001b[0m\u001b[1;33m.\u001b[0m\u001b[0m_get_request_token\u001b[0m\u001b[1;33m(\u001b[0m\u001b[0maccess_type\u001b[0m\u001b[1;33m=\u001b[0m\u001b[0maccess_type\u001b[0m\u001b[1;33m)\u001b[0m\u001b[1;33m\u001b[0m\u001b[0m\n\u001b[0m\u001b[0;32m     86\u001b[0m             \u001b[1;32mreturn\u001b[0m \u001b[0mself\u001b[0m\u001b[1;33m.\u001b[0m\u001b[0moauth\u001b[0m\u001b[1;33m.\u001b[0m\u001b[0mauthorization_url\u001b[0m\u001b[1;33m(\u001b[0m\u001b[0murl\u001b[0m\u001b[1;33m)\u001b[0m\u001b[1;33m\u001b[0m\u001b[0m\n\u001b[0;32m     87\u001b[0m         \u001b[1;32mexcept\u001b[0m \u001b[0mException\u001b[0m \u001b[1;32mas\u001b[0m \u001b[0me\u001b[0m\u001b[1;33m:\u001b[0m\u001b[1;33m\u001b[0m\u001b[0m\n",
        "\u001b[1;32m/home/notebook/ka_env/lib/python2.7/site-packages/tweepy/auth.pyc\u001b[0m in \u001b[0;36m_get_request_token\u001b[1;34m(self, access_type)\u001b[0m\n\u001b[0;32m     66\u001b[0m             \u001b[1;32mreturn\u001b[0m \u001b[0mself\u001b[0m\u001b[1;33m.\u001b[0m\u001b[0moauth\u001b[0m\u001b[1;33m.\u001b[0m\u001b[0mfetch_request_token\u001b[0m\u001b[1;33m(\u001b[0m\u001b[0murl\u001b[0m\u001b[1;33m)\u001b[0m\u001b[1;33m\u001b[0m\u001b[0m\n\u001b[0;32m     67\u001b[0m         \u001b[1;32mexcept\u001b[0m \u001b[0mException\u001b[0m \u001b[1;32mas\u001b[0m \u001b[0me\u001b[0m\u001b[1;33m:\u001b[0m\u001b[1;33m\u001b[0m\u001b[0m\n\u001b[1;32m---> 68\u001b[1;33m             \u001b[1;32mraise\u001b[0m \u001b[0mTweepError\u001b[0m\u001b[1;33m(\u001b[0m\u001b[0me\u001b[0m\u001b[1;33m)\u001b[0m\u001b[1;33m\u001b[0m\u001b[0m\n\u001b[0m\u001b[0;32m     69\u001b[0m \u001b[1;33m\u001b[0m\u001b[0m\n\u001b[0;32m     70\u001b[0m     \u001b[1;32mdef\u001b[0m \u001b[0mset_access_token\u001b[0m\u001b[1;33m(\u001b[0m\u001b[0mself\u001b[0m\u001b[1;33m,\u001b[0m \u001b[0mkey\u001b[0m\u001b[1;33m,\u001b[0m \u001b[0msecret\u001b[0m\u001b[1;33m)\u001b[0m\u001b[1;33m:\u001b[0m\u001b[1;33m\u001b[0m\u001b[0m\n",
        "\u001b[1;31mTweepError\u001b[0m: Token request failed with code 401, response was 'Failed to validate oauth signature and token'."
       ]
      }
     ],
     "prompt_number": 10
    },
    {
     "cell_type": "code",
     "collapsed": false,
     "input": [],
     "language": "python",
     "metadata": {},
     "outputs": []
    }
   ],
   "metadata": {}
  }
 ]
}