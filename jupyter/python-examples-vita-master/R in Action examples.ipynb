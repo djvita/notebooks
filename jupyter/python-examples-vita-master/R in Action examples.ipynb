{
 "cells": [
  {
   "cell_type": "code",
   "execution_count": 1,
   "metadata": {
    "collapsed": false
   },
   "outputs": [
    {
     "data": {
      "text/plain": [
       "[1] 1 2 3"
      ]
     },
     "execution_count": 1,
     "metadata": {},
     "output_type": "execute_result"
    }
   ],
   "source": [
    "a <- c(1,2,3)\n",
    "a"
   ]
  },
  {
   "cell_type": "code",
   "execution_count": 2,
   "metadata": {
    "collapsed": true
   },
   "outputs": [],
   "source": [
    "manager <- c(1, 2, 3, 4, 5)\n",
    "date <- c(\"10/24/08\", \"10/28/08\", \"10/1/08\", \"10/12/08\", \"5/1/09\")\n",
    "country <- c(\"US\", \"US\", \"UK\", \"UK\", \"UK\")\n",
    "gender <- c(\"M\", \"F\", \"F\", \"M\", \"F\")\n",
    "age <- c(32, 45, 25, 39, 99)\n",
    "q1 <- c(5, 3, 3, 3, 2)\n",
    "q2 <- c(4, 5, 5, 3, 2)\n",
    "q3 <- c(5, 2, 5, 4, 1)\n",
    "q4 <- c(5, 5, 5, NA, 2)\n",
    "q5 <- c(5, 5, 2, NA, 1)\n",
    "leadership <- data.frame(manager, date, country, gender, age,\n",
    " q1, q2, q3, q4, q5, stringsAsFactors=FALSE)"
   ]
  },
  {
   "cell_type": "code",
   "execution_count": 3,
   "metadata": {
    "collapsed": false
   },
   "outputs": [
    {
     "data": {
      "text/plain": [
       "  manager     date country gender age q1 q2 q3 q4 q5\n",
       "1       1 10/24/08      US      M  32  5  4  5  5  5\n",
       "2       2 10/28/08      US      F  45  3  5  2  5  5\n",
       "3       3  10/1/08      UK      F  25  3  5  5  5  2\n",
       "4       4 10/12/08      UK      M  39  3  3  4 NA NA\n",
       "5       5   5/1/09      UK      F  99  2  2  1  2  1"
      ]
     },
     "execution_count": 3,
     "metadata": {},
     "output_type": "execute_result"
    }
   ],
   "source": [
    "leadership"
   ]
  },
  {
   "cell_type": "code",
   "execution_count": 4,
   "metadata": {
    "collapsed": true
   },
   "outputs": [],
   "source": [
    "leadership <- within(leadership,{\n",
    " agecat <- NA\n",
    " agecat[age > 65] <- \"Elder\"\n",
    " agecat[age >= 35 & age <= 75] <- \"Middle Aged\"\n",
    " agecat[age < 35] <- \"Young\" })"
   ]
  },
  {
   "cell_type": "code",
   "execution_count": 5,
   "metadata": {
    "collapsed": false
   },
   "outputs": [
    {
     "data": {
      "text/plain": [
       "  manager     date country gender age q1 q2 q3 q4 q5      agecat\n",
       "1       1 10/24/08      US      M  32  5  4  5  5  5       Young\n",
       "2       2 10/28/08      US      F  45  3  5  2  5  5 Middle Aged\n",
       "3       3  10/1/08      UK      F  25  3  5  5  5  2       Young\n",
       "4       4 10/12/08      UK      M  39  3  3  4 NA NA Middle Aged\n",
       "5       5   5/1/09      UK      F  99  2  2  1  2  1       Elder"
      ]
     },
     "execution_count": 5,
     "metadata": {},
     "output_type": "execute_result"
    }
   ],
   "source": [
    "leadership"
   ]
  },
  {
   "cell_type": "code",
   "execution_count": 13,
   "metadata": {
    "collapsed": false
   },
   "outputs": [
    {
     "name": "stderr",
     "output_type": "stream",
     "text": [
      "Installing package into ‘/home/notebook/R/library’\n",
      "(as ‘lib’ is unspecified)\n",
      "also installing the dependency ‘MASS’\n",
      "\n"
     ]
    },
    {
     "name": "stdout",
     "output_type": "stream",
     "text": [
      "\n",
      "The downloaded source packages are in\n",
      "\t‘/tmp/Rtmpe2ZWqz/downloaded_packages’\n"
     ]
    }
   ],
   "source": [
    "install.packages(\"ggplot2\", repos=\"http://watson.nci.nih.gov/cran_mirror/\")"
   ]
  },
  {
   "cell_type": "code",
   "execution_count": 15,
   "metadata": {
    "collapsed": false
   },
   "outputs": [
    {
     "name": "stderr",
     "output_type": "stream",
     "text": [
      "Installing package into ‘/home/notebook/R/library’\n",
      "(as ‘lib’ is unspecified)\n"
     ]
    },
    {
     "name": "stdout",
     "output_type": "stream",
     "text": [
      "\n",
      "The downloaded source packages are in\n",
      "\t‘/tmp/Rtmpe2ZWqz/downloaded_packages’\n"
     ]
    }
   ],
   "source": [
    "install.packages('reshape', repos=\"http://cran.rstudio.com/\")"
   ]
  },
  {
   "cell_type": "code",
   "execution_count": 16,
   "metadata": {
    "collapsed": false
   },
   "outputs": [],
   "source": [
    "library(\"reshape\")\n",
    "leadership <- rename(leadership,\n",
    " c(manager=\"managerID\", date=\"testDate\")\n",
    ")"
   ]
  },
  {
   "cell_type": "code",
   "execution_count": 17,
   "metadata": {
    "collapsed": true
   },
   "outputs": [],
   "source": [
    "leadership$age[leadership$age == 99] <- NA"
   ]
  },
  {
   "cell_type": "code",
   "execution_count": 18,
   "metadata": {
    "collapsed": true
   },
   "outputs": [],
   "source": [
    "newdata <- na.omit(leadership)"
   ]
  },
  {
   "cell_type": "code",
   "execution_count": 19,
   "metadata": {
    "collapsed": false
   },
   "outputs": [
    {
     "data": {
      "text/plain": [
       "  managerID   testDate country gender age q1 q2 q3 q4 q5      agecat\n",
       "1         1 2008-10-24      US      M  32  5  4  5  5  5       Young\n",
       "2         2 2008-10-28      US      F  45  3  5  2  5  5 Middle Aged\n",
       "3         3 2008-10-01      UK      F  25  3  5  5  5  2       Young\n",
       "4         4 2008-10-12      UK      M  39  3  3  4 NA NA Middle Aged\n",
       "5         5 2009-05-01      UK      F  NA  2  2  1  2  1       Elder"
      ]
     },
     "execution_count": 19,
     "metadata": {},
     "output_type": "execute_result"
    }
   ],
   "source": [
    "myformat <- \"%m/%d/%y\"\n",
    "leadership$testDate <- as.Date(leadership$testDate, myformat)\n",
    "leadership"
   ]
  },
  {
   "cell_type": "code",
   "execution_count": 20,
   "metadata": {
    "collapsed": false
   },
   "outputs": [
    {
     "data": {
      "text/plain": [
       "  managerID   testDate country gender age q1 q2 q3 q4 q5      agecat\n",
       "5         5 2009-05-01      UK      F  NA  2  2  1  2  1       Elder\n",
       "2         2 2008-10-28      US      F  45  3  5  2  5  5 Middle Aged\n",
       "3         3 2008-10-01      UK      F  25  3  5  5  5  2       Young\n",
       "4         4 2008-10-12      UK      M  39  3  3  4 NA NA Middle Aged\n",
       "1         1 2008-10-24      US      M  32  5  4  5  5  5       Young"
      ]
     },
     "execution_count": 20,
     "metadata": {},
     "output_type": "execute_result"
    },
    {
     "data": {
      "text/plain": [
       "  managerID   testDate country gender age q1 q2 q3 q4 q5      agecat\n",
       "5         5 2009-05-01      UK      F  NA  2  2  1  2  1       Elder\n",
       "2         2 2008-10-28      US      F  45  3  5  2  5  5 Middle Aged\n",
       "3         3 2008-10-01      UK      F  25  3  5  5  5  2       Young\n",
       "4         4 2008-10-12      UK      M  39  3  3  4 NA NA Middle Aged\n",
       "1         1 2008-10-24      US      M  32  5  4  5  5  5       Young"
      ]
     },
     "execution_count": 20,
     "metadata": {},
     "output_type": "execute_result"
    }
   ],
   "source": [
    "attach(leadership)\n",
    "newdata <-leadership[order(gender, -age),]\n",
    "newdata\n",
    "detach(leadership)\n",
    "newdata"
   ]
  },
  {
   "cell_type": "code",
   "execution_count": 21,
   "metadata": {
    "collapsed": false
   },
   "outputs": [
    {
     "data": {
      "text/plain": [
       "           [,1]\n",
       "[1,] -1.4288690\n",
       "[2,] -1.0206207\n",
       "[3,] -0.6123724\n",
       "[4,] -0.2041241\n",
       "[5,]  0.2041241\n",
       "[6,]  0.6123724\n",
       "[7,]  1.0206207\n",
       "[8,]  1.4288690\n",
       "attr(,\"scaled:center\")\n",
       "[1] 4.5\n",
       "attr(,\"scaled:scale\")\n",
       "[1] 2.44949"
      ]
     },
     "execution_count": 21,
     "metadata": {},
     "output_type": "execute_result"
    }
   ],
   "source": [
    "x <- c(1:8)\n",
    "scale(x, center=TRUE, scale=TRUE)"
   ]
  },
  {
   "cell_type": "code",
   "execution_count": 22,
   "metadata": {
    "collapsed": false
   },
   "outputs": [
    {
     "data": {
      "image/png": "[encoded data removed]"
     },
     "metadata": {},
     "output_type": "display_data"
    },
    {
     "data": {
      "text/plain": [
       "[1] 0.9750021"
      ]
     },
     "execution_count": 22,
     "metadata": {},
     "output_type": "execute_result"
    }
   ],
   "source": [
    "x <- pretty(c(-3,3), 30)\n",
    "y <- dnorm(x)\n",
    "plot(x, y,\n",
    " type = \"l\",\n",
    " xlab = \"Normal Deviate\",\n",
    " ylab = \"Density\",\n",
    " yaxs = \"i\"\n",
    ")\n",
    "pnorm(1.96)"
   ]
  },
  {
   "cell_type": "code",
   "execution_count": 23,
   "metadata": {
    "collapsed": false
   },
   "outputs": [
    {
     "data": {
      "text/plain": [
       "[1] 500   3"
      ]
     },
     "execution_count": 23,
     "metadata": {},
     "output_type": "execute_result"
    },
    {
     "data": {
      "text/plain": [
       "       y    x1   x2\n",
       "1   98.8  41.3 3.43\n",
       "2  244.5 205.2 3.80\n",
       "3  375.7 186.7 2.51\n",
       "4  -59.2  11.2 4.71\n",
       "5  313.0 111.0 3.45\n",
       "6  288.8 185.1 2.72\n",
       "7  134.8 165.0 4.39\n",
       "8  171.7  97.4 3.64\n",
       "9  167.2 101.0 3.50\n",
       "10 121.1  94.5 4.10"
      ]
     },
     "execution_count": 23,
     "metadata": {},
     "output_type": "execute_result"
    }
   ],
   "source": [
    "library(MASS)\n",
    "options(digits=3)\n",
    "set.seed(1234) \n",
    "mean <- c(230.7, 146.7, 3.6)\n",
    "sigma <- matrix(c(15360.8, 6721.2, -47.1, \n",
    "                  6721.2, 4700.9, -16.5,\n",
    "                  -47.1, -16.5, 0.3), nrow=3, ncol=3)\n",
    "mydata <- mvrnorm(500, mean, sigma) \n",
    "mydata <- as.data.frame(mydata)\n",
    "names(mydata) <- c(\"y\",\"x1\",\"x2\")\n",
    "dim(mydata) \n",
    "\n",
    "head(mydata, n=10)"
   ]
  },
  {
   "cell_type": "code",
   "execution_count": 24,
   "metadata": {
    "collapsed": false
   },
   "outputs": [
    {
     "data": {
      "text/plain": []
     },
     "execution_count": 24,
     "metadata": {},
     "output_type": "execute_result"
    },
    {
     "data": {
      "image/png": "[encoded data removed]"
     },
     "metadata": {},
     "output_type": "display_data"
    }
   ],
   "source": [
    "library(ggplot2) \n",
    "\n",
    "a <- sample(1:25, 10)\n",
    "b <- sample(1:50, 10)\n",
    "c <- sample(1:20, 10)\n",
    "d <- sample(1:15, 10)\n",
    "mydf = data.frame(A=a, B=b, C=c, D=d)\n",
    "\n",
    "ggplot(mydf, aes(x= A, \n",
    "                 y = value, color = variable\n",
    "                )) +     geom_point(aes(y = C, col = \"C\")) + \n",
    "    geom_point(aes(y = D, col = \"D\")) + \n",
    "ggtitle(\"Scatter Plot\")"
   ]
  },
  {
   "cell_type": "code",
   "execution_count": null,
   "metadata": {
    "collapsed": true
   },
   "outputs": [],
   "source": []
  }
 ],
 "metadata": {
  "kernelspec": {
   "display_name": "R",
   "language": "",
   "name": "ir"
  },
  "language_info": {
   "codemirror_mode": "r",
   "file_extension": ".r",
   "mimetype": "text/x-r-source",
   "name": "R",
   "pygments_lexer": "r"
  }
 },
 "nbformat": 4,
 "nbformat_minor": 0
}
