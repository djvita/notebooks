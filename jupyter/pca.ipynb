{
 "cells": [
  {
   "cell_type": "markdown",
   "id": "0dbe1cb9",
   "metadata": {},
   "source": [
    "# Principal Component Analysis  \n",
    "https://blog.resolvingpython.com/python-tutorial-or-principal-component-analysis-made-simple\n",
    "\n",
    "1) Load the data\n",
    "\n",
    "\n",
    "        Simply execute the following lines of code to load the data\n",
    "        This dataset contains statistics about Car Accidents (columns)\n",
    "        In each one of USA States (rows)\n",
    "\n"
   ]
  },
  {
   "cell_type": "code",
   "execution_count": 8,
   "id": "decbe6ae",
   "metadata": {},
   "outputs": [
    {
     "data": {
      "text/html": [
       "<div>\n",
       "<style scoped>\n",
       "    .dataframe tbody tr th:only-of-type {\n",
       "        vertical-align: middle;\n",
       "    }\n",
       "\n",
       "    .dataframe tbody tr th {\n",
       "        vertical-align: top;\n",
       "    }\n",
       "\n",
       "    .dataframe thead th {\n",
       "        text-align: right;\n",
       "    }\n",
       "</style>\n",
       "<table border=\"1\" class=\"dataframe\">\n",
       "  <thead>\n",
       "    <tr style=\"text-align: right;\">\n",
       "      <th></th>\n",
       "      <th>total</th>\n",
       "      <th>speeding</th>\n",
       "      <th>alcohol</th>\n",
       "      <th>not_distracted</th>\n",
       "      <th>no_previous</th>\n",
       "      <th>ins_premium</th>\n",
       "      <th>ins_losses</th>\n",
       "    </tr>\n",
       "    <tr>\n",
       "      <th>abbrev</th>\n",
       "      <th></th>\n",
       "      <th></th>\n",
       "      <th></th>\n",
       "      <th></th>\n",
       "      <th></th>\n",
       "      <th></th>\n",
       "      <th></th>\n",
       "    </tr>\n",
       "  </thead>\n",
       "  <tbody>\n",
       "    <tr>\n",
       "      <th>NM</th>\n",
       "      <td>18.4</td>\n",
       "      <td>3.496</td>\n",
       "      <td>4.968</td>\n",
       "      <td>12.328</td>\n",
       "      <td>18.032</td>\n",
       "      <td>869.85</td>\n",
       "      <td>120.75</td>\n",
       "    </tr>\n",
       "    <tr>\n",
       "      <th>IL</th>\n",
       "      <td>12.8</td>\n",
       "      <td>4.608</td>\n",
       "      <td>4.352</td>\n",
       "      <td>12.032</td>\n",
       "      <td>12.288</td>\n",
       "      <td>803.11</td>\n",
       "      <td>139.15</td>\n",
       "    </tr>\n",
       "    <tr>\n",
       "      <th>KS</th>\n",
       "      <td>17.8</td>\n",
       "      <td>4.806</td>\n",
       "      <td>4.272</td>\n",
       "      <td>13.706</td>\n",
       "      <td>15.130</td>\n",
       "      <td>780.45</td>\n",
       "      <td>133.80</td>\n",
       "    </tr>\n",
       "    <tr>\n",
       "      <th>VA</th>\n",
       "      <td>12.7</td>\n",
       "      <td>2.413</td>\n",
       "      <td>3.429</td>\n",
       "      <td>11.049</td>\n",
       "      <td>11.176</td>\n",
       "      <td>768.95</td>\n",
       "      <td>153.72</td>\n",
       "    </tr>\n",
       "    <tr>\n",
       "      <th>MA</th>\n",
       "      <td>8.2</td>\n",
       "      <td>1.886</td>\n",
       "      <td>2.870</td>\n",
       "      <td>7.134</td>\n",
       "      <td>6.560</td>\n",
       "      <td>1011.14</td>\n",
       "      <td>135.63</td>\n",
       "    </tr>\n",
       "  </tbody>\n",
       "</table>\n",
       "</div>"
      ],
      "text/plain": [
       "        total  speeding  alcohol  not_distracted  no_previous  ins_premium  \\\n",
       "abbrev                                                                       \n",
       "NM       18.4     3.496    4.968          12.328       18.032       869.85   \n",
       "IL       12.8     4.608    4.352          12.032       12.288       803.11   \n",
       "KS       17.8     4.806    4.272          13.706       15.130       780.45   \n",
       "VA       12.7     2.413    3.429          11.049       11.176       768.95   \n",
       "MA        8.2     1.886    2.870           7.134        6.560      1011.14   \n",
       "\n",
       "        ins_losses  \n",
       "abbrev              \n",
       "NM          120.75  \n",
       "IL          139.15  \n",
       "KS          133.80  \n",
       "VA          153.72  \n",
       "MA          135.63  "
      ]
     },
     "execution_count": 8,
     "metadata": {},
     "output_type": "execute_result"
    }
   ],
   "source": [
    "import seaborn as sns\n",
    "\n",
    "df = sns.load_dataset(name='car_crashes', index_col='abbrev')\n",
    "df.sample(5)\n"
   ]
  },
  {
   "cell_type": "markdown",
   "id": "0a8ca9aa",
   "metadata": {},
   "source": [
    "Scale the Data\n",
    "\n",
    "Why do we need to scale the data?\n",
    "\n",
    "    Well, it is not the same to increase 1kg of weight than 1m of height\n",
    "    To make variables comparable we need to scale them into the same range of values\n",
    "    While maintaining their original distributions, of course\n"
   ]
  },
  {
   "cell_type": "code",
   "execution_count": 9,
   "id": "facb42bc",
   "metadata": {},
   "outputs": [
    {
     "data": {
      "text/html": [
       "<div>\n",
       "<style scoped>\n",
       "    .dataframe tbody tr th:only-of-type {\n",
       "        vertical-align: middle;\n",
       "    }\n",
       "\n",
       "    .dataframe tbody tr th {\n",
       "        vertical-align: top;\n",
       "    }\n",
       "\n",
       "    .dataframe thead th {\n",
       "        text-align: right;\n",
       "    }\n",
       "</style>\n",
       "<table border=\"1\" class=\"dataframe\">\n",
       "  <thead>\n",
       "    <tr style=\"text-align: right;\">\n",
       "      <th></th>\n",
       "      <th>total</th>\n",
       "      <th>speeding</th>\n",
       "      <th>alcohol</th>\n",
       "      <th>not_distracted</th>\n",
       "      <th>no_previous</th>\n",
       "      <th>ins_premium</th>\n",
       "      <th>ins_losses</th>\n",
       "    </tr>\n",
       "    <tr>\n",
       "      <th>abbrev</th>\n",
       "      <th></th>\n",
       "      <th></th>\n",
       "      <th></th>\n",
       "      <th></th>\n",
       "      <th></th>\n",
       "      <th></th>\n",
       "      <th></th>\n",
       "    </tr>\n",
       "  </thead>\n",
       "  <tbody>\n",
       "    <tr>\n",
       "      <th>ND</th>\n",
       "      <td>1.987020</td>\n",
       "      <td>0.249668</td>\n",
       "      <td>3.008718</td>\n",
       "      <td>2.259537</td>\n",
       "      <td>1.756935</td>\n",
       "      <td>-1.122737</td>\n",
       "      <td>-1.007397</td>\n",
       "    </tr>\n",
       "    <tr>\n",
       "      <th>TN</th>\n",
       "      <td>0.908956</td>\n",
       "      <td>-0.452080</td>\n",
       "      <td>0.448699</td>\n",
       "      <td>0.541336</td>\n",
       "      <td>0.480236</td>\n",
       "      <td>-0.674340</td>\n",
       "      <td>0.857089</td>\n",
       "    </tr>\n",
       "    <tr>\n",
       "      <th>WV</th>\n",
       "      <td>1.962518</td>\n",
       "      <td>1.548553</td>\n",
       "      <td>1.038035</td>\n",
       "      <td>2.130745</td>\n",
       "      <td>1.797712</td>\n",
       "      <td>0.598463</td>\n",
       "      <td>0.734687</td>\n",
       "    </tr>\n",
       "    <tr>\n",
       "      <th>CO</th>\n",
       "      <td>-0.536630</td>\n",
       "      <td>0.016920</td>\n",
       "      <td>-0.630095</td>\n",
       "      <td>-0.633698</td>\n",
       "      <td>-0.291042</td>\n",
       "      <td>-0.291479</td>\n",
       "      <td>0.220276</td>\n",
       "    </tr>\n",
       "    <tr>\n",
       "      <th>MA</th>\n",
       "      <td>-1.859708</td>\n",
       "      <td>-1.557759</td>\n",
       "      <td>-1.177962</td>\n",
       "      <td>-1.442289</td>\n",
       "      <td>-1.997242</td>\n",
       "      <td>0.703425</td>\n",
       "      <td>0.046230</td>\n",
       "    </tr>\n",
       "  </tbody>\n",
       "</table>\n",
       "</div>"
      ],
      "text/plain": [
       "           total  speeding   alcohol  not_distracted  no_previous  \\\n",
       "abbrev                                                              \n",
       "ND      1.987020  0.249668  3.008718        2.259537     1.756935   \n",
       "TN      0.908956 -0.452080  0.448699        0.541336     0.480236   \n",
       "WV      1.962518  1.548553  1.038035        2.130745     1.797712   \n",
       "CO     -0.536630  0.016920 -0.630095       -0.633698    -0.291042   \n",
       "MA     -1.859708 -1.557759 -1.177962       -1.442289    -1.997242   \n",
       "\n",
       "        ins_premium  ins_losses  \n",
       "abbrev                           \n",
       "ND        -1.122737   -1.007397  \n",
       "TN        -0.674340    0.857089  \n",
       "WV         0.598463    0.734687  \n",
       "CO        -0.291479    0.220276  \n",
       "MA         0.703425    0.046230  "
      ]
     },
     "execution_count": 9,
     "metadata": {},
     "output_type": "execute_result"
    }
   ],
   "source": [
    "from sklearn.preprocessing import StandardScaler\n",
    "import pandas as pd\n",
    "\n",
    "scaler = StandardScaler()\n",
    "dfnorm = pd.DataFrame(scaler.fit_transform(df), columns=df.columns, index=df.index)\n",
    "dfnorm.sample(5)\n"
   ]
  },
  {
   "cell_type": "markdown",
   "id": "3b90573a",
   "metadata": {},
   "source": [
    "KMeans() Cluster Analysis\n",
    "\n",
    "What's the goal of the Cluster Analysis?\n",
    "\n",
    "    You may observe that there isn't a column that tells you the group a USA State belongs\n",
    "    Let's say you're USA President and you'd like to group the States regarding their characteristics (columns) of Car Accidents\n",
    "    Because you won't implement 51 policies (it takes a lot of research and money) for each state\n",
    "    On the other hand, you would like to apply the same policies to States that behave the same way\n",
    "    And that's what KMeans() will do for you "
   ]
  },
  {
   "cell_type": "code",
   "execution_count": 10,
   "id": "0100f7cb",
   "metadata": {},
   "outputs": [
    {
     "data": {
      "text/html": [
       "<style>#sk-container-id-2 {color: black;background-color: white;}#sk-container-id-2 pre{padding: 0;}#sk-container-id-2 div.sk-toggleable {background-color: white;}#sk-container-id-2 label.sk-toggleable__label {cursor: pointer;display: block;width: 100%;margin-bottom: 0;padding: 0.3em;box-sizing: border-box;text-align: center;}#sk-container-id-2 label.sk-toggleable__label-arrow:before {content: \"▸\";float: left;margin-right: 0.25em;color: #696969;}#sk-container-id-2 label.sk-toggleable__label-arrow:hover:before {color: black;}#sk-container-id-2 div.sk-estimator:hover label.sk-toggleable__label-arrow:before {color: black;}#sk-container-id-2 div.sk-toggleable__content {max-height: 0;max-width: 0;overflow: hidden;text-align: left;background-color: #f0f8ff;}#sk-container-id-2 div.sk-toggleable__content pre {margin: 0.2em;color: black;border-radius: 0.25em;background-color: #f0f8ff;}#sk-container-id-2 input.sk-toggleable__control:checked~div.sk-toggleable__content {max-height: 200px;max-width: 100%;overflow: auto;}#sk-container-id-2 input.sk-toggleable__control:checked~label.sk-toggleable__label-arrow:before {content: \"▾\";}#sk-container-id-2 div.sk-estimator input.sk-toggleable__control:checked~label.sk-toggleable__label {background-color: #d4ebff;}#sk-container-id-2 div.sk-label input.sk-toggleable__control:checked~label.sk-toggleable__label {background-color: #d4ebff;}#sk-container-id-2 input.sk-hidden--visually {border: 0;clip: rect(1px 1px 1px 1px);clip: rect(1px, 1px, 1px, 1px);height: 1px;margin: -1px;overflow: hidden;padding: 0;position: absolute;width: 1px;}#sk-container-id-2 div.sk-estimator {font-family: monospace;background-color: #f0f8ff;border: 1px dotted black;border-radius: 0.25em;box-sizing: border-box;margin-bottom: 0.5em;}#sk-container-id-2 div.sk-estimator:hover {background-color: #d4ebff;}#sk-container-id-2 div.sk-parallel-item::after {content: \"\";width: 100%;border-bottom: 1px solid gray;flex-grow: 1;}#sk-container-id-2 div.sk-label:hover label.sk-toggleable__label {background-color: #d4ebff;}#sk-container-id-2 div.sk-serial::before {content: \"\";position: absolute;border-left: 1px solid gray;box-sizing: border-box;top: 0;bottom: 0;left: 50%;z-index: 0;}#sk-container-id-2 div.sk-serial {display: flex;flex-direction: column;align-items: center;background-color: white;padding-right: 0.2em;padding-left: 0.2em;position: relative;}#sk-container-id-2 div.sk-item {position: relative;z-index: 1;}#sk-container-id-2 div.sk-parallel {display: flex;align-items: stretch;justify-content: center;background-color: white;position: relative;}#sk-container-id-2 div.sk-item::before, #sk-container-id-2 div.sk-parallel-item::before {content: \"\";position: absolute;border-left: 1px solid gray;box-sizing: border-box;top: 0;bottom: 0;left: 50%;z-index: -1;}#sk-container-id-2 div.sk-parallel-item {display: flex;flex-direction: column;z-index: 1;position: relative;background-color: white;}#sk-container-id-2 div.sk-parallel-item:first-child::after {align-self: flex-end;width: 50%;}#sk-container-id-2 div.sk-parallel-item:last-child::after {align-self: flex-start;width: 50%;}#sk-container-id-2 div.sk-parallel-item:only-child::after {width: 0;}#sk-container-id-2 div.sk-dashed-wrapped {border: 1px dashed gray;margin: 0 0.4em 0.5em 0.4em;box-sizing: border-box;padding-bottom: 0.4em;background-color: white;}#sk-container-id-2 div.sk-label label {font-family: monospace;font-weight: bold;display: inline-block;line-height: 1.2em;}#sk-container-id-2 div.sk-label-container {text-align: center;}#sk-container-id-2 div.sk-container {/* jupyter's `normalize.less` sets `[hidden] { display: none; }` but bootstrap.min.css set `[hidden] { display: none !important; }` so we also need the `!important` here to be able to override the default hidden behavior on the sphinx rendered scikit-learn.org. See: https://github.com/scikit-learn/scikit-learn/issues/21755 */display: inline-block !important;position: relative;}#sk-container-id-2 div.sk-text-repr-fallback {display: none;}</style><div id=\"sk-container-id-2\" class=\"sk-top-container\"><div class=\"sk-text-repr-fallback\"><pre>KMeans(n_clusters=3)</pre><b>In a Jupyter environment, please rerun this cell to show the HTML representation or trust the notebook. <br />On GitHub, the HTML representation is unable to render, please try loading this page with nbviewer.org.</b></div><div class=\"sk-container\" hidden><div class=\"sk-item\"><div class=\"sk-estimator sk-toggleable\"><input class=\"sk-toggleable__control sk-hidden--visually\" id=\"sk-estimator-id-2\" type=\"checkbox\" checked><label for=\"sk-estimator-id-2\" class=\"sk-toggleable__label sk-toggleable__label-arrow\">KMeans</label><div class=\"sk-toggleable__content\"><pre>KMeans(n_clusters=3)</pre></div></div></div></div></div>"
      ],
      "text/plain": [
       "KMeans(n_clusters=3)"
      ]
     },
     "execution_count": 10,
     "metadata": {},
     "output_type": "execute_result"
    }
   ],
   "source": [
    "from sklearn.cluster import KMeans\n",
    "\n",
    "model = KMeans(n_clusters=3)\n",
    "model.fit(dfnorm)\n"
   ]
  },
  {
   "cell_type": "markdown",
   "id": "b64e1040",
   "metadata": {},
   "source": [
    "Cluster Visualization\n",
    "\n",
    "How do you visualize the KMeans() model?\n",
    "\n",
    "    You may colour the points as the group they belong to ↓\n"
   ]
  },
  {
   "cell_type": "code",
   "execution_count": 11,
   "id": "998e6e50",
   "metadata": {
    "scrolled": true
   },
   "outputs": [
    {
     "data": {
      "application/vnd.plotly.v1+json": {
       "config": {
        "plotlyServerURL": "https://plot.ly"
       },
       "data": [
        {
         "hovertemplate": "color=1<br>alcohol=%{x}<br>ins_premium=%{y}<extra></extra>",
         "legendgroup": "1",
         "marker": {
          "color": "#636efa",
          "symbol": "circle"
         },
         "mode": "markers",
         "name": "1",
         "orientation": "v",
         "showlegend": true,
         "type": "scatter",
         "x": [
          5.64,
          4.525,
          5.208000000000001,
          5.824,
          4.86,
          5.190999999999999,
          7.175,
          4.922,
          6.765,
          5.474000000000001,
          9.416,
          5.208000000000001,
          10.038,
          5.770999999999999,
          5.642,
          9.799,
          6.401999999999999,
          5.655,
          7.371999999999999,
          6.664,
          5.568
         ],
         "xaxis": "x",
         "y": [
          784.55,
          1053.48,
          899.47,
          827.34,
          1137.87,
          1160.13,
          861.18,
          872.51,
          1281.55,
          790.32,
          816.21,
          708.24,
          688.75,
          881.51,
          905.99,
          858.97,
          669.31,
          767.91,
          1004.75,
          992.61,
          791.14
         ],
         "yaxis": "y"
        },
        {
         "hovertemplate": "color=2<br>alcohol=%{x}<br>ins_premium=%{y}<extra></extra>",
         "legendgroup": "2",
         "marker": {
          "color": "#EF553B",
          "symbol": "circle"
         },
         "mode": "markers",
         "name": "2",
         "orientation": "v",
         "showlegend": true,
         "type": "scatter",
         "x": [
          3.36,
          3.888,
          1.5930000000000002,
          4,
          2.87,
          3.948,
          3.136,
          3.5670000000000006,
          4.218
         ],
         "xaxis": "x",
         "y": [
          878.41,
          1068.73,
          1273.89,
          1048.78,
          1011.14,
          1110.61,
          1301.52,
          1234.31,
          1148.99
         ],
         "yaxis": "y"
        },
        {
         "hovertemplate": "color=0<br>alcohol=%{x}<br>ins_premium=%{y}<extra></extra>",
         "legendgroup": "0",
         "marker": {
          "color": "#00cc96",
          "symbol": "circle"
         },
         "mode": "markers",
         "name": "0",
         "orientation": "v",
         "showlegend": true,
         "type": "scatter",
         "x": [
          3.808,
          3.9,
          4.437,
          4.352,
          4.205,
          3.925,
          4.272,
          4.53,
          2.784,
          5.456,
          5.215,
          4.704,
          3.48,
          4.968,
          4.794,
          3.3280000000000003,
          1.808,
          4.08,
          3.429,
          3.498,
          4.554
         ],
         "xaxis": "x",
         "y": [
          835.5,
          913.15,
          641.96,
          803.11,
          710.46,
          649.06,
          780.45,
          661.88,
          777.18,
          896.07,
          732.28,
          1029.87,
          746.54,
          869.85,
          697.73,
          804.71,
          809.38,
          716.2,
          768.95,
          890.03,
          670.31
         ],
         "yaxis": "y"
        }
       ],
       "layout": {
        "legend": {
         "title": {
          "text": "color"
         },
         "tracegroupgap": 0
        },
        "margin": {
         "t": 60
        },
        "template": {
         "data": {
          "bar": [
           {
            "error_x": {
             "color": "#2a3f5f"
            },
            "error_y": {
             "color": "#2a3f5f"
            },
            "marker": {
             "line": {
              "color": "#E5ECF6",
              "width": 0.5
             },
             "pattern": {
              "fillmode": "overlay",
              "size": 10,
              "solidity": 0.2
             }
            },
            "type": "bar"
           }
          ],
          "barpolar": [
           {
            "marker": {
             "line": {
              "color": "#E5ECF6",
              "width": 0.5
             },
             "pattern": {
              "fillmode": "overlay",
              "size": 10,
              "solidity": 0.2
             }
            },
            "type": "barpolar"
           }
          ],
          "carpet": [
           {
            "aaxis": {
             "endlinecolor": "#2a3f5f",
             "gridcolor": "white",
             "linecolor": "white",
             "minorgridcolor": "white",
             "startlinecolor": "#2a3f5f"
            },
            "baxis": {
             "endlinecolor": "#2a3f5f",
             "gridcolor": "white",
             "linecolor": "white",
             "minorgridcolor": "white",
             "startlinecolor": "#2a3f5f"
            },
            "type": "carpet"
           }
          ],
          "choropleth": [
           {
            "colorbar": {
             "outlinewidth": 0,
             "ticks": ""
            },
            "type": "choropleth"
           }
          ],
          "contour": [
           {
            "colorbar": {
             "outlinewidth": 0,
             "ticks": ""
            },
            "colorscale": [
             [
              0,
              "#0d0887"
             ],
             [
              0.1111111111111111,
              "#46039f"
             ],
             [
              0.2222222222222222,
              "#7201a8"
             ],
             [
              0.3333333333333333,
              "#9c179e"
             ],
             [
              0.4444444444444444,
              "#bd3786"
             ],
             [
              0.5555555555555556,
              "#d8576b"
             ],
             [
              0.6666666666666666,
              "#ed7953"
             ],
             [
              0.7777777777777778,
              "#fb9f3a"
             ],
             [
              0.8888888888888888,
              "#fdca26"
             ],
             [
              1,
              "#f0f921"
             ]
            ],
            "type": "contour"
           }
          ],
          "contourcarpet": [
           {
            "colorbar": {
             "outlinewidth": 0,
             "ticks": ""
            },
            "type": "contourcarpet"
           }
          ],
          "heatmap": [
           {
            "colorbar": {
             "outlinewidth": 0,
             "ticks": ""
            },
            "colorscale": [
             [
              0,
              "#0d0887"
             ],
             [
              0.1111111111111111,
              "#46039f"
             ],
             [
              0.2222222222222222,
              "#7201a8"
             ],
             [
              0.3333333333333333,
              "#9c179e"
             ],
             [
              0.4444444444444444,
              "#bd3786"
             ],
             [
              0.5555555555555556,
              "#d8576b"
             ],
             [
              0.6666666666666666,
              "#ed7953"
             ],
             [
              0.7777777777777778,
              "#fb9f3a"
             ],
             [
              0.8888888888888888,
              "#fdca26"
             ],
             [
              1,
              "#f0f921"
             ]
            ],
            "type": "heatmap"
           }
          ],
          "heatmapgl": [
           {
            "colorbar": {
             "outlinewidth": 0,
             "ticks": ""
            },
            "colorscale": [
             [
              0,
              "#0d0887"
             ],
             [
              0.1111111111111111,
              "#46039f"
             ],
             [
              0.2222222222222222,
              "#7201a8"
             ],
             [
              0.3333333333333333,
              "#9c179e"
             ],
             [
              0.4444444444444444,
              "#bd3786"
             ],
             [
              0.5555555555555556,
              "#d8576b"
             ],
             [
              0.6666666666666666,
              "#ed7953"
             ],
             [
              0.7777777777777778,
              "#fb9f3a"
             ],
             [
              0.8888888888888888,
              "#fdca26"
             ],
             [
              1,
              "#f0f921"
             ]
            ],
            "type": "heatmapgl"
           }
          ],
          "histogram": [
           {
            "marker": {
             "pattern": {
              "fillmode": "overlay",
              "size": 10,
              "solidity": 0.2
             }
            },
            "type": "histogram"
           }
          ],
          "histogram2d": [
           {
            "colorbar": {
             "outlinewidth": 0,
             "ticks": ""
            },
            "colorscale": [
             [
              0,
              "#0d0887"
             ],
             [
              0.1111111111111111,
              "#46039f"
             ],
             [
              0.2222222222222222,
              "#7201a8"
             ],
             [
              0.3333333333333333,
              "#9c179e"
             ],
             [
              0.4444444444444444,
              "#bd3786"
             ],
             [
              0.5555555555555556,
              "#d8576b"
             ],
             [
              0.6666666666666666,
              "#ed7953"
             ],
             [
              0.7777777777777778,
              "#fb9f3a"
             ],
             [
              0.8888888888888888,
              "#fdca26"
             ],
             [
              1,
              "#f0f921"
             ]
            ],
            "type": "histogram2d"
           }
          ],
          "histogram2dcontour": [
           {
            "colorbar": {
             "outlinewidth": 0,
             "ticks": ""
            },
            "colorscale": [
             [
              0,
              "#0d0887"
             ],
             [
              0.1111111111111111,
              "#46039f"
             ],
             [
              0.2222222222222222,
              "#7201a8"
             ],
             [
              0.3333333333333333,
              "#9c179e"
             ],
             [
              0.4444444444444444,
              "#bd3786"
             ],
             [
              0.5555555555555556,
              "#d8576b"
             ],
             [
              0.6666666666666666,
              "#ed7953"
             ],
             [
              0.7777777777777778,
              "#fb9f3a"
             ],
             [
              0.8888888888888888,
              "#fdca26"
             ],
             [
              1,
              "#f0f921"
             ]
            ],
            "type": "histogram2dcontour"
           }
          ],
          "mesh3d": [
           {
            "colorbar": {
             "outlinewidth": 0,
             "ticks": ""
            },
            "type": "mesh3d"
           }
          ],
          "parcoords": [
           {
            "line": {
             "colorbar": {
              "outlinewidth": 0,
              "ticks": ""
             }
            },
            "type": "parcoords"
           }
          ],
          "pie": [
           {
            "automargin": true,
            "type": "pie"
           }
          ],
          "scatter": [
           {
            "fillpattern": {
             "fillmode": "overlay",
             "size": 10,
             "solidity": 0.2
            },
            "type": "scatter"
           }
          ],
          "scatter3d": [
           {
            "line": {
             "colorbar": {
              "outlinewidth": 0,
              "ticks": ""
             }
            },
            "marker": {
             "colorbar": {
              "outlinewidth": 0,
              "ticks": ""
             }
            },
            "type": "scatter3d"
           }
          ],
          "scattercarpet": [
           {
            "marker": {
             "colorbar": {
              "outlinewidth": 0,
              "ticks": ""
             }
            },
            "type": "scattercarpet"
           }
          ],
          "scattergeo": [
           {
            "marker": {
             "colorbar": {
              "outlinewidth": 0,
              "ticks": ""
             }
            },
            "type": "scattergeo"
           }
          ],
          "scattergl": [
           {
            "marker": {
             "colorbar": {
              "outlinewidth": 0,
              "ticks": ""
             }
            },
            "type": "scattergl"
           }
          ],
          "scattermapbox": [
           {
            "marker": {
             "colorbar": {
              "outlinewidth": 0,
              "ticks": ""
             }
            },
            "type": "scattermapbox"
           }
          ],
          "scatterpolar": [
           {
            "marker": {
             "colorbar": {
              "outlinewidth": 0,
              "ticks": ""
             }
            },
            "type": "scatterpolar"
           }
          ],
          "scatterpolargl": [
           {
            "marker": {
             "colorbar": {
              "outlinewidth": 0,
              "ticks": ""
             }
            },
            "type": "scatterpolargl"
           }
          ],
          "scatterternary": [
           {
            "marker": {
             "colorbar": {
              "outlinewidth": 0,
              "ticks": ""
             }
            },
            "type": "scatterternary"
           }
          ],
          "surface": [
           {
            "colorbar": {
             "outlinewidth": 0,
             "ticks": ""
            },
            "colorscale": [
             [
              0,
              "#0d0887"
             ],
             [
              0.1111111111111111,
              "#46039f"
             ],
             [
              0.2222222222222222,
              "#7201a8"
             ],
             [
              0.3333333333333333,
              "#9c179e"
             ],
             [
              0.4444444444444444,
              "#bd3786"
             ],
             [
              0.5555555555555556,
              "#d8576b"
             ],
             [
              0.6666666666666666,
              "#ed7953"
             ],
             [
              0.7777777777777778,
              "#fb9f3a"
             ],
             [
              0.8888888888888888,
              "#fdca26"
             ],
             [
              1,
              "#f0f921"
             ]
            ],
            "type": "surface"
           }
          ],
          "table": [
           {
            "cells": {
             "fill": {
              "color": "#EBF0F8"
             },
             "line": {
              "color": "white"
             }
            },
            "header": {
             "fill": {
              "color": "#C8D4E3"
             },
             "line": {
              "color": "white"
             }
            },
            "type": "table"
           }
          ]
         },
         "layout": {
          "annotationdefaults": {
           "arrowcolor": "#2a3f5f",
           "arrowhead": 0,
           "arrowwidth": 1
          },
          "autotypenumbers": "strict",
          "coloraxis": {
           "colorbar": {
            "outlinewidth": 0,
            "ticks": ""
           }
          },
          "colorscale": {
           "diverging": [
            [
             0,
             "#8e0152"
            ],
            [
             0.1,
             "#c51b7d"
            ],
            [
             0.2,
             "#de77ae"
            ],
            [
             0.3,
             "#f1b6da"
            ],
            [
             0.4,
             "#fde0ef"
            ],
            [
             0.5,
             "#f7f7f7"
            ],
            [
             0.6,
             "#e6f5d0"
            ],
            [
             0.7,
             "#b8e186"
            ],
            [
             0.8,
             "#7fbc41"
            ],
            [
             0.9,
             "#4d9221"
            ],
            [
             1,
             "#276419"
            ]
           ],
           "sequential": [
            [
             0,
             "#0d0887"
            ],
            [
             0.1111111111111111,
             "#46039f"
            ],
            [
             0.2222222222222222,
             "#7201a8"
            ],
            [
             0.3333333333333333,
             "#9c179e"
            ],
            [
             0.4444444444444444,
             "#bd3786"
            ],
            [
             0.5555555555555556,
             "#d8576b"
            ],
            [
             0.6666666666666666,
             "#ed7953"
            ],
            [
             0.7777777777777778,
             "#fb9f3a"
            ],
            [
             0.8888888888888888,
             "#fdca26"
            ],
            [
             1,
             "#f0f921"
            ]
           ],
           "sequentialminus": [
            [
             0,
             "#0d0887"
            ],
            [
             0.1111111111111111,
             "#46039f"
            ],
            [
             0.2222222222222222,
             "#7201a8"
            ],
            [
             0.3333333333333333,
             "#9c179e"
            ],
            [
             0.4444444444444444,
             "#bd3786"
            ],
            [
             0.5555555555555556,
             "#d8576b"
            ],
            [
             0.6666666666666666,
             "#ed7953"
            ],
            [
             0.7777777777777778,
             "#fb9f3a"
            ],
            [
             0.8888888888888888,
             "#fdca26"
            ],
            [
             1,
             "#f0f921"
            ]
           ]
          },
          "colorway": [
           "#636efa",
           "#EF553B",
           "#00cc96",
           "#ab63fa",
           "#FFA15A",
           "#19d3f3",
           "#FF6692",
           "#B6E880",
           "#FF97FF",
           "#FECB52"
          ],
          "font": {
           "color": "#2a3f5f"
          },
          "geo": {
           "bgcolor": "white",
           "lakecolor": "white",
           "landcolor": "#E5ECF6",
           "showlakes": true,
           "showland": true,
           "subunitcolor": "white"
          },
          "hoverlabel": {
           "align": "left"
          },
          "hovermode": "closest",
          "mapbox": {
           "style": "light"
          },
          "paper_bgcolor": "white",
          "plot_bgcolor": "#E5ECF6",
          "polar": {
           "angularaxis": {
            "gridcolor": "white",
            "linecolor": "white",
            "ticks": ""
           },
           "bgcolor": "#E5ECF6",
           "radialaxis": {
            "gridcolor": "white",
            "linecolor": "white",
            "ticks": ""
           }
          },
          "scene": {
           "xaxis": {
            "backgroundcolor": "#E5ECF6",
            "gridcolor": "white",
            "gridwidth": 2,
            "linecolor": "white",
            "showbackground": true,
            "ticks": "",
            "zerolinecolor": "white"
           },
           "yaxis": {
            "backgroundcolor": "#E5ECF6",
            "gridcolor": "white",
            "gridwidth": 2,
            "linecolor": "white",
            "showbackground": true,
            "ticks": "",
            "zerolinecolor": "white"
           },
           "zaxis": {
            "backgroundcolor": "#E5ECF6",
            "gridcolor": "white",
            "gridwidth": 2,
            "linecolor": "white",
            "showbackground": true,
            "ticks": "",
            "zerolinecolor": "white"
           }
          },
          "shapedefaults": {
           "line": {
            "color": "#2a3f5f"
           }
          },
          "ternary": {
           "aaxis": {
            "gridcolor": "white",
            "linecolor": "white",
            "ticks": ""
           },
           "baxis": {
            "gridcolor": "white",
            "linecolor": "white",
            "ticks": ""
           },
           "bgcolor": "#E5ECF6",
           "caxis": {
            "gridcolor": "white",
            "linecolor": "white",
            "ticks": ""
           }
          },
          "title": {
           "x": 0.05
          },
          "xaxis": {
           "automargin": true,
           "gridcolor": "white",
           "linecolor": "white",
           "ticks": "",
           "title": {
            "standoff": 15
           },
           "zerolinecolor": "white",
           "zerolinewidth": 2
          },
          "yaxis": {
           "automargin": true,
           "gridcolor": "white",
           "linecolor": "white",
           "ticks": "",
           "title": {
            "standoff": 15
           },
           "zerolinecolor": "white",
           "zerolinewidth": 2
          }
         }
        },
        "xaxis": {
         "anchor": "y",
         "domain": [
          0,
          1
         ],
         "title": {
          "text": "alcohol"
         }
        },
        "yaxis": {
         "anchor": "x",
         "domain": [
          0,
          1
         ],
         "title": {
          "text": "ins_premium"
         }
        }
       }
      },
      "text/html": [
       "<div>                            <div id=\"3ac32710-4dab-4112-a24c-13c10bc92e12\" class=\"plotly-graph-div\" style=\"height:525px; width:100%;\"></div>            <script type=\"text/javascript\">                require([\"plotly\"], function(Plotly) {                    window.PLOTLYENV=window.PLOTLYENV || {};                                    if (document.getElementById(\"3ac32710-4dab-4112-a24c-13c10bc92e12\")) {                    Plotly.newPlot(                        \"3ac32710-4dab-4112-a24c-13c10bc92e12\",                        [{\"hovertemplate\":\"color=1<br>alcohol=%{x}<br>ins_premium=%{y}<extra></extra>\",\"legendgroup\":\"1\",\"marker\":{\"color\":\"#636efa\",\"symbol\":\"circle\"},\"mode\":\"markers\",\"name\":\"1\",\"orientation\":\"v\",\"showlegend\":true,\"x\":[5.64,4.525,5.208000000000001,5.824,4.86,5.190999999999999,7.175,4.922,6.765,5.474000000000001,9.416,5.208000000000001,10.038,5.770999999999999,5.642,9.799,6.401999999999999,5.655,7.371999999999999,6.664,5.568],\"xaxis\":\"x\",\"y\":[784.55,1053.48,899.47,827.34,1137.87,1160.13,861.18,872.51,1281.55,790.32,816.21,708.24,688.75,881.51,905.99,858.97,669.31,767.91,1004.75,992.61,791.14],\"yaxis\":\"y\",\"type\":\"scatter\"},{\"hovertemplate\":\"color=2<br>alcohol=%{x}<br>ins_premium=%{y}<extra></extra>\",\"legendgroup\":\"2\",\"marker\":{\"color\":\"#EF553B\",\"symbol\":\"circle\"},\"mode\":\"markers\",\"name\":\"2\",\"orientation\":\"v\",\"showlegend\":true,\"x\":[3.36,3.888,1.5930000000000002,4.0,2.87,3.948,3.136,3.5670000000000006,4.218],\"xaxis\":\"x\",\"y\":[878.41,1068.73,1273.89,1048.78,1011.14,1110.61,1301.52,1234.31,1148.99],\"yaxis\":\"y\",\"type\":\"scatter\"},{\"hovertemplate\":\"color=0<br>alcohol=%{x}<br>ins_premium=%{y}<extra></extra>\",\"legendgroup\":\"0\",\"marker\":{\"color\":\"#00cc96\",\"symbol\":\"circle\"},\"mode\":\"markers\",\"name\":\"0\",\"orientation\":\"v\",\"showlegend\":true,\"x\":[3.808,3.9,4.437,4.352,4.205,3.925,4.272,4.53,2.784,5.456,5.215,4.704,3.48,4.968,4.794,3.3280000000000003,1.808,4.08,3.429,3.498,4.554],\"xaxis\":\"x\",\"y\":[835.5,913.15,641.96,803.11,710.46,649.06,780.45,661.88,777.18,896.07,732.28,1029.87,746.54,869.85,697.73,804.71,809.38,716.2,768.95,890.03,670.31],\"yaxis\":\"y\",\"type\":\"scatter\"}],                        {\"template\":{\"data\":{\"histogram2dcontour\":[{\"type\":\"histogram2dcontour\",\"colorbar\":{\"outlinewidth\":0,\"ticks\":\"\"},\"colorscale\":[[0.0,\"#0d0887\"],[0.1111111111111111,\"#46039f\"],[0.2222222222222222,\"#7201a8\"],[0.3333333333333333,\"#9c179e\"],[0.4444444444444444,\"#bd3786\"],[0.5555555555555556,\"#d8576b\"],[0.6666666666666666,\"#ed7953\"],[0.7777777777777778,\"#fb9f3a\"],[0.8888888888888888,\"#fdca26\"],[1.0,\"#f0f921\"]]}],\"choropleth\":[{\"type\":\"choropleth\",\"colorbar\":{\"outlinewidth\":0,\"ticks\":\"\"}}],\"histogram2d\":[{\"type\":\"histogram2d\",\"colorbar\":{\"outlinewidth\":0,\"ticks\":\"\"},\"colorscale\":[[0.0,\"#0d0887\"],[0.1111111111111111,\"#46039f\"],[0.2222222222222222,\"#7201a8\"],[0.3333333333333333,\"#9c179e\"],[0.4444444444444444,\"#bd3786\"],[0.5555555555555556,\"#d8576b\"],[0.6666666666666666,\"#ed7953\"],[0.7777777777777778,\"#fb9f3a\"],[0.8888888888888888,\"#fdca26\"],[1.0,\"#f0f921\"]]}],\"heatmap\":[{\"type\":\"heatmap\",\"colorbar\":{\"outlinewidth\":0,\"ticks\":\"\"},\"colorscale\":[[0.0,\"#0d0887\"],[0.1111111111111111,\"#46039f\"],[0.2222222222222222,\"#7201a8\"],[0.3333333333333333,\"#9c179e\"],[0.4444444444444444,\"#bd3786\"],[0.5555555555555556,\"#d8576b\"],[0.6666666666666666,\"#ed7953\"],[0.7777777777777778,\"#fb9f3a\"],[0.8888888888888888,\"#fdca26\"],[1.0,\"#f0f921\"]]}],\"heatmapgl\":[{\"type\":\"heatmapgl\",\"colorbar\":{\"outlinewidth\":0,\"ticks\":\"\"},\"colorscale\":[[0.0,\"#0d0887\"],[0.1111111111111111,\"#46039f\"],[0.2222222222222222,\"#7201a8\"],[0.3333333333333333,\"#9c179e\"],[0.4444444444444444,\"#bd3786\"],[0.5555555555555556,\"#d8576b\"],[0.6666666666666666,\"#ed7953\"],[0.7777777777777778,\"#fb9f3a\"],[0.8888888888888888,\"#fdca26\"],[1.0,\"#f0f921\"]]}],\"contourcarpet\":[{\"type\":\"contourcarpet\",\"colorbar\":{\"outlinewidth\":0,\"ticks\":\"\"}}],\"contour\":[{\"type\":\"contour\",\"colorbar\":{\"outlinewidth\":0,\"ticks\":\"\"},\"colorscale\":[[0.0,\"#0d0887\"],[0.1111111111111111,\"#46039f\"],[0.2222222222222222,\"#7201a8\"],[0.3333333333333333,\"#9c179e\"],[0.4444444444444444,\"#bd3786\"],[0.5555555555555556,\"#d8576b\"],[0.6666666666666666,\"#ed7953\"],[0.7777777777777778,\"#fb9f3a\"],[0.8888888888888888,\"#fdca26\"],[1.0,\"#f0f921\"]]}],\"surface\":[{\"type\":\"surface\",\"colorbar\":{\"outlinewidth\":0,\"ticks\":\"\"},\"colorscale\":[[0.0,\"#0d0887\"],[0.1111111111111111,\"#46039f\"],[0.2222222222222222,\"#7201a8\"],[0.3333333333333333,\"#9c179e\"],[0.4444444444444444,\"#bd3786\"],[0.5555555555555556,\"#d8576b\"],[0.6666666666666666,\"#ed7953\"],[0.7777777777777778,\"#fb9f3a\"],[0.8888888888888888,\"#fdca26\"],[1.0,\"#f0f921\"]]}],\"mesh3d\":[{\"type\":\"mesh3d\",\"colorbar\":{\"outlinewidth\":0,\"ticks\":\"\"}}],\"scatter\":[{\"fillpattern\":{\"fillmode\":\"overlay\",\"size\":10,\"solidity\":0.2},\"type\":\"scatter\"}],\"parcoords\":[{\"type\":\"parcoords\",\"line\":{\"colorbar\":{\"outlinewidth\":0,\"ticks\":\"\"}}}],\"scatterpolargl\":[{\"type\":\"scatterpolargl\",\"marker\":{\"colorbar\":{\"outlinewidth\":0,\"ticks\":\"\"}}}],\"bar\":[{\"error_x\":{\"color\":\"#2a3f5f\"},\"error_y\":{\"color\":\"#2a3f5f\"},\"marker\":{\"line\":{\"color\":\"#E5ECF6\",\"width\":0.5},\"pattern\":{\"fillmode\":\"overlay\",\"size\":10,\"solidity\":0.2}},\"type\":\"bar\"}],\"scattergeo\":[{\"type\":\"scattergeo\",\"marker\":{\"colorbar\":{\"outlinewidth\":0,\"ticks\":\"\"}}}],\"scatterpolar\":[{\"type\":\"scatterpolar\",\"marker\":{\"colorbar\":{\"outlinewidth\":0,\"ticks\":\"\"}}}],\"histogram\":[{\"marker\":{\"pattern\":{\"fillmode\":\"overlay\",\"size\":10,\"solidity\":0.2}},\"type\":\"histogram\"}],\"scattergl\":[{\"type\":\"scattergl\",\"marker\":{\"colorbar\":{\"outlinewidth\":0,\"ticks\":\"\"}}}],\"scatter3d\":[{\"type\":\"scatter3d\",\"line\":{\"colorbar\":{\"outlinewidth\":0,\"ticks\":\"\"}},\"marker\":{\"colorbar\":{\"outlinewidth\":0,\"ticks\":\"\"}}}],\"scattermapbox\":[{\"type\":\"scattermapbox\",\"marker\":{\"colorbar\":{\"outlinewidth\":0,\"ticks\":\"\"}}}],\"scatterternary\":[{\"type\":\"scatterternary\",\"marker\":{\"colorbar\":{\"outlinewidth\":0,\"ticks\":\"\"}}}],\"scattercarpet\":[{\"type\":\"scattercarpet\",\"marker\":{\"colorbar\":{\"outlinewidth\":0,\"ticks\":\"\"}}}],\"carpet\":[{\"aaxis\":{\"endlinecolor\":\"#2a3f5f\",\"gridcolor\":\"white\",\"linecolor\":\"white\",\"minorgridcolor\":\"white\",\"startlinecolor\":\"#2a3f5f\"},\"baxis\":{\"endlinecolor\":\"#2a3f5f\",\"gridcolor\":\"white\",\"linecolor\":\"white\",\"minorgridcolor\":\"white\",\"startlinecolor\":\"#2a3f5f\"},\"type\":\"carpet\"}],\"table\":[{\"cells\":{\"fill\":{\"color\":\"#EBF0F8\"},\"line\":{\"color\":\"white\"}},\"header\":{\"fill\":{\"color\":\"#C8D4E3\"},\"line\":{\"color\":\"white\"}},\"type\":\"table\"}],\"barpolar\":[{\"marker\":{\"line\":{\"color\":\"#E5ECF6\",\"width\":0.5},\"pattern\":{\"fillmode\":\"overlay\",\"size\":10,\"solidity\":0.2}},\"type\":\"barpolar\"}],\"pie\":[{\"automargin\":true,\"type\":\"pie\"}]},\"layout\":{\"autotypenumbers\":\"strict\",\"colorway\":[\"#636efa\",\"#EF553B\",\"#00cc96\",\"#ab63fa\",\"#FFA15A\",\"#19d3f3\",\"#FF6692\",\"#B6E880\",\"#FF97FF\",\"#FECB52\"],\"font\":{\"color\":\"#2a3f5f\"},\"hovermode\":\"closest\",\"hoverlabel\":{\"align\":\"left\"},\"paper_bgcolor\":\"white\",\"plot_bgcolor\":\"#E5ECF6\",\"polar\":{\"bgcolor\":\"#E5ECF6\",\"angularaxis\":{\"gridcolor\":\"white\",\"linecolor\":\"white\",\"ticks\":\"\"},\"radialaxis\":{\"gridcolor\":\"white\",\"linecolor\":\"white\",\"ticks\":\"\"}},\"ternary\":{\"bgcolor\":\"#E5ECF6\",\"aaxis\":{\"gridcolor\":\"white\",\"linecolor\":\"white\",\"ticks\":\"\"},\"baxis\":{\"gridcolor\":\"white\",\"linecolor\":\"white\",\"ticks\":\"\"},\"caxis\":{\"gridcolor\":\"white\",\"linecolor\":\"white\",\"ticks\":\"\"}},\"coloraxis\":{\"colorbar\":{\"outlinewidth\":0,\"ticks\":\"\"}},\"colorscale\":{\"sequential\":[[0.0,\"#0d0887\"],[0.1111111111111111,\"#46039f\"],[0.2222222222222222,\"#7201a8\"],[0.3333333333333333,\"#9c179e\"],[0.4444444444444444,\"#bd3786\"],[0.5555555555555556,\"#d8576b\"],[0.6666666666666666,\"#ed7953\"],[0.7777777777777778,\"#fb9f3a\"],[0.8888888888888888,\"#fdca26\"],[1.0,\"#f0f921\"]],\"sequentialminus\":[[0.0,\"#0d0887\"],[0.1111111111111111,\"#46039f\"],[0.2222222222222222,\"#7201a8\"],[0.3333333333333333,\"#9c179e\"],[0.4444444444444444,\"#bd3786\"],[0.5555555555555556,\"#d8576b\"],[0.6666666666666666,\"#ed7953\"],[0.7777777777777778,\"#fb9f3a\"],[0.8888888888888888,\"#fdca26\"],[1.0,\"#f0f921\"]],\"diverging\":[[0,\"#8e0152\"],[0.1,\"#c51b7d\"],[0.2,\"#de77ae\"],[0.3,\"#f1b6da\"],[0.4,\"#fde0ef\"],[0.5,\"#f7f7f7\"],[0.6,\"#e6f5d0\"],[0.7,\"#b8e186\"],[0.8,\"#7fbc41\"],[0.9,\"#4d9221\"],[1,\"#276419\"]]},\"xaxis\":{\"gridcolor\":\"white\",\"linecolor\":\"white\",\"ticks\":\"\",\"title\":{\"standoff\":15},\"zerolinecolor\":\"white\",\"automargin\":true,\"zerolinewidth\":2},\"yaxis\":{\"gridcolor\":\"white\",\"linecolor\":\"white\",\"ticks\":\"\",\"title\":{\"standoff\":15},\"zerolinecolor\":\"white\",\"automargin\":true,\"zerolinewidth\":2},\"scene\":{\"xaxis\":{\"backgroundcolor\":\"#E5ECF6\",\"gridcolor\":\"white\",\"linecolor\":\"white\",\"showbackground\":true,\"ticks\":\"\",\"zerolinecolor\":\"white\",\"gridwidth\":2},\"yaxis\":{\"backgroundcolor\":\"#E5ECF6\",\"gridcolor\":\"white\",\"linecolor\":\"white\",\"showbackground\":true,\"ticks\":\"\",\"zerolinecolor\":\"white\",\"gridwidth\":2},\"zaxis\":{\"backgroundcolor\":\"#E5ECF6\",\"gridcolor\":\"white\",\"linecolor\":\"white\",\"showbackground\":true,\"ticks\":\"\",\"zerolinecolor\":\"white\",\"gridwidth\":2}},\"shapedefaults\":{\"line\":{\"color\":\"#2a3f5f\"}},\"annotationdefaults\":{\"arrowcolor\":\"#2a3f5f\",\"arrowhead\":0,\"arrowwidth\":1},\"geo\":{\"bgcolor\":\"white\",\"landcolor\":\"#E5ECF6\",\"subunitcolor\":\"white\",\"showland\":true,\"showlakes\":true,\"lakecolor\":\"white\"},\"title\":{\"x\":0.05},\"mapbox\":{\"style\":\"light\"}}},\"xaxis\":{\"anchor\":\"y\",\"domain\":[0.0,1.0],\"title\":{\"text\":\"alcohol\"}},\"yaxis\":{\"anchor\":\"x\",\"domain\":[0.0,1.0],\"title\":{\"text\":\"ins_premium\"}},\"legend\":{\"title\":{\"text\":\"color\"},\"tracegroupgap\":0},\"margin\":{\"t\":60}},                        {\"responsive\": true}                    ).then(function(){\n",
       "                            \n",
       "var gd = document.getElementById('3ac32710-4dab-4112-a24c-13c10bc92e12');\n",
       "var x = new MutationObserver(function (mutations, observer) {{\n",
       "        var display = window.getComputedStyle(gd).display;\n",
       "        if (!display || display === 'none') {{\n",
       "            console.log([gd, 'removed!']);\n",
       "            Plotly.purge(gd);\n",
       "            observer.disconnect();\n",
       "        }}\n",
       "}});\n",
       "\n",
       "// Listen for the removal of the full notebook cells\n",
       "var notebookContainer = gd.closest('#notebook-container');\n",
       "if (notebookContainer) {{\n",
       "    x.observe(notebookContainer, {childList: true});\n",
       "}}\n",
       "\n",
       "// Listen for the clearing of the current output cell\n",
       "var outputEl = gd.closest('.output');\n",
       "if (outputEl) {{\n",
       "    x.observe(outputEl, {childList: true});\n",
       "}}\n",
       "\n",
       "                        })                };                });            </script>        </div>"
      ]
     },
     "metadata": {},
     "output_type": "display_data"
    }
   ],
   "source": [
    "import plotly.express as px\n",
    "\n",
    "px.scatter(x='alcohol', y='ins_premium', data_frame=df, color=model.labels_.astype(str))\n"
   ]
  },
  {
   "cell_type": "markdown",
   "id": "c9271c54",
   "metadata": {},
   "source": [
    "Why are the points mixed between the groups?\n",
    "\n",
    "    We fitted the KMeans() model with 7 columns\n",
    "    But we are representing just 2 columns\n",
    "\n",
    "Then, why not represent 7 columns instead of 2?\n",
    "\n",
    "    Well, the plot will get very abstract to extract meaningful information\n",
    "    Your head will explode because you won't understand anything if you represent 7 axes (7 dimensions)\n",
    "\n",
    "Then, what's the solution? ↓\n",
    "\n",
    "Principal Component Analysis PCA()\n",
    "\n",
    "    We cannot plot 7 columns\n",
    "    But we could transform, for example, 5 columns into 1 new column (a Principal Component)\n",
    "\n",
    "How is that even possible?\n",
    "\n",
    "    Well, let's take a look at how much in common the original variables have\n",
    "    By observing the correlation between them ↓\n"
   ]
  },
  {
   "cell_type": "code",
   "execution_count": 12,
   "id": "64ea4440",
   "metadata": {},
   "outputs": [
    {
     "data": {
      "image/png": "[encoded data removed]",
      "text/plain": [
       "<Figure size 432x288 with 2 Axes>"
      ]
     },
     "metadata": {
      "needs_background": "light"
     },
     "output_type": "display_data"
    }
   ],
   "source": [
    "sns.heatmap(dfnorm.corr(), annot=True, vmin=-1);\n"
   ]
  },
  {
   "cell_type": "markdown",
   "id": "df9b2bd9",
   "metadata": {},
   "source": [
    "Aren't lots of variables significantly correlated to each other?\n",
    "\n",
    "    Yes, total, speeding, alcohol, not_distracted & no_previous have a minimum correlation of 0.57\n",
    "    Then, it makes sense to gather all the shared information into just 1 variable (a Principal Component)\n"
   ]
  },
  {
   "cell_type": "code",
   "execution_count": 13,
   "id": "1b0b86f9",
   "metadata": {},
   "outputs": [
    {
     "data": {
      "text/html": [
       "<div>\n",
       "<style scoped>\n",
       "    .dataframe tbody tr th:only-of-type {\n",
       "        vertical-align: middle;\n",
       "    }\n",
       "\n",
       "    .dataframe tbody tr th {\n",
       "        vertical-align: top;\n",
       "    }\n",
       "\n",
       "    .dataframe thead th {\n",
       "        text-align: right;\n",
       "    }\n",
       "</style>\n",
       "<table border=\"1\" class=\"dataframe\">\n",
       "  <thead>\n",
       "    <tr style=\"text-align: right;\">\n",
       "      <th></th>\n",
       "      <th>PC1</th>\n",
       "      <th>PC2</th>\n",
       "      <th>PC3</th>\n",
       "      <th>PC4</th>\n",
       "      <th>PC5</th>\n",
       "      <th>PC6</th>\n",
       "      <th>PC7</th>\n",
       "    </tr>\n",
       "    <tr>\n",
       "      <th>abbrev</th>\n",
       "      <th></th>\n",
       "      <th></th>\n",
       "      <th></th>\n",
       "      <th></th>\n",
       "      <th></th>\n",
       "      <th></th>\n",
       "      <th></th>\n",
       "    </tr>\n",
       "  </thead>\n",
       "  <tbody>\n",
       "    <tr>\n",
       "      <th>AL</th>\n",
       "      <td>1.603671</td>\n",
       "      <td>0.133449</td>\n",
       "      <td>0.317881</td>\n",
       "      <td>-0.795293</td>\n",
       "      <td>-0.579719</td>\n",
       "      <td>0.046223</td>\n",
       "      <td>0.210185</td>\n",
       "    </tr>\n",
       "    <tr>\n",
       "      <th>AK</th>\n",
       "      <td>1.144212</td>\n",
       "      <td>0.858234</td>\n",
       "      <td>0.736626</td>\n",
       "      <td>0.318988</td>\n",
       "      <td>-0.228701</td>\n",
       "      <td>-1.002625</td>\n",
       "      <td>0.008966</td>\n",
       "    </tr>\n",
       "    <tr>\n",
       "      <th>AZ</th>\n",
       "      <td>1.432172</td>\n",
       "      <td>-0.420506</td>\n",
       "      <td>0.338136</td>\n",
       "      <td>0.552513</td>\n",
       "      <td>0.168718</td>\n",
       "      <td>-0.804523</td>\n",
       "      <td>-0.076107</td>\n",
       "    </tr>\n",
       "    <tr>\n",
       "      <th>AR</th>\n",
       "      <td>2.491584</td>\n",
       "      <td>0.348968</td>\n",
       "      <td>-1.788747</td>\n",
       "      <td>0.264064</td>\n",
       "      <td>-0.372382</td>\n",
       "      <td>-0.481849</td>\n",
       "      <td>-0.147636</td>\n",
       "    </tr>\n",
       "    <tr>\n",
       "      <th>CA</th>\n",
       "      <td>-1.750638</td>\n",
       "      <td>0.633625</td>\n",
       "      <td>-0.136176</td>\n",
       "      <td>-0.974916</td>\n",
       "      <td>-0.315811</td>\n",
       "      <td>0.178510</td>\n",
       "      <td>-0.068958</td>\n",
       "    </tr>\n",
       "  </tbody>\n",
       "</table>\n",
       "</div>"
      ],
      "text/plain": [
       "             PC1       PC2       PC3       PC4       PC5       PC6       PC7\n",
       "abbrev                                                                      \n",
       "AL      1.603671  0.133449  0.317881 -0.795293 -0.579719  0.046223  0.210185\n",
       "AK      1.144212  0.858234  0.736626  0.318988 -0.228701 -1.002625  0.008966\n",
       "AZ      1.432172 -0.420506  0.338136  0.552513  0.168718 -0.804523 -0.076107\n",
       "AR      2.491584  0.348968 -1.788747  0.264064 -0.372382 -0.481849 -0.147636\n",
       "CA     -1.750638  0.633625 -0.136176 -0.974916 -0.315811  0.178510 -0.068958"
      ]
     },
     "execution_count": 13,
     "metadata": {},
     "output_type": "execute_result"
    }
   ],
   "source": [
    "from sklearn.decomposition import PCA\n",
    "\n",
    "pca = PCA()\n",
    "dfpca = pd.DataFrame(pca.fit_transform(dfnorm), index=df.index)\n",
    "\n",
    "pca_columns = ['PC' + str(i+1) for i in range(pca.n_components_)]\n",
    "dfpca.columns = pca_columns\n",
    "\n",
    "dfpca.head()\n"
   ]
  },
  {
   "cell_type": "markdown",
   "id": "65422b1d",
   "metadata": {},
   "source": [
    "Ok, I get it, but which original variables are influencing PC1?\n",
    "\n",
    "    Let's get the weights of the mathematical formula to transform original variables into Components\n",
    "    They are called loading vectors ↓\n"
   ]
  },
  {
   "cell_type": "code",
   "execution_count": 14,
   "id": "1530b9d2",
   "metadata": {},
   "outputs": [
    {
     "data": {
      "text/html": [
       "<style type=\"text/css\">\n",
       "#T_770d4_row0_col0 {\n",
       "  background-color: darkred;\n",
       "  opacity: 87%;\n",
       "  color: white;\n",
       "}\n",
       "#T_770d4_row0_col1 {\n",
       "  background-color: darkred;\n",
       "  opacity: 46%;\n",
       "  color: white;\n",
       "}\n",
       "#T_770d4_row0_col2, #T_770d4_row6_col2 {\n",
       "  background-color: darkred;\n",
       "  opacity: 14%;\n",
       "  color: white;\n",
       "}\n",
       "#T_770d4_row0_col3, #T_770d4_row2_col1, #T_770d4_row4_col3 {\n",
       "  background-color: darkred;\n",
       "  opacity: 43%;\n",
       "  color: white;\n",
       "}\n",
       "#T_770d4_row0_col4, #T_770d4_row2_col3 {\n",
       "  background-color: darkred;\n",
       "  opacity: 54%;\n",
       "  color: white;\n",
       "}\n",
       "#T_770d4_row0_col5 {\n",
       "  background-color: darkred;\n",
       "  opacity: 24%;\n",
       "  color: white;\n",
       "}\n",
       "#T_770d4_row0_col6 {\n",
       "  background-color: darkred;\n",
       "  opacity: 120%;\n",
       "  color: white;\n",
       "}\n",
       "#T_770d4_row1_col0 {\n",
       "  background-color: darkred;\n",
       "  opacity: 77%;\n",
       "  color: white;\n",
       "}\n",
       "#T_770d4_row1_col1 {\n",
       "  background-color: darkred;\n",
       "  opacity: 47%;\n",
       "  color: white;\n",
       "}\n",
       "#T_770d4_row1_col2 {\n",
       "  background-color: darkred;\n",
       "  opacity: 121%;\n",
       "  color: white;\n",
       "}\n",
       "#T_770d4_row1_col3 {\n",
       "  background-color: darkred;\n",
       "  opacity: 4%;\n",
       "  color: white;\n",
       "}\n",
       "#T_770d4_row1_col4, #T_770d4_row6_col6 {\n",
       "  background-color: darkred;\n",
       "  opacity: 38%;\n",
       "  color: white;\n",
       "}\n",
       "#T_770d4_row1_col5 {\n",
       "  background-color: darkred;\n",
       "  opacity: 18%;\n",
       "  color: white;\n",
       "}\n",
       "#T_770d4_row1_col6 {\n",
       "  background-color: darkred;\n",
       "  opacity: 41%;\n",
       "  color: white;\n",
       "}\n",
       "#T_770d4_row2_col0, #T_770d4_row4_col0 {\n",
       "  background-color: darkred;\n",
       "  opacity: 85%;\n",
       "  color: white;\n",
       "}\n",
       "#T_770d4_row2_col2, #T_770d4_row3_col5 {\n",
       "  background-color: darkred;\n",
       "  opacity: 48%;\n",
       "  color: white;\n",
       "}\n",
       "#T_770d4_row2_col4 {\n",
       "  background-color: darkred;\n",
       "  opacity: 75%;\n",
       "  color: white;\n",
       "}\n",
       "#T_770d4_row2_col5 {\n",
       "  background-color: darkred;\n",
       "  opacity: 118%;\n",
       "  color: white;\n",
       "}\n",
       "#T_770d4_row2_col6 {\n",
       "  background-color: darkred;\n",
       "  opacity: 25%;\n",
       "  color: white;\n",
       "}\n",
       "#T_770d4_row3_col0 {\n",
       "  background-color: darkred;\n",
       "  opacity: 83%;\n",
       "  color: white;\n",
       "}\n",
       "#T_770d4_row3_col1, #T_770d4_row5_col4, #T_770d4_row5_col6 {\n",
       "  background-color: darkred;\n",
       "  opacity: 44%;\n",
       "  color: white;\n",
       "}\n",
       "#T_770d4_row3_col2 {\n",
       "  background-color: darkred;\n",
       "  opacity: 28%;\n",
       "  color: white;\n",
       "}\n",
       "#T_770d4_row3_col3, #T_770d4_row6_col5 {\n",
       "  background-color: darkred;\n",
       "  opacity: 57%;\n",
       "  color: white;\n",
       "}\n",
       "#T_770d4_row3_col4 {\n",
       "  background-color: darkred;\n",
       "  opacity: -45%;\n",
       "  color: white;\n",
       "}\n",
       "#T_770d4_row3_col6 {\n",
       "  background-color: darkred;\n",
       "  opacity: 26%;\n",
       "  color: white;\n",
       "}\n",
       "#T_770d4_row4_col1 {\n",
       "  background-color: darkred;\n",
       "  opacity: 49%;\n",
       "  color: white;\n",
       "}\n",
       "#T_770d4_row4_col2 {\n",
       "  background-color: darkred;\n",
       "  opacity: 9%;\n",
       "  color: white;\n",
       "}\n",
       "#T_770d4_row4_col4 {\n",
       "  background-color: darkred;\n",
       "  opacity: 73%;\n",
       "  color: white;\n",
       "}\n",
       "#T_770d4_row4_col5 {\n",
       "  background-color: darkred;\n",
       "  opacity: -10%;\n",
       "  color: white;\n",
       "}\n",
       "#T_770d4_row4_col6 {\n",
       "  background-color: darkred;\n",
       "  opacity: -15%;\n",
       "  color: white;\n",
       "}\n",
       "#T_770d4_row5_col0 {\n",
       "  background-color: darkred;\n",
       "  opacity: 27%;\n",
       "  color: white;\n",
       "}\n",
       "#T_770d4_row5_col1 {\n",
       "  background-color: darkred;\n",
       "  opacity: 108%;\n",
       "  color: white;\n",
       "}\n",
       "#T_770d4_row5_col2 {\n",
       "  background-color: darkred;\n",
       "  opacity: 65%;\n",
       "  color: white;\n",
       "}\n",
       "#T_770d4_row5_col3 {\n",
       "  background-color: darkred;\n",
       "  opacity: 105%;\n",
       "  color: white;\n",
       "}\n",
       "#T_770d4_row5_col5 {\n",
       "  background-color: darkred;\n",
       "  opacity: 29%;\n",
       "  color: white;\n",
       "}\n",
       "#T_770d4_row6_col0, #T_770d4_row6_col4 {\n",
       "  background-color: darkred;\n",
       "  opacity: 34%;\n",
       "  color: white;\n",
       "}\n",
       "#T_770d4_row6_col1 {\n",
       "  background-color: darkred;\n",
       "  opacity: 111%;\n",
       "  color: white;\n",
       "}\n",
       "#T_770d4_row6_col3 {\n",
       "  background-color: darkred;\n",
       "  opacity: -21%;\n",
       "  color: white;\n",
       "}\n",
       "</style>\n",
       "<table id=\"T_770d4\">\n",
       "  <thead>\n",
       "    <tr>\n",
       "      <th class=\"blank level0\" >&nbsp;</th>\n",
       "      <th id=\"T_770d4_level0_col0\" class=\"col_heading level0 col0\" >PC1</th>\n",
       "      <th id=\"T_770d4_level0_col1\" class=\"col_heading level0 col1\" >PC2</th>\n",
       "      <th id=\"T_770d4_level0_col2\" class=\"col_heading level0 col2\" >PC3</th>\n",
       "      <th id=\"T_770d4_level0_col3\" class=\"col_heading level0 col3\" >PC4</th>\n",
       "      <th id=\"T_770d4_level0_col4\" class=\"col_heading level0 col4\" >PC5</th>\n",
       "      <th id=\"T_770d4_level0_col5\" class=\"col_heading level0 col5\" >PC6</th>\n",
       "      <th id=\"T_770d4_level0_col6\" class=\"col_heading level0 col6\" >PC7</th>\n",
       "    </tr>\n",
       "  </thead>\n",
       "  <tbody>\n",
       "    <tr>\n",
       "      <th id=\"T_770d4_level0_row0\" class=\"row_heading level0 row0\" >total</th>\n",
       "      <td id=\"T_770d4_row0_col0\" class=\"data row0 col0\" >0.479471</td>\n",
       "      <td id=\"T_770d4_row0_col1\" class=\"data row0 col1\" >0.068938</td>\n",
       "      <td id=\"T_770d4_row0_col2\" class=\"data row0 col2\" >-0.269088</td>\n",
       "      <td id=\"T_770d4_row0_col3\" class=\"data row0 col3\" >0.038956</td>\n",
       "      <td id=\"T_770d4_row0_col4\" class=\"data row0 col4\" >0.145977</td>\n",
       "      <td id=\"T_770d4_row0_col5\" class=\"data row0 col5\" >-0.169705</td>\n",
       "      <td id=\"T_770d4_row0_col6\" class=\"data row0 col6\" >0.800825</td>\n",
       "    </tr>\n",
       "    <tr>\n",
       "      <th id=\"T_770d4_level0_row1\" class=\"row_heading level0 row1\" >speeding</th>\n",
       "      <td id=\"T_770d4_row1_col0\" class=\"data row1 col0\" >0.375347</td>\n",
       "      <td id=\"T_770d4_row1_col1\" class=\"data row1 col1\" >0.076585</td>\n",
       "      <td id=\"T_770d4_row1_col2\" class=\"data row1 col2\" >0.818269</td>\n",
       "      <td id=\"T_770d4_row1_col3\" class=\"data row1 col3\" >-0.363749</td>\n",
       "      <td id=\"T_770d4_row1_col4\" class=\"data row1 col4\" >-0.022828</td>\n",
       "      <td id=\"T_770d4_row1_col5\" class=\"data row1 col5\" >-0.224792</td>\n",
       "      <td id=\"T_770d4_row1_col6\" class=\"data row1 col6\" >0.017848</td>\n",
       "    </tr>\n",
       "    <tr>\n",
       "      <th id=\"T_770d4_level0_row2\" class=\"row_heading level0 row2\" >alcohol</th>\n",
       "      <td id=\"T_770d4_row2_col0\" class=\"data row2 col0\" >0.454376</td>\n",
       "      <td id=\"T_770d4_row2_col1\" class=\"data row2 col1\" >0.033458</td>\n",
       "      <td id=\"T_770d4_row2_col2\" class=\"data row2 col2\" >0.082933</td>\n",
       "      <td id=\"T_770d4_row2_col3\" class=\"data row2 col3\" >0.148344</td>\n",
       "      <td id=\"T_770d4_row2_col4\" class=\"data row2 col4\" >0.354798</td>\n",
       "      <td id=\"T_770d4_row2_col5\" class=\"data row2 col5\" >0.783768</td>\n",
       "      <td id=\"T_770d4_row2_col6\" class=\"data row2 col6\" >-0.152858</td>\n",
       "    </tr>\n",
       "    <tr>\n",
       "      <th id=\"T_770d4_level0_row3\" class=\"row_heading level0 row3\" >not_distracted</th>\n",
       "      <td id=\"T_770d4_row3_col0\" class=\"data row3 col0\" >0.438033</td>\n",
       "      <td id=\"T_770d4_row3_col1\" class=\"data row3 col1\" >0.042375</td>\n",
       "      <td id=\"T_770d4_row3_col2\" class=\"data row3 col2\" >-0.126168</td>\n",
       "      <td id=\"T_770d4_row3_col3\" class=\"data row3 col3\" >0.171266</td>\n",
       "      <td id=\"T_770d4_row3_col4\" class=\"data row3 col4\" >-0.856469</td>\n",
       "      <td id=\"T_770d4_row3_col5\" class=\"data row3 col5\" >0.085105</td>\n",
       "      <td id=\"T_770d4_row3_col6\" class=\"data row3 col6\" >-0.142478</td>\n",
       "    </tr>\n",
       "    <tr>\n",
       "      <th id=\"T_770d4_level0_row4\" class=\"row_heading level0 row4\" >no_previous</th>\n",
       "      <td id=\"T_770d4_row4_col0\" class=\"data row4 col0\" >0.457034</td>\n",
       "      <td id=\"T_770d4_row4_col1\" class=\"data row4 col1\" >0.096129</td>\n",
       "      <td id=\"T_770d4_row4_col2\" class=\"data row4 col2\" >-0.317988</td>\n",
       "      <td id=\"T_770d4_row4_col3\" class=\"data row4 col3\" >0.039481</td>\n",
       "      <td id=\"T_770d4_row4_col4\" class=\"data row4 col4\" >0.336110</td>\n",
       "      <td id=\"T_770d4_row4_col5\" class=\"data row4 col5\" >-0.504012</td>\n",
       "      <td id=\"T_770d4_row4_col6\" class=\"data row4 col6\" >-0.558754</td>\n",
       "    </tr>\n",
       "    <tr>\n",
       "      <th id=\"T_770d4_level0_row5\" class=\"row_heading level0 row5\" >ins_premium</th>\n",
       "      <td id=\"T_770d4_row5_col0\" class=\"data row5 col0\" >-0.130832</td>\n",
       "      <td id=\"T_770d4_row5_col1\" class=\"data row5 col1\" >0.685227</td>\n",
       "      <td id=\"T_770d4_row5_col2\" class=\"data row5 col2\" >0.256142</td>\n",
       "      <td id=\"T_770d4_row5_col3\" class=\"data row5 col3\" >0.656396</td>\n",
       "      <td id=\"T_770d4_row5_col4\" class=\"data row5 col4\" >0.042145</td>\n",
       "      <td id=\"T_770d4_row5_col5\" class=\"data row5 col5\" >-0.115773</td>\n",
       "      <td id=\"T_770d4_row5_col6\" class=\"data row5 col6\" >0.041266</td>\n",
       "    </tr>\n",
       "    <tr>\n",
       "      <th id=\"T_770d4_level0_row6\" class=\"row_heading level0 row6\" >ins_losses</th>\n",
       "      <td id=\"T_770d4_row6_col0\" class=\"data row6 col0\" >-0.069960</td>\n",
       "      <td id=\"T_770d4_row6_col1\" class=\"data row6 col1\" >0.712524</td>\n",
       "      <td id=\"T_770d4_row6_col2\" class=\"data row6 col2\" >-0.261735</td>\n",
       "      <td id=\"T_770d4_row6_col3\" class=\"data row6 col3\" >-0.618399</td>\n",
       "      <td id=\"T_770d4_row6_col4\" class=\"data row6 col4\" >-0.063272</td>\n",
       "      <td id=\"T_770d4_row6_col5\" class=\"data row6 col5\" >0.178052</td>\n",
       "      <td id=\"T_770d4_row6_col6\" class=\"data row6 col6\" >-0.028050</td>\n",
       "    </tr>\n",
       "  </tbody>\n",
       "</table>\n"
      ],
      "text/plain": [
       "<pandas.io.formats.style.Styler at 0x16514aadf70>"
      ]
     },
     "execution_count": 14,
     "metadata": {},
     "output_type": "execute_result"
    }
   ],
   "source": [
    "weights = pd.DataFrame(pca.components_.T, columns=dfpca.columns, index=dfnorm.columns)\n",
    "weights.style.applymap(lambda v: f'background-color: darkred; opacity: {int(v*100)+40}%;')\\\n",
    "        .applymap(lambda v: f'color: white')\n"
   ]
  },
  {
   "cell_type": "markdown",
   "id": "57b4ea39",
   "metadata": {},
   "source": [
    "How can someone interpret this table?\n",
    "\n",
    "    Well, focus on the column PC1\n",
    "    Every number is the weight for the corresponding original variable\n",
    "    To transform original data into the value for PC1\n",
    "\n",
    "Is there some example?\n",
    "\n",
    "    Yes, look at the value for AL in PC1: 1.6036...\n",
    "\n",
    "How do you get there?\n",
    "\n",
    "    You take the weights for PC1 ↓\n"
   ]
  },
  {
   "cell_type": "code",
   "execution_count": 15,
   "id": "038135be",
   "metadata": {},
   "outputs": [
    {
     "data": {
      "text/plain": [
       "total             0.479471\n",
       "speeding          0.375347\n",
       "alcohol           0.454376\n",
       "not_distracted    0.438033\n",
       "no_previous       0.457034\n",
       "ins_premium      -0.130832\n",
       "ins_losses       -0.069960\n",
       "Name: PC1, dtype: float64"
      ]
     },
     "execution_count": 15,
     "metadata": {},
     "output_type": "execute_result"
    }
   ],
   "source": [
    "weights.PC1\n"
   ]
  },
  {
   "cell_type": "markdown",
   "id": "daede1e0",
   "metadata": {},
   "source": [
    "\n",
    "    And the values for AL for the original data ↓\n"
   ]
  },
  {
   "cell_type": "code",
   "execution_count": 16,
   "id": "b4e4f642",
   "metadata": {},
   "outputs": [
    {
     "data": {
      "text/plain": [
       "total             0.737446\n",
       "speeding          1.168148\n",
       "alcohol           0.439938\n",
       "not_distracted    1.002301\n",
       "no_previous       0.277692\n",
       "ins_premium      -0.580083\n",
       "ins_losses        0.430514\n",
       "Name: AL, dtype: float64"
      ]
     },
     "execution_count": 16,
     "metadata": {},
     "output_type": "execute_result"
    }
   ],
   "source": [
    "dfnorm.loc['AL', :]\n"
   ]
  },
  {
   "cell_type": "markdown",
   "id": "99de3cac",
   "metadata": {},
   "source": [
    "\n",
    "    You multiply the corresponding values and compute the sum of all ↓\n"
   ]
  },
  {
   "cell_type": "code",
   "execution_count": 17,
   "id": "b33ae96f",
   "metadata": {},
   "outputs": [
    {
     "data": {
      "text/plain": [
       "1.6036712920638665"
      ]
     },
     "execution_count": 17,
     "metadata": {},
     "output_type": "execute_result"
    }
   ],
   "source": [
    "(weights.PC1 * dfnorm.loc['AL',:]).sum()\n"
   ]
  },
  {
   "cell_type": "markdown",
   "id": "47d1f909",
   "metadata": {},
   "source": [
    "Understood, so that's the transformed value you get on PC1 for AL ↓"
   ]
  },
  {
   "cell_type": "code",
   "execution_count": 18,
   "id": "c0ac6c30",
   "metadata": {},
   "outputs": [
    {
     "data": {
      "text/html": [
       "<style type=\"text/css\">\n",
       "#T_19e36_row0_col0 {\n",
       "  background-color: darkred;\n",
       "  color: white;\n",
       "}\n",
       "</style>\n",
       "<table id=\"T_19e36\">\n",
       "  <thead>\n",
       "    <tr>\n",
       "      <th class=\"blank level0\" >&nbsp;</th>\n",
       "      <th id=\"T_19e36_level0_col0\" class=\"col_heading level0 col0\" >PC1</th>\n",
       "      <th id=\"T_19e36_level0_col1\" class=\"col_heading level0 col1\" >PC2</th>\n",
       "      <th id=\"T_19e36_level0_col2\" class=\"col_heading level0 col2\" >PC3</th>\n",
       "      <th id=\"T_19e36_level0_col3\" class=\"col_heading level0 col3\" >PC4</th>\n",
       "      <th id=\"T_19e36_level0_col4\" class=\"col_heading level0 col4\" >PC5</th>\n",
       "      <th id=\"T_19e36_level0_col5\" class=\"col_heading level0 col5\" >PC6</th>\n",
       "      <th id=\"T_19e36_level0_col6\" class=\"col_heading level0 col6\" >PC7</th>\n",
       "    </tr>\n",
       "    <tr>\n",
       "      <th class=\"index_name level0\" >abbrev</th>\n",
       "      <th class=\"blank col0\" >&nbsp;</th>\n",
       "      <th class=\"blank col1\" >&nbsp;</th>\n",
       "      <th class=\"blank col2\" >&nbsp;</th>\n",
       "      <th class=\"blank col3\" >&nbsp;</th>\n",
       "      <th class=\"blank col4\" >&nbsp;</th>\n",
       "      <th class=\"blank col5\" >&nbsp;</th>\n",
       "      <th class=\"blank col6\" >&nbsp;</th>\n",
       "    </tr>\n",
       "  </thead>\n",
       "  <tbody>\n",
       "    <tr>\n",
       "      <th id=\"T_19e36_level0_row0\" class=\"row_heading level0 row0\" >AL</th>\n",
       "      <td id=\"T_19e36_row0_col0\" class=\"data row0 col0\" >1.603671</td>\n",
       "      <td id=\"T_19e36_row0_col1\" class=\"data row0 col1\" >0.133449</td>\n",
       "      <td id=\"T_19e36_row0_col2\" class=\"data row0 col2\" >0.317881</td>\n",
       "      <td id=\"T_19e36_row0_col3\" class=\"data row0 col3\" >-0.795293</td>\n",
       "      <td id=\"T_19e36_row0_col4\" class=\"data row0 col4\" >-0.579719</td>\n",
       "      <td id=\"T_19e36_row0_col5\" class=\"data row0 col5\" >0.046223</td>\n",
       "      <td id=\"T_19e36_row0_col6\" class=\"data row0 col6\" >0.210185</td>\n",
       "    </tr>\n",
       "    <tr>\n",
       "      <th id=\"T_19e36_level0_row1\" class=\"row_heading level0 row1\" >AK</th>\n",
       "      <td id=\"T_19e36_row1_col0\" class=\"data row1 col0\" >1.144212</td>\n",
       "      <td id=\"T_19e36_row1_col1\" class=\"data row1 col1\" >0.858234</td>\n",
       "      <td id=\"T_19e36_row1_col2\" class=\"data row1 col2\" >0.736626</td>\n",
       "      <td id=\"T_19e36_row1_col3\" class=\"data row1 col3\" >0.318988</td>\n",
       "      <td id=\"T_19e36_row1_col4\" class=\"data row1 col4\" >-0.228701</td>\n",
       "      <td id=\"T_19e36_row1_col5\" class=\"data row1 col5\" >-1.002625</td>\n",
       "      <td id=\"T_19e36_row1_col6\" class=\"data row1 col6\" >0.008966</td>\n",
       "    </tr>\n",
       "    <tr>\n",
       "      <th id=\"T_19e36_level0_row2\" class=\"row_heading level0 row2\" >AZ</th>\n",
       "      <td id=\"T_19e36_row2_col0\" class=\"data row2 col0\" >1.432172</td>\n",
       "      <td id=\"T_19e36_row2_col1\" class=\"data row2 col1\" >-0.420506</td>\n",
       "      <td id=\"T_19e36_row2_col2\" class=\"data row2 col2\" >0.338136</td>\n",
       "      <td id=\"T_19e36_row2_col3\" class=\"data row2 col3\" >0.552513</td>\n",
       "      <td id=\"T_19e36_row2_col4\" class=\"data row2 col4\" >0.168718</td>\n",
       "      <td id=\"T_19e36_row2_col5\" class=\"data row2 col5\" >-0.804523</td>\n",
       "      <td id=\"T_19e36_row2_col6\" class=\"data row2 col6\" >-0.076107</td>\n",
       "    </tr>\n",
       "    <tr>\n",
       "      <th id=\"T_19e36_level0_row3\" class=\"row_heading level0 row3\" >AR</th>\n",
       "      <td id=\"T_19e36_row3_col0\" class=\"data row3 col0\" >2.491584</td>\n",
       "      <td id=\"T_19e36_row3_col1\" class=\"data row3 col1\" >0.348968</td>\n",
       "      <td id=\"T_19e36_row3_col2\" class=\"data row3 col2\" >-1.788747</td>\n",
       "      <td id=\"T_19e36_row3_col3\" class=\"data row3 col3\" >0.264064</td>\n",
       "      <td id=\"T_19e36_row3_col4\" class=\"data row3 col4\" >-0.372382</td>\n",
       "      <td id=\"T_19e36_row3_col5\" class=\"data row3 col5\" >-0.481849</td>\n",
       "      <td id=\"T_19e36_row3_col6\" class=\"data row3 col6\" >-0.147636</td>\n",
       "    </tr>\n",
       "    <tr>\n",
       "      <th id=\"T_19e36_level0_row4\" class=\"row_heading level0 row4\" >CA</th>\n",
       "      <td id=\"T_19e36_row4_col0\" class=\"data row4 col0\" >-1.750638</td>\n",
       "      <td id=\"T_19e36_row4_col1\" class=\"data row4 col1\" >0.633625</td>\n",
       "      <td id=\"T_19e36_row4_col2\" class=\"data row4 col2\" >-0.136176</td>\n",
       "      <td id=\"T_19e36_row4_col3\" class=\"data row4 col3\" >-0.974916</td>\n",
       "      <td id=\"T_19e36_row4_col4\" class=\"data row4 col4\" >-0.315811</td>\n",
       "      <td id=\"T_19e36_row4_col5\" class=\"data row4 col5\" >0.178510</td>\n",
       "      <td id=\"T_19e36_row4_col6\" class=\"data row4 col6\" >-0.068958</td>\n",
       "    </tr>\n",
       "  </tbody>\n",
       "</table>\n"
      ],
      "text/plain": [
       "<pandas.io.formats.style.Styler at 0x16514aadeb0>"
      ]
     },
     "execution_count": 18,
     "metadata": {},
     "output_type": "execute_result"
    }
   ],
   "source": [
    "dfpca.head().style.applymap(lambda x: f'background-color: darkred; color: white' if round(x,2)==1.60 else False)\n"
   ]
  },
  {
   "cell_type": "markdown",
   "id": "232804be",
   "metadata": {},
   "source": [
    "Cluster Visualization with PCA()"
   ]
  },
  {
   "cell_type": "code",
   "execution_count": 19,
   "id": "24ce0d10",
   "metadata": {},
   "outputs": [
    {
     "data": {
      "application/vnd.plotly.v1+json": {
       "config": {
        "plotlyServerURL": "https://plot.ly"
       },
       "data": [
        {
         "hovertemplate": "<b>%{hovertext}</b><br><br>color=1<br>PC1=%{x}<br>PC2=%{y}<extra></extra>",
         "hovertext": [
          "AL",
          "AK",
          "AZ",
          "AR",
          "DE",
          "FL",
          "HI",
          "KY",
          "LA",
          "MO",
          "MT",
          "NC",
          "ND",
          "OK",
          "PA",
          "SC",
          "SD",
          "TN",
          "TX",
          "WV",
          "WY"
         ],
         "legendgroup": "1",
         "marker": {
          "color": "#636efa",
          "symbol": "circle"
         },
         "mode": "markers",
         "name": "1",
         "orientation": "v",
         "showlegend": true,
         "type": "scatter",
         "x": [
          1.603671292063863,
          1.1442118763157036,
          1.4321719675062352,
          2.491583519073282,
          0.3246580162513449,
          0.49568879401434607,
          1.9280469577362787,
          1.079426936399884,
          1.8794272670384375,
          0.6597331360588234,
          3.627923362254014,
          0.8162622009397003,
          4.423619154029507,
          1.8935873823719858,
          1.8140529975938464,
          4.672013995002561,
          2.14747629317697,
          0.9548788211105785,
          2.2043082790237176,
          3.6191288449153296,
          1.164326154788831
         ],
         "xaxis": "x",
         "y": [
          0.13344926968042845,
          0.8582339894293295,
          -0.42050561688786503,
          0.348968116615916,
          1.574244694034364,
          1.4352819371517178,
          -0.21024525016261314,
          0.16789431438424718,
          3.648217530358149,
          0.0032540382009007807,
          -1.242992046188811,
          -0.793312352782147,
          -0.9657162440262443,
          1.5697553106029383,
          0.9365890102701375,
          -0.01952380812622324,
          -1.6846702110775817,
          0.26077660911209466,
          1.4326421493384123,
          1.4852855464272157,
          -0.5560640154713222
         ],
         "yaxis": "y"
        },
        {
         "hovertemplate": "<b>%{hovertext}</b><br><br>color=2<br>PC1=%{x}<br>PC2=%{y}<extra></extra>",
         "hovertext": [
          "CA",
          "CT",
          "DC",
          "MD",
          "MA",
          "MI",
          "NJ",
          "NY",
          "RI"
         ],
         "legendgroup": "2",
         "marker": {
          "color": "#EF553B",
          "symbol": "circle"
         },
         "mode": "markers",
         "name": "2",
         "orientation": "v",
         "showlegend": true,
         "type": "scatter",
         "x": [
          -1.7506382539760195,
          -2.1253592451717918,
          -4.635925570333742,
          -1.7087474308482178,
          -3.6514570255070997,
          -1.3707025287055492,
          -3.018309136210557,
          -2.041784270695777,
          -2.1644839281673427
         ],
         "xaxis": "x",
         "y": [
          0.6336251692149385,
          1.3706001582132807,
          0.9189968817049342,
          2.126421988855985,
          -0.02508167354041135,
          1.1912387964051974,
          1.9358695221967692,
          1.538860350958056,
          1.1190774735244122
         ],
         "yaxis": "y"
        },
        {
         "hovertemplate": "<b>%{hovertext}</b><br><br>color=0<br>PC1=%{x}<br>PC2=%{y}<extra></extra>",
         "hovertext": [
          "CO",
          "GA",
          "ID",
          "IL",
          "IN",
          "IA",
          "KS",
          "ME",
          "MN",
          "MS",
          "NE",
          "NV",
          "NH",
          "NM",
          "OH",
          "OR",
          "UT",
          "VT",
          "VA",
          "WA",
          "WI"
         ],
         "legendgroup": "0",
         "marker": {
          "color": "#00cc96",
          "symbol": "circle"
         },
         "mode": "markers",
         "name": "0",
         "orientation": "v",
         "showlegend": true,
         "type": "scatter",
         "x": [
          -0.9251202488860333,
          -0.5254271281060761,
          0.31312308903591596,
          -0.8793400373779706,
          -0.39532570367795156,
          -0.3501221331212548,
          0.26872390620948194,
          0.03316519504817398,
          -2.9090385017494236,
          -0.8648908005003856,
          -0.46708293232694437,
          -0.10602771952958677,
          -1.7753622643036038,
          0.46929132612342306,
          -0.5391493221420193,
          -1.5594101671724678,
          -1.985211254042658,
          -0.6303375914131881,
          -1.7973492281601,
          -2.096451636996437,
          -1.1874467049600377
         ],
         "xaxis": "x",
         "y": [
          -0.15438781557476505,
          0.26668801394331726,
          -2.4275974951793966,
          -0.3253365977441942,
          -1.517806341220063,
          -1.6063569995861415,
          -0.38864442925773723,
          -2.000911578971503,
          -0.9037735782168512,
          0.5837461625713339,
          -1.309009475824436,
          0.6896524437862023,
          -1.239018274610787,
          -0.384485618993987,
          -0.8926266350305359,
          -1.4072529017769813,
          -1.2830643118157983,
          -1.5046108331408625,
          -0.17763939227071363,
          -0.9589686595869723,
          -1.8297673199153344
         ],
         "yaxis": "y"
        }
       ],
       "layout": {
        "legend": {
         "title": {
          "text": "color"
         },
         "tracegroupgap": 0
        },
        "margin": {
         "t": 60
        },
        "template": {
         "data": {
          "bar": [
           {
            "error_x": {
             "color": "#2a3f5f"
            },
            "error_y": {
             "color": "#2a3f5f"
            },
            "marker": {
             "line": {
              "color": "#E5ECF6",
              "width": 0.5
             },
             "pattern": {
              "fillmode": "overlay",
              "size": 10,
              "solidity": 0.2
             }
            },
            "type": "bar"
           }
          ],
          "barpolar": [
           {
            "marker": {
             "line": {
              "color": "#E5ECF6",
              "width": 0.5
             },
             "pattern": {
              "fillmode": "overlay",
              "size": 10,
              "solidity": 0.2
             }
            },
            "type": "barpolar"
           }
          ],
          "carpet": [
           {
            "aaxis": {
             "endlinecolor": "#2a3f5f",
             "gridcolor": "white",
             "linecolor": "white",
             "minorgridcolor": "white",
             "startlinecolor": "#2a3f5f"
            },
            "baxis": {
             "endlinecolor": "#2a3f5f",
             "gridcolor": "white",
             "linecolor": "white",
             "minorgridcolor": "white",
             "startlinecolor": "#2a3f5f"
            },
            "type": "carpet"
           }
          ],
          "choropleth": [
           {
            "colorbar": {
             "outlinewidth": 0,
             "ticks": ""
            },
            "type": "choropleth"
           }
          ],
          "contour": [
           {
            "colorbar": {
             "outlinewidth": 0,
             "ticks": ""
            },
            "colorscale": [
             [
              0,
              "#0d0887"
             ],
             [
              0.1111111111111111,
              "#46039f"
             ],
             [
              0.2222222222222222,
              "#7201a8"
             ],
             [
              0.3333333333333333,
              "#9c179e"
             ],
             [
              0.4444444444444444,
              "#bd3786"
             ],
             [
              0.5555555555555556,
              "#d8576b"
             ],
             [
              0.6666666666666666,
              "#ed7953"
             ],
             [
              0.7777777777777778,
              "#fb9f3a"
             ],
             [
              0.8888888888888888,
              "#fdca26"
             ],
             [
              1,
              "#f0f921"
             ]
            ],
            "type": "contour"
           }
          ],
          "contourcarpet": [
           {
            "colorbar": {
             "outlinewidth": 0,
             "ticks": ""
            },
            "type": "contourcarpet"
           }
          ],
          "heatmap": [
           {
            "colorbar": {
             "outlinewidth": 0,
             "ticks": ""
            },
            "colorscale": [
             [
              0,
              "#0d0887"
             ],
             [
              0.1111111111111111,
              "#46039f"
             ],
             [
              0.2222222222222222,
              "#7201a8"
             ],
             [
              0.3333333333333333,
              "#9c179e"
             ],
             [
              0.4444444444444444,
              "#bd3786"
             ],
             [
              0.5555555555555556,
              "#d8576b"
             ],
             [
              0.6666666666666666,
              "#ed7953"
             ],
             [
              0.7777777777777778,
              "#fb9f3a"
             ],
             [
              0.8888888888888888,
              "#fdca26"
             ],
             [
              1,
              "#f0f921"
             ]
            ],
            "type": "heatmap"
           }
          ],
          "heatmapgl": [
           {
            "colorbar": {
             "outlinewidth": 0,
             "ticks": ""
            },
            "colorscale": [
             [
              0,
              "#0d0887"
             ],
             [
              0.1111111111111111,
              "#46039f"
             ],
             [
              0.2222222222222222,
              "#7201a8"
             ],
             [
              0.3333333333333333,
              "#9c179e"
             ],
             [
              0.4444444444444444,
              "#bd3786"
             ],
             [
              0.5555555555555556,
              "#d8576b"
             ],
             [
              0.6666666666666666,
              "#ed7953"
             ],
             [
              0.7777777777777778,
              "#fb9f3a"
             ],
             [
              0.8888888888888888,
              "#fdca26"
             ],
             [
              1,
              "#f0f921"
             ]
            ],
            "type": "heatmapgl"
           }
          ],
          "histogram": [
           {
            "marker": {
             "pattern": {
              "fillmode": "overlay",
              "size": 10,
              "solidity": 0.2
             }
            },
            "type": "histogram"
           }
          ],
          "histogram2d": [
           {
            "colorbar": {
             "outlinewidth": 0,
             "ticks": ""
            },
            "colorscale": [
             [
              0,
              "#0d0887"
             ],
             [
              0.1111111111111111,
              "#46039f"
             ],
             [
              0.2222222222222222,
              "#7201a8"
             ],
             [
              0.3333333333333333,
              "#9c179e"
             ],
             [
              0.4444444444444444,
              "#bd3786"
             ],
             [
              0.5555555555555556,
              "#d8576b"
             ],
             [
              0.6666666666666666,
              "#ed7953"
             ],
             [
              0.7777777777777778,
              "#fb9f3a"
             ],
             [
              0.8888888888888888,
              "#fdca26"
             ],
             [
              1,
              "#f0f921"
             ]
            ],
            "type": "histogram2d"
           }
          ],
          "histogram2dcontour": [
           {
            "colorbar": {
             "outlinewidth": 0,
             "ticks": ""
            },
            "colorscale": [
             [
              0,
              "#0d0887"
             ],
             [
              0.1111111111111111,
              "#46039f"
             ],
             [
              0.2222222222222222,
              "#7201a8"
             ],
             [
              0.3333333333333333,
              "#9c179e"
             ],
             [
              0.4444444444444444,
              "#bd3786"
             ],
             [
              0.5555555555555556,
              "#d8576b"
             ],
             [
              0.6666666666666666,
              "#ed7953"
             ],
             [
              0.7777777777777778,
              "#fb9f3a"
             ],
             [
              0.8888888888888888,
              "#fdca26"
             ],
             [
              1,
              "#f0f921"
             ]
            ],
            "type": "histogram2dcontour"
           }
          ],
          "mesh3d": [
           {
            "colorbar": {
             "outlinewidth": 0,
             "ticks": ""
            },
            "type": "mesh3d"
           }
          ],
          "parcoords": [
           {
            "line": {
             "colorbar": {
              "outlinewidth": 0,
              "ticks": ""
             }
            },
            "type": "parcoords"
           }
          ],
          "pie": [
           {
            "automargin": true,
            "type": "pie"
           }
          ],
          "scatter": [
           {
            "fillpattern": {
             "fillmode": "overlay",
             "size": 10,
             "solidity": 0.2
            },
            "type": "scatter"
           }
          ],
          "scatter3d": [
           {
            "line": {
             "colorbar": {
              "outlinewidth": 0,
              "ticks": ""
             }
            },
            "marker": {
             "colorbar": {
              "outlinewidth": 0,
              "ticks": ""
             }
            },
            "type": "scatter3d"
           }
          ],
          "scattercarpet": [
           {
            "marker": {
             "colorbar": {
              "outlinewidth": 0,
              "ticks": ""
             }
            },
            "type": "scattercarpet"
           }
          ],
          "scattergeo": [
           {
            "marker": {
             "colorbar": {
              "outlinewidth": 0,
              "ticks": ""
             }
            },
            "type": "scattergeo"
           }
          ],
          "scattergl": [
           {
            "marker": {
             "colorbar": {
              "outlinewidth": 0,
              "ticks": ""
             }
            },
            "type": "scattergl"
           }
          ],
          "scattermapbox": [
           {
            "marker": {
             "colorbar": {
              "outlinewidth": 0,
              "ticks": ""
             }
            },
            "type": "scattermapbox"
           }
          ],
          "scatterpolar": [
           {
            "marker": {
             "colorbar": {
              "outlinewidth": 0,
              "ticks": ""
             }
            },
            "type": "scatterpolar"
           }
          ],
          "scatterpolargl": [
           {
            "marker": {
             "colorbar": {
              "outlinewidth": 0,
              "ticks": ""
             }
            },
            "type": "scatterpolargl"
           }
          ],
          "scatterternary": [
           {
            "marker": {
             "colorbar": {
              "outlinewidth": 0,
              "ticks": ""
             }
            },
            "type": "scatterternary"
           }
          ],
          "surface": [
           {
            "colorbar": {
             "outlinewidth": 0,
             "ticks": ""
            },
            "colorscale": [
             [
              0,
              "#0d0887"
             ],
             [
              0.1111111111111111,
              "#46039f"
             ],
             [
              0.2222222222222222,
              "#7201a8"
             ],
             [
              0.3333333333333333,
              "#9c179e"
             ],
             [
              0.4444444444444444,
              "#bd3786"
             ],
             [
              0.5555555555555556,
              "#d8576b"
             ],
             [
              0.6666666666666666,
              "#ed7953"
             ],
             [
              0.7777777777777778,
              "#fb9f3a"
             ],
             [
              0.8888888888888888,
              "#fdca26"
             ],
             [
              1,
              "#f0f921"
             ]
            ],
            "type": "surface"
           }
          ],
          "table": [
           {
            "cells": {
             "fill": {
              "color": "#EBF0F8"
             },
             "line": {
              "color": "white"
             }
            },
            "header": {
             "fill": {
              "color": "#C8D4E3"
             },
             "line": {
              "color": "white"
             }
            },
            "type": "table"
           }
          ]
         },
         "layout": {
          "annotationdefaults": {
           "arrowcolor": "#2a3f5f",
           "arrowhead": 0,
           "arrowwidth": 1
          },
          "autotypenumbers": "strict",
          "coloraxis": {
           "colorbar": {
            "outlinewidth": 0,
            "ticks": ""
           }
          },
          "colorscale": {
           "diverging": [
            [
             0,
             "#8e0152"
            ],
            [
             0.1,
             "#c51b7d"
            ],
            [
             0.2,
             "#de77ae"
            ],
            [
             0.3,
             "#f1b6da"
            ],
            [
             0.4,
             "#fde0ef"
            ],
            [
             0.5,
             "#f7f7f7"
            ],
            [
             0.6,
             "#e6f5d0"
            ],
            [
             0.7,
             "#b8e186"
            ],
            [
             0.8,
             "#7fbc41"
            ],
            [
             0.9,
             "#4d9221"
            ],
            [
             1,
             "#276419"
            ]
           ],
           "sequential": [
            [
             0,
             "#0d0887"
            ],
            [
             0.1111111111111111,
             "#46039f"
            ],
            [
             0.2222222222222222,
             "#7201a8"
            ],
            [
             0.3333333333333333,
             "#9c179e"
            ],
            [
             0.4444444444444444,
             "#bd3786"
            ],
            [
             0.5555555555555556,
             "#d8576b"
            ],
            [
             0.6666666666666666,
             "#ed7953"
            ],
            [
             0.7777777777777778,
             "#fb9f3a"
            ],
            [
             0.8888888888888888,
             "#fdca26"
            ],
            [
             1,
             "#f0f921"
            ]
           ],
           "sequentialminus": [
            [
             0,
             "#0d0887"
            ],
            [
             0.1111111111111111,
             "#46039f"
            ],
            [
             0.2222222222222222,
             "#7201a8"
            ],
            [
             0.3333333333333333,
             "#9c179e"
            ],
            [
             0.4444444444444444,
             "#bd3786"
            ],
            [
             0.5555555555555556,
             "#d8576b"
            ],
            [
             0.6666666666666666,
             "#ed7953"
            ],
            [
             0.7777777777777778,
             "#fb9f3a"
            ],
            [
             0.8888888888888888,
             "#fdca26"
            ],
            [
             1,
             "#f0f921"
            ]
           ]
          },
          "colorway": [
           "#636efa",
           "#EF553B",
           "#00cc96",
           "#ab63fa",
           "#FFA15A",
           "#19d3f3",
           "#FF6692",
           "#B6E880",
           "#FF97FF",
           "#FECB52"
          ],
          "font": {
           "color": "#2a3f5f"
          },
          "geo": {
           "bgcolor": "white",
           "lakecolor": "white",
           "landcolor": "#E5ECF6",
           "showlakes": true,
           "showland": true,
           "subunitcolor": "white"
          },
          "hoverlabel": {
           "align": "left"
          },
          "hovermode": "closest",
          "mapbox": {
           "style": "light"
          },
          "paper_bgcolor": "white",
          "plot_bgcolor": "#E5ECF6",
          "polar": {
           "angularaxis": {
            "gridcolor": "white",
            "linecolor": "white",
            "ticks": ""
           },
           "bgcolor": "#E5ECF6",
           "radialaxis": {
            "gridcolor": "white",
            "linecolor": "white",
            "ticks": ""
           }
          },
          "scene": {
           "xaxis": {
            "backgroundcolor": "#E5ECF6",
            "gridcolor": "white",
            "gridwidth": 2,
            "linecolor": "white",
            "showbackground": true,
            "ticks": "",
            "zerolinecolor": "white"
           },
           "yaxis": {
            "backgroundcolor": "#E5ECF6",
            "gridcolor": "white",
            "gridwidth": 2,
            "linecolor": "white",
            "showbackground": true,
            "ticks": "",
            "zerolinecolor": "white"
           },
           "zaxis": {
            "backgroundcolor": "#E5ECF6",
            "gridcolor": "white",
            "gridwidth": 2,
            "linecolor": "white",
            "showbackground": true,
            "ticks": "",
            "zerolinecolor": "white"
           }
          },
          "shapedefaults": {
           "line": {
            "color": "#2a3f5f"
           }
          },
          "ternary": {
           "aaxis": {
            "gridcolor": "white",
            "linecolor": "white",
            "ticks": ""
           },
           "baxis": {
            "gridcolor": "white",
            "linecolor": "white",
            "ticks": ""
           },
           "bgcolor": "#E5ECF6",
           "caxis": {
            "gridcolor": "white",
            "linecolor": "white",
            "ticks": ""
           }
          },
          "title": {
           "x": 0.05
          },
          "xaxis": {
           "automargin": true,
           "gridcolor": "white",
           "linecolor": "white",
           "ticks": "",
           "title": {
            "standoff": 15
           },
           "zerolinecolor": "white",
           "zerolinewidth": 2
          },
          "yaxis": {
           "automargin": true,
           "gridcolor": "white",
           "linecolor": "white",
           "ticks": "",
           "title": {
            "standoff": 15
           },
           "zerolinecolor": "white",
           "zerolinewidth": 2
          }
         }
        },
        "xaxis": {
         "anchor": "y",
         "domain": [
          0,
          1
         ],
         "title": {
          "text": "PC1"
         }
        },
        "yaxis": {
         "anchor": "x",
         "domain": [
          0,
          1
         ],
         "title": {
          "text": "PC2"
         }
        }
       }
      },
      "text/html": [
       "<div>                            <div id=\"dd3edb53-af83-4424-aac2-aed469c39556\" class=\"plotly-graph-div\" style=\"height:525px; width:100%;\"></div>            <script type=\"text/javascript\">                require([\"plotly\"], function(Plotly) {                    window.PLOTLYENV=window.PLOTLYENV || {};                                    if (document.getElementById(\"dd3edb53-af83-4424-aac2-aed469c39556\")) {                    Plotly.newPlot(                        \"dd3edb53-af83-4424-aac2-aed469c39556\",                        [{\"hovertemplate\":\"<b>%{hovertext}</b><br><br>color=1<br>PC1=%{x}<br>PC2=%{y}<extra></extra>\",\"hovertext\":[\"AL\",\"AK\",\"AZ\",\"AR\",\"DE\",\"FL\",\"HI\",\"KY\",\"LA\",\"MO\",\"MT\",\"NC\",\"ND\",\"OK\",\"PA\",\"SC\",\"SD\",\"TN\",\"TX\",\"WV\",\"WY\"],\"legendgroup\":\"1\",\"marker\":{\"color\":\"#636efa\",\"symbol\":\"circle\"},\"mode\":\"markers\",\"name\":\"1\",\"orientation\":\"v\",\"showlegend\":true,\"x\":[1.603671292063863,1.1442118763157036,1.4321719675062352,2.491583519073282,0.3246580162513449,0.49568879401434607,1.9280469577362787,1.079426936399884,1.8794272670384375,0.6597331360588234,3.627923362254014,0.8162622009397003,4.423619154029507,1.8935873823719858,1.8140529975938464,4.672013995002561,2.14747629317697,0.9548788211105785,2.2043082790237176,3.6191288449153296,1.164326154788831],\"xaxis\":\"x\",\"y\":[0.13344926968042845,0.8582339894293295,-0.42050561688786503,0.348968116615916,1.574244694034364,1.4352819371517178,-0.21024525016261314,0.16789431438424718,3.648217530358149,0.0032540382009007807,-1.242992046188811,-0.793312352782147,-0.9657162440262443,1.5697553106029383,0.9365890102701375,-0.01952380812622324,-1.6846702110775817,0.26077660911209466,1.4326421493384123,1.4852855464272157,-0.5560640154713222],\"yaxis\":\"y\",\"type\":\"scatter\"},{\"hovertemplate\":\"<b>%{hovertext}</b><br><br>color=2<br>PC1=%{x}<br>PC2=%{y}<extra></extra>\",\"hovertext\":[\"CA\",\"CT\",\"DC\",\"MD\",\"MA\",\"MI\",\"NJ\",\"NY\",\"RI\"],\"legendgroup\":\"2\",\"marker\":{\"color\":\"#EF553B\",\"symbol\":\"circle\"},\"mode\":\"markers\",\"name\":\"2\",\"orientation\":\"v\",\"showlegend\":true,\"x\":[-1.7506382539760195,-2.1253592451717918,-4.635925570333742,-1.7087474308482178,-3.6514570255070997,-1.3707025287055492,-3.018309136210557,-2.041784270695777,-2.1644839281673427],\"xaxis\":\"x\",\"y\":[0.6336251692149385,1.3706001582132807,0.9189968817049342,2.126421988855985,-0.02508167354041135,1.1912387964051974,1.9358695221967692,1.538860350958056,1.1190774735244122],\"yaxis\":\"y\",\"type\":\"scatter\"},{\"hovertemplate\":\"<b>%{hovertext}</b><br><br>color=0<br>PC1=%{x}<br>PC2=%{y}<extra></extra>\",\"hovertext\":[\"CO\",\"GA\",\"ID\",\"IL\",\"IN\",\"IA\",\"KS\",\"ME\",\"MN\",\"MS\",\"NE\",\"NV\",\"NH\",\"NM\",\"OH\",\"OR\",\"UT\",\"VT\",\"VA\",\"WA\",\"WI\"],\"legendgroup\":\"0\",\"marker\":{\"color\":\"#00cc96\",\"symbol\":\"circle\"},\"mode\":\"markers\",\"name\":\"0\",\"orientation\":\"v\",\"showlegend\":true,\"x\":[-0.9251202488860333,-0.5254271281060761,0.31312308903591596,-0.8793400373779706,-0.39532570367795156,-0.3501221331212548,0.26872390620948194,0.03316519504817398,-2.9090385017494236,-0.8648908005003856,-0.46708293232694437,-0.10602771952958677,-1.7753622643036038,0.46929132612342306,-0.5391493221420193,-1.5594101671724678,-1.985211254042658,-0.6303375914131881,-1.7973492281601,-2.096451636996437,-1.1874467049600377],\"xaxis\":\"x\",\"y\":[-0.15438781557476505,0.26668801394331726,-2.4275974951793966,-0.3253365977441942,-1.517806341220063,-1.6063569995861415,-0.38864442925773723,-2.000911578971503,-0.9037735782168512,0.5837461625713339,-1.309009475824436,0.6896524437862023,-1.239018274610787,-0.384485618993987,-0.8926266350305359,-1.4072529017769813,-1.2830643118157983,-1.5046108331408625,-0.17763939227071363,-0.9589686595869723,-1.8297673199153344],\"yaxis\":\"y\",\"type\":\"scatter\"}],                        {\"template\":{\"data\":{\"histogram2dcontour\":[{\"type\":\"histogram2dcontour\",\"colorbar\":{\"outlinewidth\":0,\"ticks\":\"\"},\"colorscale\":[[0.0,\"#0d0887\"],[0.1111111111111111,\"#46039f\"],[0.2222222222222222,\"#7201a8\"],[0.3333333333333333,\"#9c179e\"],[0.4444444444444444,\"#bd3786\"],[0.5555555555555556,\"#d8576b\"],[0.6666666666666666,\"#ed7953\"],[0.7777777777777778,\"#fb9f3a\"],[0.8888888888888888,\"#fdca26\"],[1.0,\"#f0f921\"]]}],\"choropleth\":[{\"type\":\"choropleth\",\"colorbar\":{\"outlinewidth\":0,\"ticks\":\"\"}}],\"histogram2d\":[{\"type\":\"histogram2d\",\"colorbar\":{\"outlinewidth\":0,\"ticks\":\"\"},\"colorscale\":[[0.0,\"#0d0887\"],[0.1111111111111111,\"#46039f\"],[0.2222222222222222,\"#7201a8\"],[0.3333333333333333,\"#9c179e\"],[0.4444444444444444,\"#bd3786\"],[0.5555555555555556,\"#d8576b\"],[0.6666666666666666,\"#ed7953\"],[0.7777777777777778,\"#fb9f3a\"],[0.8888888888888888,\"#fdca26\"],[1.0,\"#f0f921\"]]}],\"heatmap\":[{\"type\":\"heatmap\",\"colorbar\":{\"outlinewidth\":0,\"ticks\":\"\"},\"colorscale\":[[0.0,\"#0d0887\"],[0.1111111111111111,\"#46039f\"],[0.2222222222222222,\"#7201a8\"],[0.3333333333333333,\"#9c179e\"],[0.4444444444444444,\"#bd3786\"],[0.5555555555555556,\"#d8576b\"],[0.6666666666666666,\"#ed7953\"],[0.7777777777777778,\"#fb9f3a\"],[0.8888888888888888,\"#fdca26\"],[1.0,\"#f0f921\"]]}],\"heatmapgl\":[{\"type\":\"heatmapgl\",\"colorbar\":{\"outlinewidth\":0,\"ticks\":\"\"},\"colorscale\":[[0.0,\"#0d0887\"],[0.1111111111111111,\"#46039f\"],[0.2222222222222222,\"#7201a8\"],[0.3333333333333333,\"#9c179e\"],[0.4444444444444444,\"#bd3786\"],[0.5555555555555556,\"#d8576b\"],[0.6666666666666666,\"#ed7953\"],[0.7777777777777778,\"#fb9f3a\"],[0.8888888888888888,\"#fdca26\"],[1.0,\"#f0f921\"]]}],\"contourcarpet\":[{\"type\":\"contourcarpet\",\"colorbar\":{\"outlinewidth\":0,\"ticks\":\"\"}}],\"contour\":[{\"type\":\"contour\",\"colorbar\":{\"outlinewidth\":0,\"ticks\":\"\"},\"colorscale\":[[0.0,\"#0d0887\"],[0.1111111111111111,\"#46039f\"],[0.2222222222222222,\"#7201a8\"],[0.3333333333333333,\"#9c179e\"],[0.4444444444444444,\"#bd3786\"],[0.5555555555555556,\"#d8576b\"],[0.6666666666666666,\"#ed7953\"],[0.7777777777777778,\"#fb9f3a\"],[0.8888888888888888,\"#fdca26\"],[1.0,\"#f0f921\"]]}],\"surface\":[{\"type\":\"surface\",\"colorbar\":{\"outlinewidth\":0,\"ticks\":\"\"},\"colorscale\":[[0.0,\"#0d0887\"],[0.1111111111111111,\"#46039f\"],[0.2222222222222222,\"#7201a8\"],[0.3333333333333333,\"#9c179e\"],[0.4444444444444444,\"#bd3786\"],[0.5555555555555556,\"#d8576b\"],[0.6666666666666666,\"#ed7953\"],[0.7777777777777778,\"#fb9f3a\"],[0.8888888888888888,\"#fdca26\"],[1.0,\"#f0f921\"]]}],\"mesh3d\":[{\"type\":\"mesh3d\",\"colorbar\":{\"outlinewidth\":0,\"ticks\":\"\"}}],\"scatter\":[{\"fillpattern\":{\"fillmode\":\"overlay\",\"size\":10,\"solidity\":0.2},\"type\":\"scatter\"}],\"parcoords\":[{\"type\":\"parcoords\",\"line\":{\"colorbar\":{\"outlinewidth\":0,\"ticks\":\"\"}}}],\"scatterpolargl\":[{\"type\":\"scatterpolargl\",\"marker\":{\"colorbar\":{\"outlinewidth\":0,\"ticks\":\"\"}}}],\"bar\":[{\"error_x\":{\"color\":\"#2a3f5f\"},\"error_y\":{\"color\":\"#2a3f5f\"},\"marker\":{\"line\":{\"color\":\"#E5ECF6\",\"width\":0.5},\"pattern\":{\"fillmode\":\"overlay\",\"size\":10,\"solidity\":0.2}},\"type\":\"bar\"}],\"scattergeo\":[{\"type\":\"scattergeo\",\"marker\":{\"colorbar\":{\"outlinewidth\":0,\"ticks\":\"\"}}}],\"scatterpolar\":[{\"type\":\"scatterpolar\",\"marker\":{\"colorbar\":{\"outlinewidth\":0,\"ticks\":\"\"}}}],\"histogram\":[{\"marker\":{\"pattern\":{\"fillmode\":\"overlay\",\"size\":10,\"solidity\":0.2}},\"type\":\"histogram\"}],\"scattergl\":[{\"type\":\"scattergl\",\"marker\":{\"colorbar\":{\"outlinewidth\":0,\"ticks\":\"\"}}}],\"scatter3d\":[{\"type\":\"scatter3d\",\"line\":{\"colorbar\":{\"outlinewidth\":0,\"ticks\":\"\"}},\"marker\":{\"colorbar\":{\"outlinewidth\":0,\"ticks\":\"\"}}}],\"scattermapbox\":[{\"type\":\"scattermapbox\",\"marker\":{\"colorbar\":{\"outlinewidth\":0,\"ticks\":\"\"}}}],\"scatterternary\":[{\"type\":\"scatterternary\",\"marker\":{\"colorbar\":{\"outlinewidth\":0,\"ticks\":\"\"}}}],\"scattercarpet\":[{\"type\":\"scattercarpet\",\"marker\":{\"colorbar\":{\"outlinewidth\":0,\"ticks\":\"\"}}}],\"carpet\":[{\"aaxis\":{\"endlinecolor\":\"#2a3f5f\",\"gridcolor\":\"white\",\"linecolor\":\"white\",\"minorgridcolor\":\"white\",\"startlinecolor\":\"#2a3f5f\"},\"baxis\":{\"endlinecolor\":\"#2a3f5f\",\"gridcolor\":\"white\",\"linecolor\":\"white\",\"minorgridcolor\":\"white\",\"startlinecolor\":\"#2a3f5f\"},\"type\":\"carpet\"}],\"table\":[{\"cells\":{\"fill\":{\"color\":\"#EBF0F8\"},\"line\":{\"color\":\"white\"}},\"header\":{\"fill\":{\"color\":\"#C8D4E3\"},\"line\":{\"color\":\"white\"}},\"type\":\"table\"}],\"barpolar\":[{\"marker\":{\"line\":{\"color\":\"#E5ECF6\",\"width\":0.5},\"pattern\":{\"fillmode\":\"overlay\",\"size\":10,\"solidity\":0.2}},\"type\":\"barpolar\"}],\"pie\":[{\"automargin\":true,\"type\":\"pie\"}]},\"layout\":{\"autotypenumbers\":\"strict\",\"colorway\":[\"#636efa\",\"#EF553B\",\"#00cc96\",\"#ab63fa\",\"#FFA15A\",\"#19d3f3\",\"#FF6692\",\"#B6E880\",\"#FF97FF\",\"#FECB52\"],\"font\":{\"color\":\"#2a3f5f\"},\"hovermode\":\"closest\",\"hoverlabel\":{\"align\":\"left\"},\"paper_bgcolor\":\"white\",\"plot_bgcolor\":\"#E5ECF6\",\"polar\":{\"bgcolor\":\"#E5ECF6\",\"angularaxis\":{\"gridcolor\":\"white\",\"linecolor\":\"white\",\"ticks\":\"\"},\"radialaxis\":{\"gridcolor\":\"white\",\"linecolor\":\"white\",\"ticks\":\"\"}},\"ternary\":{\"bgcolor\":\"#E5ECF6\",\"aaxis\":{\"gridcolor\":\"white\",\"linecolor\":\"white\",\"ticks\":\"\"},\"baxis\":{\"gridcolor\":\"white\",\"linecolor\":\"white\",\"ticks\":\"\"},\"caxis\":{\"gridcolor\":\"white\",\"linecolor\":\"white\",\"ticks\":\"\"}},\"coloraxis\":{\"colorbar\":{\"outlinewidth\":0,\"ticks\":\"\"}},\"colorscale\":{\"sequential\":[[0.0,\"#0d0887\"],[0.1111111111111111,\"#46039f\"],[0.2222222222222222,\"#7201a8\"],[0.3333333333333333,\"#9c179e\"],[0.4444444444444444,\"#bd3786\"],[0.5555555555555556,\"#d8576b\"],[0.6666666666666666,\"#ed7953\"],[0.7777777777777778,\"#fb9f3a\"],[0.8888888888888888,\"#fdca26\"],[1.0,\"#f0f921\"]],\"sequentialminus\":[[0.0,\"#0d0887\"],[0.1111111111111111,\"#46039f\"],[0.2222222222222222,\"#7201a8\"],[0.3333333333333333,\"#9c179e\"],[0.4444444444444444,\"#bd3786\"],[0.5555555555555556,\"#d8576b\"],[0.6666666666666666,\"#ed7953\"],[0.7777777777777778,\"#fb9f3a\"],[0.8888888888888888,\"#fdca26\"],[1.0,\"#f0f921\"]],\"diverging\":[[0,\"#8e0152\"],[0.1,\"#c51b7d\"],[0.2,\"#de77ae\"],[0.3,\"#f1b6da\"],[0.4,\"#fde0ef\"],[0.5,\"#f7f7f7\"],[0.6,\"#e6f5d0\"],[0.7,\"#b8e186\"],[0.8,\"#7fbc41\"],[0.9,\"#4d9221\"],[1,\"#276419\"]]},\"xaxis\":{\"gridcolor\":\"white\",\"linecolor\":\"white\",\"ticks\":\"\",\"title\":{\"standoff\":15},\"zerolinecolor\":\"white\",\"automargin\":true,\"zerolinewidth\":2},\"yaxis\":{\"gridcolor\":\"white\",\"linecolor\":\"white\",\"ticks\":\"\",\"title\":{\"standoff\":15},\"zerolinecolor\":\"white\",\"automargin\":true,\"zerolinewidth\":2},\"scene\":{\"xaxis\":{\"backgroundcolor\":\"#E5ECF6\",\"gridcolor\":\"white\",\"linecolor\":\"white\",\"showbackground\":true,\"ticks\":\"\",\"zerolinecolor\":\"white\",\"gridwidth\":2},\"yaxis\":{\"backgroundcolor\":\"#E5ECF6\",\"gridcolor\":\"white\",\"linecolor\":\"white\",\"showbackground\":true,\"ticks\":\"\",\"zerolinecolor\":\"white\",\"gridwidth\":2},\"zaxis\":{\"backgroundcolor\":\"#E5ECF6\",\"gridcolor\":\"white\",\"linecolor\":\"white\",\"showbackground\":true,\"ticks\":\"\",\"zerolinecolor\":\"white\",\"gridwidth\":2}},\"shapedefaults\":{\"line\":{\"color\":\"#2a3f5f\"}},\"annotationdefaults\":{\"arrowcolor\":\"#2a3f5f\",\"arrowhead\":0,\"arrowwidth\":1},\"geo\":{\"bgcolor\":\"white\",\"landcolor\":\"#E5ECF6\",\"subunitcolor\":\"white\",\"showland\":true,\"showlakes\":true,\"lakecolor\":\"white\"},\"title\":{\"x\":0.05},\"mapbox\":{\"style\":\"light\"}}},\"xaxis\":{\"anchor\":\"y\",\"domain\":[0.0,1.0],\"title\":{\"text\":\"PC1\"}},\"yaxis\":{\"anchor\":\"x\",\"domain\":[0.0,1.0],\"title\":{\"text\":\"PC2\"}},\"legend\":{\"title\":{\"text\":\"color\"},\"tracegroupgap\":0},\"margin\":{\"t\":60}},                        {\"responsive\": true}                    ).then(function(){\n",
       "                            \n",
       "var gd = document.getElementById('dd3edb53-af83-4424-aac2-aed469c39556');\n",
       "var x = new MutationObserver(function (mutations, observer) {{\n",
       "        var display = window.getComputedStyle(gd).display;\n",
       "        if (!display || display === 'none') {{\n",
       "            console.log([gd, 'removed!']);\n",
       "            Plotly.purge(gd);\n",
       "            observer.disconnect();\n",
       "        }}\n",
       "}});\n",
       "\n",
       "// Listen for the removal of the full notebook cells\n",
       "var notebookContainer = gd.closest('#notebook-container');\n",
       "if (notebookContainer) {{\n",
       "    x.observe(notebookContainer, {childList: true});\n",
       "}}\n",
       "\n",
       "// Listen for the clearing of the current output cell\n",
       "var outputEl = gd.closest('.output');\n",
       "if (outputEl) {{\n",
       "    x.observe(outputEl, {childList: true});\n",
       "}}\n",
       "\n",
       "                        })                };                });            </script>        </div>"
      ]
     },
     "metadata": {},
     "output_type": "display_data"
    }
   ],
   "source": [
    "px.scatter(x='PC1', y='PC2', data_frame=dfpca,\n",
    "           color=model.labels_.astype(str), hover_name=dfpca.index)\n"
   ]
  },
  {
   "cell_type": "markdown",
   "id": "e7d93b14",
   "metadata": {},
   "source": [
    "Wow, now the groups seem to be separated from each other.\n",
    "\n",
    "How further can you go on interpreting this plot?\n",
    "\n",
    "    Take two opposite points in the plot in one axis, X for example\n",
    "\n",
    "    You have Washington DC and South Carolina SC\n",
    "\n",
    "    Let's observe the original data for these two values ↓\n"
   ]
  },
  {
   "cell_type": "code",
   "execution_count": 20,
   "id": "cd17d8e8",
   "metadata": {},
   "outputs": [
    {
     "data": {
      "text/html": [
       "<div>\n",
       "<style scoped>\n",
       "    .dataframe tbody tr th:only-of-type {\n",
       "        vertical-align: middle;\n",
       "    }\n",
       "\n",
       "    .dataframe tbody tr th {\n",
       "        vertical-align: top;\n",
       "    }\n",
       "\n",
       "    .dataframe thead th {\n",
       "        text-align: right;\n",
       "    }\n",
       "</style>\n",
       "<table border=\"1\" class=\"dataframe\">\n",
       "  <thead>\n",
       "    <tr style=\"text-align: right;\">\n",
       "      <th></th>\n",
       "      <th>total</th>\n",
       "      <th>speeding</th>\n",
       "      <th>alcohol</th>\n",
       "      <th>not_distracted</th>\n",
       "      <th>no_previous</th>\n",
       "      <th>ins_premium</th>\n",
       "      <th>ins_losses</th>\n",
       "    </tr>\n",
       "    <tr>\n",
       "      <th>abbrev</th>\n",
       "      <th></th>\n",
       "      <th></th>\n",
       "      <th></th>\n",
       "      <th></th>\n",
       "      <th></th>\n",
       "      <th></th>\n",
       "      <th></th>\n",
       "    </tr>\n",
       "  </thead>\n",
       "  <tbody>\n",
       "    <tr>\n",
       "      <th>DC</th>\n",
       "      <td>5.9</td>\n",
       "      <td>2.006</td>\n",
       "      <td>1.593</td>\n",
       "      <td>5.900</td>\n",
       "      <td>5.900</td>\n",
       "      <td>1273.89</td>\n",
       "      <td>136.05</td>\n",
       "    </tr>\n",
       "    <tr>\n",
       "      <th>SC</th>\n",
       "      <td>23.9</td>\n",
       "      <td>9.082</td>\n",
       "      <td>9.799</td>\n",
       "      <td>22.944</td>\n",
       "      <td>19.359</td>\n",
       "      <td>858.97</td>\n",
       "      <td>116.29</td>\n",
       "    </tr>\n",
       "  </tbody>\n",
       "</table>\n",
       "</div>"
      ],
      "text/plain": [
       "        total  speeding  alcohol  not_distracted  no_previous  ins_premium  \\\n",
       "abbrev                                                                       \n",
       "DC        5.9     2.006    1.593           5.900        5.900      1273.89   \n",
       "SC       23.9     9.082    9.799          22.944       19.359       858.97   \n",
       "\n",
       "        ins_losses  \n",
       "abbrev              \n",
       "DC          136.05  \n",
       "SC          116.29  "
      ]
     },
     "execution_count": 20,
     "metadata": {},
     "output_type": "execute_result"
    }
   ],
   "source": [
    "df.loc[['DC', 'SC'],:]\n"
   ]
  },
  {
   "cell_type": "markdown",
   "id": "313329f0",
   "metadata": {},
   "source": [
    "\n",
    "    You may observe that the values are very distant\n",
    "    for the original variables that influence the most PC1\n",
    "    total, speeding, alcohol, not_distracted, no_previous\n",
    "\n",
    "What are the maximum and minimum values for these variables?"
   ]
  },
  {
   "cell_type": "code",
   "execution_count": 21,
   "id": "44e02360",
   "metadata": {},
   "outputs": [
    {
     "data": {
      "text/html": [
       "<div>\n",
       "<style scoped>\n",
       "    .dataframe tbody tr th:only-of-type {\n",
       "        vertical-align: middle;\n",
       "    }\n",
       "\n",
       "    .dataframe tbody tr th {\n",
       "        vertical-align: top;\n",
       "    }\n",
       "\n",
       "    .dataframe thead th {\n",
       "        text-align: right;\n",
       "    }\n",
       "</style>\n",
       "<table border=\"1\" class=\"dataframe\">\n",
       "  <thead>\n",
       "    <tr style=\"text-align: right;\">\n",
       "      <th></th>\n",
       "      <th>total</th>\n",
       "      <th>speeding</th>\n",
       "      <th>alcohol</th>\n",
       "      <th>not_distracted</th>\n",
       "      <th>no_previous</th>\n",
       "      <th>ins_premium</th>\n",
       "      <th>ins_losses</th>\n",
       "    </tr>\n",
       "  </thead>\n",
       "  <tbody>\n",
       "    <tr>\n",
       "      <th>min</th>\n",
       "      <td>5.9</td>\n",
       "      <td>1.792</td>\n",
       "      <td>1.593</td>\n",
       "      <td>1.760</td>\n",
       "      <td>5.90</td>\n",
       "      <td>641.96</td>\n",
       "      <td>82.75</td>\n",
       "    </tr>\n",
       "    <tr>\n",
       "      <th>max</th>\n",
       "      <td>23.9</td>\n",
       "      <td>9.450</td>\n",
       "      <td>10.038</td>\n",
       "      <td>23.661</td>\n",
       "      <td>21.28</td>\n",
       "      <td>1301.52</td>\n",
       "      <td>194.78</td>\n",
       "    </tr>\n",
       "  </tbody>\n",
       "</table>\n",
       "</div>"
      ],
      "text/plain": [
       "     total  speeding  alcohol  not_distracted  no_previous  ins_premium  \\\n",
       "min    5.9     1.792    1.593           1.760         5.90       641.96   \n",
       "max   23.9     9.450   10.038          23.661        21.28      1301.52   \n",
       "\n",
       "     ins_losses  \n",
       "min       82.75  \n",
       "max      194.78  "
      ]
     },
     "execution_count": 21,
     "metadata": {},
     "output_type": "execute_result"
    }
   ],
   "source": [
    "df.agg(['min', 'max'])\n"
   ]
  },
  {
   "cell_type": "markdown",
   "id": "9509c76c",
   "metadata": {},
   "source": [
    "\n",
    "    You may observe that they are practically the same values than those for DC & SC\n",
    "    Also, their values for ins_losses doesn't differ much\n",
    "    This happens because ins_losses influences PC2, not PC1\n",
    "    And that's why DC & SC have kind of the same position concerning y-axis PC2\n",
    "\n",
    "What can we conclude about this PCA()?\n",
    "\n",
    "    The y-axis PC2 represent the variables of insurance\n",
    "    Whereas the x-axis PC1 represent the social-demographic variables\n",
    "    Opposite points in the x-axes PC1 means that they differ quite a lot in car accidents\n",
    "    Like in the example for DC (very few accidents, alcohol, speeding) and SC (high number of accidents, alcohol, speeding,...)\n",
    "    And opposite points in the y-axes PC2 means that the insurances won't lose/make more money\n",
    "    As it happens for LA & ID: the two furthest points on the y-axis PC2\n",
    "\n",
    "Can I represent the weights of the original data for the Principal Components as well as the points?\n",
    "\n",
    "    Absolutely, that's called a Biplot\n",
    "\n",
    "Biplot\n",
    "\n",
    "    You may observe the social-demographic variables significantly displaced on the x-axis PC1\n",
    "    While the insurance variables more displaced in vertical direction y-axis PC2\n",
    "\n"
   ]
  },
  {
   "cell_type": "code",
   "execution_count": 22,
   "id": "39c66e48",
   "metadata": {},
   "outputs": [
    {
     "data": {
      "application/vnd.plotly.v1+json": {
       "config": {
        "plotlyServerURL": "https://plot.ly"
       },
       "data": [
        {
         "hovertemplate": "color=1<br>PC1=%{x}<br>PC2=%{y}<extra></extra>",
         "legendgroup": "1",
         "marker": {
          "color": "#636efa",
          "symbol": "circle"
         },
         "mode": "markers",
         "name": "1",
         "orientation": "v",
         "showlegend": true,
         "type": "scatter",
         "x": [
          1.603671292063863,
          1.1442118763157036,
          1.4321719675062352,
          2.491583519073282,
          0.3246580162513449,
          0.49568879401434607,
          1.9280469577362787,
          1.079426936399884,
          1.8794272670384375,
          0.6597331360588234,
          3.627923362254014,
          0.8162622009397003,
          4.423619154029507,
          1.8935873823719858,
          1.8140529975938464,
          4.672013995002561,
          2.14747629317697,
          0.9548788211105785,
          2.2043082790237176,
          3.6191288449153296,
          1.164326154788831
         ],
         "xaxis": "x",
         "y": [
          0.13344926968042845,
          0.8582339894293295,
          -0.42050561688786503,
          0.348968116615916,
          1.574244694034364,
          1.4352819371517178,
          -0.21024525016261314,
          0.16789431438424718,
          3.648217530358149,
          0.0032540382009007807,
          -1.242992046188811,
          -0.793312352782147,
          -0.9657162440262443,
          1.5697553106029383,
          0.9365890102701375,
          -0.01952380812622324,
          -1.6846702110775817,
          0.26077660911209466,
          1.4326421493384123,
          1.4852855464272157,
          -0.5560640154713222
         ],
         "yaxis": "y"
        },
        {
         "hovertemplate": "color=2<br>PC1=%{x}<br>PC2=%{y}<extra></extra>",
         "legendgroup": "2",
         "marker": {
          "color": "#EF553B",
          "symbol": "circle"
         },
         "mode": "markers",
         "name": "2",
         "orientation": "v",
         "showlegend": true,
         "type": "scatter",
         "x": [
          -1.7506382539760195,
          -2.1253592451717918,
          -4.635925570333742,
          -1.7087474308482178,
          -3.6514570255070997,
          -1.3707025287055492,
          -3.018309136210557,
          -2.041784270695777,
          -2.1644839281673427
         ],
         "xaxis": "x",
         "y": [
          0.6336251692149385,
          1.3706001582132807,
          0.9189968817049342,
          2.126421988855985,
          -0.02508167354041135,
          1.1912387964051974,
          1.9358695221967692,
          1.538860350958056,
          1.1190774735244122
         ],
         "yaxis": "y"
        },
        {
         "hovertemplate": "color=0<br>PC1=%{x}<br>PC2=%{y}<extra></extra>",
         "legendgroup": "0",
         "marker": {
          "color": "#00cc96",
          "symbol": "circle"
         },
         "mode": "markers",
         "name": "0",
         "orientation": "v",
         "showlegend": true,
         "type": "scatter",
         "x": [
          -0.9251202488860333,
          -0.5254271281060761,
          0.31312308903591596,
          -0.8793400373779706,
          -0.39532570367795156,
          -0.3501221331212548,
          0.26872390620948194,
          0.03316519504817398,
          -2.9090385017494236,
          -0.8648908005003856,
          -0.46708293232694437,
          -0.10602771952958677,
          -1.7753622643036038,
          0.46929132612342306,
          -0.5391493221420193,
          -1.5594101671724678,
          -1.985211254042658,
          -0.6303375914131881,
          -1.7973492281601,
          -2.096451636996437,
          -1.1874467049600377
         ],
         "xaxis": "x",
         "y": [
          -0.15438781557476505,
          0.26668801394331726,
          -2.4275974951793966,
          -0.3253365977441942,
          -1.517806341220063,
          -1.6063569995861415,
          -0.38864442925773723,
          -2.000911578971503,
          -0.9037735782168512,
          0.5837461625713339,
          -1.309009475824436,
          0.6896524437862023,
          -1.239018274610787,
          -0.384485618993987,
          -0.8926266350305359,
          -1.4072529017769813,
          -1.2830643118157983,
          -1.5046108331408625,
          -0.17763939227071363,
          -0.9589686595869723,
          -1.8297673199153344
         ],
         "yaxis": "y"
        }
       ],
       "layout": {
        "annotations": [
         {
          "ax": 0,
          "ay": 0,
          "text": "total",
          "x": 0.9701710337253184,
          "xanchor": "center",
          "y": 0.08746052736786794,
          "yanchor": "bottom"
         },
         {
          "ax": 0,
          "ay": 0,
          "text": "speeding",
          "x": 0.7594852268879444,
          "xanchor": "center",
          "y": 0.09716207830736143,
          "yanchor": "bottom"
         },
         {
          "ax": 0,
          "ay": 0,
          "text": "alcohol",
          "x": 0.9193944471123743,
          "xanchor": "center",
          "y": 0.04244825495547581,
          "yanchor": "bottom"
         },
         {
          "ax": 0,
          "ay": 0,
          "text": "not_distracted",
          "x": 0.8863245865648306,
          "xanchor": "center",
          "y": 0.05376037953767103,
          "yanchor": "bottom"
         },
         {
          "ax": 0,
          "ay": 0,
          "text": "no_previous",
          "x": 0.9247722738928353,
          "xanchor": "center",
          "y": 0.12195836918556505,
          "yanchor": "bottom"
         },
         {
          "ax": 0,
          "ay": 0,
          "text": "ins_premium",
          "x": -0.26472795049821835,
          "xanchor": "center",
          "y": 0.8693398328548064,
          "yanchor": "bottom"
         },
         {
          "ax": 0,
          "ay": 0,
          "text": "ins_losses",
          "x": -0.14155947837726637,
          "xanchor": "center",
          "y": 0.9039722173221626,
          "yanchor": "bottom"
         }
        ],
        "legend": {
         "title": {
          "text": "color"
         },
         "tracegroupgap": 0
        },
        "margin": {
         "t": 60
        },
        "shapes": [
         {
          "line": {
           "color": "red",
           "width": 3
          },
          "type": "line",
          "x0": 0,
          "x1": 0.9701710337253184,
          "y0": 0,
          "y1": 0.08746052736786794
         },
         {
          "line": {
           "color": "red",
           "width": 3
          },
          "type": "line",
          "x0": 0,
          "x1": 0.7594852268879444,
          "y0": 0,
          "y1": 0.09716207830736143
         },
         {
          "line": {
           "color": "red",
           "width": 3
          },
          "type": "line",
          "x0": 0,
          "x1": 0.9193944471123743,
          "y0": 0,
          "y1": 0.04244825495547581
         },
         {
          "line": {
           "color": "red",
           "width": 3
          },
          "type": "line",
          "x0": 0,
          "x1": 0.8863245865648306,
          "y0": 0,
          "y1": 0.05376037953767103
         },
         {
          "line": {
           "color": "red",
           "width": 3
          },
          "type": "line",
          "x0": 0,
          "x1": 0.9247722738928353,
          "y0": 0,
          "y1": 0.12195836918556505
         },
         {
          "line": {
           "color": "red",
           "width": 3
          },
          "type": "line",
          "x0": 0,
          "x1": -0.26472795049821835,
          "y0": 0,
          "y1": 0.8693398328548064
         },
         {
          "line": {
           "color": "red",
           "width": 3
          },
          "type": "line",
          "x0": 0,
          "x1": -0.14155947837726637,
          "y0": 0,
          "y1": 0.9039722173221626
         }
        ],
        "template": {
         "data": {
          "bar": [
           {
            "error_x": {
             "color": "#2a3f5f"
            },
            "error_y": {
             "color": "#2a3f5f"
            },
            "marker": {
             "line": {
              "color": "#E5ECF6",
              "width": 0.5
             },
             "pattern": {
              "fillmode": "overlay",
              "size": 10,
              "solidity": 0.2
             }
            },
            "type": "bar"
           }
          ],
          "barpolar": [
           {
            "marker": {
             "line": {
              "color": "#E5ECF6",
              "width": 0.5
             },
             "pattern": {
              "fillmode": "overlay",
              "size": 10,
              "solidity": 0.2
             }
            },
            "type": "barpolar"
           }
          ],
          "carpet": [
           {
            "aaxis": {
             "endlinecolor": "#2a3f5f",
             "gridcolor": "white",
             "linecolor": "white",
             "minorgridcolor": "white",
             "startlinecolor": "#2a3f5f"
            },
            "baxis": {
             "endlinecolor": "#2a3f5f",
             "gridcolor": "white",
             "linecolor": "white",
             "minorgridcolor": "white",
             "startlinecolor": "#2a3f5f"
            },
            "type": "carpet"
           }
          ],
          "choropleth": [
           {
            "colorbar": {
             "outlinewidth": 0,
             "ticks": ""
            },
            "type": "choropleth"
           }
          ],
          "contour": [
           {
            "colorbar": {
             "outlinewidth": 0,
             "ticks": ""
            },
            "colorscale": [
             [
              0,
              "#0d0887"
             ],
             [
              0.1111111111111111,
              "#46039f"
             ],
             [
              0.2222222222222222,
              "#7201a8"
             ],
             [
              0.3333333333333333,
              "#9c179e"
             ],
             [
              0.4444444444444444,
              "#bd3786"
             ],
             [
              0.5555555555555556,
              "#d8576b"
             ],
             [
              0.6666666666666666,
              "#ed7953"
             ],
             [
              0.7777777777777778,
              "#fb9f3a"
             ],
             [
              0.8888888888888888,
              "#fdca26"
             ],
             [
              1,
              "#f0f921"
             ]
            ],
            "type": "contour"
           }
          ],
          "contourcarpet": [
           {
            "colorbar": {
             "outlinewidth": 0,
             "ticks": ""
            },
            "type": "contourcarpet"
           }
          ],
          "heatmap": [
           {
            "colorbar": {
             "outlinewidth": 0,
             "ticks": ""
            },
            "colorscale": [
             [
              0,
              "#0d0887"
             ],
             [
              0.1111111111111111,
              "#46039f"
             ],
             [
              0.2222222222222222,
              "#7201a8"
             ],
             [
              0.3333333333333333,
              "#9c179e"
             ],
             [
              0.4444444444444444,
              "#bd3786"
             ],
             [
              0.5555555555555556,
              "#d8576b"
             ],
             [
              0.6666666666666666,
              "#ed7953"
             ],
             [
              0.7777777777777778,
              "#fb9f3a"
             ],
             [
              0.8888888888888888,
              "#fdca26"
             ],
             [
              1,
              "#f0f921"
             ]
            ],
            "type": "heatmap"
           }
          ],
          "heatmapgl": [
           {
            "colorbar": {
             "outlinewidth": 0,
             "ticks": ""
            },
            "colorscale": [
             [
              0,
              "#0d0887"
             ],
             [
              0.1111111111111111,
              "#46039f"
             ],
             [
              0.2222222222222222,
              "#7201a8"
             ],
             [
              0.3333333333333333,
              "#9c179e"
             ],
             [
              0.4444444444444444,
              "#bd3786"
             ],
             [
              0.5555555555555556,
              "#d8576b"
             ],
             [
              0.6666666666666666,
              "#ed7953"
             ],
             [
              0.7777777777777778,
              "#fb9f3a"
             ],
             [
              0.8888888888888888,
              "#fdca26"
             ],
             [
              1,
              "#f0f921"
             ]
            ],
            "type": "heatmapgl"
           }
          ],
          "histogram": [
           {
            "marker": {
             "pattern": {
              "fillmode": "overlay",
              "size": 10,
              "solidity": 0.2
             }
            },
            "type": "histogram"
           }
          ],
          "histogram2d": [
           {
            "colorbar": {
             "outlinewidth": 0,
             "ticks": ""
            },
            "colorscale": [
             [
              0,
              "#0d0887"
             ],
             [
              0.1111111111111111,
              "#46039f"
             ],
             [
              0.2222222222222222,
              "#7201a8"
             ],
             [
              0.3333333333333333,
              "#9c179e"
             ],
             [
              0.4444444444444444,
              "#bd3786"
             ],
             [
              0.5555555555555556,
              "#d8576b"
             ],
             [
              0.6666666666666666,
              "#ed7953"
             ],
             [
              0.7777777777777778,
              "#fb9f3a"
             ],
             [
              0.8888888888888888,
              "#fdca26"
             ],
             [
              1,
              "#f0f921"
             ]
            ],
            "type": "histogram2d"
           }
          ],
          "histogram2dcontour": [
           {
            "colorbar": {
             "outlinewidth": 0,
             "ticks": ""
            },
            "colorscale": [
             [
              0,
              "#0d0887"
             ],
             [
              0.1111111111111111,
              "#46039f"
             ],
             [
              0.2222222222222222,
              "#7201a8"
             ],
             [
              0.3333333333333333,
              "#9c179e"
             ],
             [
              0.4444444444444444,
              "#bd3786"
             ],
             [
              0.5555555555555556,
              "#d8576b"
             ],
             [
              0.6666666666666666,
              "#ed7953"
             ],
             [
              0.7777777777777778,
              "#fb9f3a"
             ],
             [
              0.8888888888888888,
              "#fdca26"
             ],
             [
              1,
              "#f0f921"
             ]
            ],
            "type": "histogram2dcontour"
           }
          ],
          "mesh3d": [
           {
            "colorbar": {
             "outlinewidth": 0,
             "ticks": ""
            },
            "type": "mesh3d"
           }
          ],
          "parcoords": [
           {
            "line": {
             "colorbar": {
              "outlinewidth": 0,
              "ticks": ""
             }
            },
            "type": "parcoords"
           }
          ],
          "pie": [
           {
            "automargin": true,
            "type": "pie"
           }
          ],
          "scatter": [
           {
            "fillpattern": {
             "fillmode": "overlay",
             "size": 10,
             "solidity": 0.2
            },
            "type": "scatter"
           }
          ],
          "scatter3d": [
           {
            "line": {
             "colorbar": {
              "outlinewidth": 0,
              "ticks": ""
             }
            },
            "marker": {
             "colorbar": {
              "outlinewidth": 0,
              "ticks": ""
             }
            },
            "type": "scatter3d"
           }
          ],
          "scattercarpet": [
           {
            "marker": {
             "colorbar": {
              "outlinewidth": 0,
              "ticks": ""
             }
            },
            "type": "scattercarpet"
           }
          ],
          "scattergeo": [
           {
            "marker": {
             "colorbar": {
              "outlinewidth": 0,
              "ticks": ""
             }
            },
            "type": "scattergeo"
           }
          ],
          "scattergl": [
           {
            "marker": {
             "colorbar": {
              "outlinewidth": 0,
              "ticks": ""
             }
            },
            "type": "scattergl"
           }
          ],
          "scattermapbox": [
           {
            "marker": {
             "colorbar": {
              "outlinewidth": 0,
              "ticks": ""
             }
            },
            "type": "scattermapbox"
           }
          ],
          "scatterpolar": [
           {
            "marker": {
             "colorbar": {
              "outlinewidth": 0,
              "ticks": ""
             }
            },
            "type": "scatterpolar"
           }
          ],
          "scatterpolargl": [
           {
            "marker": {
             "colorbar": {
              "outlinewidth": 0,
              "ticks": ""
             }
            },
            "type": "scatterpolargl"
           }
          ],
          "scatterternary": [
           {
            "marker": {
             "colorbar": {
              "outlinewidth": 0,
              "ticks": ""
             }
            },
            "type": "scatterternary"
           }
          ],
          "surface": [
           {
            "colorbar": {
             "outlinewidth": 0,
             "ticks": ""
            },
            "colorscale": [
             [
              0,
              "#0d0887"
             ],
             [
              0.1111111111111111,
              "#46039f"
             ],
             [
              0.2222222222222222,
              "#7201a8"
             ],
             [
              0.3333333333333333,
              "#9c179e"
             ],
             [
              0.4444444444444444,
              "#bd3786"
             ],
             [
              0.5555555555555556,
              "#d8576b"
             ],
             [
              0.6666666666666666,
              "#ed7953"
             ],
             [
              0.7777777777777778,
              "#fb9f3a"
             ],
             [
              0.8888888888888888,
              "#fdca26"
             ],
             [
              1,
              "#f0f921"
             ]
            ],
            "type": "surface"
           }
          ],
          "table": [
           {
            "cells": {
             "fill": {
              "color": "#EBF0F8"
             },
             "line": {
              "color": "white"
             }
            },
            "header": {
             "fill": {
              "color": "#C8D4E3"
             },
             "line": {
              "color": "white"
             }
            },
            "type": "table"
           }
          ]
         },
         "layout": {
          "annotationdefaults": {
           "arrowcolor": "#2a3f5f",
           "arrowhead": 0,
           "arrowwidth": 1
          },
          "autotypenumbers": "strict",
          "coloraxis": {
           "colorbar": {
            "outlinewidth": 0,
            "ticks": ""
           }
          },
          "colorscale": {
           "diverging": [
            [
             0,
             "#8e0152"
            ],
            [
             0.1,
             "#c51b7d"
            ],
            [
             0.2,
             "#de77ae"
            ],
            [
             0.3,
             "#f1b6da"
            ],
            [
             0.4,
             "#fde0ef"
            ],
            [
             0.5,
             "#f7f7f7"
            ],
            [
             0.6,
             "#e6f5d0"
            ],
            [
             0.7,
             "#b8e186"
            ],
            [
             0.8,
             "#7fbc41"
            ],
            [
             0.9,
             "#4d9221"
            ],
            [
             1,
             "#276419"
            ]
           ],
           "sequential": [
            [
             0,
             "#0d0887"
            ],
            [
             0.1111111111111111,
             "#46039f"
            ],
            [
             0.2222222222222222,
             "#7201a8"
            ],
            [
             0.3333333333333333,
             "#9c179e"
            ],
            [
             0.4444444444444444,
             "#bd3786"
            ],
            [
             0.5555555555555556,
             "#d8576b"
            ],
            [
             0.6666666666666666,
             "#ed7953"
            ],
            [
             0.7777777777777778,
             "#fb9f3a"
            ],
            [
             0.8888888888888888,
             "#fdca26"
            ],
            [
             1,
             "#f0f921"
            ]
           ],
           "sequentialminus": [
            [
             0,
             "#0d0887"
            ],
            [
             0.1111111111111111,
             "#46039f"
            ],
            [
             0.2222222222222222,
             "#7201a8"
            ],
            [
             0.3333333333333333,
             "#9c179e"
            ],
            [
             0.4444444444444444,
             "#bd3786"
            ],
            [
             0.5555555555555556,
             "#d8576b"
            ],
            [
             0.6666666666666666,
             "#ed7953"
            ],
            [
             0.7777777777777778,
             "#fb9f3a"
            ],
            [
             0.8888888888888888,
             "#fdca26"
            ],
            [
             1,
             "#f0f921"
            ]
           ]
          },
          "colorway": [
           "#636efa",
           "#EF553B",
           "#00cc96",
           "#ab63fa",
           "#FFA15A",
           "#19d3f3",
           "#FF6692",
           "#B6E880",
           "#FF97FF",
           "#FECB52"
          ],
          "font": {
           "color": "#2a3f5f"
          },
          "geo": {
           "bgcolor": "white",
           "lakecolor": "white",
           "landcolor": "#E5ECF6",
           "showlakes": true,
           "showland": true,
           "subunitcolor": "white"
          },
          "hoverlabel": {
           "align": "left"
          },
          "hovermode": "closest",
          "mapbox": {
           "style": "light"
          },
          "paper_bgcolor": "white",
          "plot_bgcolor": "#E5ECF6",
          "polar": {
           "angularaxis": {
            "gridcolor": "white",
            "linecolor": "white",
            "ticks": ""
           },
           "bgcolor": "#E5ECF6",
           "radialaxis": {
            "gridcolor": "white",
            "linecolor": "white",
            "ticks": ""
           }
          },
          "scene": {
           "xaxis": {
            "backgroundcolor": "#E5ECF6",
            "gridcolor": "white",
            "gridwidth": 2,
            "linecolor": "white",
            "showbackground": true,
            "ticks": "",
            "zerolinecolor": "white"
           },
           "yaxis": {
            "backgroundcolor": "#E5ECF6",
            "gridcolor": "white",
            "gridwidth": 2,
            "linecolor": "white",
            "showbackground": true,
            "ticks": "",
            "zerolinecolor": "white"
           },
           "zaxis": {
            "backgroundcolor": "#E5ECF6",
            "gridcolor": "white",
            "gridwidth": 2,
            "linecolor": "white",
            "showbackground": true,
            "ticks": "",
            "zerolinecolor": "white"
           }
          },
          "shapedefaults": {
           "line": {
            "color": "#2a3f5f"
           }
          },
          "ternary": {
           "aaxis": {
            "gridcolor": "white",
            "linecolor": "white",
            "ticks": ""
           },
           "baxis": {
            "gridcolor": "white",
            "linecolor": "white",
            "ticks": ""
           },
           "bgcolor": "#E5ECF6",
           "caxis": {
            "gridcolor": "white",
            "linecolor": "white",
            "ticks": ""
           }
          },
          "title": {
           "x": 0.05
          },
          "xaxis": {
           "automargin": true,
           "gridcolor": "white",
           "linecolor": "white",
           "ticks": "",
           "title": {
            "standoff": 15
           },
           "zerolinecolor": "white",
           "zerolinewidth": 2
          },
          "yaxis": {
           "automargin": true,
           "gridcolor": "white",
           "linecolor": "white",
           "ticks": "",
           "title": {
            "standoff": 15
           },
           "zerolinecolor": "white",
           "zerolinewidth": 2
          }
         }
        },
        "xaxis": {
         "anchor": "y",
         "domain": [
          0,
          1
         ],
         "title": {
          "text": "PC1"
         }
        },
        "yaxis": {
         "anchor": "x",
         "domain": [
          0,
          1
         ],
         "title": {
          "text": "PC2"
         }
        }
       }
      },
      "text/html": [
       "<div>                            <div id=\"60e74e5d-3cca-44a9-9dd8-363629279ac9\" class=\"plotly-graph-div\" style=\"height:525px; width:100%;\"></div>            <script type=\"text/javascript\">                require([\"plotly\"], function(Plotly) {                    window.PLOTLYENV=window.PLOTLYENV || {};                                    if (document.getElementById(\"60e74e5d-3cca-44a9-9dd8-363629279ac9\")) {                    Plotly.newPlot(                        \"60e74e5d-3cca-44a9-9dd8-363629279ac9\",                        [{\"hovertemplate\":\"color=1<br>PC1=%{x}<br>PC2=%{y}<extra></extra>\",\"legendgroup\":\"1\",\"marker\":{\"color\":\"#636efa\",\"symbol\":\"circle\"},\"mode\":\"markers\",\"name\":\"1\",\"orientation\":\"v\",\"showlegend\":true,\"x\":[1.603671292063863,1.1442118763157036,1.4321719675062352,2.491583519073282,0.3246580162513449,0.49568879401434607,1.9280469577362787,1.079426936399884,1.8794272670384375,0.6597331360588234,3.627923362254014,0.8162622009397003,4.423619154029507,1.8935873823719858,1.8140529975938464,4.672013995002561,2.14747629317697,0.9548788211105785,2.2043082790237176,3.6191288449153296,1.164326154788831],\"xaxis\":\"x\",\"y\":[0.13344926968042845,0.8582339894293295,-0.42050561688786503,0.348968116615916,1.574244694034364,1.4352819371517178,-0.21024525016261314,0.16789431438424718,3.648217530358149,0.0032540382009007807,-1.242992046188811,-0.793312352782147,-0.9657162440262443,1.5697553106029383,0.9365890102701375,-0.01952380812622324,-1.6846702110775817,0.26077660911209466,1.4326421493384123,1.4852855464272157,-0.5560640154713222],\"yaxis\":\"y\",\"type\":\"scatter\"},{\"hovertemplate\":\"color=2<br>PC1=%{x}<br>PC2=%{y}<extra></extra>\",\"legendgroup\":\"2\",\"marker\":{\"color\":\"#EF553B\",\"symbol\":\"circle\"},\"mode\":\"markers\",\"name\":\"2\",\"orientation\":\"v\",\"showlegend\":true,\"x\":[-1.7506382539760195,-2.1253592451717918,-4.635925570333742,-1.7087474308482178,-3.6514570255070997,-1.3707025287055492,-3.018309136210557,-2.041784270695777,-2.1644839281673427],\"xaxis\":\"x\",\"y\":[0.6336251692149385,1.3706001582132807,0.9189968817049342,2.126421988855985,-0.02508167354041135,1.1912387964051974,1.9358695221967692,1.538860350958056,1.1190774735244122],\"yaxis\":\"y\",\"type\":\"scatter\"},{\"hovertemplate\":\"color=0<br>PC1=%{x}<br>PC2=%{y}<extra></extra>\",\"legendgroup\":\"0\",\"marker\":{\"color\":\"#00cc96\",\"symbol\":\"circle\"},\"mode\":\"markers\",\"name\":\"0\",\"orientation\":\"v\",\"showlegend\":true,\"x\":[-0.9251202488860333,-0.5254271281060761,0.31312308903591596,-0.8793400373779706,-0.39532570367795156,-0.3501221331212548,0.26872390620948194,0.03316519504817398,-2.9090385017494236,-0.8648908005003856,-0.46708293232694437,-0.10602771952958677,-1.7753622643036038,0.46929132612342306,-0.5391493221420193,-1.5594101671724678,-1.985211254042658,-0.6303375914131881,-1.7973492281601,-2.096451636996437,-1.1874467049600377],\"xaxis\":\"x\",\"y\":[-0.15438781557476505,0.26668801394331726,-2.4275974951793966,-0.3253365977441942,-1.517806341220063,-1.6063569995861415,-0.38864442925773723,-2.000911578971503,-0.9037735782168512,0.5837461625713339,-1.309009475824436,0.6896524437862023,-1.239018274610787,-0.384485618993987,-0.8926266350305359,-1.4072529017769813,-1.2830643118157983,-1.5046108331408625,-0.17763939227071363,-0.9589686595869723,-1.8297673199153344],\"yaxis\":\"y\",\"type\":\"scatter\"}],                        {\"template\":{\"data\":{\"histogram2dcontour\":[{\"type\":\"histogram2dcontour\",\"colorbar\":{\"outlinewidth\":0,\"ticks\":\"\"},\"colorscale\":[[0.0,\"#0d0887\"],[0.1111111111111111,\"#46039f\"],[0.2222222222222222,\"#7201a8\"],[0.3333333333333333,\"#9c179e\"],[0.4444444444444444,\"#bd3786\"],[0.5555555555555556,\"#d8576b\"],[0.6666666666666666,\"#ed7953\"],[0.7777777777777778,\"#fb9f3a\"],[0.8888888888888888,\"#fdca26\"],[1.0,\"#f0f921\"]]}],\"choropleth\":[{\"type\":\"choropleth\",\"colorbar\":{\"outlinewidth\":0,\"ticks\":\"\"}}],\"histogram2d\":[{\"type\":\"histogram2d\",\"colorbar\":{\"outlinewidth\":0,\"ticks\":\"\"},\"colorscale\":[[0.0,\"#0d0887\"],[0.1111111111111111,\"#46039f\"],[0.2222222222222222,\"#7201a8\"],[0.3333333333333333,\"#9c179e\"],[0.4444444444444444,\"#bd3786\"],[0.5555555555555556,\"#d8576b\"],[0.6666666666666666,\"#ed7953\"],[0.7777777777777778,\"#fb9f3a\"],[0.8888888888888888,\"#fdca26\"],[1.0,\"#f0f921\"]]}],\"heatmap\":[{\"type\":\"heatmap\",\"colorbar\":{\"outlinewidth\":0,\"ticks\":\"\"},\"colorscale\":[[0.0,\"#0d0887\"],[0.1111111111111111,\"#46039f\"],[0.2222222222222222,\"#7201a8\"],[0.3333333333333333,\"#9c179e\"],[0.4444444444444444,\"#bd3786\"],[0.5555555555555556,\"#d8576b\"],[0.6666666666666666,\"#ed7953\"],[0.7777777777777778,\"#fb9f3a\"],[0.8888888888888888,\"#fdca26\"],[1.0,\"#f0f921\"]]}],\"heatmapgl\":[{\"type\":\"heatmapgl\",\"colorbar\":{\"outlinewidth\":0,\"ticks\":\"\"},\"colorscale\":[[0.0,\"#0d0887\"],[0.1111111111111111,\"#46039f\"],[0.2222222222222222,\"#7201a8\"],[0.3333333333333333,\"#9c179e\"],[0.4444444444444444,\"#bd3786\"],[0.5555555555555556,\"#d8576b\"],[0.6666666666666666,\"#ed7953\"],[0.7777777777777778,\"#fb9f3a\"],[0.8888888888888888,\"#fdca26\"],[1.0,\"#f0f921\"]]}],\"contourcarpet\":[{\"type\":\"contourcarpet\",\"colorbar\":{\"outlinewidth\":0,\"ticks\":\"\"}}],\"contour\":[{\"type\":\"contour\",\"colorbar\":{\"outlinewidth\":0,\"ticks\":\"\"},\"colorscale\":[[0.0,\"#0d0887\"],[0.1111111111111111,\"#46039f\"],[0.2222222222222222,\"#7201a8\"],[0.3333333333333333,\"#9c179e\"],[0.4444444444444444,\"#bd3786\"],[0.5555555555555556,\"#d8576b\"],[0.6666666666666666,\"#ed7953\"],[0.7777777777777778,\"#fb9f3a\"],[0.8888888888888888,\"#fdca26\"],[1.0,\"#f0f921\"]]}],\"surface\":[{\"type\":\"surface\",\"colorbar\":{\"outlinewidth\":0,\"ticks\":\"\"},\"colorscale\":[[0.0,\"#0d0887\"],[0.1111111111111111,\"#46039f\"],[0.2222222222222222,\"#7201a8\"],[0.3333333333333333,\"#9c179e\"],[0.4444444444444444,\"#bd3786\"],[0.5555555555555556,\"#d8576b\"],[0.6666666666666666,\"#ed7953\"],[0.7777777777777778,\"#fb9f3a\"],[0.8888888888888888,\"#fdca26\"],[1.0,\"#f0f921\"]]}],\"mesh3d\":[{\"type\":\"mesh3d\",\"colorbar\":{\"outlinewidth\":0,\"ticks\":\"\"}}],\"scatter\":[{\"fillpattern\":{\"fillmode\":\"overlay\",\"size\":10,\"solidity\":0.2},\"type\":\"scatter\"}],\"parcoords\":[{\"type\":\"parcoords\",\"line\":{\"colorbar\":{\"outlinewidth\":0,\"ticks\":\"\"}}}],\"scatterpolargl\":[{\"type\":\"scatterpolargl\",\"marker\":{\"colorbar\":{\"outlinewidth\":0,\"ticks\":\"\"}}}],\"bar\":[{\"error_x\":{\"color\":\"#2a3f5f\"},\"error_y\":{\"color\":\"#2a3f5f\"},\"marker\":{\"line\":{\"color\":\"#E5ECF6\",\"width\":0.5},\"pattern\":{\"fillmode\":\"overlay\",\"size\":10,\"solidity\":0.2}},\"type\":\"bar\"}],\"scattergeo\":[{\"type\":\"scattergeo\",\"marker\":{\"colorbar\":{\"outlinewidth\":0,\"ticks\":\"\"}}}],\"scatterpolar\":[{\"type\":\"scatterpolar\",\"marker\":{\"colorbar\":{\"outlinewidth\":0,\"ticks\":\"\"}}}],\"histogram\":[{\"marker\":{\"pattern\":{\"fillmode\":\"overlay\",\"size\":10,\"solidity\":0.2}},\"type\":\"histogram\"}],\"scattergl\":[{\"type\":\"scattergl\",\"marker\":{\"colorbar\":{\"outlinewidth\":0,\"ticks\":\"\"}}}],\"scatter3d\":[{\"type\":\"scatter3d\",\"line\":{\"colorbar\":{\"outlinewidth\":0,\"ticks\":\"\"}},\"marker\":{\"colorbar\":{\"outlinewidth\":0,\"ticks\":\"\"}}}],\"scattermapbox\":[{\"type\":\"scattermapbox\",\"marker\":{\"colorbar\":{\"outlinewidth\":0,\"ticks\":\"\"}}}],\"scatterternary\":[{\"type\":\"scatterternary\",\"marker\":{\"colorbar\":{\"outlinewidth\":0,\"ticks\":\"\"}}}],\"scattercarpet\":[{\"type\":\"scattercarpet\",\"marker\":{\"colorbar\":{\"outlinewidth\":0,\"ticks\":\"\"}}}],\"carpet\":[{\"aaxis\":{\"endlinecolor\":\"#2a3f5f\",\"gridcolor\":\"white\",\"linecolor\":\"white\",\"minorgridcolor\":\"white\",\"startlinecolor\":\"#2a3f5f\"},\"baxis\":{\"endlinecolor\":\"#2a3f5f\",\"gridcolor\":\"white\",\"linecolor\":\"white\",\"minorgridcolor\":\"white\",\"startlinecolor\":\"#2a3f5f\"},\"type\":\"carpet\"}],\"table\":[{\"cells\":{\"fill\":{\"color\":\"#EBF0F8\"},\"line\":{\"color\":\"white\"}},\"header\":{\"fill\":{\"color\":\"#C8D4E3\"},\"line\":{\"color\":\"white\"}},\"type\":\"table\"}],\"barpolar\":[{\"marker\":{\"line\":{\"color\":\"#E5ECF6\",\"width\":0.5},\"pattern\":{\"fillmode\":\"overlay\",\"size\":10,\"solidity\":0.2}},\"type\":\"barpolar\"}],\"pie\":[{\"automargin\":true,\"type\":\"pie\"}]},\"layout\":{\"autotypenumbers\":\"strict\",\"colorway\":[\"#636efa\",\"#EF553B\",\"#00cc96\",\"#ab63fa\",\"#FFA15A\",\"#19d3f3\",\"#FF6692\",\"#B6E880\",\"#FF97FF\",\"#FECB52\"],\"font\":{\"color\":\"#2a3f5f\"},\"hovermode\":\"closest\",\"hoverlabel\":{\"align\":\"left\"},\"paper_bgcolor\":\"white\",\"plot_bgcolor\":\"#E5ECF6\",\"polar\":{\"bgcolor\":\"#E5ECF6\",\"angularaxis\":{\"gridcolor\":\"white\",\"linecolor\":\"white\",\"ticks\":\"\"},\"radialaxis\":{\"gridcolor\":\"white\",\"linecolor\":\"white\",\"ticks\":\"\"}},\"ternary\":{\"bgcolor\":\"#E5ECF6\",\"aaxis\":{\"gridcolor\":\"white\",\"linecolor\":\"white\",\"ticks\":\"\"},\"baxis\":{\"gridcolor\":\"white\",\"linecolor\":\"white\",\"ticks\":\"\"},\"caxis\":{\"gridcolor\":\"white\",\"linecolor\":\"white\",\"ticks\":\"\"}},\"coloraxis\":{\"colorbar\":{\"outlinewidth\":0,\"ticks\":\"\"}},\"colorscale\":{\"sequential\":[[0.0,\"#0d0887\"],[0.1111111111111111,\"#46039f\"],[0.2222222222222222,\"#7201a8\"],[0.3333333333333333,\"#9c179e\"],[0.4444444444444444,\"#bd3786\"],[0.5555555555555556,\"#d8576b\"],[0.6666666666666666,\"#ed7953\"],[0.7777777777777778,\"#fb9f3a\"],[0.8888888888888888,\"#fdca26\"],[1.0,\"#f0f921\"]],\"sequentialminus\":[[0.0,\"#0d0887\"],[0.1111111111111111,\"#46039f\"],[0.2222222222222222,\"#7201a8\"],[0.3333333333333333,\"#9c179e\"],[0.4444444444444444,\"#bd3786\"],[0.5555555555555556,\"#d8576b\"],[0.6666666666666666,\"#ed7953\"],[0.7777777777777778,\"#fb9f3a\"],[0.8888888888888888,\"#fdca26\"],[1.0,\"#f0f921\"]],\"diverging\":[[0,\"#8e0152\"],[0.1,\"#c51b7d\"],[0.2,\"#de77ae\"],[0.3,\"#f1b6da\"],[0.4,\"#fde0ef\"],[0.5,\"#f7f7f7\"],[0.6,\"#e6f5d0\"],[0.7,\"#b8e186\"],[0.8,\"#7fbc41\"],[0.9,\"#4d9221\"],[1,\"#276419\"]]},\"xaxis\":{\"gridcolor\":\"white\",\"linecolor\":\"white\",\"ticks\":\"\",\"title\":{\"standoff\":15},\"zerolinecolor\":\"white\",\"automargin\":true,\"zerolinewidth\":2},\"yaxis\":{\"gridcolor\":\"white\",\"linecolor\":\"white\",\"ticks\":\"\",\"title\":{\"standoff\":15},\"zerolinecolor\":\"white\",\"automargin\":true,\"zerolinewidth\":2},\"scene\":{\"xaxis\":{\"backgroundcolor\":\"#E5ECF6\",\"gridcolor\":\"white\",\"linecolor\":\"white\",\"showbackground\":true,\"ticks\":\"\",\"zerolinecolor\":\"white\",\"gridwidth\":2},\"yaxis\":{\"backgroundcolor\":\"#E5ECF6\",\"gridcolor\":\"white\",\"linecolor\":\"white\",\"showbackground\":true,\"ticks\":\"\",\"zerolinecolor\":\"white\",\"gridwidth\":2},\"zaxis\":{\"backgroundcolor\":\"#E5ECF6\",\"gridcolor\":\"white\",\"linecolor\":\"white\",\"showbackground\":true,\"ticks\":\"\",\"zerolinecolor\":\"white\",\"gridwidth\":2}},\"shapedefaults\":{\"line\":{\"color\":\"#2a3f5f\"}},\"annotationdefaults\":{\"arrowcolor\":\"#2a3f5f\",\"arrowhead\":0,\"arrowwidth\":1},\"geo\":{\"bgcolor\":\"white\",\"landcolor\":\"#E5ECF6\",\"subunitcolor\":\"white\",\"showland\":true,\"showlakes\":true,\"lakecolor\":\"white\"},\"title\":{\"x\":0.05},\"mapbox\":{\"style\":\"light\"}}},\"xaxis\":{\"anchor\":\"y\",\"domain\":[0.0,1.0],\"title\":{\"text\":\"PC1\"}},\"yaxis\":{\"anchor\":\"x\",\"domain\":[0.0,1.0],\"title\":{\"text\":\"PC2\"}},\"legend\":{\"title\":{\"text\":\"color\"},\"tracegroupgap\":0},\"margin\":{\"t\":60},\"shapes\":[{\"line\":{\"color\":\"red\",\"width\":3},\"type\":\"line\",\"x0\":0,\"x1\":0.9701710337253184,\"y0\":0,\"y1\":0.08746052736786794},{\"line\":{\"color\":\"red\",\"width\":3},\"type\":\"line\",\"x0\":0,\"x1\":0.7594852268879444,\"y0\":0,\"y1\":0.09716207830736143},{\"line\":{\"color\":\"red\",\"width\":3},\"type\":\"line\",\"x0\":0,\"x1\":0.9193944471123743,\"y0\":0,\"y1\":0.04244825495547581},{\"line\":{\"color\":\"red\",\"width\":3},\"type\":\"line\",\"x0\":0,\"x1\":0.8863245865648306,\"y0\":0,\"y1\":0.05376037953767103},{\"line\":{\"color\":\"red\",\"width\":3},\"type\":\"line\",\"x0\":0,\"x1\":0.9247722738928353,\"y0\":0,\"y1\":0.12195836918556505},{\"line\":{\"color\":\"red\",\"width\":3},\"type\":\"line\",\"x0\":0,\"x1\":-0.26472795049821835,\"y0\":0,\"y1\":0.8693398328548064},{\"line\":{\"color\":\"red\",\"width\":3},\"type\":\"line\",\"x0\":0,\"x1\":-0.14155947837726637,\"y0\":0,\"y1\":0.9039722173221626}],\"annotations\":[{\"ax\":0,\"ay\":0,\"text\":\"total\",\"x\":0.9701710337253184,\"xanchor\":\"center\",\"y\":0.08746052736786794,\"yanchor\":\"bottom\"},{\"ax\":0,\"ay\":0,\"text\":\"speeding\",\"x\":0.7594852268879444,\"xanchor\":\"center\",\"y\":0.09716207830736143,\"yanchor\":\"bottom\"},{\"ax\":0,\"ay\":0,\"text\":\"alcohol\",\"x\":0.9193944471123743,\"xanchor\":\"center\",\"y\":0.04244825495547581,\"yanchor\":\"bottom\"},{\"ax\":0,\"ay\":0,\"text\":\"not_distracted\",\"x\":0.8863245865648306,\"xanchor\":\"center\",\"y\":0.05376037953767103,\"yanchor\":\"bottom\"},{\"ax\":0,\"ay\":0,\"text\":\"no_previous\",\"x\":0.9247722738928353,\"xanchor\":\"center\",\"y\":0.12195836918556505,\"yanchor\":\"bottom\"},{\"ax\":0,\"ay\":0,\"text\":\"ins_premium\",\"x\":-0.26472795049821835,\"xanchor\":\"center\",\"y\":0.8693398328548064,\"yanchor\":\"bottom\"},{\"ax\":0,\"ay\":0,\"text\":\"ins_losses\",\"x\":-0.14155947837726637,\"xanchor\":\"center\",\"y\":0.9039722173221626,\"yanchor\":\"bottom\"}]},                        {\"responsive\": true}                    ).then(function(){\n",
       "                            \n",
       "var gd = document.getElementById('60e74e5d-3cca-44a9-9dd8-363629279ac9');\n",
       "var x = new MutationObserver(function (mutations, observer) {{\n",
       "        var display = window.getComputedStyle(gd).display;\n",
       "        if (!display || display === 'none') {{\n",
       "            console.log([gd, 'removed!']);\n",
       "            Plotly.purge(gd);\n",
       "            observer.disconnect();\n",
       "        }}\n",
       "}});\n",
       "\n",
       "// Listen for the removal of the full notebook cells\n",
       "var notebookContainer = gd.closest('#notebook-container');\n",
       "if (notebookContainer) {{\n",
       "    x.observe(notebookContainer, {childList: true});\n",
       "}}\n",
       "\n",
       "// Listen for the clearing of the current output cell\n",
       "var outputEl = gd.closest('.output');\n",
       "if (outputEl) {{\n",
       "    x.observe(outputEl, {childList: true});\n",
       "}}\n",
       "\n",
       "                        })                };                });            </script>        </div>"
      ]
     },
     "metadata": {},
     "output_type": "display_data"
    }
   ],
   "source": [
    "import numpy as np\n",
    "\n",
    "loadings = pca.components_.T * np.sqrt(pca.explained_variance_)\n",
    "\n",
    "fig = px.scatter(dfpca, x='PC1', y='PC2', color=model.labels_.astype(str))\n",
    "\n",
    "for i, feature in enumerate(dfnorm.columns):\n",
    "    fig.add_shape(\n",
    "        type='line',\n",
    "        x0=0, y0=0,\n",
    "        x1=loadings[i, 0],\n",
    "        y1=loadings[i, 1],\n",
    "        line=dict(color=\"red\",width=3)\n",
    "    )\n",
    "    fig.add_annotation(\n",
    "        x=loadings[i, 0],\n",
    "        y=loadings[i, 1],\n",
    "        ax=0, ay=0,\n",
    "        xanchor=\"center\",\n",
    "        yanchor=\"bottom\",\n",
    "        text=feature,\n",
    "    )\n",
    "\n",
    "fig.show()\n"
   ]
  },
  {
   "cell_type": "markdown",
   "id": "3034d65a",
   "metadata": {},
   "source": [
    "Explanied Variance Ratio\n",
    "\n",
    "    You don't get this excellent plot for free\n",
    "    You lost something when representing 7 variables into 2\n",
    "    And that's measured by the explained_variance_ratio_\n",
    "    PC1 explains 57.34% of the original variability\n",
    "    Whereas PC2 explains 22.54% of the original variability\n"
   ]
  },
  {
   "cell_type": "code",
   "execution_count": 23,
   "id": "bcf9666c",
   "metadata": {},
   "outputs": [
    {
     "data": {
      "text/plain": [
       "array([0.57342168, 0.22543042, 0.07865743, 0.05007557, 0.04011   ,\n",
       "       0.02837999, 0.00392491])"
      ]
     },
     "execution_count": 23,
     "metadata": {},
     "output_type": "execute_result"
    }
   ],
   "source": [
    "pca.explained_variance_ratio_\n"
   ]
  },
  {
   "cell_type": "markdown",
   "id": "02943c1d",
   "metadata": {},
   "source": [
    "\n",
    "    And the combined variance between PC1 & PC2 makes it until 79.88%\n"
   ]
  },
  {
   "cell_type": "code",
   "execution_count": 24,
   "id": "58c95981",
   "metadata": {},
   "outputs": [
    {
     "data": {
      "text/plain": [
       "array([0.57342168, 0.7988521 , 0.87750953, 0.9275851 , 0.9676951 ,\n",
       "       0.99607509, 1.        ])"
      ]
     },
     "execution_count": 24,
     "metadata": {},
     "output_type": "execute_result"
    }
   ],
   "source": [
    "pca.explained_variance_ratio_.cumsum()\n"
   ]
  },
  {
   "cell_type": "markdown",
   "id": "4a5b5239",
   "metadata": {},
   "source": [
    "Conclusion\n",
    "\n",
    "    Well, plotting 79.88% of the data in a 2 axis plot is not bad compared to plotting 7-axis where you wouldn't be able to interpret a thing...\n"
   ]
  },
  {
   "cell_type": "code",
   "execution_count": null,
   "id": "b0b235c2",
   "metadata": {},
   "outputs": [],
   "source": []
  },
  {
   "cell_type": "code",
   "execution_count": null,
   "id": "ae0ace28",
   "metadata": {},
   "outputs": [],
   "source": []
  }
 ],
 "metadata": {
  "kernelspec": {
   "display_name": "Python 3 (ipykernel)",
   "language": "python",
   "name": "python3"
  },
  "language_info": {
   "codemirror_mode": {
    "name": "ipython",
    "version": 3
   },
   "file_extension": ".py",
   "mimetype": "text/x-python",
   "name": "python",
   "nbconvert_exporter": "python",
   "pygments_lexer": "ipython3",
   "version": "3.9.7"
  }
 },
 "nbformat": 4,
 "nbformat_minor": 5
}
