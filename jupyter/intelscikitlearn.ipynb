{
 "cells": [
  {
   "cell_type": "code",
   "execution_count": 1,
   "id": "df0ef605",
   "metadata": {},
   "outputs": [
    {
     "name": "stdout",
     "output_type": "stream",
     "text": [
      "Requirement already satisfied: scikit-learn in c:\\users\\vvida\\anaconda3\\lib\\site-packages (1.0.1)\n",
      "Requirement already satisfied: scipy>=1.1.0 in c:\\users\\vvida\\anaconda3\\lib\\site-packages (from scikit-learn) (1.6.2)\n",
      "Requirement already satisfied: joblib>=0.11 in c:\\users\\vvida\\anaconda3\\lib\\site-packages (from scikit-learn) (1.0.1)\n",
      "Requirement already satisfied: numpy>=1.14.6 in c:\\users\\vvida\\anaconda3\\lib\\site-packages (from scikit-learn) (1.20.1)\n",
      "Requirement already satisfied: threadpoolctl>=2.0.0 in c:\\users\\vvida\\anaconda3\\lib\\site-packages (from scikit-learn) (2.1.0)\n",
      "Note: you may need to restart the kernel to use updated packages.\n"
     ]
    }
   ],
   "source": [
    "pip install -U scikit-learn"
   ]
  },
  {
   "cell_type": "code",
   "execution_count": 2,
   "id": "8016285e",
   "metadata": {},
   "outputs": [
    {
     "name": "stdout",
     "output_type": "stream",
     "text": [
      "Requirement already satisfied: scikit-learn-intelex in c:\\users\\vvida\\anaconda3\\lib\\site-packages (2021.4.0)\n",
      "Requirement already satisfied: scikit-learn>=0.22 in c:\\users\\vvida\\anaconda3\\lib\\site-packages (from scikit-learn-intelex) (1.0.1)\n",
      "Requirement already satisfied: daal4py==2021.4.0 in c:\\users\\vvida\\anaconda3\\lib\\site-packages (from scikit-learn-intelex) (2021.4.0)\n",
      "Requirement already satisfied: daal==2021.4.0 in c:\\users\\vvida\\anaconda3\\lib\\site-packages (from daal4py==2021.4.0->scikit-learn-intelex) (2021.4.0)\n",
      "Requirement already satisfied: numpy>=1.15 in c:\\users\\vvida\\anaconda3\\lib\\site-packages (from daal4py==2021.4.0->scikit-learn-intelex) (1.20.1)\n",
      "Requirement already satisfied: tbb==2021.* in c:\\users\\vvida\\anaconda3\\lib\\site-packages (from daal==2021.4.0->daal4py==2021.4.0->scikit-learn-intelex) (2021.4.0)\n",
      "Requirement already satisfied: threadpoolctl>=2.0.0 in c:\\users\\vvida\\anaconda3\\lib\\site-packages (from scikit-learn>=0.22->scikit-learn-intelex) (2.1.0)\n",
      "Requirement already satisfied: joblib>=0.11 in c:\\users\\vvida\\anaconda3\\lib\\site-packages (from scikit-learn>=0.22->scikit-learn-intelex) (1.0.1)\n",
      "Requirement already satisfied: scipy>=1.1.0 in c:\\users\\vvida\\anaconda3\\lib\\site-packages (from scikit-learn>=0.22->scikit-learn-intelex) (1.6.2)\n",
      "Note: you may need to restart the kernel to use updated packages.\n"
     ]
    }
   ],
   "source": [
    "pip install scikit-learn-intelex"
   ]
  },
  {
   "cell_type": "code",
   "execution_count": 3,
   "id": "c2201b7f",
   "metadata": {},
   "outputs": [
    {
     "name": "stderr",
     "output_type": "stream",
     "text": [
      "Intel(R) Extension for Scikit-learn* enabled (https://github.com/intel/scikit-learn-intelex)\n"
     ]
    }
   ],
   "source": [
    "from sklearnex import patch_sklearn\n",
    "patch_sklearn()"
   ]
  },
  {
   "cell_type": "code",
   "execution_count": 4,
   "id": "c781086d",
   "metadata": {},
   "outputs": [
    {
     "name": "stdout",
     "output_type": "stream",
     "text": [
      "kmeans.labels_ = [1 1 1 0 0 0]\n"
     ]
    },
    {
     "name": "stderr",
     "output_type": "stream",
     "text": [
      "Intel(R) Extension for Scikit-learn* enabled (https://github.com/intel/scikit-learn-intelex)\n"
     ]
    }
   ],
   "source": [
    "import numpy as np\n",
    "from sklearnex import patch_sklearn\n",
    "patch_sklearn()\n",
    "\n",
    "# You need to re-import scikit-learn algorithms after the patch\n",
    "from sklearn.cluster import KMeans\n",
    "\n",
    "X = np.array([[1,  2], [1,  4], [1,  0],\n",
    "              [10, 2], [10, 4], [10, 0]])\n",
    "kmeans = KMeans(n_clusters=2, random_state=0).fit(X)\n",
    "print(f\"kmeans.labels_ = {kmeans.labels_}\")"
   ]
  },
  {
   "cell_type": "code",
   "execution_count": null,
   "id": "abbd0f9b",
   "metadata": {},
   "outputs": [],
   "source": []
  }
 ],
 "metadata": {
  "kernelspec": {
   "display_name": "Python 3",
   "language": "python",
   "name": "python3"
  },
  "language_info": {
   "codemirror_mode": {
    "name": "ipython",
    "version": 3
   },
   "file_extension": ".py",
   "mimetype": "text/x-python",
   "name": "python",
   "nbconvert_exporter": "python",
   "pygments_lexer": "ipython3",
   "version": "3.8.8"
  }
 },
 "nbformat": 4,
 "nbformat_minor": 5
}
