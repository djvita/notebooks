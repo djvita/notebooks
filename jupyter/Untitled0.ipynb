{
 "cells": [
  {
   "cell_type": "code",
   "execution_count": 1,
   "metadata": {
    "colab": {
     "base_uri": "https://localhost:8080/"
    },
    "executionInfo": {
     "elapsed": 4,
     "status": "ok",
     "timestamp": 1637359188011,
     "user": {
      "displayName": "Vita Vidaurre",
      "photoUrl": "https://lh3.googleusercontent.com/a-/AOh14Gh0hRc85ak7jF83D0yLNWqm_jg-pHn15zYAUP3q=s64",
      "userId": "12817883518176521718"
     },
     "user_tz": 360
    },
    "id": "IxBkTZErNYKX",
    "outputId": "cbfba95c-5719-49e8-b94e-b7d2bd31e7f9"
   },
   "outputs": [
    {
     "name": "stdout",
     "output_type": "stream",
     "text": [
      "None\n",
      "None\n"
     ]
    }
   ],
   "source": [
    "# Find the greatest common denominator of two numbers\n",
    "# using Euclid's algorithm\n",
    "\n",
    "\n",
    "def gcd(a, b):\n",
    "    pass\n",
    "    \n",
    "        \n",
    "# try out the function with a few examples\n",
    "print(gcd(60, 96))  # should be 12\n",
    "print(gcd(20, 8))   # should be 4\n"
   ]
  },
  {
   "cell_type": "code",
   "execution_count": null,
   "metadata": {},
   "outputs": [],
   "source": []
  }
 ],
 "metadata": {
  "colab": {
   "authorship_tag": "ABX9TyPSORxGtq20+pG1kPJPypYs",
   "name": "Untitled0.ipynb",
   "provenance": []
  },
  "kernelspec": {
   "display_name": "Python 3 (ipykernel)",
   "language": "python",
   "name": "python3"
  },
  "language_info": {
   "codemirror_mode": {
    "name": "ipython",
    "version": 3
   },
   "file_extension": ".py",
   "mimetype": "text/x-python",
   "name": "python",
   "nbconvert_exporter": "python",
   "pygments_lexer": "ipython3",
   "version": "3.9.7"
  }
 },
 "nbformat": 4,
 "nbformat_minor": 1
}
