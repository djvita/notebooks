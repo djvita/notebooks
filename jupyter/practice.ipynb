{
 "cells": [
  {
   "cell_type": "code",
   "execution_count": 1,
   "id": "aea22c65",
   "metadata": {},
   "outputs": [
    {
     "name": "stdout",
     "output_type": "stream",
     "text": [
      "86\n"
     ]
    }
   ],
   "source": [
    "my_string = \"0123456789\"\n",
    "print(my_string[-2: -6: -2])"
   ]
  },
  {
   "cell_type": "code",
   "execution_count": 2,
   "id": "4014f006",
   "metadata": {},
   "outputs": [],
   "source": [
    "x = 20\n",
    "y = 5\n",
    "result = (x + True) / (4 - y * False)"
   ]
  },
  {
   "cell_type": "code",
   "execution_count": 3,
   "id": "193c7f00",
   "metadata": {},
   "outputs": [
    {
     "name": "stdout",
     "output_type": "stream",
     "text": [
      "5.25\n"
     ]
    }
   ],
   "source": [
    "print(result)"
   ]
  },
  {
   "cell_type": "code",
   "execution_count": 4,
   "id": "6c00e97d",
   "metadata": {},
   "outputs": [],
   "source": [
    "L = [x**2 for x in range(36)]"
   ]
  },
  {
   "cell_type": "code",
   "execution_count": 5,
   "id": "b36ea600",
   "metadata": {},
   "outputs": [
    {
     "name": "stdout",
     "output_type": "stream",
     "text": [
      "[1, 16, 49]\n"
     ]
    }
   ],
   "source": [
    "print(L[1:10:3])"
   ]
  },
  {
   "cell_type": "code",
   "execution_count": 6,
   "id": "1d3ba57a",
   "metadata": {},
   "outputs": [
    {
     "name": "stdout",
     "output_type": "stream",
     "text": [
      "200.0\n"
     ]
    }
   ],
   "source": [
    "price=250\n",
    "if price >= 300:\n",
    "    discount = price * 0.7\n",
    "    print(discount)\n",
    "elif (price >=200) and (price < 300):\n",
    "    discount = price * 0.8\n",
    "    print(discount)\n",
    "elif (price >=100) and (price < 200):\n",
    "    discount = price * 0.9\n",
    "    print(discount)\n",
    "elif (price >=0) and (price < 100):\n",
    "    discount = price * 0.95\n",
    "    print(discount)\n",
    "else:\n",
    "    print(price)"
   ]
  },
  {
   "cell_type": "code",
   "execution_count": 7,
   "id": "4cf2b59e",
   "metadata": {},
   "outputs": [
    {
     "name": "stdout",
     "output_type": "stream",
     "text": [
      "Hello\n"
     ]
    }
   ],
   "source": [
    "my_string = \"Hello\"\n",
    "\n",
    "\n",
    "def exclamation(my_string):\n",
    "    my_string = \"!!\" + my_string + \"!!\"\n",
    "    return my_string\n",
    "\n",
    "\n",
    "exclamation(my_string)\n",
    "print(my_string)"
   ]
  },
  {
   "cell_type": "code",
   "execution_count": 8,
   "id": "1a59a361",
   "metadata": {},
   "outputs": [],
   "source": [
    "def rep_cat(x, y):\n",
    "    # Write your code here\n",
    "    x1 = str(x) * 10\n",
    "    y1 = str(y) * 5\n",
    "    return (x1+y1)\n",
    " "
   ]
  },
  {
   "cell_type": "code",
   "execution_count": 9,
   "id": "0e48a23e",
   "metadata": {},
   "outputs": [
    {
     "data": {
      "text/plain": [
       "'555555555544444'"
      ]
     },
     "execution_count": 9,
     "metadata": {},
     "output_type": "execute_result"
    }
   ],
   "source": [
    "rep_cat(5,4)"
   ]
  },
  {
   "cell_type": "code",
   "execution_count": 10,
   "id": "97726692",
   "metadata": {},
   "outputs": [],
   "source": [
    "def factorial(n):\n",
    "    if n == 0:\n",
    "        return 1\n",
    "    elif  n == 1:\n",
    "        return n\n",
    "    elif n < 0:\n",
    "        return -1\n",
    "    else:\n",
    "        fac = n * factorial(n-1)\n",
    "        return fac"
   ]
  },
  {
   "cell_type": "code",
   "execution_count": 11,
   "id": "a01bd1ca",
   "metadata": {},
   "outputs": [
    {
     "data": {
      "text/plain": [
       "93326215443944152681699238856266700490715968264381621468592963895217599993229915608941463976156518286253697920827223758251185210916864000000000000000000000000"
      ]
     },
     "execution_count": 11,
     "metadata": {},
     "output_type": "execute_result"
    }
   ],
   "source": [
    "factorial(100)"
   ]
  },
  {
   "cell_type": "code",
   "execution_count": null,
   "id": "b75d921f",
   "metadata": {},
   "outputs": [],
   "source": []
  }
 ],
 "metadata": {
  "kernelspec": {
   "display_name": "Python 3 (ipykernel)",
   "language": "python",
   "name": "python3"
  },
  "language_info": {
   "codemirror_mode": {
    "name": "ipython",
    "version": 3
   },
   "file_extension": ".py",
   "mimetype": "text/x-python",
   "name": "python",
   "nbconvert_exporter": "python",
   "pygments_lexer": "ipython3",
   "version": "3.9.7"
  }
 },
 "nbformat": 4,
 "nbformat_minor": 5
}
